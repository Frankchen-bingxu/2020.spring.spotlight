{
 "cells": [
  {
   "cell_type": "markdown",
   "metadata": {},
   "source": [
    "# <span style=\"color: rgb(255, 0, 128)\">Pattern Python library</span>\n",
    "\n",
    "### Name: Devi Sandeep"
   ]
  },
  {
   "cell_type": "markdown",
   "metadata": {},
   "source": [
    "**Pattern** is an useful Python package for data retrieval tasks, text analysis, machine learning and network analysis. It is an easy-to-use mash-up of tools often used for data mining, which usually requires several independent libraries included together to get an end-product. Pattern is well documented with many examples, unit tests and has tools for the following functionalities:\n",
    "\n",
    "* <span style=\"color:blue\">**Data Mining:**</span> web services (Google, Bing, Twitter, Wikipedia), web crawler, HTML DOM parser\n",
    "* <span style=\"color:blue\">**Natural Language Processing:**</span> part-of-speech taggers, n-gram search, sentiment analysis\n",
    "* <span style=\"color:blue\">**Machine Learning:**</span> vector space model, clustering, classification (KNN, SVM, Perceptron)\n",
    "* <span style=\"color:blue\">**Network Analysis:**</span> graph visualization.\n",
    "\n",
    "As part of this notebook, we will cover some of these applications. We will mainly focus on pattern.web which contains API's to scrape the web and patter.vector module which contains machine learning tools for vector space model and algorithms for clustering and classification (Naive Bayes, k-NN, Perceptron, SVM)."
   ]
  },
  {
   "cell_type": "markdown",
   "metadata": {},
   "source": [
    "## <span style=\"color: rgb(255, 0, 128)\">Installing the library</span>\n",
    "\n",
    "-----\n",
    "\n",
    "Pattern requires Python 2.5+ on Windows, Linux or Mac. This library can be automatically downloaded and installed using the pip command below:"
   ]
  },
  {
   "cell_type": "code",
   "execution_count": null,
   "metadata": {},
   "outputs": [],
   "source": [
    "pip install pattern"
   ]
  },
  {
   "cell_type": "markdown",
   "metadata": {},
   "source": [
    "Next, we will see the list of all the modules that Pattern support."
   ]
  },
  {
   "cell_type": "markdown",
   "metadata": {},
   "source": [
    "## <span style=\"color: rgb(255, 0, 128)\">Modules</span>\n",
    "\n",
    "-----\n",
    "\n",
    "Pattern is organized into separate modules for each of the functionality mentioned above. Specifically, for data mining tasks Pattern has pattern.web module and for Machine Learning tasks, there is pattern.vector module. "
   ]
  },
  {
   "cell_type": "markdown",
   "metadata": {},
   "source": [
    "| Module | Functionality |\n",
    "| :--- | --- |\n",
    "| pattern.web | web toolkit, web crawler, HTML DOM parser.|\n",
    "| pattern.db | Wrappers for databases (MySQL, SQLite) and CSV-files.|\n",
    "| pattern.text | Natural Language Processing (NLP) toolkit|\n",
    "| pattern.search | Search algorithm to retrieve n-grams from tagged text|\n",
    "| pattern.vector | Machine learning tool-kit; has modules for vector space model, clustering, classification.|\n",
    "| pattern.graph | Toolkit for Graph analysis & visualization.|"
   ]
  },
  {
   "cell_type": "markdown",
   "metadata": {},
   "source": [
    "## <span style=\"color: rgb(255, 0, 128)\">Pattern library for data mining tasks</span>"
   ]
  },
  {
   "cell_type": "markdown",
   "metadata": {},
   "source": [
    "Let's look at pattern.web module used for data mining tasks:"
   ]
  },
  {
   "cell_type": "markdown",
   "metadata": {},
   "source": [
    "## pattern.web\n",
    "\n",
    "-----\n",
    "\n",
    "The pattern.web module is a web toolkit that contains API's (Google, Bing, Twitter, Facebook, Wikipedia, Flickr etc), a HTML DOM parser and a web crawler.\n",
    "\n",
    "This module in the Pattern library is used for data mining tasks. It can be used to open a web page, retrieve/download the page content, read the web page. It can query different web services and get results. This can also be used to iterate over the wikipedia articles, get the Facebook post comments and likes, search through the atom news feed and so on."
   ]
  },
  {
   "cell_type": "markdown",
   "metadata": {},
   "source": [
    "### Accessing web pages"
   ]
  },
  {
   "cell_type": "markdown",
   "metadata": {},
   "source": [
    "First, lets see how to download the page content. The `download` method in pattern.web URL class returns the retrieved data in the form of HTML. However, for further processing of the text, for instance, sentiment analysis, you will need cleaner data without HTML tags. To achieve this, you can process the data with the `plaintext` method."
   ]
  },
  {
   "cell_type": "code",
   "execution_count": 1,
   "metadata": {},
   "outputs": [
    {
     "data": {
      "text/plain": [
       "'CSCE 670 :: Information Storage and Retrieval :: Spring 2020\\n\\nCSCE 670 :: Information Storage and Retrieval :: Spring 2020\\n\\nMWF 11:30am-12:20pm in ZACH 310\\n\\nInstructor: James Caverlee,\\n\\nHRBB 403 Office Hours: 3-4pm on Monday and Tuesday, or by appointment Department of Computer Science and\\n\\nEngineering Texas A&M\\n\\nUniversity\\n\\nTA: Yun He, HRBB 408D Office Hours: 4-5pm on Thursday and Friday, or by appointment\\nCourse Schedule :: Spotlight :: Project\\nCourse Summary\\n\\nWhat is this course about?\\n* One of the classic IR textbooks says that \"Information retrieval (IR) is finding material (usually documents) of an unstructured nature (usually text) that satisfies an information need from within large collections (usually stored on computers).\"* Gerard Salton \"the father of Information Retrieval\" said that \"Information retrieval is a field concerned with the structure, analysis, organization, storage, searching, and retrieval of information.\"* More recently, Markov and de Rijke say that \"IR is about technology to connect people to information. In our view, this includes search engines, recommender systems, and task-oriented dialogue systems.\"\\n\\nIn this course, we\\'ll study the theory, design, and implementation of foundational IR systems, but also examine closely modern web search and recommender systems, including algorithms and techniques at the core of how people connect to information. Broadly, what are the principle ideas, algorithms, and systems for organizing information? By the end of the semester you will be able to:\\n* Define and explain the key concepts and models relevant to web search, including topics like\\n\\ntext indexing, retrieval models, evaluation, Web crawling, link-based algorithms like PageRank, and learning to rank.* Define and explain the key concepts and models relevant to recommender systems, including topics like\\n\\ncollaborative filtering, matrix factorization, recommender system evaluation, and implicit recommendation. * Design, implement, and evaluate the core algorithms underlying a fully functional web search system and recommendation system.* Identify the salient features and apply recent research results in web search and recommender systems, including topics such as adversarial information retrieval and neural models of retrieval and recommendation.\\n\\nCommunication\\n\\nAll course communication will be via Piazza. We will post often to Piazza, so you should plan to check it often (every day).\\nPrerequisites\\n\\nI expect all students to have had some previous exposure to basic probability, statistics, algorithms, and data structures. You should be able to design and develop large programs and learn new software libraries on your own.\\nTextbooks\\n\\nThere is no one single textbook for this course. We may read some selections from\\n* IIR: Introduction to Information Retrieval, Christopher D. Manning, Prabhakar Raghavan, and Hinrich Schutze.* MMD: Mining of Massive Datasets, Jure Leskovec, Anand Rajarman, and Jeff Ullman. * SEIRP: Search Engines: Information Retrieval in Practice, by Croft, Metzler, and Strohman.* DITP: Data-Intensive Text Processing with MapReduce, by Lin and Dyer, 2010.* NCM: Networks, Crowds, and Markets: Reasoning About a Highly Connected World, David Easley and Jon Kleinberg, Cambridge University Press. 2010. * As well as many papers and other resources provided on the course website and/or on Piazza.\\n\\nYou may find some of these optional textbooks helpful, though none are required:\\n* Modern Information Retrieval, by Baeza-Yates and Ribeiro-Neto.* Managing Gigabytes, by Witten, Moffat, and Bell.* Foundations of Statistical Natural Language Processing, by Manning and Schutze.\\n\\nIt is critically important that you study the relevant course readings before class so that we can make the most of our limited class time together. I treat our class meetings as opportunities to highlight significant aspects of the material, to answer questions, to engage in discussions about particular topics, and so on. We cannot cover all of the material in class, so it is up to you to stay on top of the readings and the assignments.\\nGrading\\n\\nThe grading scale is A: 90-100, B: 80-89, C: 70-79, D: 60-69, F: 0-59. The course grading policy is as follows:\\nParticipation (5%). Attendance in class and participation in the discussion are both important to your success in the course. We expect you to participate in online discussions on Piazza. Over the course of the semester, you should post at least three posts or replies to the discussion forum on Piazza. These posts can start a new thread or respond to an existing one. Since we encounter search and recommendation every day, there are ample opportunities to connect what we talk about in class to new research results, new features on existing platforms, challenges facing industry, ethical considerations, etc. Towards your participation grade, the final day to post to the discussion group is April 22. (Of course you are welcome to continue to post afterwards, but these posts will not count toward your participation grade.) Also note that your project-related posts do not count towards this participation score (e.g., posting a project proposal is a requirement of the project and does not count here).\\nSpotlight (10%).\\n\\nA spotlight is an opportunity to share a compelling aspect of web search or recommender systems -- be it, a neat feature or library you want to share via a Jupyter notebook, a discussion and brief exploration of a particular dataset, an in-depth look at a research paper, etc. The overarching goal of these spotlights is to help you transition your theoretical foundations into practice. Each spotlight must include a Jupyter notebook.\\nThree In-class Quizzes (30%). We will have three in-class quizzes, each worth 10% of your overall grade. Each quiz will have around 3-4 questions. For each quiz, you may bring one standard 8.5\" by 11\" piece of paper with any notes you deem appropriate or significant (front and back). No devices allowed.\\n* Quiz 1: February 7 (Fri)\\n* Quiz 2: March 18 (Wed)\\n* Quiz 3: April 22 (Wed)\\n\\nHomework (30%). We will have several homework assignments. These will be a mix of programming assignments and problem sets. All programming assignments will be in Python; we make no expectations that you have been exposed to Python before, but we do expect you to come up to speed rapidly.\\nAll homework assignments must be submitted by 11:59pm Central time on the due date. For the homework assignments, you may talk to any other class member or work in groups to discuss the problems in a general way. However, your actual detailed solution must be yours alone. If you do talk to other students, you must write on your assignment who it is that you discussed the problems with. Your submitted work must be written solely by you and not contain work directly copied from others.\\nHomework Collaboration Clarification: To clarify, your homework is yours alone and you are expected to complete each homework independently. Your solution should be written by you without the direct aid or help of anyone else. However, we believe that  collaboration and team work are important for facilitating learning, so we encourage you  to discuss problems and general problem approaches (but not actual solutions) with your  classmates. If you do have a chat with another student about a homework problem, you  must inform us by writing a note on your homework submission (e.g., Bob pointed me to  the relevant section for problem 3). The basic rule is that no student should explicitly share a solution with another student (and thereby circumvent the basic learning process), but it is okay to share general approaches, directions, and so on. If you feel like you have an issue that needs clarification, feel free to contact either me or the TA.\\nHomework Plagiarism Policy: We will use the Stanford Moss system to check homework submissions for plagiarism. Students found to have engaged in plagiarism will be punished severely, typically earning an automatic F in the course and being reported to the Aggie Honor System.\\nHomework Late Days: For the homework assignments, you have a total of 5 late days that you can use during the semester. However, a single assignment can be submitted up to 3 days late only, so we can post solutions in a timely fashion.\\n\\nFor the purposes of the class, a late day is an indivisible 24-hour unit. Once you exhaust your 5 late days, we will not accept any late submissions.\\nProject (25%). For the project, you will work in teams of three or four on a problem of your choosing that is interesting, significant, and relevant to this course.\\nRegrade Policy: If you feel that we have made an error in grading, you may resubmit the assignment for a regrade within 7 days of receiving your graded assignment. You must include a brief written statement describing what portion has been graded in error. Note that we reserve the right to examine the entire assignment, so there is a chance we may find errors in your assignment that we missed before.\\nAmericans with Disabilities Act (ADA) Policy\\n\\nStatement\\n\\nThe Americans with Disabilities Act (ADA) is a federal anti-discrimination statute that provides comprehensive civil rights protection for persons with disabilities. Among other things, this legislation requires that all students with disabilities be guaranteed a learning environment that provides for reasonable accommodation of their disabilities. If you believe you have a disability requiring an accommodation, please contact Disability Services, currently located in the Disability Services building at the Student Services at White Creek complex on west campus or call 979-845-1637. For additional information, visit http://disability.tamu.edu.\\nAcademic Integrity Statements\\n\\nAGGIE HONOR CODE: \\'\\'An Aggie does not lie, cheat, or steal or tolerate\\n\\nthose who do.\\'\\' Upon accepting admission to Texas A&M University, a\\n\\nstudent immediately assumes a commitment to uphold the Honor Code, to\\n\\naccept responsibility for learning, and to follow the philosophy and\\n\\nrules of the Honor System. Students will be required to state their\\n\\ncommitment on examinations, research papers, and other academic work.\\n\\nIgnorance of the rules does not exclude any member of the TAMU community\\n\\nfrom the requirements or the processes of the Honor System. For\\n\\nadditional information please visit: http://aggiehonor.tamu.edu'"
      ]
     },
     "execution_count": 1,
     "metadata": {},
     "output_type": "execute_result"
    }
   ],
   "source": [
    "from pattern.web import URL, plaintext\n",
    "\n",
    "# This downloads the HTML content\n",
    "html = URL('http://courses.cse.tamu.edu/caverlee/csce670/', unicode = True).download()\n",
    "\n",
    "# plaintext cleans the content by removing the html tags \n",
    "plaintext(html.decode('utf-8'))"
   ]
  },
  {
   "cell_type": "markdown",
   "metadata": {},
   "source": [
    "This module can query different web services and get results. It has APIs to query Google, Bing, Facebook, Flickr etc.\n",
    "`search` function works similar to search field in web browser. \n",
    "\n",
    "You can download files from the web pages. For example, images can be downloaded by the following `search` and `download` code below. Let's query \"Karen Sparck Jones\" on Flickr and get the most relevant picture."
   ]
  },
  {
   "cell_type": "code",
   "execution_count": 2,
   "metadata": {},
   "outputs": [
    {
     "name": "stdout",
     "output_type": "stream",
     "text": [
      "Download: https://live.staticflickr.com/7391/15962398483_40dee1d04d_m.jpg\n",
      "Saved as: karen_sparck_jones.png\n"
     ]
    },
    {
     "data": {
      "image/png": "[encoded data removed]",
      "text/plain": [
       "<IPython.core.display.Image object>"
      ]
     },
     "execution_count": 2,
     "metadata": {},
     "output_type": "execute_result"
    }
   ],
   "source": [
    "from pattern.web import Flickr, RELEVANCY, SMALL\n",
    "from IPython.display import Image\n",
    "\n",
    "SearchEngine = Flickr(license = None)\n",
    "\n",
    "# Searches 'Karen Sparck Jones' in Flickr\n",
    "query = \"karen sparck jones\"\n",
    "results = SearchEngine.search(query, size = SMALL, sort = RELEVANCY, cached = False)\n",
    "image = results[0]\n",
    "\n",
    "# Downloads the image and saves in the local workspace\n",
    "data = image.download()\n",
    "path = query.replace(\" \", \"_\") + \".png\"\n",
    "f = open(path, \"wb\")\n",
    "f.write(data)\n",
    "f.close()\n",
    "\n",
    "print(\"Download: %s\" % image.url)\n",
    "print(\"Saved as: %s\" % path)\n",
    "\n",
    "# Display the saved image\n",
    "Image(path)"
   ]
  },
  {
   "cell_type": "markdown",
   "metadata": {},
   "source": [
    "### Getting Search Engine Results"
   ]
  },
  {
   "cell_type": "markdown",
   "metadata": {},
   "source": [
    "The pattern library contains SearchEngine class which is derived by the classes that can be used to connect to call API's of different search engines and websites such as Google, Bing, Facebook, Wikipedia, Twitter, etc. The search query returns objects for each item. The result object can then be used to retrieve the information about the searched result. The attributes of the result object are url, title, text, language, author, date."
   ]
  },
  {
   "cell_type": "markdown",
   "metadata": {},
   "source": [
    "Now let's see a very simple example of how we can search something on Wikipedia via pattern library. Let's find out the major conferences in Information Retrieval by data mining through Pattern library.\n",
    "\n",
    "Search for \"information retrieval\" in Wikipedia and get all the subsections in the wiki article."
   ]
  },
  {
   "cell_type": "code",
   "execution_count": 3,
   "metadata": {},
   "outputs": [
    {
     "name": "stdout",
     "output_type": "stream",
     "text": [
      "WikipediaSection(title='Information retrieval')\n",
      "WikipediaSection(title='Overview')\n",
      "WikipediaSection(title='History')\n",
      "WikipediaSection(title='Model types')\n",
      "WikipediaSection(title='First dimension: mathematical basis')\n",
      "WikipediaSection(title='Second dimension: properties of the model')\n",
      "WikipediaSection(title='Performance and correctness measures')\n",
      "WikipediaSection(title='Timeline')\n",
      "WikipediaSection(title='Major conferences')\n",
      "WikipediaSection(title='Awards in the field')\n",
      "WikipediaSection(title='In popular culture')\n",
      "WikipediaSection(title='See also')\n",
      "WikipediaSection(title='References')\n",
      "WikipediaSection(title='Further reading')\n"
     ]
    }
   ],
   "source": [
    "from pattern.web import Wikipedia\n",
    "\n",
    "article = Wikipedia().search('information retrieval')\n",
    "\n",
    "# Retrieves all the sections in the Wikipedia article \"Information Retrieval\"\n",
    "for section in article.sections:\n",
    "    print(section)"
   ]
  },
  {
   "cell_type": "markdown",
   "metadata": {},
   "source": [
    "We do see a subsection with title 'Major conferences'. Get the content for this subsection to list the conferences. "
   ]
  },
  {
   "cell_type": "code",
   "execution_count": 4,
   "metadata": {},
   "outputs": [
    {
     "name": "stdout",
     "output_type": "stream",
     "text": [
      "Major conferences* SIGIR: Conference on Research and Development in Information Retrieval\n",
      "* ECIR: European Conference on Information Retrieval\n",
      "* CIKM: Conference on Information and Knowledge Management\n",
      "* WWW: International World Wide Web Conference\n",
      "* WSDM: Conference on Web Search and Data Mining\n",
      "* ICTIR: International Conference on Theory of Information Retrieval\n"
     ]
    }
   ],
   "source": [
    "for section in article.sections:\n",
    "    if section.title == 'Major conferences':\n",
    "        print(section.content)"
   ]
  },
  {
   "cell_type": "markdown",
   "metadata": {},
   "source": [
    "Now that we have already covered downloading web pages, downloading images and working our way through wikipedia articles, let's go forward and retrieve some real-time feed. pattern.web has APIs to connect to Twitter and get the latest tweets which contain the word \"neural network\"."
   ]
  },
  {
   "cell_type": "code",
   "execution_count": 5,
   "metadata": {},
   "outputs": [
    {
     "name": "stdout",
     "output_type": "stream",
     "text": [
      "RT @UCLAengineering: UCLA engineers led by @InnovateUCLA have developed a neural network that can work with multiple wavelengths of light simultaneously. The optical system could lead to devices that can recognize objects instantly. Study published in @LightSciAppl https://t.co/nAkSncVaM7 https://t.co/tV0hmo2IcC\n",
      "*************************************************************************\n",
      "RT @UCLAengineering: UCLA engineers led by @InnovateUCLA have developed a neural network that can work with multiple wavelengths of light simultaneously. The optical system could lead to devices that can recognize objects instantly. Study published in @LightSciAppl https://t.co/nAkSncVaM7 https://t.co/tV0hmo2IcC\n",
      "*************************************************************************\n",
      "UCLA engineers led by @InnovateUCLA have developed a neural network that can work with multiple wavelengths of light simultaneously. The optical system could lead to devices that can recognize objects instantly. Study published in @LightSciAppl https://t.co/nAkSncVaM7 https://t.co/tV0hmo2IcC\n",
      "*************************************************************************\n",
      "RT @Aleksan03565134: How To Apply A Shallow Neural Network On The Circle Dataset Using TensorFlow 2.0.\n",
      "\n",
      "#NeuralNetwork #MachineLearning #AI #DataScience #OpenCV #ComputerVision #DeepLearning #Keras #TensorFlow #TF\n",
      "\n",
      "https://t.co/zpGBbEemuN https://t.co/cggUvirglW\n",
      "*************************************************************************\n",
      "PyTorch Prerequisites - Syllabus for Neural Network Programming Course https://t.co/Nh1ia14Txu #Pytorch\n",
      "*************************************************************************\n",
      "=>\n",
      "\"How to Evaluate Deep Neural Network Accelerators\", V. Sze, On-device Intelligence WS (MLSys), Mar 4, 2020 https://t.co/eNLyznSuLx\n",
      "Accelergy https://t.co/u8jdwJXWIM\n",
      "Timeloop https://t.co/F7mjzKysk7\n",
      "Eyeriss, PhD Thssis https://t.co/OMViYGddQe\n",
      "IEDM 2019 https://t.co/zgHwIpnYb0 https://t.co/knawWOWsBs\n",
      "*************************************************************************\n",
      "RT @Hacksterio: This robotic car uses a neural network to follow light: https://t.co/no6OvifeCM https://t.co/lsIKtvkqIT\n",
      "*************************************************************************\n",
      "RT @biorxiv_bioinfo: Varmole: A biologically drop-connect deep neural network model for prioritizing disease risk variants and genes https://t.co/FtAjXuO9ZP #biorxiv_bioinfo\n",
      "*************************************************************************\n",
      "\"Artist creates self portrait with a neural network and the results are freaky\" https://t.co/LUGlYvrh2W\n",
      "*************************************************************************\n",
      "RT @qconlondon: .@seanmtracey runs a hands-on lab at #QConLondon - covering the basics of convolutional neural networks & training a convolutional neural network (powered by @IBMWatson) https://t.co/UTH3kbq2ON\n",
      "*************************************************************************\n"
     ]
    }
   ],
   "source": [
    "from pattern.web import Twitter, plaintext\n",
    "\n",
    "twitter = Twitter(language = 'en')\n",
    "\n",
    "# Searches for the tweets with the word \"neural network\"\n",
    "for tweet in twitter.search('\"neural network\"', cached = False):\n",
    "    print(plaintext(tweet.text))\n",
    "    print(\"*************************************************************************\")"
   ]
  },
  {
   "cell_type": "markdown",
   "metadata": {},
   "source": [
    "### HTML Parsing"
   ]
  },
  {
   "cell_type": "markdown",
   "metadata": {},
   "source": [
    "This module includes an HTML parser that represents HTML source code as a parse tree. The DOM (Document Object Model) class provides an efficient way to traverse the parse tree and retrieve the HTML contents by id, class etc.\n",
    "\n",
    "Suppose we want to retrieve all the customer reviews of an Amazon product. From the code below, we can download HTML source and search for the review-title and review-rating in the parse tree, we can get the review titles and corresponding ratings"
   ]
  },
  {
   "cell_type": "code",
   "execution_count": 6,
   "metadata": {},
   "outputs": [
    {
     "name": "stdout",
     "output_type": "stream",
     "text": [
      "Ranking\t\tTitle\n",
      "5.0\tNice Introduction Text\n",
      "5.0\tGood for corpus linguists too\n",
      "5.0\tMy new favorite book on search\n",
      "1.0\tNot the same as hardcover book!\n",
      "5.0\tExcellent. (\"Introduction\" should be treated as tongue in cheek ...\n",
      "5.0\tFive Stars\n",
      "5.0\tAn excelent buy\n",
      "4.0\tbut it is a nice overview and beginning reference\n",
      "5.0\tlearn the gory details of IR\n",
      "5.0\tGreat Book\n"
     ]
    }
   ],
   "source": [
    "import re\n",
    "from pattern.web import URL, DOM\n",
    "\n",
    "url = URL('https://www.amazon.com/product-reviews/0521865719')\n",
    "src = url.download(unicode = True)\n",
    "clean = re.compile('<.*?>')\n",
    "    \n",
    "print(\"Ranking\\t\\tTitle\")\n",
    "\n",
    "# Get the relevant content from the parse tree obtained\n",
    "for e in DOM(src).by_id('cm_cr-review_list'):\n",
    "    if e.by_class('review-title'):\n",
    "        \n",
    "        # Get title and rating from \"review-title\" and \"a-icon-alt\" classes\n",
    "        title = re.sub(clean, '', e.by_class('review-title')[0].content)\n",
    "        rating = e.by_class('a-icon-alt')[0].content.split(' ')[0]\n",
    "        print('{0}\\t{1}'.format(rating.strip(), title.strip()))"
   ]
  },
  {
   "cell_type": "markdown",
   "metadata": {},
   "source": [
    "### Context based web search"
   ]
  },
  {
   "cell_type": "markdown",
   "metadata": {},
   "source": [
    "We will wrap up discussing pattern.web with one last interesting application i.e., sorting the Google search results based on context. Here goes a list of movies and we are trying to sort them based on the context \"excellent movie\""
   ]
  },
  {
   "cell_type": "code",
   "execution_count": 7,
   "metadata": {},
   "outputs": [
    {
     "name": "stdout",
     "output_type": "stream",
     "text": [
      "70.94% \"excellent movie Titanic\"\n",
      "14.35% \"excellent movie Inception\"\n",
      "10.77% \"excellent movie Joker\"\n",
      "3.87% \"excellent movie Parasite\"\n",
      "0.02% \"excellent movie Matrix\"\n",
      "0.02% \"excellent movie Dark Knight\"\n",
      "0.02% \"excellent movie Casablanca\"\n"
     ]
    }
   ],
   "source": [
    "from pattern.web import sort\n",
    "\n",
    "results = sort(terms = [\n",
    "    'Joker', \n",
    "    'Parasite', \n",
    "    'Casablanca', \n",
    "    'Matrix',\n",
    "    'Titanic', \n",
    "    'Dark Knight',\n",
    "    'Inception'], context = 'excellent movie', prefix = True)\n",
    "\n",
    "for weight, term in results:\n",
    "    print(\"%.2f\" % (weight * 100) + '%', term)"
   ]
  },
  {
   "cell_type": "markdown",
   "metadata": {},
   "source": [
    "Looks like <a href=\"https://www.imdb.com/title/tt0120338/\">Titanic</a> is the best movie of all the ones listed"
   ]
  },
  {
   "cell_type": "markdown",
   "metadata": {},
   "source": [
    "Let's try one more experiment with the terms (movie names) we have. If you would want to rank the terms based on context \"Christopher Nolan\""
   ]
  },
  {
   "cell_type": "code",
   "execution_count": 8,
   "metadata": {},
   "outputs": [
    {
     "name": "stdout",
     "output_type": "stream",
     "text": [
      "53.47% \"Christopher Nolan Dark Knight\"\n",
      "39.42% \"Christopher Nolan Inception\"\n",
      "6.93% \"Christopher Nolan Joker\"\n",
      "0.13% \"Christopher Nolan Titanic\"\n",
      "0.05% \"Christopher Nolan Matrix\"\n",
      "0.01% \"Christopher Nolan Casablanca\"\n",
      "0.00% \"Christopher Nolan Parasite\"\n"
     ]
    }
   ],
   "source": [
    "from pattern.web import sort\n",
    "\n",
    "results = sort(terms = [\n",
    "    'Joker', \n",
    "    'Parasite', \n",
    "    'Casablanca', \n",
    "    'Matrix',\n",
    "    'Titanic', \n",
    "    'Dark Knight',\n",
    "    'Inception'], context = 'Christopher Nolan', prefix = True)\n",
    "\n",
    "for weight, term in results:\n",
    "    print(\"%.2f\" % (weight * 100) + '%', term)"
   ]
  },
  {
   "cell_type": "markdown",
   "metadata": {},
   "source": [
    "Bingo! Dark Knight and Inception are Christopher Nolan movies."
   ]
  },
  {
   "cell_type": "markdown",
   "metadata": {},
   "source": [
    "## <span style=\"color: rgb(255, 0, 128)\">Pattern library for Machine Learning Tasks</span>"
   ]
  },
  {
   "cell_type": "markdown",
   "metadata": {},
   "source": [
    "For Machine Learning tasks, pattern.vector module is used."
   ]
  },
  {
   "cell_type": "markdown",
   "metadata": {},
   "source": [
    "## pattern.vector\n",
    "\n",
    "-----\n",
    "\n",
    "The **pattern.vector** module is a toolkit for machine learning, based on Vector Space Model of bag-of-words documents with weighted features (TF-IDF) and distance metrics (Cosine Similarity). Models can be used for clustering (k-means, hierarchical), classification (Naive Bayes, Perceptron, kNN, SVM)."
   ]
  },
  {
   "cell_type": "markdown",
   "metadata": {},
   "source": [
    "### Stemming and Lemmatization"
   ]
  },
  {
   "cell_type": "markdown",
   "metadata": {},
   "source": [
    "Stemming is a crude heuristic process that chops off the ends of words in the hope of achieving what “principled”\n",
    "lemmatization attempts to do with a lot of linguistic knowledge. `stem` function in pattern.vector can be used to find the stemmed word. Porter algorithm is the most common stemming procedure used in English. With `stemmer=PORTER`, this module uses <a href=\"http://www.tartarus.org/~martin/PorterStemmer/\">Porter</a> stemming algorithm to find the stemmed version of the word \"retrieval\""
   ]
  },
  {
   "cell_type": "code",
   "execution_count": 9,
   "metadata": {},
   "outputs": [
    {
     "data": {
      "text/plain": [
       "'retriev'"
      ]
     },
     "execution_count": 9,
     "metadata": {},
     "output_type": "execute_result"
    }
   ],
   "source": [
    "from pattern.vector import stem, PORTER\n",
    "\n",
    "stem('retrieval', stemmer=PORTER)"
   ]
  },
  {
   "cell_type": "markdown",
   "metadata": {},
   "source": [
    "Lemmatization is reduction of inflectional/variant forms to base form.\n",
    "\n",
    "`stemmer=LEMMA` in `stem` function would find the lemmatized version of the word \"retrieval\""
   ]
  },
  {
   "cell_type": "code",
   "execution_count": 10,
   "metadata": {},
   "outputs": [
    {
     "data": {
      "text/plain": [
       "'retrieval'"
      ]
     },
     "execution_count": 10,
     "metadata": {},
     "output_type": "execute_result"
    }
   ],
   "source": [
    "from pattern.vector import LEMMA\n",
    "\n",
    "stem('retrieval', stemmer=LEMMA)"
   ]
  },
  {
   "cell_type": "markdown",
   "metadata": {},
   "source": [
    "Pattern also has methods to normalize the sample text provided. `count` function with `stemmer=PORTER` is used to normalize the words. Here in this case, retrieval and retrieving are both stemmed to 'retriev'"
   ]
  },
  {
   "cell_type": "code",
   "execution_count": 11,
   "metadata": {},
   "outputs": [
    {
     "data": {
      "text/plain": [
       "{'automat': 1, 'retriev': 2, 'relev': 1, 'document': 2}"
      ]
     },
     "execution_count": 11,
     "metadata": {},
     "output_type": "execute_result"
    }
   ],
   "source": [
    "from pattern.vector import count, words, PORTER, LEMMA\n",
    "\n",
    "s = 'automatic retrieval of all relevant documents while retrieving as few of the non-relevant documents as possible'\n",
    "\n",
    "count(words(s), stemmer=PORTER)"
   ]
  },
  {
   "cell_type": "markdown",
   "metadata": {},
   "source": [
    "### TF-IDF"
   ]
  },
  {
   "cell_type": "markdown",
   "metadata": {},
   "source": [
    "A Document in Pattern is considered as an unordered bag-of-words representation of a given string, dictionary of (word, count). Bag-of-words means that the word order in the given text is not taken into consideration. Instead, words are counted using the `words()`, `count()` and `stem()` functions. Since now the words in the document are stored in the form of (word, count) pairs, this can be used to compute term frequency (tf), Inverse document frequency (idf), tf-idf and similarity between the documents."
   ]
  },
  {
   "cell_type": "code",
   "execution_count": 12,
   "metadata": {},
   "outputs": [],
   "source": [
    "from pattern.vector import Document\n",
    "\n",
    "string = \"Anything that does index-term weighting using any kind of statistical information \\\n",
    "will be using a weighting function that I published in 1972, Karen Sparck Jones said in an \\\n",
    "interview with the British Computer Society.\"\n",
    "\n",
    "document = Document(string)"
   ]
  },
  {
   "cell_type": "markdown",
   "metadata": {},
   "source": [
    "Word count or term frequency (tf) is a measure of a word's relevance in a text. Similarly, document frequency (df) is a measure of a word's relevance across multiple texts. Dividing term frequency by document frequency yields tf-idf, a measure of how important or unique a word is in a text in relation to other texts."
   ]
  },
  {
   "cell_type": "markdown",
   "metadata": {},
   "source": [
    "TF-IDF of a word can be calculated now using tfidf() function as follows:"
   ]
  },
  {
   "cell_type": "code",
   "execution_count": 13,
   "metadata": {},
   "outputs": [
    {
     "name": "stdout",
     "output_type": "stream",
     "text": [
      "Term frequency: 0.125\n",
      "TF-IDF: 0.125\n"
     ]
    }
   ],
   "source": [
    "print(\"Term frequency: \" + str(document.tf('weighting')))\n",
    "print(\"TF-IDF: \" + str(document.tfidf('weighting')))"
   ]
  },
  {
   "cell_type": "markdown",
   "metadata": {},
   "source": [
    "In vector space model, each Document is expressed as a real-valued vector of tf-idf weights. This vector representation of the document is stored in the document.vector. A document.vector in Pattern library is a read-only, sparse (non-zero values) dict of (feature, weight) terms, where weight is the relative frequency (TF) of a feature in the document"
   ]
  },
  {
   "cell_type": "code",
   "execution_count": 14,
   "metadata": {},
   "outputs": [
    {
     "data": {
      "text/plain": [
       "{'weighting': 0.125,\n",
       " 'using': 0.125,\n",
       " 'statistical': 0.0625,\n",
       " 'information': 0.0625,\n",
       " 'function': 0.0625,\n",
       " 'published': 0.0625,\n",
       " '1972': 0.0625,\n",
       " 'karen': 0.0625,\n",
       " 'sparck': 0.0625,\n",
       " 'jones': 0.0625,\n",
       " 'interview': 0.0625,\n",
       " 'british': 0.0625,\n",
       " 'computer': 0.0625,\n",
       " 'society': 0.0625}"
      ]
     },
     "execution_count": 14,
     "metadata": {},
     "output_type": "execute_result"
    }
   ],
   "source": [
    "document.vector "
   ]
  },
  {
   "cell_type": "markdown",
   "metadata": {},
   "source": [
    "### Cosine similarity"
   ]
  },
  {
   "cell_type": "markdown",
   "metadata": {},
   "source": [
    "By calculating the matrix dot product (angle) of two document vectors, we can measure how similar they are. This is called cosine similarity."
   ]
  },
  {
   "cell_type": "code",
   "execution_count": 15,
   "metadata": {},
   "outputs": [
    {
     "data": {
      "text/plain": [
       "0.9109129193625252"
      ]
     },
     "execution_count": 15,
     "metadata": {},
     "output_type": "execute_result"
    }
   ],
   "source": [
    "from pattern.vector import distance, COSINE\n",
    "\n",
    "doc1 = Document(\"activity of obtaining information system resources relevant to an\\\n",
    "information need from a collection of information resources\")\n",
    "\n",
    "doc2 = Document(\"automatic retrieval of all relevant documents while retrieving as\\\n",
    "few of the non-relevant documents as possible\")\n",
    "\n",
    "distance(doc1.vector, doc2.vector, method=COSINE)"
   ]
  },
  {
   "cell_type": "markdown",
   "metadata": {},
   "source": [
    "High cosine value shows that these two documents are similar. They are indeed similar, talking about information retrieval!!"
   ]
  },
  {
   "cell_type": "markdown",
   "metadata": {},
   "source": [
    "### Vector Space Model"
   ]
  },
  {
   "cell_type": "markdown",
   "metadata": {},
   "source": [
    "A vector space model (named **Model** in Pattern) is a collection of Document vectors. Each Document.vector in a model is a dictionary of features (e.g., words) and feature weights (e.g., word count)."
   ]
  },
  {
   "cell_type": "markdown",
   "metadata": {},
   "source": [
    "Let's consider a simple example which considers 5 documents and TF-IDF weighting scheme to calculate weights for features in the document vector."
   ]
  },
  {
   "cell_type": "code",
   "execution_count": 16,
   "metadata": {},
   "outputs": [],
   "source": [
    "from pattern.vector import Model, TFIDF\n",
    "\n",
    "doc1 = Document(\"a formal method that predicts the degree of relevance of a document to a query\", name = 'retrieval model')\n",
    "\n",
    "doc2 = Document(\"activity of obtaining information system resources relevant to an information need \\\n",
    "from a collection of information resources\", name = 'information retrieval')\n",
    "\n",
    "doc3 = Document(\"basic set of operations that enable a user to specify basic retrieval requests\", name = 'relational algebra')\n",
    "\n",
    "doc4 = Document(\"automatic retrieval of all relevant documents while retrieving as \\\n",
    "few of the non-relevant documents as possible\", name = 'information extraction')\n",
    "\n",
    "doc5 = Document(\"the science of searching for relevant documents, finding specific information \\\n",
    "within them, and generating metadata as to their contents\", name = 'IR')\n",
    "\n",
    "model = Model(documents = [doc1, doc2, doc3, doc4, doc5], weight = TFIDF)"
   ]
  },
  {
   "cell_type": "markdown",
   "metadata": {},
   "source": [
    "We can calculate similarity between any two documents by `similarity()` function in the Model."
   ]
  },
  {
   "cell_type": "code",
   "execution_count": 17,
   "metadata": {},
   "outputs": [
    {
     "data": {
      "text/plain": [
       "0.11613915829231619"
      ]
     },
     "execution_count": 17,
     "metadata": {},
     "output_type": "execute_result"
    }
   ],
   "source": [
    "model.similarity(doc2, doc5)"
   ]
  },
  {
   "cell_type": "markdown",
   "metadata": {},
   "source": [
    "Likewise, if we want to determine all the documents similar to a given unknown document, we could use `Model.neighbors()` to retrieve a list of the top most similar documents."
   ]
  },
  {
   "cell_type": "code",
   "execution_count": 18,
   "metadata": {},
   "outputs": [
    {
     "data": {
      "text/plain": [
       "[(0.36384455599273274, Document(id='RsJA4c3-5', name='information retrieval')),\n",
       " (0.20868526372063087,\n",
       "  Document(id='RsJA4c3-7', name='information extraction')),\n",
       " (0.14461765554175032, Document(id='RsJA4c3-8', name='IR')),\n",
       " (0.12529027238925386, Document(id='RsJA4c3-6', name='relational algebra'))]"
      ]
     },
     "execution_count": 18,
     "metadata": {},
     "output_type": "execute_result"
    }
   ],
   "source": [
    "query = Document(\"information retrieval\")\n",
    "\n",
    "model.neighbors(query)"
   ]
  },
  {
   "cell_type": "markdown",
   "metadata": {},
   "source": [
    "### Clustering"
   ]
  },
  {
   "cell_type": "markdown",
   "metadata": {},
   "source": [
    "Clustering is an unsupervised machine learning method that can be used to partition a set of unlabeled documents. Since the label of a document is not known, clustering will attempt to create clusters of similar documents by measuring the distance between the document vectors\n",
    "\n",
    "We can run K-Means clustering on the sample documents considered to see the document clusters based on similarity."
   ]
  },
  {
   "cell_type": "code",
   "execution_count": 19,
   "metadata": {},
   "outputs": [
    {
     "data": {
      "text/plain": [
       "[[Document(id='RsJA4c3-6', name='relational algebra'),\n",
       "  Document(id='RsJA4c3-8', name='IR'),\n",
       "  Document(id='RsJA4c3-7', name='information extraction')],\n",
       " [Document(id='RsJA4c3-5', name='information retrieval'),\n",
       "  Document(id='RsJA4c3-4', name='retrieval model')]]"
      ]
     },
     "execution_count": 19,
     "metadata": {},
     "output_type": "execute_result"
    }
   ],
   "source": [
    "from pattern.vector import KMEANS\n",
    "\n",
    "model.cluster(method=KMEANS, k=2, iterations=10, distance=COSINE)"
   ]
  },
  {
   "cell_type": "markdown",
   "metadata": {},
   "source": [
    "## <span style=\"color: rgb(255, 0, 128)\">Conclusion</span>\n",
    "\n",
    "-----\n",
    "\n",
    "Pattern is a very useful one-place-for-all library which doesn't just specialize in one domain, but provides cross-domain functionality. With detailed description and well maintained documentation, it's an easy-to-use toolkit."
   ]
  },
  {
   "cell_type": "markdown",
   "metadata": {},
   "source": [
    "All the modules in Pattern are neatly organized, have great applications and can be further combined to create a cross-domain application. For example, text mined from Twitter (module pattern.web) can be parsed for parts-of-speech tags (module pattern.en) and searched for specific patterns (module pattern.search) that can be used as training examples for a classifier (module pattern.vector)"
   ]
  },
  {
   "cell_type": "markdown",
   "metadata": {},
   "source": [
    "## <span style=\"color: rgb(255, 0, 128)\">More information</span>\n",
    "\n",
    "-----\n",
    "\n",
    "Find more details and information at https://www.clips.uantwerpen.be/pattern"
   ]
  },
  {
   "cell_type": "markdown",
   "metadata": {},
   "source": [
    "## <span style=\"color: rgb(255, 0, 128)\">References</span>\n",
    "\n",
    "-----\n",
    "\n",
    "De Smedt, T. & Daelemans, W. (2012). Pattern for Python. Journal of Machine Learning Research, 13: 2031–2035.\n",
    "\n",
    "Developer documentation for Pattern: https://www.clips.uantwerpen.be/pages/pattern-dev\n",
    "\n",
    "Tom De Smedt (2013). Modeling Creativity: Case Studies in Python. University Press Antwerp. ISBN 978-90-5718-260-0"
   ]
  }
 ],
 "metadata": {
  "kernelspec": {
   "display_name": "Python 3",
   "language": "python",
   "name": "python3"
  },
  "language_info": {
   "codemirror_mode": {
    "name": "ipython",
    "version": 3
   },
   "file_extension": ".py",
   "mimetype": "text/x-python",
   "name": "python",
   "nbconvert_exporter": "python",
   "pygments_lexer": "ipython3",
   "version": "3.7.6"
  }
 },
 "nbformat": 4,
 "nbformat_minor": 2
}
