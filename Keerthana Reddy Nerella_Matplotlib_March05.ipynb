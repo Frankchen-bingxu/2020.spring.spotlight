{
 "cells": [
  {
   "cell_type": "markdown",
   "metadata": {},
   "source": [
    "# Matplotlib Object-Oriented API\n",
    "\n",
    "Matplotlib is a library to create data visualizations in python. Apart from common plots like line plots, bar plots and scatter plots, we can create advanced visualizations like box plots, violin plots, density plots, etc., using Matplotlib.\n",
    "\n",
    "There are two interfaces in Matplotlib to perform visualizations. We can perform visualizations in Matplotlib using one of the two interfaces.\n",
    "1. The first one uses a state-based interface, matplotlib.pyplot, and is based on MATLAB. Pyplot is mainly used to design simple and interactive plots.\n",
    "2. The second one is an object oriented interface. It is recommended to use the object-oriented approach because it gives a better control and customization of the plots."
   ]
  },
  {
   "cell_type": "markdown",
   "metadata": {},
   "source": [
    "The object oriented approach:\n",
    "\n",
    "Instances of Figure and Axes are used in this approach. Figure is a top most layer of all the plot elements. It constitutes the subplots, titles, subtitles, sub axis, legends,etc. Axes is a part of the figure. It is like a subplot. The axes constitutes figure elements like  Axis, Tick, Line2D, Text, Polygon, etc., and sets the coordinate system. There can be many axes in one figure.\n",
    "Here are the links to documentation of these classes.\n",
    "\n",
    "https://matplotlib.org/api/axes_api.html#matplotlib.axes.Axes\n",
    "\n",
    "https://matplotlib.org/api/_as_gen/matplotlib.figure.Figure.html#matplotlib.figure.Figure"
   ]
  },
  {
   "cell_type": "code",
   "execution_count": 1,
   "metadata": {},
   "outputs": [],
   "source": [
    "%matplotlib notebook\n",
    "%matplotlib inline"
   ]
  },
  {
   "cell_type": "markdown",
   "metadata": {},
   "source": [
    "We are going to import data from a csv file and create a visualisation on that data using the object oriented approach. First, we read the file and display the top five rows. Next, we create a figure object, and add a sub plot to it. Then, we plot the \"gender\" column from the above data on the axes created. We can see that there are some non binary and null values in the data. It is easy to visualise these types of data because of matplotlib."
   ]
  },
  {
   "cell_type": "code",
   "execution_count": 6,
   "metadata": {},
   "outputs": [
    {
     "data": {
      "text/html": [
       "<div>\n",
       "<style scoped>\n",
       "    .dataframe tbody tr th:only-of-type {\n",
       "        vertical-align: middle;\n",
       "    }\n",
       "\n",
       "    .dataframe tbody tr th {\n",
       "        vertical-align: top;\n",
       "    }\n",
       "\n",
       "    .dataframe thead th {\n",
       "        text-align: right;\n",
       "    }\n",
       "</style>\n",
       "<table border=\"1\" class=\"dataframe\">\n",
       "  <thead>\n",
       "    <tr style=\"text-align: right;\">\n",
       "      <th></th>\n",
       "      <th>RespondentID</th>\n",
       "      <th>StartDate</th>\n",
       "      <th>EndDate</th>\n",
       "      <th>CountryNumeric2</th>\n",
       "      <th>q1AgeBeginCoding</th>\n",
       "      <th>q2Age</th>\n",
       "      <th>q3Gender</th>\n",
       "      <th>q4Education</th>\n",
       "      <th>q0004_other</th>\n",
       "      <th>q5DegreeFocus</th>\n",
       "      <th>...</th>\n",
       "      <th>q30LearnCodeOther</th>\n",
       "      <th>q0030_other</th>\n",
       "      <th>q31Level3</th>\n",
       "      <th>q32RecommendHackerRank</th>\n",
       "      <th>q0032_other</th>\n",
       "      <th>q33HackerRankChallforJob</th>\n",
       "      <th>q34PositiveExp</th>\n",
       "      <th>q34IdealLengHackerRankTest</th>\n",
       "      <th>q0035_other</th>\n",
       "      <th>q36Level4</th>\n",
       "    </tr>\n",
       "  </thead>\n",
       "  <tbody>\n",
       "    <tr>\n",
       "      <td>0</td>\n",
       "      <td>6464453728</td>\n",
       "      <td>10/19/17 11:51</td>\n",
       "      <td>10/20/17 12:05</td>\n",
       "      <td>South Korea</td>\n",
       "      <td>16 - 20 years old</td>\n",
       "      <td>18 - 24 years old</td>\n",
       "      <td>Female</td>\n",
       "      <td>Some college</td>\n",
       "      <td>NaN</td>\n",
       "      <td>Computer Science</td>\n",
       "      <td>...</td>\n",
       "      <td>Other (please specify)</td>\n",
       "      <td>datacamp</td>\n",
       "      <td>num%2 == 0</td>\n",
       "      <td>Yes</td>\n",
       "      <td>NaN</td>\n",
       "      <td>No</td>\n",
       "      <td>NaN</td>\n",
       "      <td>#NULL!</td>\n",
       "      <td>NaN</td>\n",
       "      <td>Queue</td>\n",
       "    </tr>\n",
       "    <tr>\n",
       "      <td>1</td>\n",
       "      <td>6478031510</td>\n",
       "      <td>10/26/17 6:18</td>\n",
       "      <td>10/26/17 7:49</td>\n",
       "      <td>Ukraine</td>\n",
       "      <td>16 - 20 years old</td>\n",
       "      <td>25 - 34 years old</td>\n",
       "      <td>Male</td>\n",
       "      <td>Post graduate degree (Masters, PhD)</td>\n",
       "      <td>NaN</td>\n",
       "      <td>Other STEM (science, technology, engineering, ...</td>\n",
       "      <td>...</td>\n",
       "      <td>NaN</td>\n",
       "      <td>NaN</td>\n",
       "      <td>num%2 == 0</td>\n",
       "      <td>Yes</td>\n",
       "      <td>NaN</td>\n",
       "      <td>No</td>\n",
       "      <td>NaN</td>\n",
       "      <td>#NULL!</td>\n",
       "      <td>NaN</td>\n",
       "      <td>Queue</td>\n",
       "    </tr>\n",
       "    <tr>\n",
       "      <td>2</td>\n",
       "      <td>6464392829</td>\n",
       "      <td>10/19/17 10:44</td>\n",
       "      <td>10/19/17 10:56</td>\n",
       "      <td>Malaysia</td>\n",
       "      <td>11 - 15 years old</td>\n",
       "      <td>12 - 18 years old</td>\n",
       "      <td>Female</td>\n",
       "      <td>Some college</td>\n",
       "      <td>NaN</td>\n",
       "      <td>Other STEM (science, technology, engineering, ...</td>\n",
       "      <td>...</td>\n",
       "      <td>NaN</td>\n",
       "      <td>NaN</td>\n",
       "      <td>num%2 == 0</td>\n",
       "      <td>Yes</td>\n",
       "      <td>NaN</td>\n",
       "      <td>No</td>\n",
       "      <td>NaN</td>\n",
       "      <td>#NULL!</td>\n",
       "      <td>NaN</td>\n",
       "      <td>Queue</td>\n",
       "    </tr>\n",
       "    <tr>\n",
       "      <td>3</td>\n",
       "      <td>6481629912</td>\n",
       "      <td>10/27/17 1:51</td>\n",
       "      <td>10/27/17 2:05</td>\n",
       "      <td>Curaçao</td>\n",
       "      <td>11 - 15 years old</td>\n",
       "      <td>12 - 18 years old</td>\n",
       "      <td>Male</td>\n",
       "      <td>College graduate</td>\n",
       "      <td>NaN</td>\n",
       "      <td>Computer Science</td>\n",
       "      <td>...</td>\n",
       "      <td>NaN</td>\n",
       "      <td>NaN</td>\n",
       "      <td>num%2 == 0</td>\n",
       "      <td>Yes</td>\n",
       "      <td>NaN</td>\n",
       "      <td>No</td>\n",
       "      <td>NaN</td>\n",
       "      <td>#NULL!</td>\n",
       "      <td>NaN</td>\n",
       "      <td>Hashmap</td>\n",
       "    </tr>\n",
       "    <tr>\n",
       "      <td>4</td>\n",
       "      <td>6488385057</td>\n",
       "      <td>10/31/17 11:46</td>\n",
       "      <td>10/31/17 11:59</td>\n",
       "      <td>NaN</td>\n",
       "      <td>16 - 20 years old</td>\n",
       "      <td>25 - 34 years old</td>\n",
       "      <td>Female</td>\n",
       "      <td>College graduate</td>\n",
       "      <td>NaN</td>\n",
       "      <td>NaN</td>\n",
       "      <td>...</td>\n",
       "      <td>Other (please specify)</td>\n",
       "      <td>Blogs/articles by industry leaders</td>\n",
       "      <td>num%2 == 0</td>\n",
       "      <td>Yes</td>\n",
       "      <td>NaN</td>\n",
       "      <td>No</td>\n",
       "      <td>NaN</td>\n",
       "      <td>#NULL!</td>\n",
       "      <td>NaN</td>\n",
       "      <td>Hashmap</td>\n",
       "    </tr>\n",
       "  </tbody>\n",
       "</table>\n",
       "<p>5 rows × 251 columns</p>\n",
       "</div>"
      ],
      "text/plain": [
       "   RespondentID       StartDate         EndDate CountryNumeric2  \\\n",
       "0    6464453728  10/19/17 11:51  10/20/17 12:05     South Korea   \n",
       "1    6478031510   10/26/17 6:18   10/26/17 7:49         Ukraine   \n",
       "2    6464392829  10/19/17 10:44  10/19/17 10:56        Malaysia   \n",
       "3    6481629912   10/27/17 1:51   10/27/17 2:05         Curaçao   \n",
       "4    6488385057  10/31/17 11:46  10/31/17 11:59             NaN   \n",
       "\n",
       "    q1AgeBeginCoding              q2Age q3Gender  \\\n",
       "0  16 - 20 years old  18 - 24 years old   Female   \n",
       "1  16 - 20 years old  25 - 34 years old     Male   \n",
       "2  11 - 15 years old  12 - 18 years old   Female   \n",
       "3  11 - 15 years old  12 - 18 years old     Male   \n",
       "4  16 - 20 years old  25 - 34 years old   Female   \n",
       "\n",
       "                           q4Education q0004_other  \\\n",
       "0                         Some college         NaN   \n",
       "1  Post graduate degree (Masters, PhD)         NaN   \n",
       "2                         Some college         NaN   \n",
       "3                     College graduate         NaN   \n",
       "4                     College graduate         NaN   \n",
       "\n",
       "                                       q5DegreeFocus  ...  \\\n",
       "0                                   Computer Science  ...   \n",
       "1  Other STEM (science, technology, engineering, ...  ...   \n",
       "2  Other STEM (science, technology, engineering, ...  ...   \n",
       "3                                   Computer Science  ...   \n",
       "4                                                NaN  ...   \n",
       "\n",
       "        q30LearnCodeOther                         q0030_other   q31Level3  \\\n",
       "0  Other (please specify)                            datacamp  num%2 == 0   \n",
       "1                     NaN                                 NaN  num%2 == 0   \n",
       "2                     NaN                                 NaN  num%2 == 0   \n",
       "3                     NaN                                 NaN  num%2 == 0   \n",
       "4  Other (please specify)  Blogs/articles by industry leaders  num%2 == 0   \n",
       "\n",
       "  q32RecommendHackerRank q0032_other q33HackerRankChallforJob q34PositiveExp  \\\n",
       "0                    Yes         NaN                       No            NaN   \n",
       "1                    Yes         NaN                       No            NaN   \n",
       "2                    Yes         NaN                       No            NaN   \n",
       "3                    Yes         NaN                       No            NaN   \n",
       "4                    Yes         NaN                       No            NaN   \n",
       "\n",
       "  q34IdealLengHackerRankTest q0035_other q36Level4  \n",
       "0                     #NULL!         NaN     Queue  \n",
       "1                     #NULL!         NaN     Queue  \n",
       "2                     #NULL!         NaN     Queue  \n",
       "3                     #NULL!         NaN   Hashmap  \n",
       "4                     #NULL!         NaN   Hashmap  \n",
       "\n",
       "[5 rows x 251 columns]"
      ]
     },
     "execution_count": 6,
     "metadata": {},
     "output_type": "execute_result"
    }
   ],
   "source": [
    "import matplotlib.pyplot as plt\n",
    "import pandas as pd\n",
    "\n",
    "data = pd.read_csv(\"HackerRank-Developer-Survey-2018-Values.csv\")\n",
    "data.head(5)"
   ]
  },
  {
   "cell_type": "code",
   "execution_count": 7,
   "metadata": {},
   "outputs": [
    {
     "data": {
      "text/plain": [
       "[<matplotlib.lines.Line2D at 0x1c3e48293c8>]"
      ]
     },
     "execution_count": 7,
     "metadata": {},
     "output_type": "execute_result"
    },
    {
     "data": {
      "image/png": "[encoded data removed]",
      "text/plain": [
       "<Figure size 432x288 with 1 Axes>"
      ]
     },
     "metadata": {
      "needs_background": "light"
     },
     "output_type": "display_data"
    }
   ],
   "source": [
    "fig = plt.figure()\n",
    "ax = fig.add_subplot()\n",
    "ax.plot(data['q3Gender'].value_counts())"
   ]
  },
  {
   "cell_type": "markdown",
   "metadata": {},
   "source": [
    "We can modify properties of these plots. Here is the reference to documentation.\n",
    "\n",
    "https://matplotlib.org/tutorials/introductory/lifecycle.html\n",
    "\n",
    "We can use this object oriented approach to create interactive visualisations which update the visualisations in real time. In the following example, we read a csv file and create a 3D plot. The plot updates itself with the values in the file every one second."
   ]
  },
  {
   "cell_type": "code",
   "execution_count": 3,
   "metadata": {},
   "outputs": [
    {
     "data": {
      "image/png": "[encoded data removed]",
      "text/plain": [
       "<Figure size 432x288 with 1 Axes>"
      ]
     },
     "metadata": {
      "needs_background": "light"
     },
     "output_type": "display_data"
    }
   ],
   "source": [
    "import matplotlib.pyplot as plt\n",
    "import matplotlib.animation as animation\n",
    "from mpl_toolkits.mplot3d import Axes3D\n",
    "\n",
    "def updatingPlot(i):\n",
    "    xs = []\n",
    "    ys = []\n",
    "    zs = []\n",
    "    for line in open('TestData.csv','r').read().split('\\n'):\n",
    "        if len(line) > 1:\n",
    "            x, y, z = line.split(',')\n",
    "            xs.append(float(x))\n",
    "            ys.append(float(y))\n",
    "            zs.append(float(z))\n",
    "    ax.clear()\n",
    "    ax.plot(xs, ys, zs)\n",
    "    \n",
    "fig = plt.figure()\n",
    "ax = fig.add_subplot(111, projection='3d')\n",
    "ani = animation.FuncAnimation(fig, updatingPlot, interval=1000)\n",
    "plt.show()"
   ]
  },
  {
   "cell_type": "markdown",
   "metadata": {},
   "source": [
    "Using similar approach, we can update the graphs from the data of a database. Here, we are using sqlite database. We are adding random coordinates into the database table. The plot will update when new rows are inserted into the database or when a row is deleted from the database."
   ]
  },
  {
   "cell_type": "code",
   "execution_count": 4,
   "metadata": {},
   "outputs": [
    {
     "name": "stdout",
     "output_type": "stream",
     "text": [
      "(3.0, 2.0)\n",
      "(6.0, 1.0)\n",
      "(0.0, 7.0)\n",
      "(2.0, 8.0)\n",
      "(1.0, 4.0)\n",
      "(1.0, 1.0)\n",
      "(9.0, 1.0)\n",
      "(2.0, 3.0)\n"
     ]
    },
    {
     "data": {
      "image/png": "[encoded data removed]",
      "text/plain": [
       "<Figure size 432x288 with 1 Axes>"
      ]
     },
     "metadata": {
      "needs_background": "light"
     },
     "output_type": "display_data"
    }
   ],
   "source": [
    "import matplotlib.pyplot as plt\n",
    "import matplotlib.animation as animation\n",
    "import sqlite3\n",
    "import random\n",
    "import time\n",
    "\n",
    "con = sqlite3.connect('testDB.db')\n",
    "\n",
    "def create():\n",
    "    c = con.cursor()\n",
    "    c.execute(\"CREATE TABLE IF NOT EXISTS coordinates(x REAL, y REAL)\")\n",
    "    c.close\n",
    "    \n",
    "def insert():\n",
    "    c = con.cursor()\n",
    "    x = random.randrange(0,10)\n",
    "    y = random.randrange(0,10)\n",
    "    c.execute(\"INSERT INTO coordinates (x, y) VALUES (?, ?)\", (x, y))\n",
    "    c.close\n",
    "    con.commit()\n",
    "    time.sleep(1)\n",
    "    \n",
    "def read():\n",
    "    c = con.cursor()\n",
    "    c.execute('SELECT * FROM coordinates')\n",
    "    c.close\n",
    "    data = c.fetchall()\n",
    "    for row in data:\n",
    "        print(row)\n",
    "        \n",
    "def updatingPlot(i):\n",
    "    c = con.cursor()\n",
    "    c.execute('SELECT * FROM coordinates')\n",
    "    c.close\n",
    "    data = c.fetchall()\n",
    "    xs = []\n",
    "    ys = []\n",
    "    for row in data:\n",
    "        xs.append(row[0])\n",
    "        ys.append(row[1])\n",
    "    ax.clear()\n",
    "    ax.plot(xs,ys)\n",
    "    \n",
    "create()\n",
    "insert()\n",
    "read()\n",
    "fig = plt.figure()\n",
    "ax = fig.add_subplot(1,1,1)\n",
    "ani = animation.FuncAnimation(fig, updatingPlot, interval=1000)\n",
    "plt.show()\n",
    "con.close()"
   ]
  },
  {
   "cell_type": "markdown",
   "metadata": {},
   "source": [
    "For inserting into the database:"
   ]
  },
  {
   "cell_type": "code",
   "execution_count": 5,
   "metadata": {},
   "outputs": [
    {
     "name": "stdout",
     "output_type": "stream",
     "text": [
      "(3.0, 2.0)\n",
      "(6.0, 1.0)\n",
      "(0.0, 7.0)\n",
      "(2.0, 8.0)\n",
      "(1.0, 4.0)\n",
      "(1.0, 1.0)\n",
      "(9.0, 1.0)\n",
      "(2.0, 3.0)\n",
      "(9.0, 3.0)\n"
     ]
    }
   ],
   "source": [
    "con = sqlite3.connect('testDB.db')\n",
    "c = con.cursor()\n",
    "insert()\n",
    "read()\n",
    "c.close\n",
    "con.close()"
   ]
  }
 ],
 "metadata": {
  "kernelspec": {
   "display_name": "Python 3",
   "language": "python",
   "name": "python3"
  },
  "language_info": {
   "codemirror_mode": {
    "name": "ipython",
    "version": 3
   },
   "file_extension": ".py",
   "mimetype": "text/x-python",
   "name": "python",
   "nbconvert_exporter": "python",
   "pygments_lexer": "ipython3",
   "version": "3.7.4"
  }
 },
 "nbformat": 4,
 "nbformat_minor": 2
}
