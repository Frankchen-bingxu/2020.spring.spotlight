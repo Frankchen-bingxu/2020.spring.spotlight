{
  "nbformat": 4,
  "nbformat_minor": 0,
  "metadata": {
    "colab": {
      "name": "Spotlight_827006436_Boto3.ipynb",
      "provenance": [],
      "collapsed_sections": [
        "1wYaUMhW8-iq",
        "AyI9mcgofTGR",
        "HCYAWpSfEiLJ",
        "ZRWroJSNHXzQ"
      ]
    },
    "kernelspec": {
      "name": "python3",
      "display_name": "Python 3"
    }
  },
  "cells": [
    {
      "cell_type": "markdown",
      "metadata": {
        "id": "FzkpM4ao9OST",
        "colab_type": "text"
      },
      "source": [
        "Connecting to Amazon Web Services using Boto3 is much more simpler than eariler versions of Boto\n",
        "\n",
        "I'll list the steps to connect to Amazon Personalize using boto3 and steps to create a solution that recommends books to a user using AutoML configuration"
      ]
    },
    {
      "cell_type": "markdown",
      "metadata": {
        "id": "lOxrXa96mGv5",
        "colab_type": "text"
      },
      "source": [
        "**Download Dataset from below link (Please use TAMU email to access the dataset)**\n",
        "\n",
        "[Dataset Link Google Drive](https://drive.google.com/open?id=1NHu_YX7bqgWSBLXvXd1ndo3jYt_Wtgpq)"
      ]
    },
    {
      "cell_type": "markdown",
      "metadata": {
        "id": "m4Uhwboq_5BC",
        "colab_type": "text"
      },
      "source": [
        "### Resources"
      ]
    },
    {
      "cell_type": "markdown",
      "metadata": {
        "id": "lrcMZMv6_8Gn",
        "colab_type": "text"
      },
      "source": [
        "* [Boto3 Personalize](https://boto3.amazonaws.com/v1/documentation/api/latest/reference/services/personalize.html)\n",
        "\n",
        "* [Boto3 S3](https://boto3.amazonaws.com/v1/documentation/api/latest/reference/services/s3.html)\n",
        "\n",
        "* [S3](https://docs.aws.amazon.com/AmazonS3/latest/user-guide/what-is-s3.html)\n",
        "\n",
        "* [Personalize](https://docs.aws.amazon.com/personalize/latest/dg/what-is-personalize.html)\n",
        "\n",
        "* [Dataset Book Crossings](http://www2.informatik.uni-freiburg.de/~cziegler/BX/)\n",
        "\n",
        "\n",
        "\n"
      ]
    },
    {
      "cell_type": "markdown",
      "metadata": {
        "id": "DAWnIXW5Cq_d",
        "colab_type": "text"
      },
      "source": [
        "### Insights"
      ]
    },
    {
      "cell_type": "markdown",
      "metadata": {
        "id": "-Q3ne_koCvG9",
        "colab_type": "text"
      },
      "source": [
        "The main insights of using boto3 for personalize are as follows -\n",
        "\n",
        "* We need to make sure Amazon Personalize can access S3 storage. We need to ensure we add this policy to our S3 bucket\n",
        "\n",
        "* The schema has to match the data in csv files. Let's say we have NULL as a value in our dataset for Age and in the schema we mention it as an integer. The schema wouldn't be able to match the data type\n",
        "\n",
        "* Training takes significant amount of time depending on the size of the data when we create a solution version\n",
        "\n",
        "* We also need to add a role to Personalize in IAM for import jobs\n",
        "\n",
        "Dataset and things to remember\n",
        "\n",
        "*   Only CSV files are accepted by Personalize stored in S3 bucket\n",
        "*   Some fields are mandatory for the schema defined by which Personalize identifies the dataset\n",
        "*   There are many fields for the dataset out of which **USER_ID**, **ITEM_ID** and **TIMESTAMP** are required.\n",
        "\n",
        "> 1.   Users - USER_ID\n",
        "2.   Items - ITEM_ID\n",
        "3.   Interactions - USER_ID, ITEM_ID, TIMESTAMP\n",
        "\n",
        "* Interactions cannot have more than 5 fields in the dataset"
      ]
    },
    {
      "cell_type": "markdown",
      "metadata": {
        "id": "1wYaUMhW8-iq",
        "colab_type": "text"
      },
      "source": [
        "### Install boto using pip\n",
        "\n",
        "\n"
      ]
    },
    {
      "cell_type": "code",
      "metadata": {
        "id": "ba-rA4DT6V8Z",
        "colab_type": "code",
        "outputId": "2f096f09-83ed-499f-8737-66a91cdfb036",
        "colab": {
          "base_uri": "https://localhost:8080/",
          "height": 171
        }
      },
      "source": [
        "!pip install boto3"
      ],
      "execution_count": 0,
      "outputs": [
        {
          "output_type": "stream",
          "text": [
            "Requirement already satisfied: boto3 in /usr/local/lib/python3.6/dist-packages (1.11.15)\n",
            "Requirement already satisfied: s3transfer<0.4.0,>=0.3.0 in /usr/local/lib/python3.6/dist-packages (from boto3) (0.3.3)\n",
            "Requirement already satisfied: botocore<1.15.0,>=1.14.15 in /usr/local/lib/python3.6/dist-packages (from boto3) (1.14.15)\n",
            "Requirement already satisfied: jmespath<1.0.0,>=0.7.1 in /usr/local/lib/python3.6/dist-packages (from boto3) (0.9.4)\n",
            "Requirement already satisfied: python-dateutil<3.0.0,>=2.1 in /usr/local/lib/python3.6/dist-packages (from botocore<1.15.0,>=1.14.15->boto3) (2.6.1)\n",
            "Requirement already satisfied: docutils<0.16,>=0.10 in /usr/local/lib/python3.6/dist-packages (from botocore<1.15.0,>=1.14.15->boto3) (0.15.2)\n",
            "Requirement already satisfied: urllib3<1.26,>=1.20; python_version != \"3.4\" in /usr/local/lib/python3.6/dist-packages (from botocore<1.15.0,>=1.14.15->boto3) (1.24.3)\n",
            "Requirement already satisfied: six>=1.5 in /usr/local/lib/python3.6/dist-packages (from python-dateutil<3.0.0,>=2.1->botocore<1.15.0,>=1.14.15->boto3) (1.12.0)\n"
          ],
          "name": "stdout"
        }
      ]
    },
    {
      "cell_type": "markdown",
      "metadata": {
        "id": "P0E8C4Dh9rEi",
        "colab_type": "text"
      },
      "source": [
        "### Setting up Boto to access AWS\n",
        "\n",
        "\n",
        "\n",
        "*   Boto has many functions available for each service which is available in detail in the documentation\n",
        "*   In general it is like an API, there are few parameters that can be passed in the request and in the response you can read the data requested\n",
        "\n"
      ]
    },
    {
      "cell_type": "markdown",
      "metadata": {
        "id": "8brR2puxHClR",
        "colab_type": "text"
      },
      "source": [
        "Creating an access key for an IAM user\n",
        "\n",
        "[Making the credentials file](https://docs.aws.amazon.com/cli/latest/userguide/cli-chap-configure.html)"
      ]
    },
    {
      "cell_type": "markdown",
      "metadata": {
        "id": "8VnAL_p6_OKb",
        "colab_type": "text"
      },
      "source": [
        "[Boto Configuration](https://boto3.amazonaws.com/v1/documentation/api/latest/guide/quickstart.html)\n",
        "\n"
      ]
    },
    {
      "cell_type": "code",
      "metadata": {
        "id": "eTjIn9BA9mkW",
        "colab_type": "code",
        "colab": {}
      },
      "source": [
        "!mkdir ~/.aws && cp 'credentials' ~/.aws/credentials"
      ],
      "execution_count": 0,
      "outputs": []
    },
    {
      "cell_type": "markdown",
      "metadata": {
        "id": "40Zh7e_QCQrr",
        "colab_type": "text"
      },
      "source": [
        "### Using Boto3 to Upload data to S3 bucket"
      ]
    },
    {
      "cell_type": "code",
      "metadata": {
        "id": "LcxLkShYBvbw",
        "colab_type": "code",
        "colab": {}
      },
      "source": [
        "import boto3\n",
        "import requests\n",
        "\n",
        "client_s3 = boto3.client('s3') # access any resource by typing in the name service\n",
        "s3_name = 'suryastorage17'"
      ],
      "execution_count": 0,
      "outputs": []
    },
    {
      "cell_type": "markdown",
      "metadata": {
        "id": "lvquW9dnub9T",
        "colab_type": "text"
      },
      "source": [
        "Creating a bucket in S3"
      ]
    },
    {
      "cell_type": "code",
      "metadata": {
        "id": "UFCWt0r2CiGl",
        "colab_type": "code",
        "colab": {}
      },
      "source": [
        "response = client_s3.create_bucket(\n",
        "    ACL='public-read-write',\n",
        "    Bucket=s3_name\n",
        ")"
      ],
      "execution_count": 0,
      "outputs": []
    },
    {
      "cell_type": "code",
      "metadata": {
        "id": "qzkb9t8ypU_K",
        "colab_type": "code",
        "outputId": "862726e0-f0ee-4bdd-93a6-3df926350a15",
        "colab": {
          "base_uri": "https://localhost:8080/",
          "height": 168
        }
      },
      "source": [
        "!ls -l"
      ],
      "execution_count": 0,
      "outputs": [
        {
          "output_type": "stream",
          "text": [
            "total 116788\n",
            "-rw-r--r-- 1 root root 73443458 Feb 28 07:12 books.csv\n",
            "-rw-r--r-- 1 root root      778 Feb 28 07:11 books.json\n",
            "-rw-r--r-- 1 root root      115 Feb 28 07:11 credentials\n",
            "-rw-r--r-- 1 root root 35281363 Feb 28 07:12 interactions.csv\n",
            "-rw-r--r-- 1 root root      461 Feb 28 07:11 interactions.json\n",
            "drwxr-xr-x 1 root root     4096 Feb  5 18:37 sample_data\n",
            "-rw-r--r-- 1 root root 10831168 Feb 28 07:11 users.csv\n",
            "-rw-r--r-- 1 root root      505 Feb 28 07:11 users.json\n"
          ],
          "name": "stdout"
        }
      ]
    },
    {
      "cell_type": "code",
      "metadata": {
        "id": "N2qD9eJ0ofgp",
        "colab_type": "code",
        "colab": {}
      },
      "source": [
        "import boto3\n",
        "import glob\n",
        "\n",
        "s3 = boto3.resource('s3')\n",
        "for f in glob.glob(\"*.csv\"):\n",
        "  s3.meta.client.upload_file(f, s3_name, f)"
      ],
      "execution_count": 0,
      "outputs": []
    },
    {
      "cell_type": "markdown",
      "metadata": {
        "id": "PwXHQh_MabJc",
        "colab_type": "text"
      },
      "source": [
        "### Schema Generation"
      ]
    },
    {
      "cell_type": "markdown",
      "metadata": {
        "id": "GFq8zQNokzUU",
        "colab_type": "text"
      },
      "source": [
        "Saving Schema"
      ]
    },
    {
      "cell_type": "code",
      "metadata": {
        "id": "s0bJ4VkRDLNb",
        "colab_type": "code",
        "outputId": "749e93fe-ef15-4d5b-fe3f-2f5d3b467c15",
        "colab": {
          "base_uri": "https://localhost:8080/",
          "height": 54
        }
      },
      "source": [
        "import boto3\n",
        "import os\n",
        "import glob\n",
        "\n",
        "personalize = boto3.client('personalize', region_name='us-east-1')\n",
        "\n",
        "schema_arns = {}\n",
        "\n",
        "for file in glob.glob(\"*.json\"):\n",
        "  with open(file) as f:\n",
        "      createSchemaResponse = personalize.create_schema(\n",
        "          name = file[:-6]+'Schema',\n",
        "          schema = f.read()\n",
        "      )\n",
        "\n",
        "      schema_arns[file[:-6]+'Schema'] = (createSchemaResponse['schemaArn'])\n",
        "\n",
        "print('Schems arns:', schema_arns)"
      ],
      "execution_count": 0,
      "outputs": [
        {
          "output_type": "stream",
          "text": [
            "Schems arns: {'bookSchema': 'arn:aws:personalize:us-east-1:522036915387:schema/bookSchema', 'userSchema': 'arn:aws:personalize:us-east-1:522036915387:schema/userSchema', 'interactionSchema': 'arn:aws:personalize:us-east-1:522036915387:schema/interactionSchema'}\n"
          ],
          "name": "stdout"
        }
      ]
    },
    {
      "cell_type": "code",
      "metadata": {
        "id": "I66XVXknvZHR",
        "colab_type": "code",
        "outputId": "2e5afb80-b332-4156-83c0-842cd94b2bf4",
        "colab": {
          "base_uri": "https://localhost:8080/",
          "height": 34
        }
      },
      "source": [
        "personalize = boto3.client('personalize', region_name='us-east-1')\n",
        "schema_arns = {}\n",
        "\n",
        "with open('users.json') as f:\n",
        "  createSchemaResponse = personalize.create_schema(\n",
        "            name = 'userSchema',\n",
        "            schema = f.read()\n",
        "        )\n",
        "\n",
        "  schema_arns['userSchema'] = (createSchemaResponse['schemaArn'])\n",
        "print(schema_arns)"
      ],
      "execution_count": 0,
      "outputs": [
        {
          "output_type": "stream",
          "text": [
            "{'userSchema': 'arn:aws:personalize:us-east-1:522036915387:schema/userSchema'}\n"
          ],
          "name": "stdout"
        }
      ]
    },
    {
      "cell_type": "markdown",
      "metadata": {
        "id": "Wus7JAf91Sr_",
        "colab_type": "text"
      },
      "source": [
        "List Schemas in AWS"
      ]
    },
    {
      "cell_type": "code",
      "metadata": {
        "id": "KZ1TXd-21P_G",
        "colab_type": "code",
        "outputId": "0bfd5e1e-cdb7-4b73-bdf4-cac487e84494",
        "colab": {
          "base_uri": "https://localhost:8080/",
          "height": 54
        }
      },
      "source": [
        "personalize = boto3.client('personalize', region_name='us-east-1')\n",
        "\n",
        "response = personalize.list_schemas(\n",
        "    maxResults=5\n",
        ")\n",
        "\n",
        "print(response['schemas'])"
      ],
      "execution_count": 0,
      "outputs": [
        {
          "output_type": "stream",
          "text": [
            "[{'name': 'bookSchema', 'schemaArn': 'arn:aws:personalize:us-east-1:522036915387:schema/bookSchema', 'creationDateTime': datetime.datetime(2020, 2, 29, 2, 49, 50, 354000, tzinfo=tzlocal()), 'lastUpdatedDateTime': datetime.datetime(2020, 2, 29, 2, 49, 50, 354000, tzinfo=tzlocal())}, {'name': 'interactionSchema', 'schemaArn': 'arn:aws:personalize:us-east-1:522036915387:schema/interactionSchema', 'creationDateTime': datetime.datetime(2020, 2, 29, 2, 49, 50, 424000, tzinfo=tzlocal()), 'lastUpdatedDateTime': datetime.datetime(2020, 2, 29, 2, 49, 50, 424000, tzinfo=tzlocal())}, {'name': 'userSchema', 'schemaArn': 'arn:aws:personalize:us-east-1:522036915387:schema/userSchema', 'creationDateTime': datetime.datetime(2020, 2, 29, 2, 49, 50, 393000, tzinfo=tzlocal()), 'lastUpdatedDateTime': datetime.datetime(2020, 2, 29, 2, 49, 50, 393000, tzinfo=tzlocal())}]\n"
          ],
          "name": "stdout"
        }
      ]
    },
    {
      "cell_type": "markdown",
      "metadata": {
        "id": "PuKZy7KS1_89",
        "colab_type": "text"
      },
      "source": [
        "Delete Schema in AWS\n",
        "\n",
        "Note-\n",
        "\n",
        "To make any changes to the schema and retain the same name, we need to delete it and create a new one "
      ]
    },
    {
      "cell_type": "code",
      "metadata": {
        "id": "3mzw6MCY1_NJ",
        "colab_type": "code",
        "colab": {}
      },
      "source": [
        "personalize = boto3.client('personalize', region_name='us-east-1')\n",
        "\n",
        "response = personalize.delete_schema(\n",
        "    schemaArn='arn:aws:personalize:us-east-1:522036915387:schema/userSchema'\n",
        ")"
      ],
      "execution_count": 0,
      "outputs": []
    },
    {
      "cell_type": "markdown",
      "metadata": {
        "id": "4ZPieUm6zhWD",
        "colab_type": "text"
      },
      "source": [
        "### Create and Import DatasetGroup in Personalize"
      ]
    },
    {
      "cell_type": "markdown",
      "metadata": {
        "id": "xJNScLdD9DUV",
        "colab_type": "text"
      },
      "source": [
        "Steps:\n",
        "\n",
        "\n",
        "*   Create a DatasetGroup to hold all datasets\n",
        "*   Create Datasets(Users, Items, Interactions)\n",
        "*   Import Datasets from S3\n",
        "\n",
        "Note-\n",
        "Policy for Personalize to access S3\n",
        "\n",
        "https://docs.aws.amazon.com/personalize/latest/dg/data-prep-upload-s3.html\n",
        "\n",
        "\n"
      ]
    },
    {
      "cell_type": "code",
      "metadata": {
        "id": "dLS46wBJyoTq",
        "colab_type": "code",
        "outputId": "4102fc78-ff35-4c01-d401-377be20d689a",
        "colab": {
          "base_uri": "https://localhost:8080/",
          "height": 67
        }
      },
      "source": [
        "import boto3\n",
        "\n",
        "personalize = boto3.client('personalize', region_name='us-east-1')\n",
        "\n",
        "response = personalize.create_dataset_group(name = 'BooksDatasetGroup')\n",
        "dsg_arn = response['datasetGroupArn']\n",
        "\n",
        "description = personalize.describe_dataset_group(datasetGroupArn = dsg_arn)['datasetGroup']\n",
        "\n",
        "print('Name: ' + description['name'])\n",
        "print('ARN: ' + description['datasetGroupArn'])\n",
        "print('Status: ' + description['status'])"
      ],
      "execution_count": 0,
      "outputs": [
        {
          "output_type": "stream",
          "text": [
            "Name: BooksDatasetGroup\n",
            "ARN: arn:aws:personalize:us-east-1:522036915387:dataset-group/BooksDatasetGroup\n",
            "Status: CREATE PENDING\n"
          ],
          "name": "stdout"
        }
      ]
    },
    {
      "cell_type": "markdown",
      "metadata": {
        "id": "cvFQSL8qzkp-",
        "colab_type": "text"
      },
      "source": [
        "Wait until the DatasetGroup is active in status"
      ]
    },
    {
      "cell_type": "code",
      "metadata": {
        "id": "V7htvXR8zbkj",
        "colab_type": "code",
        "outputId": "a93b552a-9dfc-4853-fe47-f8f3a5ad4dc2",
        "colab": {
          "base_uri": "https://localhost:8080/",
          "height": 67
        }
      },
      "source": [
        "description = personalize.describe_dataset_group(datasetGroupArn = dsg_arn)['datasetGroup']\n",
        "print('Name: ' + description['name'])\n",
        "print('ARN: ' + description['datasetGroupArn'])\n",
        "print('Status: ' + description['status'])"
      ],
      "execution_count": 0,
      "outputs": [
        {
          "output_type": "stream",
          "text": [
            "Name: BooksDatasetGroup\n",
            "ARN: arn:aws:personalize:us-east-1:522036915387:dataset-group/BooksDatasetGroup\n",
            "Status: ACTIVE\n"
          ],
          "name": "stdout"
        }
      ]
    },
    {
      "cell_type": "markdown",
      "metadata": {
        "id": "ztgTYhpFiNLF",
        "colab_type": "text"
      },
      "source": [
        "Create Role in IAM AWS for Personalize to access S3 and copy the ARN that looks like below: **arn:aws:iam::522036915387:role/PersonalizeRole**\n",
        "\n",
        "[Set up role in IAM for Personalize](https://docs.aws.amazon.com/personalize/latest/dg/aws-personalize-set-up-permissions.html#set-up-create-role-with-permissions)"
      ]
    },
    {
      "cell_type": "markdown",
      "metadata": {
        "id": "JXPHWgLcHwAR",
        "colab_type": "text"
      },
      "source": [
        "We create and import 3 datasets\n",
        "\n",
        "* Users\n",
        "* Books(Items)\n",
        "* Interactions(Users-Books)"
      ]
    },
    {
      "cell_type": "markdown",
      "metadata": {
        "id": "uYDEGBSye2yp",
        "colab_type": "text"
      },
      "source": [
        "Import Interactions Dataset"
      ]
    },
    {
      "cell_type": "code",
      "metadata": {
        "id": "WvEl0dBgzqyn",
        "colab_type": "code",
        "outputId": "e8714c36-f51a-4d77-f37f-5663d7b22555",
        "colab": {
          "base_uri": "https://localhost:8080/",
          "height": 54
        }
      },
      "source": [
        "# Create Dataset Interactions\n",
        "import boto3\n",
        "\n",
        "personalize = boto3.client('personalize', region_name='us-east-1')\n",
        "\n",
        "response = personalize.create_dataset(\n",
        "    name = 'Interactions',\n",
        "    schemaArn = 'arn:aws:personalize:us-east-1:522036915387:schema/interactionSchema',\n",
        "    datasetGroupArn = 'arn:aws:personalize:us-east-1:522036915387:dataset-group/BooksDatasetGroup',\n",
        "    datasetType = 'Interactions')\n",
        "\n",
        "print ('Dataset Arn: ' + response['datasetArn'])"
      ],
      "execution_count": 0,
      "outputs": [
        {
          "output_type": "stream",
          "text": [
            "Dataset Arn: arn:aws:personalize:us-east-1:522036915387:dataset/BooksDatasetGroup/INTERACTIONS\n"
          ],
          "name": "stdout"
        }
      ]
    },
    {
      "cell_type": "code",
      "metadata": {
        "id": "12IjJoqGgmWR",
        "colab_type": "code",
        "outputId": "143a893d-b0f5-4eab-fa7b-711cd2d702c0",
        "colab": {
          "base_uri": "https://localhost:8080/",
          "height": 104
        }
      },
      "source": [
        "# Import Dataset Interactions\n",
        "import boto3\n",
        "\n",
        "personalize = boto3.client('personalize', region_name='us-east-1')\n",
        "\n",
        "response = personalize.create_dataset_import_job(\n",
        "    jobName = 'ImportInteractions1',\n",
        "    datasetArn = 'arn:aws:personalize:us-east-1:522036915387:dataset/BooksDatasetGroup/INTERACTIONS',\n",
        "    dataSource = {'dataLocation':'s3://suryastorage17/interactions.csv'},\n",
        "    roleArn = 'arn:aws:iam::522036915387:role/PersonalizeRole')\n",
        "\n",
        "dsij_arn = response['datasetImportJobArn']\n",
        "\n",
        "print ('Dataset Import Job arn: ' + dsij_arn)\n",
        "\n",
        "description = personalize.describe_dataset_import_job(\n",
        "    datasetImportJobArn = dsij_arn)['datasetImportJob']\n",
        "\n",
        "print('Name: ' + description['jobName'])\n",
        "print('ARN: ' + description['datasetImportJobArn'])\n",
        "print('Status: ' + description['status'])"
      ],
      "execution_count": 0,
      "outputs": [
        {
          "output_type": "stream",
          "text": [
            "Dataset Import Job arn: arn:aws:personalize:us-east-1:522036915387:dataset-import-job/ImportInteractions1\n",
            "Name: ImportInteractions1\n",
            "ARN: arn:aws:personalize:us-east-1:522036915387:dataset-import-job/ImportInteractions1\n",
            "Status: CREATE PENDING\n"
          ],
          "name": "stdout"
        }
      ]
    },
    {
      "cell_type": "code",
      "metadata": {
        "id": "GA1w07R8mbGQ",
        "colab_type": "code",
        "outputId": "312827ef-247e-4a86-b58e-d61e4c5af01a",
        "colab": {
          "base_uri": "https://localhost:8080/",
          "height": 67
        }
      },
      "source": [
        "description = personalize.describe_dataset_import_job(\n",
        "    datasetImportJobArn = dsij_arn)['datasetImportJob']\n",
        "\n",
        "print('Name: ' + description['jobName'])\n",
        "print('ARN: ' + description['datasetImportJobArn'])\n",
        "print('Status: ' + description['status'])"
      ],
      "execution_count": 0,
      "outputs": [
        {
          "output_type": "stream",
          "text": [
            "Name: ImportInteractions1\n",
            "ARN: arn:aws:personalize:us-east-1:522036915387:dataset-import-job/ImportInteractions1\n",
            "Status: ACTIVE\n"
          ],
          "name": "stdout"
        }
      ]
    },
    {
      "cell_type": "markdown",
      "metadata": {
        "id": "7ggIe2C1e66U",
        "colab_type": "text"
      },
      "source": [
        "Import Users Dataset"
      ]
    },
    {
      "cell_type": "code",
      "metadata": {
        "id": "Sm9uHDE5fF2P",
        "colab_type": "code",
        "outputId": "955c40bd-5db7-4445-bdbb-528dc5726ab9",
        "colab": {
          "base_uri": "https://localhost:8080/",
          "height": 54
        }
      },
      "source": [
        "# Create Dataset Users\n",
        "import boto3\n",
        "\n",
        "personalize = boto3.client('personalize', region_name='us-east-1')\n",
        "\n",
        "response = personalize.create_dataset(\n",
        "    name = 'Users',\n",
        "    schemaArn = 'arn:aws:personalize:us-east-1:522036915387:schema/userSchema',\n",
        "    datasetGroupArn = 'arn:aws:personalize:us-east-1:522036915387:dataset-group/BooksDatasetGroup',\n",
        "    datasetType = 'Users')\n",
        "\n",
        "print ('Dataset Arn: ' + response['datasetArn'])"
      ],
      "execution_count": 0,
      "outputs": [
        {
          "output_type": "stream",
          "text": [
            "Dataset Arn: arn:aws:personalize:us-east-1:522036915387:dataset/BooksDatasetGroup/USERS\n"
          ],
          "name": "stdout"
        }
      ]
    },
    {
      "cell_type": "code",
      "metadata": {
        "id": "XkOYDvRCsTTY",
        "colab_type": "code",
        "outputId": "7f8fe513-1bab-4905-80e0-ab3ab497289c",
        "colab": {
          "base_uri": "https://localhost:8080/",
          "height": 104
        }
      },
      "source": [
        "# Import Dataset Users\n",
        "import boto3\n",
        "\n",
        "personalize = boto3.client('personalize', region_name='us-east-1')\n",
        "\n",
        "response = personalize.create_dataset_import_job(\n",
        "    jobName = 'ImportUsers',\n",
        "    datasetArn = 'arn:aws:personalize:us-east-1:522036915387:dataset/BooksDatasetGroup/USERS',\n",
        "    dataSource = {'dataLocation':'s3://suryastorage17/users.csv'},\n",
        "    roleArn = 'arn:aws:iam::522036915387:role/PersonalizeRole')\n",
        "\n",
        "dsij_arn = response['datasetImportJobArn']\n",
        "\n",
        "print ('Dataset Import Job arn: ' + dsij_arn)\n",
        "\n",
        "description = personalize.describe_dataset_import_job(\n",
        "    datasetImportJobArn = dsij_arn)['datasetImportJob']\n",
        "\n",
        "print('Name: ' + description['jobName'])\n",
        "print('ARN: ' + description['datasetImportJobArn'])\n",
        "print('Status: ' + description['status'])"
      ],
      "execution_count": 0,
      "outputs": [
        {
          "output_type": "stream",
          "text": [
            "Dataset Import Job arn: arn:aws:personalize:us-east-1:522036915387:dataset-import-job/ImportUsers\n",
            "Name: ImportUsers\n",
            "ARN: arn:aws:personalize:us-east-1:522036915387:dataset-import-job/ImportUsers\n",
            "Status: CREATE PENDING\n"
          ],
          "name": "stdout"
        }
      ]
    },
    {
      "cell_type": "code",
      "metadata": {
        "id": "iNn3l7b7seP4",
        "colab_type": "code",
        "outputId": "1673c10c-76cc-48f5-c31a-07fdc00925c3",
        "colab": {
          "base_uri": "https://localhost:8080/",
          "height": 67
        }
      },
      "source": [
        "description = personalize.describe_dataset_import_job(\n",
        "    datasetImportJobArn = dsij_arn)['datasetImportJob']\n",
        "\n",
        "print('Name: ' + description['jobName'])\n",
        "print('ARN: ' + description['datasetImportJobArn'])\n",
        "print('Status: ' + description['status'])"
      ],
      "execution_count": 0,
      "outputs": [
        {
          "output_type": "stream",
          "text": [
            "Name: ImportUsers\n",
            "ARN: arn:aws:personalize:us-east-1:522036915387:dataset-import-job/ImportUsers\n",
            "Status: ACTIVE\n"
          ],
          "name": "stdout"
        }
      ]
    },
    {
      "cell_type": "markdown",
      "metadata": {
        "id": "KSD0EQv2fOA5",
        "colab_type": "text"
      },
      "source": [
        "Import Books(Items) Dataset"
      ]
    },
    {
      "cell_type": "code",
      "metadata": {
        "id": "9fqIdLi-fQDJ",
        "colab_type": "code",
        "outputId": "1e602299-e0f3-46c5-c7a0-0dec7852db41",
        "colab": {
          "base_uri": "https://localhost:8080/",
          "height": 54
        }
      },
      "source": [
        "# Create Dataset Books(Items)\n",
        "import boto3\n",
        "\n",
        "personalize = boto3.client('personalize', region_name='us-east-1')\n",
        "\n",
        "response = personalize.create_dataset(\n",
        "    name = 'Items',\n",
        "    schemaArn = 'arn:aws:personalize:us-east-1:522036915387:schema/bookSchema',\n",
        "    datasetGroupArn = 'arn:aws:personalize:us-east-1:522036915387:dataset-group/BooksDatasetGroup',\n",
        "    datasetType = 'Items')\n",
        "\n",
        "print ('Dataset Arn: ' + response['datasetArn'])"
      ],
      "execution_count": 0,
      "outputs": [
        {
          "output_type": "stream",
          "text": [
            "Dataset Arn: arn:aws:personalize:us-east-1:522036915387:dataset/BooksDatasetGroup/ITEMS\n"
          ],
          "name": "stdout"
        }
      ]
    },
    {
      "cell_type": "code",
      "metadata": {
        "id": "hImx_E-1fv9r",
        "colab_type": "code",
        "outputId": "0558eb3c-1bdd-4a7a-e1e6-908a4e886ac4",
        "colab": {
          "base_uri": "https://localhost:8080/",
          "height": 104
        }
      },
      "source": [
        "# Import Dataset Books(Items)\n",
        "import boto3\n",
        "\n",
        "personalize = boto3.client('personalize', region_name='us-east-1')\n",
        "\n",
        "response = personalize.create_dataset_import_job(\n",
        "    jobName = 'ImportItems',\n",
        "    datasetArn = 'arn:aws:personalize:us-east-1:522036915387:dataset/BooksDatasetGroup/ITEMS',\n",
        "    dataSource = {'dataLocation':'s3://suryastorage17/books.csv'},\n",
        "    roleArn = 'arn:aws:iam::522036915387:role/PersonalizeRole')\n",
        "\n",
        "dsij_arn = response['datasetImportJobArn']\n",
        "\n",
        "print ('Dataset Import Job arn: ' + dsij_arn)\n",
        "\n",
        "description = personalize.describe_dataset_import_job(\n",
        "    datasetImportJobArn = dsij_arn)['datasetImportJob']\n",
        "\n",
        "print('Name: ' + description['jobName'])\n",
        "print('ARN: ' + description['datasetImportJobArn'])\n",
        "print('Status: ' + description['status'])"
      ],
      "execution_count": 0,
      "outputs": [
        {
          "output_type": "stream",
          "text": [
            "Dataset Import Job arn: arn:aws:personalize:us-east-1:522036915387:dataset-import-job/ImportItems\n",
            "Name: ImportItems\n",
            "ARN: arn:aws:personalize:us-east-1:522036915387:dataset-import-job/ImportItems\n",
            "Status: CREATE PENDING\n"
          ],
          "name": "stdout"
        }
      ]
    },
    {
      "cell_type": "code",
      "metadata": {
        "id": "yHULp2_gaDdY",
        "colab_type": "code",
        "outputId": "61b19677-a618-4a27-c316-82bd9aa25a82",
        "colab": {
          "base_uri": "https://localhost:8080/",
          "height": 67
        }
      },
      "source": [
        "description = personalize.describe_dataset_import_job(\n",
        "    datasetImportJobArn = dsij_arn)['datasetImportJob']\n",
        "\n",
        "print('Name: ' + description['jobName'])\n",
        "print('ARN: ' + description['datasetImportJobArn'])\n",
        "print('Status: ' + description['status'])"
      ],
      "execution_count": 0,
      "outputs": [
        {
          "output_type": "stream",
          "text": [
            "Name: ImportItems\n",
            "ARN: arn:aws:personalize:us-east-1:522036915387:dataset-import-job/ImportItems\n",
            "Status: CREATE IN_PROGRESS\n"
          ],
          "name": "stdout"
        }
      ]
    },
    {
      "cell_type": "markdown",
      "metadata": {
        "id": "AyI9mcgofTGR",
        "colab_type": "text"
      },
      "source": [
        "### Creating a Solution in Personalize using AutoML"
      ]
    },
    {
      "cell_type": "markdown",
      "metadata": {
        "id": "EgTzB69_9ovM",
        "colab_type": "text"
      },
      "source": [
        "Steps to create Solution\n",
        "\n",
        "*   Create solution to describe the type of ML model to use(AutoML, manual, recipes, etc.)\n",
        "*   Creating a solution version starts the training process on the datasetgroup (It takes a few hours depending on the size of the data provided)\n",
        "\n"
      ]
    },
    {
      "cell_type": "code",
      "metadata": {
        "id": "dYZ8O0XJaIg1",
        "colab_type": "code",
        "outputId": "94f8f9c0-baba-4028-f802-9aab278a6874",
        "colab": {
          "base_uri": "https://localhost:8080/",
          "height": 50
        }
      },
      "source": [
        "import boto3\n",
        "\n",
        "personalize = boto3.client('personalize', region_name='us-east-1')\n",
        "\n",
        "print ('Creating solution')\n",
        "response = personalize.create_solution(\n",
        "    name = \"BookSolution\",\n",
        "    datasetGroupArn = \"arn:aws:personalize:us-east-1:522036915387:dataset-group/BooksDatasetGroup\",\n",
        "    performAutoML = True)\n",
        "\n",
        "# Get the solution ARN.\n",
        "solution_arn = response['solutionArn']\n",
        "print('Solution ARN: ' + solution_arn)"
      ],
      "execution_count": 0,
      "outputs": [
        {
          "output_type": "stream",
          "text": [
            "Creating solution\n",
            "Solution ARN: arn:aws:personalize:us-east-1:522036915387:solution/BookSolution\n"
          ],
          "name": "stdout"
        }
      ]
    },
    {
      "cell_type": "code",
      "metadata": {
        "id": "ZmdLzxq9HWcd",
        "colab_type": "code",
        "outputId": "a7b1f1cf-44ea-4328-aeca-d1ad5414dc25",
        "colab": {
          "base_uri": "https://localhost:8080/",
          "height": 34
        }
      },
      "source": [
        "import boto3\n",
        "\n",
        "personalize = boto3.client('personalize', region_name='us-east-1')\n",
        "\n",
        "# Use the solution ARN to get the solution status.\n",
        "solution_description = personalize.describe_solution(solutionArn = solution_arn)['solution']\n",
        "print('Solution status: ' + solution_description['status'])"
      ],
      "execution_count": 0,
      "outputs": [
        {
          "output_type": "stream",
          "text": [
            "Solution status: ACTIVE\n"
          ],
          "name": "stdout"
        }
      ]
    },
    {
      "cell_type": "code",
      "metadata": {
        "id": "PR0k-HXYHZ9a",
        "colab_type": "code",
        "outputId": "8f74cf03-6fa8-4b22-fa49-0d67091af2a3",
        "colab": {
          "base_uri": "https://localhost:8080/",
          "height": 70
        }
      },
      "source": [
        "# Use the solution ARN to create a solution version.\n",
        "import boto3\n",
        "\n",
        "personalize = boto3.client('personalize', region_name='us-east-1')\n",
        "\n",
        "print ('Creating solution version')\n",
        "response = personalize.create_solution_version(solutionArn = solution_arn)\n",
        "solution_version_arn = response['solutionVersionArn']\n",
        "print('Solution version ARN: ' + solution_version_arn)"
      ],
      "execution_count": 0,
      "outputs": [
        {
          "output_type": "stream",
          "text": [
            "Creating solution version\n",
            "Solution version ARN: arn:aws:personalize:us-east-1:522036915387:solution/BookSolution/3562fcfe\n"
          ],
          "name": "stdout"
        }
      ]
    },
    {
      "cell_type": "code",
      "metadata": {
        "id": "ez1Cj9O34Zpo",
        "colab_type": "code",
        "colab": {}
      },
      "source": [
        "solution_version_arn = 'arn:aws:personalize:us-east-1:522036915387:solution/BookSolution/3562fcfe'"
      ],
      "execution_count": 0,
      "outputs": []
    },
    {
      "cell_type": "code",
      "metadata": {
        "id": "Pc6uwvxrHazX",
        "colab_type": "code",
        "outputId": "e872fcfb-16d8-432d-bee1-e8253428a80a",
        "colab": {
          "base_uri": "https://localhost:8080/",
          "height": 34
        }
      },
      "source": [
        "# Use the solution version ARN to get the solution version status.\n",
        "# It takes a few hours to train the model\n",
        "import boto3\n",
        "\n",
        "personalize = boto3.client('personalize', region_name='us-east-1')\n",
        "\n",
        "solution_version_description = personalize.describe_solution_version(\n",
        "    solutionVersionArn = solution_version_arn)['solutionVersion']\n",
        "print('Solution version status: ' + solution_version_description['status'])"
      ],
      "execution_count": 0,
      "outputs": [
        {
          "output_type": "stream",
          "text": [
            "Solution version status: ACTIVE\n"
          ],
          "name": "stdout"
        }
      ]
    },
    {
      "cell_type": "markdown",
      "metadata": {
        "id": "neRgKYplCBxD",
        "colab_type": "text"
      },
      "source": [
        "Metrics of Model"
      ]
    },
    {
      "cell_type": "code",
      "metadata": {
        "id": "9U8A51OLIpwQ",
        "colab_type": "code",
        "outputId": "56c017d7-3d00-4af8-e40d-c53a19ee1426",
        "colab": {
          "base_uri": "https://localhost:8080/",
          "height": 54
        }
      },
      "source": [
        "import boto3\n",
        "\n",
        "personalize = boto3.client('personalize', region_name='us-east-1')\n",
        "\n",
        "response = personalize.get_solution_metrics(\n",
        "    solutionVersionArn = solution_version_arn)\n",
        "\n",
        "print(response['metrics'])"
      ],
      "execution_count": 0,
      "outputs": [
        {
          "output_type": "stream",
          "text": [
            "{'coverage': 0.0105, 'mean_reciprocal_rank_at_25': 0.0169, 'normalized_discounted_cumulative_gain_at_10': 0.0213, 'normalized_discounted_cumulative_gain_at_25': 0.0256, 'normalized_discounted_cumulative_gain_at_5': 0.0183, 'precision_at_10': 0.0034, 'precision_at_25': 0.0021, 'precision_at_5': 0.0048}\n"
          ],
          "name": "stdout"
        }
      ]
    },
    {
      "cell_type": "markdown",
      "metadata": {
        "id": "HCYAWpSfEiLJ",
        "colab_type": "text"
      },
      "source": [
        "### Create a Campaign (Deploying a Solution Version)"
      ]
    },
    {
      "cell_type": "code",
      "metadata": {
        "id": "fDQYmgDZCEJ-",
        "colab_type": "code",
        "outputId": "9230784b-721b-4693-bec0-65e5d2502da2",
        "colab": {
          "base_uri": "https://localhost:8080/",
          "height": 67
        }
      },
      "source": [
        "import boto3\n",
        "\n",
        "personalize = boto3.client('personalize', region_name='us-east-1')\n",
        "\n",
        "response = personalize.create_campaign(\n",
        "    name = 'BookCampaign',\n",
        "    solutionVersionArn = solution_version_arn,\n",
        "    minProvisionedTPS = 10)"
      ],
      "execution_count": 0,
      "outputs": [
        {
          "output_type": "stream",
          "text": [
            "Name: BookCampaign\n",
            "ARN: arn:aws:personalize:us-east-1:522036915387:campaign/BookCampaign\n",
            "Status: CREATE PENDING\n"
          ],
          "name": "stdout"
        }
      ]
    },
    {
      "cell_type": "code",
      "metadata": {
        "id": "0UPZ7L-dExvQ",
        "colab_type": "code",
        "outputId": "41132d9b-9c4d-4304-d665-75c56e897771",
        "colab": {
          "base_uri": "https://localhost:8080/",
          "height": 67
        }
      },
      "source": [
        "arn = response['campaignArn']\n",
        "\n",
        "description = personalize.describe_campaign(campaignArn = arn)['campaign']\n",
        "print('Name: ' + description['name'])\n",
        "print('ARN: ' + description['campaignArn'])\n",
        "print('Status: ' + description['status'])"
      ],
      "execution_count": 0,
      "outputs": [
        {
          "output_type": "stream",
          "text": [
            "Name: BookCampaign\n",
            "ARN: arn:aws:personalize:us-east-1:522036915387:campaign/BookCampaign\n",
            "Status: ACTIVE\n"
          ],
          "name": "stdout"
        }
      ]
    },
    {
      "cell_type": "markdown",
      "metadata": {
        "id": "ZRWroJSNHXzQ",
        "colab_type": "text"
      },
      "source": [
        "### Get book recommendations for a user"
      ]
    },
    {
      "cell_type": "code",
      "metadata": {
        "id": "Qauua1y2E6Yt",
        "colab_type": "code",
        "outputId": "56917e59-f44f-4a4c-f796-1804174ae016",
        "colab": {
          "base_uri": "https://localhost:8080/",
          "height": 470
        }
      },
      "source": [
        "import boto3\n",
        "\n",
        "personalizeRt = boto3.client('personalize-runtime', region_name='us-east-1')\n",
        "\n",
        "response = personalizeRt.get_recommendations(\n",
        "    campaignArn = 'arn:aws:personalize:us-east-1:522036915387:campaign/BookCampaign',\n",
        "    userId = '5')\n",
        "\n",
        "print(\"Recommended Books\")\n",
        "print(\"ISBN\")\n",
        "for book in response['itemList']:\n",
        "    print (book['itemId'])"
      ],
      "execution_count": 0,
      "outputs": [
        {
          "output_type": "stream",
          "text": [
            "Recommended Books\n",
            "ISBN\n",
            "0971880107\n",
            "0312195516\n",
            "0060928336\n",
            "0060930535\n",
            "067976402X\n",
            "0060502258\n",
            "0060959037\n",
            "0804106304\n",
            "0684872153\n",
            "0316666343\n",
            "0679781587\n",
            "0452282152\n",
            "0060011912\n",
            "006101351X\n",
            "0786868716\n",
            "0743237188\n",
            "0805063897\n",
            "0671510053\n",
            "0060934417\n",
            "0316601950\n",
            "0804114986\n",
            "1551660717\n",
            "0060392452\n",
            "0312278586\n",
            "0062502182\n"
          ],
          "name": "stdout"
        }
      ]
    }
  ]
}