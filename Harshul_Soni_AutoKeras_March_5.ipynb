{
 "cells": [
  {
   "cell_type": "markdown",
   "metadata": {
    "colab_type": "text",
    "id": "JdYhBJehyvX_"
   },
   "source": [
    "# **Neural Architecture Search with AutoKeras**\n",
    "**CSCE 670 - Harshul Soni**\n",
    "\n",
    "The purpose of this Spotlight is to indroduce AutoKeras, a framework developed by Data lab at Texas A&M University. It is an open source alternative to Google's AutoML.\n",
    "In 2017, Google released a framework 'AutoML' to automatically detect the best neural architectures for a given dataset. The service is being offered at a rate of $20/hr. \n",
    "\n",
    "## What is Neural Architecture Search (NAS)\n",
    "\n",
    "When training a neural network on a dataset there are two primary objectives a deep learning practitioner is trying to optimize and balance:\n",
    "\n",
    "* Establishing a Neural Architecture that works for the given dataset.\n",
    "* Tuning the hyperparameters in such a way so as to produce a model with acceptable predictions and having generalizing capability for data outside the training datasets. Typical hyperparameters that need to be tuned include:\n",
    "    * the optimizer algorithm (SGD, Adam, etc.)\n",
    "    * learning rate and learning rate scheduling\n",
    "    * regularization\n",
    "    \n",
    "A machine learning expert can take about hundreds of trails to find a good neural architecture with satisfying hyperparametrs. These trails can add up to hundreds to thousands of hours in GPU compute time.\n",
    "\n",
    "NAS finds the best architecture from all possible architectures by following a search strategy that will maximize the performance.\n",
    "<a href=\"https://ibb.co/X2CkkmB\"><img src=\"https://i.ibb.co/Gx533gw/download.png\" alt=\"download\" border=\"0\"></a>\n",
    "\n",
    "In the context of Deep Learning, a Neural Architecture Search algorithm will:\n",
    "\n",
    "* Accept an input training dataset\n",
    "* Optimize and find architectural building blocks called “cells” — these cells are automatically learned\n",
    "* Continually train and search the “NAS search space” for more optimized cells\n",
    "\n",
    "The goal of Auto-ML and AutoKeras is to enable newcomers in data science wth minimal domain-knowledge to become friendly with deep neural model with Automated Machine learning. This is done through the help of Neural Architecture Search.\n",
    "\n",
    "## What is automated machine learning? \n",
    "\n",
    "According to www.automl.org, automated machine learning can be defined as a way of automating the tasks of: (https://www.automl.org/automl/):\n",
    "* Preprocess and clean the data.\n",
    "* Select and construct appropriate features.\n",
    "* Select an appropriate model family.\n",
    "* Optimize model hyperparameters.\n",
    "* Postprocess machine learning models.\n",
    "* Critically analyze the results obtained.\n",
    "\n",
    "Enter AutoKeras. The Data Lab led by Dr. Xia Ben Hu at Texas A&M University developed an open source framework built with Keras to bring NAS to any Novice python user. This tool provides techinques used by large scale companies and is available as an open source library on github. Hence, this tool can be used by beginner data scientists to achieve results comparable to large competitors like Google, Microsoft, etc. \n",
    "\n",
    "\n",
    "\n"
   ]
  },
  {
   "cell_type": "markdown",
   "metadata": {},
   "source": [
    "# Installation Required"
   ]
  },
  {
   "cell_type": "code",
   "execution_count": null,
   "metadata": {},
   "outputs": [],
   "source": [
    "!pip install autokeras\n",
    "!pip install tensorflow==2.1.0\n",
    "!pip install keras==2.3.1"
   ]
  },
  {
   "cell_type": "markdown",
   "metadata": {},
   "source": [
    "# Imports"
   ]
  },
  {
   "cell_type": "code",
   "execution_count": 0,
   "metadata": {
    "colab": {
     "base_uri": "https://localhost:8080/",
     "height": 36
    },
    "colab_type": "code",
    "id": "-culwphkywen",
    "outputId": "c0ff5ab0-8e26-4d52-b555-c82a60e516d9"
   },
   "outputs": [
    {
     "name": "stderr",
     "output_type": "stream",
     "text": [
      "Using TensorFlow backend.\n"
     ]
    }
   ],
   "source": [
    "#from __future__ import print_function\n",
    "from sklearn.metrics import classification_report\n",
    "from keras.utils.np_utils import to_categorical   \n",
    "from autokeras import ImageClassifier\n",
    "\n",
    "import keras\n",
    "from keras.datasets import mnist\n",
    "from keras.models import Sequential\n",
    "from keras.layers import Dense, Dropout, Flatten\n",
    "from keras.layers import Conv2D, MaxPooling2D\n",
    "from tensorflow.keras import backend as K\n",
    "from tensorflow.keras.utils import plot_model\n",
    "\n",
    "import numpy as np\n",
    "from tensorflow.keras.datasets import imdb\n",
    "import autokeras as ak"
   ]
  },
  {
   "cell_type": "markdown",
   "metadata": {
    "colab_type": "text",
    "id": "M13otEpFyvYB"
   },
   "source": [
    "# MNIST with Keras\n",
    "\n",
    "For showing the difference between the coding required for a simple image classification task, we'll first explore Keras and then compare the approach with AutoKeras. Here, the task selected is classifying hand written digits in MNIST dataset."
   ]
  },
  {
   "cell_type": "code",
   "execution_count": 0,
   "metadata": {
    "colab": {
     "base_uri": "https://localhost:8080/",
     "height": 226
    },
    "colab_type": "code",
    "id": "812Qan_wyvYC",
    "outputId": "e1fdf39f-bee3-4807-8e32-4045c100cd73"
   },
   "outputs": [
    {
     "name": "stdout",
     "output_type": "stream",
     "text": [
      "Downloading data from https://s3.amazonaws.com/img-datasets/mnist.npz\n",
      "11493376/11490434 [==============================] - 1s 0us/step\n",
      "x_train shape: (60000, 28, 28, 1)\n",
      "train samples: 60000\n",
      "test samples: 10000\n",
      "Train on 60000 samples, validate on 10000 samples\n",
      "Epoch 1/1\n",
      "60000/60000 [==============================] - 9s 145us/step - loss: 0.3639 - accuracy: 0.8868 - val_loss: 0.0706 - val_accuracy: 0.9780\n",
      "10000/10000 [==============================] - 1s 75us/step\n",
      "Test loss: 0.07062808377761394\n",
      "Test accuracy: 0.9779999852180481\n"
     ]
    }
   ],
   "source": [
    "batch_size = 256\n",
    "num_classes = 10\n",
    "epochs = 1\n",
    "\n",
    "# input image dimensions\n",
    "img_rows, img_cols = 28, 28\n",
    "\n",
    "# get data from dataset\n",
    "(x_train, y_train), (x_test, y_test) = mnist.load_data()\n",
    "\n",
    "x_train = x_train.reshape(x_train.shape[0], x_train.shape[1], x_train.shape[2], 1).astype('float32')/255\n",
    "x_test = x_test.reshape(x_test.shape[0], x_test.shape[1], x_test.shape[2], 1).astype('float32')/255\n",
    "input_shape = (img_rows, img_cols, 1)\n",
    "\n",
    "print('x_train shape:', x_train.shape)\n",
    "print('train samples:', x_train.shape[0])\n",
    "print('test samples:', x_test.shape[0])\n",
    "\n",
    "y_train = keras.utils.to_categorical(y_train, num_classes)\n",
    "y_test = keras.utils.to_categorical(y_test, num_classes)\n",
    "\n",
    "model = Sequential()\n",
    "model.add(Conv2D(32, kernel_size=(3, 3),\n",
    "                 activation='relu',\n",
    "                 input_shape=input_shape))\n",
    "model.add(Conv2D(64, (3, 3), activation='relu'))\n",
    "model.add(MaxPooling2D(pool_size=(2, 2)))\n",
    "model.add(Dropout(0.25))\n",
    "model.add(Flatten())\n",
    "model.add(Dense(128, activation='relu'))\n",
    "model.add(Dropout(0.5))\n",
    "model.add(Dense(num_classes, activation='softmax'))\n",
    "\n",
    "model.compile(loss=keras.losses.categorical_crossentropy,\n",
    "              optimizer=keras.optimizers.Adadelta(),\n",
    "              metrics=['accuracy'])\n",
    "\n",
    "model.fit(x_train, y_train,\n",
    "          batch_size=batch_size,\n",
    "          epochs=epochs,\n",
    "          verbose=1,\n",
    "          validation_data=(x_test, y_test))\n",
    "\n",
    "score = model.evaluate(x_test, y_test)\n",
    "y = model.predict_classes(x_test)\n",
    "y = to_categorical(y, num_classes=10)\n",
    "reportKeras = classification_report(y, y_test)\n",
    "print('Test loss:', score[0])\n",
    "print('Test accuracy:', score[1])\n",
    "\n"
   ]
  },
  {
   "cell_type": "markdown",
   "metadata": {
    "colab_type": "text",
    "id": "v356Svn2yvYH"
   },
   "source": [
    "As we can see, Keras needs the user to have domain knowledge to construct the model. We get an average accuracy of 99.2 percent. Since is it not possible for beginners in machine learning to have such a domain knowledge, next we'll look how autokeras can be used to solve this issue."
   ]
  },
  {
   "cell_type": "code",
   "execution_count": 0,
   "metadata": {
    "colab": {
     "base_uri": "https://localhost:8080/",
     "height": 856
    },
    "colab_type": "code",
    "id": "8bLvXX4eYcOP",
    "outputId": "a026bce5-ce78-483c-c8ad-a4fab792b52e"
   },
   "outputs": [
    {
     "data": {
      "image/png": "[encoded data removed]",
      "text/plain": [
       "<IPython.core.display.Image object>"
      ]
     },
     "execution_count": 4,
     "metadata": {
      "tags": []
     },
     "output_type": "execute_result"
    }
   ],
   "source": [
    "keras.utils.plot_model(model, 'Keras Model.png')"
   ]
  },
  {
   "cell_type": "markdown",
   "metadata": {
    "colab_type": "text",
    "id": "r66hlRGoyvYI"
   },
   "source": [
    "# MNIST with AutoKeras: Image Classification/Regression"
   ]
  },
  {
   "cell_type": "code",
   "execution_count": 0,
   "metadata": {
    "colab": {
     "base_uri": "https://localhost:8080/",
     "height": 1000
    },
    "colab_type": "code",
    "id": "5AikUXozyvYJ",
    "outputId": "3e568fc0-f771-4658-d48c-9be3b8ba2461"
   },
   "outputs": [
    {
     "name": "stdout",
     "output_type": "stream",
     "text": [
      "Train for 1500 steps, validate for 375 steps\n",
      "Epoch 1/10\n",
      "1500/1500 [==============================] - 8s 5ms/step - loss: 0.1735 - accuracy: 0.9465 - val_loss: 0.0620 - val_accuracy: 0.9827\n",
      "Epoch 2/10\n",
      "1500/1500 [==============================] - 7s 5ms/step - loss: 0.0768 - accuracy: 0.9756 - val_loss: 0.0514 - val_accuracy: 0.9846\n",
      "Epoch 3/10\n",
      "1500/1500 [==============================] - 7s 5ms/step - loss: 0.0620 - accuracy: 0.9809 - val_loss: 0.0435 - val_accuracy: 0.9874\n",
      "Epoch 4/10\n",
      "1500/1500 [==============================] - 7s 5ms/step - loss: 0.0529 - accuracy: 0.9828 - val_loss: 0.0433 - val_accuracy: 0.9878\n",
      "Epoch 5/10\n",
      "1500/1500 [==============================] - 7s 5ms/step - loss: 0.0501 - accuracy: 0.9836 - val_loss: 0.0432 - val_accuracy: 0.9876\n",
      "Epoch 6/10\n",
      "1500/1500 [==============================] - 7s 5ms/step - loss: 0.0435 - accuracy: 0.9854 - val_loss: 0.0422 - val_accuracy: 0.9881\n",
      "Epoch 7/10\n",
      "1500/1500 [==============================] - 7s 5ms/step - loss: 0.0395 - accuracy: 0.9864 - val_loss: 0.0416 - val_accuracy: 0.9883\n",
      "Epoch 8/10\n",
      "1500/1500 [==============================] - 7s 5ms/step - loss: 0.0361 - accuracy: 0.9882 - val_loss: 0.0436 - val_accuracy: 0.9879\n",
      "Epoch 9/10\n",
      "1500/1500 [==============================] - 7s 5ms/step - loss: 0.0313 - accuracy: 0.9891 - val_loss: 0.0416 - val_accuracy: 0.9890\n",
      "Epoch 10/10\n",
      "1500/1500 [==============================] - 8s 5ms/step - loss: 0.0306 - accuracy: 0.9901 - val_loss: 0.0366 - val_accuracy: 0.9900\n"
     ]
    },
    {
     "data": {
      "text/html": [
       "<span style=\"color:#4527A0\"><h1 style=\"font-size:18px\">Trial complete</h1></span>"
      ],
      "text/plain": [
       "<IPython.core.display.HTML object>"
      ]
     },
     "metadata": {
      "tags": []
     },
     "output_type": "display_data"
    },
    {
     "data": {
      "text/html": [
       "<span style=\"color:#4527A0\"><h1 style=\"font-size:18px\">Trial summary</h1></span>"
      ],
      "text/plain": [
       "<IPython.core.display.HTML object>"
      ]
     },
     "metadata": {
      "tags": []
     },
     "output_type": "display_data"
    },
    {
     "data": {
      "text/html": [
       "<span style=\"color:cyan\"> |-Trial ID: 96d64203621a3c37c33b072b755e88ff</span>"
      ],
      "text/plain": [
       "<IPython.core.display.HTML object>"
      ]
     },
     "metadata": {
      "tags": []
     },
     "output_type": "display_data"
    },
    {
     "data": {
      "text/html": [
       "<span style=\"color:cyan\"> |-Score: 0.036591250109423226</span>"
      ],
      "text/plain": [
       "<IPython.core.display.HTML object>"
      ]
     },
     "metadata": {
      "tags": []
     },
     "output_type": "display_data"
    },
    {
     "data": {
      "text/html": [
       "<span style=\"color:cyan\"> |-Best step: 0</span>"
      ],
      "text/plain": [
       "<IPython.core.display.HTML object>"
      ]
     },
     "metadata": {
      "tags": []
     },
     "output_type": "display_data"
    },
    {
     "data": {
      "text/html": [
       "<span style=\"color:#7E57C2\"><h2 style=\"font-size:16px\">Hyperparameters:</h2></span>"
      ],
      "text/plain": [
       "<IPython.core.display.HTML object>"
      ]
     },
     "metadata": {
      "tags": []
     },
     "output_type": "display_data"
    },
    {
     "data": {
      "text/html": [
       "<span style=\"color:cyan\"> |-classification_head_1/dropout_rate: 0.5</span>"
      ],
      "text/plain": [
       "<IPython.core.display.HTML object>"
      ]
     },
     "metadata": {
      "tags": []
     },
     "output_type": "display_data"
    },
    {
     "data": {
      "text/html": [
       "<span style=\"color:blue\"> |-classification_head_1/spatial_reduction_1/reduction_type: flatten</span>"
      ],
      "text/plain": [
       "<IPython.core.display.HTML object>"
      ]
     },
     "metadata": {
      "tags": []
     },
     "output_type": "display_data"
    },
    {
     "data": {
      "text/html": [
       "<span style=\"color:cyan\"> |-dense_block_1/dropout_rate: 0</span>"
      ],
      "text/plain": [
       "<IPython.core.display.HTML object>"
      ]
     },
     "metadata": {
      "tags": []
     },
     "output_type": "display_data"
    },
    {
     "data": {
      "text/html": [
       "<span style=\"color:blue\"> |-dense_block_1/num_layers: 1</span>"
      ],
      "text/plain": [
       "<IPython.core.display.HTML object>"
      ]
     },
     "metadata": {
      "tags": []
     },
     "output_type": "display_data"
    },
    {
     "data": {
      "text/html": [
       "<span style=\"color:cyan\"> |-dense_block_1/units_0: 128</span>"
      ],
      "text/plain": [
       "<IPython.core.display.HTML object>"
      ]
     },
     "metadata": {
      "tags": []
     },
     "output_type": "display_data"
    },
    {
     "data": {
      "text/html": [
       "<span style=\"color:blue\"> |-dense_block_1/use_batchnorm: False</span>"
      ],
      "text/plain": [
       "<IPython.core.display.HTML object>"
      ]
     },
     "metadata": {
      "tags": []
     },
     "output_type": "display_data"
    },
    {
     "data": {
      "text/html": [
       "<span style=\"color:cyan\"> |-image_block_1/augment: False</span>"
      ],
      "text/plain": [
       "<IPython.core.display.HTML object>"
      ]
     },
     "metadata": {
      "tags": []
     },
     "output_type": "display_data"
    },
    {
     "data": {
      "text/html": [
       "<span style=\"color:blue\"> |-image_block_1/block_type: vanilla</span>"
      ],
      "text/plain": [
       "<IPython.core.display.HTML object>"
      ]
     },
     "metadata": {
      "tags": []
     },
     "output_type": "display_data"
    },
    {
     "data": {
      "text/html": [
       "<span style=\"color:cyan\"> |-image_block_1/conv_block_1/dropout_rate: 0.25</span>"
      ],
      "text/plain": [
       "<IPython.core.display.HTML object>"
      ]
     },
     "metadata": {
      "tags": []
     },
     "output_type": "display_data"
    },
    {
     "data": {
      "text/html": [
       "<span style=\"color:blue\"> |-image_block_1/conv_block_1/filters_0_0: 32</span>"
      ],
      "text/plain": [
       "<IPython.core.display.HTML object>"
      ]
     },
     "metadata": {
      "tags": []
     },
     "output_type": "display_data"
    },
    {
     "data": {
      "text/html": [
       "<span style=\"color:cyan\"> |-image_block_1/conv_block_1/filters_0_1: 64</span>"
      ],
      "text/plain": [
       "<IPython.core.display.HTML object>"
      ]
     },
     "metadata": {
      "tags": []
     },
     "output_type": "display_data"
    },
    {
     "data": {
      "text/html": [
       "<span style=\"color:blue\"> |-image_block_1/conv_block_1/kernel_size: 3</span>"
      ],
      "text/plain": [
       "<IPython.core.display.HTML object>"
      ]
     },
     "metadata": {
      "tags": []
     },
     "output_type": "display_data"
    },
    {
     "data": {
      "text/html": [
       "<span style=\"color:cyan\"> |-image_block_1/conv_block_1/max_pooling: True</span>"
      ],
      "text/plain": [
       "<IPython.core.display.HTML object>"
      ]
     },
     "metadata": {
      "tags": []
     },
     "output_type": "display_data"
    },
    {
     "data": {
      "text/html": [
       "<span style=\"color:blue\"> |-image_block_1/conv_block_1/num_blocks: 1</span>"
      ],
      "text/plain": [
       "<IPython.core.display.HTML object>"
      ]
     },
     "metadata": {
      "tags": []
     },
     "output_type": "display_data"
    },
    {
     "data": {
      "text/html": [
       "<span style=\"color:cyan\"> |-image_block_1/conv_block_1/num_layers: 2</span>"
      ],
      "text/plain": [
       "<IPython.core.display.HTML object>"
      ]
     },
     "metadata": {
      "tags": []
     },
     "output_type": "display_data"
    },
    {
     "data": {
      "text/html": [
       "<span style=\"color:blue\"> |-image_block_1/conv_block_1/separable: False</span>"
      ],
      "text/plain": [
       "<IPython.core.display.HTML object>"
      ]
     },
     "metadata": {
      "tags": []
     },
     "output_type": "display_data"
    },
    {
     "data": {
      "text/html": [
       "<span style=\"color:cyan\"> |-image_block_1/normalize: True</span>"
      ],
      "text/plain": [
       "<IPython.core.display.HTML object>"
      ]
     },
     "metadata": {
      "tags": []
     },
     "output_type": "display_data"
    },
    {
     "data": {
      "text/html": [
       "<span style=\"color:blue\"> |-optimizer: adam</span>"
      ],
      "text/plain": [
       "<IPython.core.display.HTML object>"
      ]
     },
     "metadata": {
      "tags": []
     },
     "output_type": "display_data"
    },
    {
     "name": "stdout",
     "output_type": "stream",
     "text": [
      "Train for 1500 steps, validate for 375 steps\n",
      "Epoch 1/10\n",
      "1500/1500 [==============================] - 64s 43ms/step - loss: 0.2587 - accuracy: 0.9309 - val_loss: 1.1311 - val_accuracy: 0.8743\n",
      "Epoch 2/10\n",
      "1500/1500 [==============================] - 59s 39ms/step - loss: 0.0996 - accuracy: 0.9732 - val_loss: 0.0760 - val_accuracy: 0.9807\n",
      "Epoch 3/10\n",
      "1500/1500 [==============================] - 59s 39ms/step - loss: 0.1312 - accuracy: 0.9685 - val_loss: 0.0706 - val_accuracy: 0.9796\n",
      "Epoch 4/10\n",
      "1500/1500 [==============================] - 59s 39ms/step - loss: 0.0708 - accuracy: 0.9813 - val_loss: 0.0604 - val_accuracy: 0.9831\n",
      "Epoch 5/10\n",
      "1500/1500 [==============================] - 58s 39ms/step - loss: 0.0754 - accuracy: 0.9796 - val_loss: 0.0622 - val_accuracy: 0.9825\n",
      "Epoch 6/10\n",
      "1500/1500 [==============================] - 59s 40ms/step - loss: 0.0494 - accuracy: 0.9866 - val_loss: 0.0585 - val_accuracy: 0.9830\n",
      "Epoch 7/10\n",
      "1500/1500 [==============================] - 58s 39ms/step - loss: 0.0518 - accuracy: 0.9850 - val_loss: 0.0988 - val_accuracy: 0.9783\n",
      "Epoch 8/10\n",
      "1500/1500 [==============================] - 59s 39ms/step - loss: 0.0749 - accuracy: 0.9823 - val_loss: 0.0500 - val_accuracy: 0.9856\n",
      "Epoch 9/10\n",
      "1500/1500 [==============================] - 59s 39ms/step - loss: 0.0364 - accuracy: 0.9892 - val_loss: 0.0454 - val_accuracy: 0.9868\n",
      "Epoch 10/10\n",
      "1500/1500 [==============================] - 59s 39ms/step - loss: 0.0274 - accuracy: 0.9920 - val_loss: 0.0511 - val_accuracy: 0.9868\n"
     ]
    },
    {
     "data": {
      "text/html": [
       "<span style=\"color:#4527A0\"><h1 style=\"font-size:18px\">Trial complete</h1></span>"
      ],
      "text/plain": [
       "<IPython.core.display.HTML object>"
      ]
     },
     "metadata": {
      "tags": []
     },
     "output_type": "display_data"
    },
    {
     "data": {
      "text/html": [
       "<span style=\"color:#4527A0\"><h1 style=\"font-size:18px\">Trial summary</h1></span>"
      ],
      "text/plain": [
       "<IPython.core.display.HTML object>"
      ]
     },
     "metadata": {
      "tags": []
     },
     "output_type": "display_data"
    },
    {
     "data": {
      "text/html": [
       "<span style=\"color:cyan\"> |-Trial ID: abf4acd7db0c748253110c82526e614f</span>"
      ],
      "text/plain": [
       "<IPython.core.display.HTML object>"
      ]
     },
     "metadata": {
      "tags": []
     },
     "output_type": "display_data"
    },
    {
     "data": {
      "text/html": [
       "<span style=\"color:cyan\"> |-Score: 0.04536282642638738</span>"
      ],
      "text/plain": [
       "<IPython.core.display.HTML object>"
      ]
     },
     "metadata": {
      "tags": []
     },
     "output_type": "display_data"
    },
    {
     "data": {
      "text/html": [
       "<span style=\"color:cyan\"> |-Best step: 0</span>"
      ],
      "text/plain": [
       "<IPython.core.display.HTML object>"
      ]
     },
     "metadata": {
      "tags": []
     },
     "output_type": "display_data"
    },
    {
     "data": {
      "text/html": [
       "<span style=\"color:#7E57C2\"><h2 style=\"font-size:16px\">Hyperparameters:</h2></span>"
      ],
      "text/plain": [
       "<IPython.core.display.HTML object>"
      ]
     },
     "metadata": {
      "tags": []
     },
     "output_type": "display_data"
    },
    {
     "data": {
      "text/html": [
       "<span style=\"color:cyan\"> |-classification_head_1/dropout_rate: 0</span>"
      ],
      "text/plain": [
       "<IPython.core.display.HTML object>"
      ]
     },
     "metadata": {
      "tags": []
     },
     "output_type": "display_data"
    },
    {
     "data": {
      "text/html": [
       "<span style=\"color:blue\"> |-dense_block_1/dropout_rate: 0</span>"
      ],
      "text/plain": [
       "<IPython.core.display.HTML object>"
      ]
     },
     "metadata": {
      "tags": []
     },
     "output_type": "display_data"
    },
    {
     "data": {
      "text/html": [
       "<span style=\"color:cyan\"> |-dense_block_1/num_layers: 2</span>"
      ],
      "text/plain": [
       "<IPython.core.display.HTML object>"
      ]
     },
     "metadata": {
      "tags": []
     },
     "output_type": "display_data"
    },
    {
     "data": {
      "text/html": [
       "<span style=\"color:blue\"> |-dense_block_1/units_0: 32</span>"
      ],
      "text/plain": [
       "<IPython.core.display.HTML object>"
      ]
     },
     "metadata": {
      "tags": []
     },
     "output_type": "display_data"
    },
    {
     "data": {
      "text/html": [
       "<span style=\"color:cyan\"> |-dense_block_1/units_1: 32</span>"
      ],
      "text/plain": [
       "<IPython.core.display.HTML object>"
      ]
     },
     "metadata": {
      "tags": []
     },
     "output_type": "display_data"
    },
    {
     "data": {
      "text/html": [
       "<span style=\"color:blue\"> |-dense_block_1/use_batchnorm: False</span>"
      ],
      "text/plain": [
       "<IPython.core.display.HTML object>"
      ]
     },
     "metadata": {
      "tags": []
     },
     "output_type": "display_data"
    },
    {
     "data": {
      "text/html": [
       "<span style=\"color:cyan\"> |-image_block_1/augment: True</span>"
      ],
      "text/plain": [
       "<IPython.core.display.HTML object>"
      ]
     },
     "metadata": {
      "tags": []
     },
     "output_type": "display_data"
    },
    {
     "data": {
      "text/html": [
       "<span style=\"color:blue\"> |-image_block_1/block_type: resnet</span>"
      ],
      "text/plain": [
       "<IPython.core.display.HTML object>"
      ]
     },
     "metadata": {
      "tags": []
     },
     "output_type": "display_data"
    },
    {
     "data": {
      "text/html": [
       "<span style=\"color:cyan\"> |-image_block_1/normalize: True</span>"
      ],
      "text/plain": [
       "<IPython.core.display.HTML object>"
      ]
     },
     "metadata": {
      "tags": []
     },
     "output_type": "display_data"
    },
    {
     "data": {
      "text/html": [
       "<span style=\"color:blue\"> |-image_block_1/res_net_block_1/conv3_depth: 4</span>"
      ],
      "text/plain": [
       "<IPython.core.display.HTML object>"
      ]
     },
     "metadata": {
      "tags": []
     },
     "output_type": "display_data"
    },
    {
     "data": {
      "text/html": [
       "<span style=\"color:cyan\"> |-image_block_1/res_net_block_1/conv4_depth: 6</span>"
      ],
      "text/plain": [
       "<IPython.core.display.HTML object>"
      ]
     },
     "metadata": {
      "tags": []
     },
     "output_type": "display_data"
    },
    {
     "data": {
      "text/html": [
       "<span style=\"color:blue\"> |-image_block_1/res_net_block_1/pooling: avg</span>"
      ],
      "text/plain": [
       "<IPython.core.display.HTML object>"
      ]
     },
     "metadata": {
      "tags": []
     },
     "output_type": "display_data"
    },
    {
     "data": {
      "text/html": [
       "<span style=\"color:cyan\"> |-image_block_1/res_net_block_1/version: v2</span>"
      ],
      "text/plain": [
       "<IPython.core.display.HTML object>"
      ]
     },
     "metadata": {
      "tags": []
     },
     "output_type": "display_data"
    },
    {
     "data": {
      "text/html": [
       "<span style=\"color:blue\"> |-optimizer: adam</span>"
      ],
      "text/plain": [
       "<IPython.core.display.HTML object>"
      ]
     },
     "metadata": {
      "tags": []
     },
     "output_type": "display_data"
    },
    {
     "name": "stdout",
     "output_type": "stream",
     "text": [
      "Train for 1500 steps, validate for 375 steps\n",
      "Epoch 1/10\n",
      "1500/1500 [==============================] - 8s 5ms/step - loss: 0.1777 - accuracy: 0.9455 - val_loss: 0.0747 - val_accuracy: 0.9781\n",
      "Epoch 2/10\n",
      "1500/1500 [==============================] - 8s 5ms/step - loss: 0.0773 - accuracy: 0.9761 - val_loss: 0.0531 - val_accuracy: 0.9841\n",
      "Epoch 3/10\n",
      "1500/1500 [==============================] - 8s 5ms/step - loss: 0.0626 - accuracy: 0.9805 - val_loss: 0.0477 - val_accuracy: 0.9865\n",
      "Epoch 4/10\n",
      "1500/1500 [==============================] - 8s 5ms/step - loss: 0.0531 - accuracy: 0.9832 - val_loss: 0.0457 - val_accuracy: 0.9871\n",
      "Epoch 5/10\n",
      "1500/1500 [==============================] - 8s 5ms/step - loss: 0.0489 - accuracy: 0.9837 - val_loss: 0.0446 - val_accuracy: 0.9883\n",
      "Epoch 6/10\n",
      "1500/1500 [==============================] - 8s 5ms/step - loss: 0.0425 - accuracy: 0.9863 - val_loss: 0.0449 - val_accuracy: 0.9877\n",
      "Epoch 7/10\n",
      "1500/1500 [==============================] - 8s 5ms/step - loss: 0.0402 - accuracy: 0.9863 - val_loss: 0.0433 - val_accuracy: 0.9888\n",
      "Epoch 8/10\n",
      "1500/1500 [==============================] - 8s 6ms/step - loss: 0.0365 - accuracy: 0.9883 - val_loss: 0.0439 - val_accuracy: 0.9878\n",
      "Epoch 9/10\n",
      "1500/1500 [==============================] - 8s 5ms/step - loss: 0.0343 - accuracy: 0.9883 - val_loss: 0.0434 - val_accuracy: 0.9889\n",
      "Epoch 10/10\n",
      "1500/1500 [==============================] - 8s 5ms/step - loss: 0.0329 - accuracy: 0.9894 - val_loss: 0.0450 - val_accuracy: 0.9884\n"
     ]
    },
    {
     "data": {
      "text/html": [
       "<span style=\"color:#4527A0\"><h1 style=\"font-size:18px\">Trial complete</h1></span>"
      ],
      "text/plain": [
       "<IPython.core.display.HTML object>"
      ]
     },
     "metadata": {
      "tags": []
     },
     "output_type": "display_data"
    },
    {
     "data": {
      "text/html": [
       "<span style=\"color:#4527A0\"><h1 style=\"font-size:18px\">Trial summary</h1></span>"
      ],
      "text/plain": [
       "<IPython.core.display.HTML object>"
      ]
     },
     "metadata": {
      "tags": []
     },
     "output_type": "display_data"
    },
    {
     "data": {
      "text/html": [
       "<span style=\"color:cyan\"> |-Trial ID: dedce9966c109704baa136a953dc1f67</span>"
      ],
      "text/plain": [
       "<IPython.core.display.HTML object>"
      ]
     },
     "metadata": {
      "tags": []
     },
     "output_type": "display_data"
    },
    {
     "data": {
      "text/html": [
       "<span style=\"color:cyan\"> |-Score: 0.04333041265311961</span>"
      ],
      "text/plain": [
       "<IPython.core.display.HTML object>"
      ]
     },
     "metadata": {
      "tags": []
     },
     "output_type": "display_data"
    },
    {
     "data": {
      "text/html": [
       "<span style=\"color:cyan\"> |-Best step: 0</span>"
      ],
      "text/plain": [
       "<IPython.core.display.HTML object>"
      ]
     },
     "metadata": {
      "tags": []
     },
     "output_type": "display_data"
    },
    {
     "data": {
      "text/html": [
       "<span style=\"color:#7E57C2\"><h2 style=\"font-size:16px\">Hyperparameters:</h2></span>"
      ],
      "text/plain": [
       "<IPython.core.display.HTML object>"
      ]
     },
     "metadata": {
      "tags": []
     },
     "output_type": "display_data"
    },
    {
     "data": {
      "text/html": [
       "<span style=\"color:cyan\"> |-classification_head_1/dropout_rate: 0.5</span>"
      ],
      "text/plain": [
       "<IPython.core.display.HTML object>"
      ]
     },
     "metadata": {
      "tags": []
     },
     "output_type": "display_data"
    },
    {
     "data": {
      "text/html": [
       "<span style=\"color:blue\"> |-classification_head_1/spatial_reduction_1/reduction_type: flatten</span>"
      ],
      "text/plain": [
       "<IPython.core.display.HTML object>"
      ]
     },
     "metadata": {
      "tags": []
     },
     "output_type": "display_data"
    },
    {
     "data": {
      "text/html": [
       "<span style=\"color:cyan\"> |-dense_block_1/dropout_rate: 0</span>"
      ],
      "text/plain": [
       "<IPython.core.display.HTML object>"
      ]
     },
     "metadata": {
      "tags": []
     },
     "output_type": "display_data"
    },
    {
     "data": {
      "text/html": [
       "<span style=\"color:blue\"> |-dense_block_1/num_layers: 1</span>"
      ],
      "text/plain": [
       "<IPython.core.display.HTML object>"
      ]
     },
     "metadata": {
      "tags": []
     },
     "output_type": "display_data"
    },
    {
     "data": {
      "text/html": [
       "<span style=\"color:cyan\"> |-dense_block_1/units_0: 128</span>"
      ],
      "text/plain": [
       "<IPython.core.display.HTML object>"
      ]
     },
     "metadata": {
      "tags": []
     },
     "output_type": "display_data"
    },
    {
     "data": {
      "text/html": [
       "<span style=\"color:blue\"> |-dense_block_1/use_batchnorm: False</span>"
      ],
      "text/plain": [
       "<IPython.core.display.HTML object>"
      ]
     },
     "metadata": {
      "tags": []
     },
     "output_type": "display_data"
    },
    {
     "data": {
      "text/html": [
       "<span style=\"color:cyan\"> |-image_block_1/augment: False</span>"
      ],
      "text/plain": [
       "<IPython.core.display.HTML object>"
      ]
     },
     "metadata": {
      "tags": []
     },
     "output_type": "display_data"
    },
    {
     "data": {
      "text/html": [
       "<span style=\"color:blue\"> |-image_block_1/block_type: vanilla</span>"
      ],
      "text/plain": [
       "<IPython.core.display.HTML object>"
      ]
     },
     "metadata": {
      "tags": []
     },
     "output_type": "display_data"
    },
    {
     "data": {
      "text/html": [
       "<span style=\"color:cyan\"> |-image_block_1/conv_block_1/dropout_rate: 0.25</span>"
      ],
      "text/plain": [
       "<IPython.core.display.HTML object>"
      ]
     },
     "metadata": {
      "tags": []
     },
     "output_type": "display_data"
    },
    {
     "data": {
      "text/html": [
       "<span style=\"color:blue\"> |-image_block_1/conv_block_1/filters_0_0: 32</span>"
      ],
      "text/plain": [
       "<IPython.core.display.HTML object>"
      ]
     },
     "metadata": {
      "tags": []
     },
     "output_type": "display_data"
    },
    {
     "data": {
      "text/html": [
       "<span style=\"color:cyan\"> |-image_block_1/conv_block_1/filters_0_1: 64</span>"
      ],
      "text/plain": [
       "<IPython.core.display.HTML object>"
      ]
     },
     "metadata": {
      "tags": []
     },
     "output_type": "display_data"
    },
    {
     "data": {
      "text/html": [
       "<span style=\"color:blue\"> |-image_block_1/conv_block_1/kernel_size: 3</span>"
      ],
      "text/plain": [
       "<IPython.core.display.HTML object>"
      ]
     },
     "metadata": {
      "tags": []
     },
     "output_type": "display_data"
    },
    {
     "data": {
      "text/html": [
       "<span style=\"color:cyan\"> |-image_block_1/conv_block_1/max_pooling: True</span>"
      ],
      "text/plain": [
       "<IPython.core.display.HTML object>"
      ]
     },
     "metadata": {
      "tags": []
     },
     "output_type": "display_data"
    },
    {
     "data": {
      "text/html": [
       "<span style=\"color:blue\"> |-image_block_1/conv_block_1/num_blocks: 1</span>"
      ],
      "text/plain": [
       "<IPython.core.display.HTML object>"
      ]
     },
     "metadata": {
      "tags": []
     },
     "output_type": "display_data"
    },
    {
     "data": {
      "text/html": [
       "<span style=\"color:cyan\"> |-image_block_1/conv_block_1/num_layers: 2</span>"
      ],
      "text/plain": [
       "<IPython.core.display.HTML object>"
      ]
     },
     "metadata": {
      "tags": []
     },
     "output_type": "display_data"
    },
    {
     "data": {
      "text/html": [
       "<span style=\"color:blue\"> |-image_block_1/conv_block_1/separable: False</span>"
      ],
      "text/plain": [
       "<IPython.core.display.HTML object>"
      ]
     },
     "metadata": {
      "tags": []
     },
     "output_type": "display_data"
    },
    {
     "data": {
      "text/html": [
       "<span style=\"color:cyan\"> |-image_block_1/normalize: True</span>"
      ],
      "text/plain": [
       "<IPython.core.display.HTML object>"
      ]
     },
     "metadata": {
      "tags": []
     },
     "output_type": "display_data"
    },
    {
     "data": {
      "text/html": [
       "<span style=\"color:blue\"> |-optimizer: adam</span>"
      ],
      "text/plain": [
       "<IPython.core.display.HTML object>"
      ]
     },
     "metadata": {
      "tags": []
     },
     "output_type": "display_data"
    },
    {
     "name": "stdout",
     "output_type": "stream",
     "text": [
      "INFO:tensorflow:Oracle triggered exit\n",
      "Train for 1875 steps, validate for 375 steps\n",
      "Epoch 1/10\n",
      "1875/1875 [==============================] - 10s 5ms/step - loss: 0.1521 - accuracy: 0.9535 - val_loss: 0.0417 - val_accuracy: 0.9868\n",
      "Epoch 2/10\n",
      "1875/1875 [==============================] - 9s 5ms/step - loss: 0.0719 - accuracy: 0.9782 - val_loss: 0.0302 - val_accuracy: 0.9913\n",
      "Epoch 3/10\n",
      "1875/1875 [==============================] - 10s 5ms/step - loss: 0.0583 - accuracy: 0.9827 - val_loss: 0.0205 - val_accuracy: 0.9942\n",
      "Epoch 4/10\n",
      "1875/1875 [==============================] - 9s 5ms/step - loss: 0.0505 - accuracy: 0.9837 - val_loss: 0.0168 - val_accuracy: 0.9952\n",
      "Epoch 5/10\n",
      "1875/1875 [==============================] - 9s 5ms/step - loss: 0.0455 - accuracy: 0.9854 - val_loss: 0.0124 - val_accuracy: 0.9968\n",
      "Epoch 6/10\n",
      "1875/1875 [==============================] - 9s 5ms/step - loss: 0.0397 - accuracy: 0.9873 - val_loss: 0.0120 - val_accuracy: 0.9959\n",
      "Epoch 7/10\n",
      "1875/1875 [==============================] - 9s 5ms/step - loss: 0.0371 - accuracy: 0.9880 - val_loss: 0.0093 - val_accuracy: 0.9973\n",
      "Epoch 8/10\n",
      "1875/1875 [==============================] - 9s 5ms/step - loss: 0.0334 - accuracy: 0.9898 - val_loss: 0.0086 - val_accuracy: 0.9977\n",
      "Epoch 9/10\n",
      "1875/1875 [==============================] - 10s 5ms/step - loss: 0.0317 - accuracy: 0.9897 - val_loss: 0.0081 - val_accuracy: 0.9976\n",
      "Epoch 10/10\n",
      "1875/1875 [==============================] - 9s 5ms/step - loss: 0.0308 - accuracy: 0.9900 - val_loss: 0.0083 - val_accuracy: 0.9979\n",
      "313/313 [==============================] - 1s 3ms/step - loss: 0.0401 - accuracy: 0.9873\n",
      "Test loss: 0.04008482833562241\n",
      "Test accuracy: 0.9873\n"
     ]
    }
   ],
   "source": [
    "(x_train, y_train), (x_test, y_test) = mnist.load_data()\n",
    "x_train = x_train.reshape(x_train.shape[0], x_train.shape[1], x_train.shape[2], 1).astype('float32')\n",
    "x_test = x_test.reshape(x_test.shape[0], x_test.shape[1], x_test.shape[2], 1)\n",
    "\n",
    "# max_trials give the total number of architectures to be tried\n",
    "clf = ak.ImageClassifier(max_trials=10)\n",
    "clf.fit(x_train, y_train, epochs = 10)\n",
    "score = clf.evaluate(x_test, y_test)\n",
    "# print(y)\n",
    "print('Test loss:', score[0])\n",
    "print('Test accuracy:', score[1])"
   ]
  },
  {
   "cell_type": "markdown",
   "metadata": {
    "colab_type": "text",
    "id": "4Nr2TqjY5Y6X"
   },
   "source": [
    "As we can see, it takes a long time to train and find a good neural architecture. We have also achieved accuracy comparable to the Domain specific keras model. We can see that autoKeras doesn't require specific domain knowledge by the user."
   ]
  },
  {
   "cell_type": "markdown",
   "metadata": {
    "colab_type": "text",
    "id": "1egO_B8O6pGf"
   },
   "source": [
    "To evaluate the above two approaches, we'll use classification_report from sklearn"
   ]
  },
  {
   "cell_type": "code",
   "execution_count": 0,
   "metadata": {
    "colab": {
     "base_uri": "https://localhost:8080/",
     "height": 607
    },
    "colab_type": "code",
    "id": "QER4dD0e6Is2",
    "outputId": "1d38a65c-72a8-4b35-9b14-a3bf6352236f"
   },
   "outputs": [
    {
     "name": "stdout",
     "output_type": "stream",
     "text": [
      "WARNING:tensorflow:Unresolved object in checkpoint: (root).optimizer.iter\n",
      "WARNING:tensorflow:Unresolved object in checkpoint: (root).optimizer.beta_1\n",
      "WARNING:tensorflow:Unresolved object in checkpoint: (root).optimizer.beta_2\n",
      "WARNING:tensorflow:Unresolved object in checkpoint: (root).optimizer.decay\n",
      "WARNING:tensorflow:Unresolved object in checkpoint: (root).optimizer.learning_rate\n",
      "WARNING:tensorflow:A checkpoint was restored (e.g. tf.train.Checkpoint.restore or tf.keras.Model.load_weights) but not all checkpointed values were used. See above for specific issues. Use expect_partial() on the load status object, e.g. tf.train.Checkpoint.restore(...).expect_partial(), to silence these warnings, or use assert_consumed() to make the check explicit. See https://www.tensorflow.org/guide/checkpoint#loading_mechanics for details.\n",
      "WARNING:tensorflow:Unresolved object in checkpoint: (root).optimizer.iter\n",
      "WARNING:tensorflow:Unresolved object in checkpoint: (root).optimizer.beta_1\n",
      "WARNING:tensorflow:Unresolved object in checkpoint: (root).optimizer.beta_2\n",
      "WARNING:tensorflow:Unresolved object in checkpoint: (root).optimizer.decay\n",
      "WARNING:tensorflow:Unresolved object in checkpoint: (root).optimizer.learning_rate\n",
      "WARNING:tensorflow:A checkpoint was restored (e.g. tf.train.Checkpoint.restore or tf.keras.Model.load_weights) but not all checkpointed values were used. See above for specific issues. Use expect_partial() on the load status object, e.g. tf.train.Checkpoint.restore(...).expect_partial(), to silence these warnings, or use assert_consumed() to make the check explicit. See https://www.tensorflow.org/guide/checkpoint#loading_mechanics for details.\n",
      "Autokeras classification report\n",
      "              precision    recall  f1-score   support\n",
      "\n",
      "           0       0.99      0.99      0.99       987\n",
      "           1       1.00      0.99      0.99      1139\n",
      "           2       0.99      0.97      0.98      1054\n",
      "           3       0.99      1.00      0.99      1001\n",
      "           4       0.98      1.00      0.99       969\n",
      "           5       0.99      0.98      0.99       903\n",
      "           6       0.98      0.99      0.99       953\n",
      "           7       0.98      0.99      0.98      1015\n",
      "           8       0.98      0.99      0.99       967\n",
      "           9       0.98      0.98      0.98      1012\n",
      "\n",
      "    accuracy                           0.99     10000\n",
      "   macro avg       0.99      0.99      0.99     10000\n",
      "weighted avg       0.99      0.99      0.99     10000\n",
      "\n"
     ]
    }
   ],
   "source": [
    "reportautoKeras = classification_report(clf.predict(x_test), y_test)\n",
    "print(\"Autokeras classification report\")\n",
    "print(reportautoKeras)"
   ]
  },
  {
   "cell_type": "code",
   "execution_count": 0,
   "metadata": {
    "colab": {
     "base_uri": "https://localhost:8080/",
     "height": 378
    },
    "colab_type": "code",
    "id": "INj9lt4r6TiU",
    "outputId": "b8397c56-2f5f-4dd7-a719-25225fbf2e81"
   },
   "outputs": [
    {
     "name": "stdout",
     "output_type": "stream",
     "text": [
      "Keras classification report\n",
      "              precision    recall  f1-score   support\n",
      "\n",
      "           0       0.99      0.98      0.98       988\n",
      "           1       0.99      0.99      0.99      1136\n",
      "           2       0.96      0.98      0.97      1014\n",
      "           3       0.98      0.97      0.98      1019\n",
      "           4       0.98      0.98      0.98       983\n",
      "           5       0.98      0.99      0.98       886\n",
      "           6       0.98      0.99      0.98       952\n",
      "           7       0.98      0.98      0.98      1028\n",
      "           8       0.98      0.94      0.96      1013\n",
      "           9       0.96      0.99      0.97       981\n",
      "\n",
      "   micro avg       0.98      0.98      0.98     10000\n",
      "   macro avg       0.98      0.98      0.98     10000\n",
      "weighted avg       0.98      0.98      0.98     10000\n",
      " samples avg       0.98      0.98      0.98     10000\n",
      "\n"
     ]
    }
   ],
   "source": [
    "print(\"Keras classification report\")\n",
    "print(reportKeras)"
   ]
  },
  {
   "cell_type": "markdown",
   "metadata": {
    "colab_type": "text",
    "id": "9v7IR-0O9k9r"
   },
   "source": [
    "# Exporting the best Neural Architecture\n",
    "\n",
    "To export the best neural model, simply use <MODEL>.export_model(). This returns a tensorflow modelof type <class 'tensorflow.python.keras.engine.training.Model'> which can then be moved to production for large scale deployment.\n",
    "\n",
    "This exported model can be ploted and visualized by using plot_model in tensorflow.keras.utils"
   ]
  },
  {
   "cell_type": "code",
   "execution_count": 0,
   "metadata": {
    "colab": {
     "base_uri": "https://localhost:8080/",
     "height": 1000
    },
    "colab_type": "code",
    "id": "NKv9GHrW6bMu",
    "outputId": "b0c56c7b-e3c3-43fa-dbc3-95db988426ad"
   },
   "outputs": [
    {
     "name": "stdout",
     "output_type": "stream",
     "text": [
      "WARNING:tensorflow:Unresolved object in checkpoint: (root).optimizer.iter\n",
      "WARNING:tensorflow:Unresolved object in checkpoint: (root).optimizer.beta_1\n",
      "WARNING:tensorflow:Unresolved object in checkpoint: (root).optimizer.beta_2\n",
      "WARNING:tensorflow:Unresolved object in checkpoint: (root).optimizer.decay\n",
      "WARNING:tensorflow:Unresolved object in checkpoint: (root).optimizer.learning_rate\n",
      "WARNING:tensorflow:A checkpoint was restored (e.g. tf.train.Checkpoint.restore or tf.keras.Model.load_weights) but not all checkpointed values were used. See above for specific issues. Use expect_partial() on the load status object, e.g. tf.train.Checkpoint.restore(...).expect_partial(), to silence these warnings, or use assert_consumed() to make the check explicit. See https://www.tensorflow.org/guide/checkpoint#loading_mechanics for details.\n",
      "WARNING:tensorflow:Unresolved object in checkpoint: (root).optimizer.iter\n",
      "WARNING:tensorflow:Unresolved object in checkpoint: (root).optimizer.beta_1\n",
      "WARNING:tensorflow:Unresolved object in checkpoint: (root).optimizer.beta_2\n",
      "WARNING:tensorflow:Unresolved object in checkpoint: (root).optimizer.decay\n",
      "WARNING:tensorflow:Unresolved object in checkpoint: (root).optimizer.learning_rate\n",
      "WARNING:tensorflow:A checkpoint was restored (e.g. tf.train.Checkpoint.restore or tf.keras.Model.load_weights) but not all checkpointed values were used. See above for specific issues. Use expect_partial() on the load status object, e.g. tf.train.Checkpoint.restore(...).expect_partial(), to silence these warnings, or use assert_consumed() to make the check explicit. See https://www.tensorflow.org/guide/checkpoint#loading_mechanics for details.\n"
     ]
    },
    {
     "data": {
      "image/png": "[encoded data removed]",
      "text/plain": [
       "<IPython.core.display.Image object>"
      ]
     },
     "execution_count": 8,
     "metadata": {
      "tags": []
     },
     "output_type": "execute_result"
    }
   ],
   "source": [
    "autoKerasExportedModel = clf.export_model()\n",
    "plot_model(autoKerasExportedModel, 'AutoKeras Best Model.png')"
   ]
  },
  {
   "cell_type": "markdown",
   "metadata": {
    "colab_type": "text",
    "id": "YgOp10QeJQkn"
   },
   "source": [
    "# Supported Tasks\n",
    "\n",
    "AutoKeras uses state-of-the-art NAS algorithms, along with existing preprocessing blocks to insure smooth NAS trainings sessions. This is laid out extensively in the AutoKeras Paper. Furthermore, the algorithms are optimized for dynamic GPU memories to avoid the OOM (Out of Memory) Exceptions we are all used to. AutoKeras supports many task with simple API interfaces:\n",
    "\n",
    "* Image Classification/Regression\n",
    "* Text Classification/Regression\n",
    "* Structured DataClassification/Regression(row x column datatypes, or a csv file)\n",
    "* Multi-Task Learning"
   ]
  },
  {
   "cell_type": "markdown",
   "metadata": {
    "colab_type": "text",
    "id": "TWEigRA4N5zk"
   },
   "source": [
    "# Text Classification/Regression\n",
    "\n",
    "As described in the AutoKeras, we'll also be using the imdb dataset to show the impact of AutoKeras in Text Classification. The first step is to process the data, so that it can act as an input to the classifier.\n",
    "\n"
   ]
  },
  {
   "cell_type": "code",
   "execution_count": 0,
   "metadata": {
    "colab": {
     "base_uri": "https://localhost:8080/",
     "height": 131
    },
    "colab_type": "code",
    "id": "47rURkNBTJcu",
    "outputId": "793ae170-392c-4af5-af6e-7e23a6f5bb61"
   },
   "outputs": [
    {
     "name": "stdout",
     "output_type": "stream",
     "text": [
      "Downloading data from https://storage.googleapis.com/tensorflow/tf-keras-datasets/imdb.npz\n",
      "17465344/17464789 [==============================] - 1s 0us/step\n",
      "Downloading data from https://storage.googleapis.com/tensorflow/tf-keras-datasets/imdb_word_index.json\n",
      "1646592/1641221 [==============================] - 0s 0us/step\n",
      "Training set shape: (25000,)\n",
      "Test set shape: (25000, 1)\n"
     ]
    }
   ],
   "source": [
    "# Load the integer sequence the IMDB dataset with Keras.\n",
    "index_offset = 3  # word index offset\n",
    "(x_train, y_train), (x_test, y_test) = imdb.load_data(num_words=1000,\n",
    "                                                      index_from=index_offset)\n",
    "y_train = y_train.reshape(-1, 1)\n",
    "y_test = y_test.reshape(-1, 1)\n",
    "\n",
    "# Prepare the dictionary of index to word.\n",
    "word_to_id = imdb.get_word_index()\n",
    "word_to_id = {k: (v + index_offset) for k, v in word_to_id.items()}\n",
    "word_to_id[\"<PAD>\"] = 0\n",
    "word_to_id[\"<START>\"] = 1\n",
    "word_to_id[\"<UNK>\"] = 2\n",
    "id_to_word = {value: key for key, value in word_to_id.items()}\n",
    "\n",
    "# Convert the word indices to words.\n",
    "x_train = list(map(lambda sentence: ' '.join(\n",
    "    id_to_word[i] for i in sentence), x_train))\n",
    "x_test = list(map(lambda sentence: ' '.join(\n",
    "    id_to_word[i] for i in sentence), x_test))\n",
    "x_train = np.array(x_train, dtype=np.str)\n",
    "x_test = np.array(x_test, dtype=np.str)\n",
    "print(\"Training set shape:\", x_train.shape)\n",
    "print(\"Test set shape:\", y_train.shape) "
   ]
  },
  {
   "cell_type": "code",
   "execution_count": 0,
   "metadata": {
    "colab": {
     "base_uri": "https://localhost:8080/",
     "height": 1000
    },
    "colab_type": "code",
    "id": "llK8-S-ITN5G",
    "outputId": "459b9591-5e92-4883-efd6-9499c7dc9596"
   },
   "outputs": [
    {
     "name": "stdout",
     "output_type": "stream",
     "text": [
      "Train for 625 steps, validate for 157 steps\n",
      "Epoch 1/10\n",
      "625/625 [==============================] - 17s 27ms/step - loss: 0.4799 - accuracy: 0.7466 - val_loss: 0.3296 - val_accuracy: 0.8540\n",
      "Epoch 2/10\n",
      "625/625 [==============================] - 16s 25ms/step - loss: 0.3121 - accuracy: 0.8696 - val_loss: 0.3015 - val_accuracy: 0.8718\n",
      "Epoch 3/10\n",
      "625/625 [==============================] - 15s 24ms/step - loss: 0.2567 - accuracy: 0.8972 - val_loss: 0.3007 - val_accuracy: 0.8806\n",
      "Epoch 4/10\n",
      "625/625 [==============================] - 16s 25ms/step - loss: 0.2123 - accuracy: 0.9170 - val_loss: 0.3125 - val_accuracy: 0.8756\n",
      "Epoch 5/10\n",
      "625/625 [==============================] - 15s 24ms/step - loss: 0.1747 - accuracy: 0.9332 - val_loss: 0.3484 - val_accuracy: 0.8714\n",
      "Epoch 6/10\n",
      "625/625 [==============================] - 15s 25ms/step - loss: 0.1487 - accuracy: 0.9428 - val_loss: 0.3743 - val_accuracy: 0.8746\n",
      "Epoch 7/10\n",
      "625/625 [==============================] - 15s 24ms/step - loss: 0.1324 - accuracy: 0.9488 - val_loss: 0.4759 - val_accuracy: 0.8614\n",
      "Epoch 8/10\n",
      "625/625 [==============================] - 15s 25ms/step - loss: 0.1263 - accuracy: 0.9499 - val_loss: 0.4223 - val_accuracy: 0.8734\n",
      "Epoch 9/10\n",
      "625/625 [==============================] - 16s 25ms/step - loss: 0.1097 - accuracy: 0.9580 - val_loss: 0.4305 - val_accuracy: 0.8730\n",
      "Epoch 10/10\n",
      "625/625 [==============================] - 15s 25ms/step - loss: 0.0906 - accuracy: 0.9664 - val_loss: 0.4859 - val_accuracy: 0.8598\n"
     ]
    },
    {
     "data": {
      "text/html": [
       "<span style=\"color:#4527A0\"><h1 style=\"font-size:18px\">Trial complete</h1></span>"
      ],
      "text/plain": [
       "<IPython.core.display.HTML object>"
      ]
     },
     "metadata": {
      "tags": []
     },
     "output_type": "display_data"
    },
    {
     "data": {
      "text/html": [
       "<span style=\"color:#4527A0\"><h1 style=\"font-size:18px\">Trial summary</h1></span>"
      ],
      "text/plain": [
       "<IPython.core.display.HTML object>"
      ]
     },
     "metadata": {
      "tags": []
     },
     "output_type": "display_data"
    },
    {
     "data": {
      "text/html": [
       "<span style=\"color:cyan\"> |-Trial ID: 636bc0ae4d4b2282ed1e27233380985c</span>"
      ],
      "text/plain": [
       "<IPython.core.display.HTML object>"
      ]
     },
     "metadata": {
      "tags": []
     },
     "output_type": "display_data"
    },
    {
     "data": {
      "text/html": [
       "<span style=\"color:cyan\"> |-Score: 0.30066402033445944</span>"
      ],
      "text/plain": [
       "<IPython.core.display.HTML object>"
      ]
     },
     "metadata": {
      "tags": []
     },
     "output_type": "display_data"
    },
    {
     "data": {
      "text/html": [
       "<span style=\"color:cyan\"> |-Best step: 0</span>"
      ],
      "text/plain": [
       "<IPython.core.display.HTML object>"
      ]
     },
     "metadata": {
      "tags": []
     },
     "output_type": "display_data"
    },
    {
     "data": {
      "text/html": [
       "<span style=\"color:#7E57C2\"><h2 style=\"font-size:16px\">Hyperparameters:</h2></span>"
      ],
      "text/plain": [
       "<IPython.core.display.HTML object>"
      ]
     },
     "metadata": {
      "tags": []
     },
     "output_type": "display_data"
    },
    {
     "data": {
      "text/html": [
       "<span style=\"color:cyan\"> |-classification_head_1/dropout_rate: 0</span>"
      ],
      "text/plain": [
       "<IPython.core.display.HTML object>"
      ]
     },
     "metadata": {
      "tags": []
     },
     "output_type": "display_data"
    },
    {
     "data": {
      "text/html": [
       "<span style=\"color:blue\"> |-optimizer: adam</span>"
      ],
      "text/plain": [
       "<IPython.core.display.HTML object>"
      ]
     },
     "metadata": {
      "tags": []
     },
     "output_type": "display_data"
    },
    {
     "data": {
      "text/html": [
       "<span style=\"color:cyan\"> |-text_block_1/conv_block_1/dropout_rate: 0</span>"
      ],
      "text/plain": [
       "<IPython.core.display.HTML object>"
      ]
     },
     "metadata": {
      "tags": []
     },
     "output_type": "display_data"
    },
    {
     "data": {
      "text/html": [
       "<span style=\"color:blue\"> |-text_block_1/conv_block_1/filters_0_0: 256</span>"
      ],
      "text/plain": [
       "<IPython.core.display.HTML object>"
      ]
     },
     "metadata": {
      "tags": []
     },
     "output_type": "display_data"
    },
    {
     "data": {
      "text/html": [
       "<span style=\"color:cyan\"> |-text_block_1/conv_block_1/kernel_size: 5</span>"
      ],
      "text/plain": [
       "<IPython.core.display.HTML object>"
      ]
     },
     "metadata": {
      "tags": []
     },
     "output_type": "display_data"
    },
    {
     "data": {
      "text/html": [
       "<span style=\"color:blue\"> |-text_block_1/conv_block_1/max_pooling: False</span>"
      ],
      "text/plain": [
       "<IPython.core.display.HTML object>"
      ]
     },
     "metadata": {
      "tags": []
     },
     "output_type": "display_data"
    },
    {
     "data": {
      "text/html": [
       "<span style=\"color:cyan\"> |-text_block_1/conv_block_1/num_blocks: 1</span>"
      ],
      "text/plain": [
       "<IPython.core.display.HTML object>"
      ]
     },
     "metadata": {
      "tags": []
     },
     "output_type": "display_data"
    },
    {
     "data": {
      "text/html": [
       "<span style=\"color:blue\"> |-text_block_1/conv_block_1/num_layers: 1</span>"
      ],
      "text/plain": [
       "<IPython.core.display.HTML object>"
      ]
     },
     "metadata": {
      "tags": []
     },
     "output_type": "display_data"
    },
    {
     "data": {
      "text/html": [
       "<span style=\"color:cyan\"> |-text_block_1/conv_block_1/separable: False</span>"
      ],
      "text/plain": [
       "<IPython.core.display.HTML object>"
      ]
     },
     "metadata": {
      "tags": []
     },
     "output_type": "display_data"
    },
    {
     "data": {
      "text/html": [
       "<span style=\"color:blue\"> |-text_block_1/dense_block_1/dropout_rate: 0.5</span>"
      ],
      "text/plain": [
       "<IPython.core.display.HTML object>"
      ]
     },
     "metadata": {
      "tags": []
     },
     "output_type": "display_data"
    },
    {
     "data": {
      "text/html": [
       "<span style=\"color:cyan\"> |-text_block_1/dense_block_1/num_layers: 1</span>"
      ],
      "text/plain": [
       "<IPython.core.display.HTML object>"
      ]
     },
     "metadata": {
      "tags": []
     },
     "output_type": "display_data"
    },
    {
     "data": {
      "text/html": [
       "<span style=\"color:blue\"> |-text_block_1/dense_block_1/units_0: 256</span>"
      ],
      "text/plain": [
       "<IPython.core.display.HTML object>"
      ]
     },
     "metadata": {
      "tags": []
     },
     "output_type": "display_data"
    },
    {
     "data": {
      "text/html": [
       "<span style=\"color:cyan\"> |-text_block_1/dense_block_1/use_batchnorm: False</span>"
      ],
      "text/plain": [
       "<IPython.core.display.HTML object>"
      ]
     },
     "metadata": {
      "tags": []
     },
     "output_type": "display_data"
    },
    {
     "data": {
      "text/html": [
       "<span style=\"color:blue\"> |-text_block_1/embedding_1/dropout_rate: 0.25</span>"
      ],
      "text/plain": [
       "<IPython.core.display.HTML object>"
      ]
     },
     "metadata": {
      "tags": []
     },
     "output_type": "display_data"
    },
    {
     "data": {
      "text/html": [
       "<span style=\"color:cyan\"> |-text_block_1/embedding_1/embedding_dim: 64</span>"
      ],
      "text/plain": [
       "<IPython.core.display.HTML object>"
      ]
     },
     "metadata": {
      "tags": []
     },
     "output_type": "display_data"
    },
    {
     "data": {
      "text/html": [
       "<span style=\"color:blue\"> |-text_block_1/embedding_1/pretraining: none</span>"
      ],
      "text/plain": [
       "<IPython.core.display.HTML object>"
      ]
     },
     "metadata": {
      "tags": []
     },
     "output_type": "display_data"
    },
    {
     "data": {
      "text/html": [
       "<span style=\"color:cyan\"> |-text_block_1/spatial_reduction_1/reduction_type: global_max</span>"
      ],
      "text/plain": [
       "<IPython.core.display.HTML object>"
      ]
     },
     "metadata": {
      "tags": []
     },
     "output_type": "display_data"
    },
    {
     "data": {
      "text/html": [
       "<span style=\"color:blue\"> |-text_block_1/text_to_int_sequence_1/output_sequence_length: 512</span>"
      ],
      "text/plain": [
       "<IPython.core.display.HTML object>"
      ]
     },
     "metadata": {
      "tags": []
     },
     "output_type": "display_data"
    },
    {
     "data": {
      "text/html": [
       "<span style=\"color:cyan\"> |-text_block_1/vectorizer: sequence</span>"
      ],
      "text/plain": [
       "<IPython.core.display.HTML object>"
      ]
     },
     "metadata": {
      "tags": []
     },
     "output_type": "display_data"
    },
    {
     "name": "stdout",
     "output_type": "stream",
     "text": [
      "Train for 625 steps, validate for 157 steps\n",
      "Epoch 1/10\n",
      "625/625 [==============================] - 16s 26ms/step - loss: 0.4787 - accuracy: 0.7492 - val_loss: 0.3309 - val_accuracy: 0.8554\n",
      "Epoch 2/10\n",
      "625/625 [==============================] - 16s 25ms/step - loss: 0.3106 - accuracy: 0.8711 - val_loss: 0.3060 - val_accuracy: 0.8720\n",
      "Epoch 3/10\n",
      "625/625 [==============================] - 15s 25ms/step - loss: 0.2587 - accuracy: 0.8941 - val_loss: 0.3128 - val_accuracy: 0.8694\n",
      "Epoch 4/10\n",
      "625/625 [==============================] - 16s 25ms/step - loss: 0.2124 - accuracy: 0.9189 - val_loss: 0.3275 - val_accuracy: 0.8706\n",
      "Epoch 5/10\n",
      "625/625 [==============================] - 15s 25ms/step - loss: 0.1776 - accuracy: 0.9309 - val_loss: 0.3549 - val_accuracy: 0.8752\n",
      "Epoch 6/10\n",
      "625/625 [==============================] - 16s 25ms/step - loss: 0.1447 - accuracy: 0.9463 - val_loss: 0.3650 - val_accuracy: 0.8778\n",
      "Epoch 7/10\n",
      "625/625 [==============================] - 16s 25ms/step - loss: 0.1204 - accuracy: 0.9552 - val_loss: 0.4210 - val_accuracy: 0.8736\n",
      "Epoch 8/10\n",
      "625/625 [==============================] - 16s 25ms/step - loss: 0.1075 - accuracy: 0.9597 - val_loss: 0.4228 - val_accuracy: 0.8754\n",
      "Epoch 9/10\n",
      "625/625 [==============================] - 15s 25ms/step - loss: 0.1139 - accuracy: 0.9560 - val_loss: 0.4617 - val_accuracy: 0.8664\n",
      "Epoch 10/10\n",
      "625/625 [==============================] - 15s 25ms/step - loss: 0.1035 - accuracy: 0.9589 - val_loss: 0.5565 - val_accuracy: 0.8540\n"
     ]
    },
    {
     "data": {
      "text/html": [
       "<span style=\"color:#4527A0\"><h1 style=\"font-size:18px\">Trial complete</h1></span>"
      ],
      "text/plain": [
       "<IPython.core.display.HTML object>"
      ]
     },
     "metadata": {
      "tags": []
     },
     "output_type": "display_data"
    },
    {
     "data": {
      "text/html": [
       "<span style=\"color:#4527A0\"><h1 style=\"font-size:18px\">Trial summary</h1></span>"
      ],
      "text/plain": [
       "<IPython.core.display.HTML object>"
      ]
     },
     "metadata": {
      "tags": []
     },
     "output_type": "display_data"
    },
    {
     "data": {
      "text/html": [
       "<span style=\"color:cyan\"> |-Trial ID: 14ca5095bacbfa75339cfdc67c893c2f</span>"
      ],
      "text/plain": [
       "<IPython.core.display.HTML object>"
      ]
     },
     "metadata": {
      "tags": []
     },
     "output_type": "display_data"
    },
    {
     "data": {
      "text/html": [
       "<span style=\"color:cyan\"> |-Score: 0.30602251534249375</span>"
      ],
      "text/plain": [
       "<IPython.core.display.HTML object>"
      ]
     },
     "metadata": {
      "tags": []
     },
     "output_type": "display_data"
    },
    {
     "data": {
      "text/html": [
       "<span style=\"color:cyan\"> |-Best step: 0</span>"
      ],
      "text/plain": [
       "<IPython.core.display.HTML object>"
      ]
     },
     "metadata": {
      "tags": []
     },
     "output_type": "display_data"
    },
    {
     "data": {
      "text/html": [
       "<span style=\"color:#7E57C2\"><h2 style=\"font-size:16px\">Hyperparameters:</h2></span>"
      ],
      "text/plain": [
       "<IPython.core.display.HTML object>"
      ]
     },
     "metadata": {
      "tags": []
     },
     "output_type": "display_data"
    },
    {
     "data": {
      "text/html": [
       "<span style=\"color:cyan\"> |-classification_head_1/dropout_rate: 0</span>"
      ],
      "text/plain": [
       "<IPython.core.display.HTML object>"
      ]
     },
     "metadata": {
      "tags": []
     },
     "output_type": "display_data"
    },
    {
     "data": {
      "text/html": [
       "<span style=\"color:blue\"> |-optimizer: adam</span>"
      ],
      "text/plain": [
       "<IPython.core.display.HTML object>"
      ]
     },
     "metadata": {
      "tags": []
     },
     "output_type": "display_data"
    },
    {
     "data": {
      "text/html": [
       "<span style=\"color:cyan\"> |-text_block_1/conv_block_1/dropout_rate: 0</span>"
      ],
      "text/plain": [
       "<IPython.core.display.HTML object>"
      ]
     },
     "metadata": {
      "tags": []
     },
     "output_type": "display_data"
    },
    {
     "data": {
      "text/html": [
       "<span style=\"color:blue\"> |-text_block_1/conv_block_1/filters_0_0: 256</span>"
      ],
      "text/plain": [
       "<IPython.core.display.HTML object>"
      ]
     },
     "metadata": {
      "tags": []
     },
     "output_type": "display_data"
    },
    {
     "data": {
      "text/html": [
       "<span style=\"color:cyan\"> |-text_block_1/conv_block_1/kernel_size: 5</span>"
      ],
      "text/plain": [
       "<IPython.core.display.HTML object>"
      ]
     },
     "metadata": {
      "tags": []
     },
     "output_type": "display_data"
    },
    {
     "data": {
      "text/html": [
       "<span style=\"color:blue\"> |-text_block_1/conv_block_1/max_pooling: False</span>"
      ],
      "text/plain": [
       "<IPython.core.display.HTML object>"
      ]
     },
     "metadata": {
      "tags": []
     },
     "output_type": "display_data"
    },
    {
     "data": {
      "text/html": [
       "<span style=\"color:cyan\"> |-text_block_1/conv_block_1/num_blocks: 1</span>"
      ],
      "text/plain": [
       "<IPython.core.display.HTML object>"
      ]
     },
     "metadata": {
      "tags": []
     },
     "output_type": "display_data"
    },
    {
     "data": {
      "text/html": [
       "<span style=\"color:blue\"> |-text_block_1/conv_block_1/num_layers: 1</span>"
      ],
      "text/plain": [
       "<IPython.core.display.HTML object>"
      ]
     },
     "metadata": {
      "tags": []
     },
     "output_type": "display_data"
    },
    {
     "data": {
      "text/html": [
       "<span style=\"color:cyan\"> |-text_block_1/conv_block_1/separable: False</span>"
      ],
      "text/plain": [
       "<IPython.core.display.HTML object>"
      ]
     },
     "metadata": {
      "tags": []
     },
     "output_type": "display_data"
    },
    {
     "data": {
      "text/html": [
       "<span style=\"color:blue\"> |-text_block_1/dense_block_1/dropout_rate: 0.5</span>"
      ],
      "text/plain": [
       "<IPython.core.display.HTML object>"
      ]
     },
     "metadata": {
      "tags": []
     },
     "output_type": "display_data"
    },
    {
     "data": {
      "text/html": [
       "<span style=\"color:cyan\"> |-text_block_1/dense_block_1/num_layers: 1</span>"
      ],
      "text/plain": [
       "<IPython.core.display.HTML object>"
      ]
     },
     "metadata": {
      "tags": []
     },
     "output_type": "display_data"
    },
    {
     "data": {
      "text/html": [
       "<span style=\"color:blue\"> |-text_block_1/dense_block_1/units_0: 256</span>"
      ],
      "text/plain": [
       "<IPython.core.display.HTML object>"
      ]
     },
     "metadata": {
      "tags": []
     },
     "output_type": "display_data"
    },
    {
     "data": {
      "text/html": [
       "<span style=\"color:cyan\"> |-text_block_1/dense_block_1/use_batchnorm: False</span>"
      ],
      "text/plain": [
       "<IPython.core.display.HTML object>"
      ]
     },
     "metadata": {
      "tags": []
     },
     "output_type": "display_data"
    },
    {
     "data": {
      "text/html": [
       "<span style=\"color:blue\"> |-text_block_1/embedding_1/dropout_rate: 0.25</span>"
      ],
      "text/plain": [
       "<IPython.core.display.HTML object>"
      ]
     },
     "metadata": {
      "tags": []
     },
     "output_type": "display_data"
    },
    {
     "data": {
      "text/html": [
       "<span style=\"color:cyan\"> |-text_block_1/embedding_1/embedding_dim: 64</span>"
      ],
      "text/plain": [
       "<IPython.core.display.HTML object>"
      ]
     },
     "metadata": {
      "tags": []
     },
     "output_type": "display_data"
    },
    {
     "data": {
      "text/html": [
       "<span style=\"color:blue\"> |-text_block_1/embedding_1/pretraining: none</span>"
      ],
      "text/plain": [
       "<IPython.core.display.HTML object>"
      ]
     },
     "metadata": {
      "tags": []
     },
     "output_type": "display_data"
    },
    {
     "data": {
      "text/html": [
       "<span style=\"color:cyan\"> |-text_block_1/spatial_reduction_1/reduction_type: global_max</span>"
      ],
      "text/plain": [
       "<IPython.core.display.HTML object>"
      ]
     },
     "metadata": {
      "tags": []
     },
     "output_type": "display_data"
    },
    {
     "data": {
      "text/html": [
       "<span style=\"color:blue\"> |-text_block_1/text_to_int_sequence_1/output_sequence_length: 512</span>"
      ],
      "text/plain": [
       "<IPython.core.display.HTML object>"
      ]
     },
     "metadata": {
      "tags": []
     },
     "output_type": "display_data"
    },
    {
     "data": {
      "text/html": [
       "<span style=\"color:cyan\"> |-text_block_1/vectorizer: sequence</span>"
      ],
      "text/plain": [
       "<IPython.core.display.HTML object>"
      ]
     },
     "metadata": {
      "tags": []
     },
     "output_type": "display_data"
    },
    {
     "name": "stdout",
     "output_type": "stream",
     "text": [
      "INFO:tensorflow:Oracle triggered exit\n",
      "Train for 782 steps, validate for 157 steps\n",
      "Epoch 1/10\n",
      "782/782 [==============================] - 20s 25ms/step - loss: 0.4497 - accuracy: 0.7707 - val_loss: 0.2375 - val_accuracy: 0.9106\n",
      "Epoch 2/10\n",
      "782/782 [==============================] - 19s 24ms/step - loss: 0.3006 - accuracy: 0.8766 - val_loss: 0.1854 - val_accuracy: 0.9382\n",
      "Epoch 3/10\n",
      "782/782 [==============================] - 19s 24ms/step - loss: 0.2537 - accuracy: 0.8984 - val_loss: 0.1408 - val_accuracy: 0.9576\n",
      "Epoch 4/10\n",
      "782/782 [==============================] - 19s 24ms/step - loss: 0.2106 - accuracy: 0.9198 - val_loss: 0.0992 - val_accuracy: 0.9708\n",
      "Epoch 5/10\n",
      "782/782 [==============================] - 19s 24ms/step - loss: 0.1827 - accuracy: 0.9315 - val_loss: 0.0709 - val_accuracy: 0.9816\n",
      "Epoch 6/10\n",
      "782/782 [==============================] - 19s 25ms/step - loss: 0.1544 - accuracy: 0.9413 - val_loss: 0.0486 - val_accuracy: 0.9904\n",
      "Epoch 7/10\n",
      "782/782 [==============================] - 20s 25ms/step - loss: 0.1430 - accuracy: 0.9440 - val_loss: 0.0450 - val_accuracy: 0.9944\n",
      "Epoch 8/10\n",
      "782/782 [==============================] - 19s 24ms/step - loss: 0.1275 - accuracy: 0.9516 - val_loss: 0.0249 - val_accuracy: 0.9966\n",
      "Epoch 9/10\n",
      "782/782 [==============================] - 19s 24ms/step - loss: 0.1154 - accuracy: 0.9556 - val_loss: 0.0196 - val_accuracy: 0.9960\n",
      "Epoch 10/10\n",
      "782/782 [==============================] - 19s 25ms/step - loss: 0.0953 - accuracy: 0.9645 - val_loss: 0.0190 - val_accuracy: 0.9970\n",
      "WARNING:tensorflow:Unresolved object in checkpoint: (root).optimizer.iter\n",
      "WARNING:tensorflow:Unresolved object in checkpoint: (root).optimizer.beta_1\n",
      "WARNING:tensorflow:Unresolved object in checkpoint: (root).optimizer.beta_2\n",
      "WARNING:tensorflow:Unresolved object in checkpoint: (root).optimizer.decay\n",
      "WARNING:tensorflow:Unresolved object in checkpoint: (root).optimizer.learning_rate\n",
      "WARNING:tensorflow:A checkpoint was restored (e.g. tf.train.Checkpoint.restore or tf.keras.Model.load_weights) but not all checkpointed values were used. See above for specific issues. Use expect_partial() on the load status object, e.g. tf.train.Checkpoint.restore(...).expect_partial(), to silence these warnings, or use assert_consumed() to make the check explicit. See https://www.tensorflow.org/guide/checkpoint#loading_mechanics for details.\n",
      "WARNING:tensorflow:Unresolved object in checkpoint: (root).optimizer.iter\n",
      "WARNING:tensorflow:Unresolved object in checkpoint: (root).optimizer.beta_1\n",
      "WARNING:tensorflow:Unresolved object in checkpoint: (root).optimizer.beta_2\n",
      "WARNING:tensorflow:Unresolved object in checkpoint: (root).optimizer.decay\n",
      "WARNING:tensorflow:Unresolved object in checkpoint: (root).optimizer.learning_rate\n",
      "WARNING:tensorflow:A checkpoint was restored (e.g. tf.train.Checkpoint.restore or tf.keras.Model.load_weights) but not all checkpointed values were used. See above for specific issues. Use expect_partial() on the load status object, e.g. tf.train.Checkpoint.restore(...).expect_partial(), to silence these warnings, or use assert_consumed() to make the check explicit. See https://www.tensorflow.org/guide/checkpoint#loading_mechanics for details.\n",
      "782/782 [==============================] - 6s 7ms/step - loss: 0.3837 - accuracy: 0.8812\n",
      "Test loss: 0.3836598421597039\n",
      "Test accuracy: 0.88124\n"
     ]
    }
   ],
   "source": [
    "clf = ak.TextClassifier(max_trials=10)\n",
    "clf.fit(x_train, y_train, epochs=10)\n",
    "predicted_y = clf.predict(x_test)\n",
    "#print(clf.evaluate(x_test, y_test))\n",
    "score = clf.evaluate(x_test, y_test)\n",
    "print('Test loss:', score[0])\n",
    "print('Test accuracy:', score[1])"
   ]
  },
  {
   "cell_type": "code",
   "execution_count": 0,
   "metadata": {
    "colab": {
     "base_uri": "https://localhost:8080/",
     "height": 1000
    },
    "colab_type": "code",
    "id": "ODYqUXSYYUdo",
    "outputId": "638123e8-41af-448c-c923-c105bd703ee1"
   },
   "outputs": [
    {
     "name": "stdout",
     "output_type": "stream",
     "text": [
      "WARNING:tensorflow:Unresolved object in checkpoint: (root).optimizer.iter\n",
      "WARNING:tensorflow:Unresolved object in checkpoint: (root).optimizer.beta_1\n",
      "WARNING:tensorflow:Unresolved object in checkpoint: (root).optimizer.beta_2\n",
      "WARNING:tensorflow:Unresolved object in checkpoint: (root).optimizer.decay\n",
      "WARNING:tensorflow:Unresolved object in checkpoint: (root).optimizer.learning_rate\n",
      "WARNING:tensorflow:A checkpoint was restored (e.g. tf.train.Checkpoint.restore or tf.keras.Model.load_weights) but not all checkpointed values were used. See above for specific issues. Use expect_partial() on the load status object, e.g. tf.train.Checkpoint.restore(...).expect_partial(), to silence these warnings, or use assert_consumed() to make the check explicit. See https://www.tensorflow.org/guide/checkpoint#loading_mechanics for details.\n",
      "WARNING:tensorflow:Unresolved object in checkpoint: (root).optimizer.iter\n",
      "WARNING:tensorflow:Unresolved object in checkpoint: (root).optimizer.beta_1\n",
      "WARNING:tensorflow:Unresolved object in checkpoint: (root).optimizer.beta_2\n",
      "WARNING:tensorflow:Unresolved object in checkpoint: (root).optimizer.decay\n",
      "WARNING:tensorflow:Unresolved object in checkpoint: (root).optimizer.learning_rate\n",
      "WARNING:tensorflow:A checkpoint was restored (e.g. tf.train.Checkpoint.restore or tf.keras.Model.load_weights) but not all checkpointed values were used. See above for specific issues. Use expect_partial() on the load status object, e.g. tf.train.Checkpoint.restore(...).expect_partial(), to silence these warnings, or use assert_consumed() to make the check explicit. See https://www.tensorflow.org/guide/checkpoint#loading_mechanics for details.\n"
     ]
    },
    {
     "data": {
      "image/png": "[encoded data removed]",
      "text/plain": [
       "<IPython.core.display.Image object>"
      ]
     },
     "execution_count": 11,
     "metadata": {
      "tags": []
     },
     "output_type": "execute_result"
    }
   ],
   "source": [
    "autoKerasTextModel = clf.export_model()\n",
    "plot_model(autoKerasTextModel, 'AutoKeras Text Best Model.png')"
   ]
  },
  {
   "cell_type": "markdown",
   "metadata": {
    "colab_type": "text",
    "id": "S7Ox1n8cTyGD"
   },
   "source": [
    "# Structured Data Classififcation/Regression\n",
    "\n"
   ]
  },
  {
   "cell_type": "markdown",
   "metadata": {},
   "source": [
    "## Downloading the dataset"
   ]
  },
  {
   "cell_type": "code",
   "execution_count": 3,
   "metadata": {},
   "outputs": [
    {
     "name": "stdout",
     "output_type": "stream",
     "text": [
      "--2020-03-06 11:42:56--  https://raw.githubusercontent.com/keras-team/autokeras/master/tests/fixtures/titanic/eval.csv\n",
      "Resolving raw.githubusercontent.com (raw.githubusercontent.com)... 151.101.48.133\n",
      "Connecting to raw.githubusercontent.com (raw.githubusercontent.com)|151.101.48.133|:443... connected.\n",
      "HTTP request sent, awaiting response... 200 OK\n",
      "Length: 13049 (13K) [text/plain]\n",
      "Saving to: ‘eval.csv’\n",
      "\n",
      "eval.csv            100%[===================>]  12.74K  --.-KB/s    in 0.007s  \n",
      "\n",
      "2020-03-06 11:42:56 (1.81 MB/s) - ‘eval.csv’ saved [13049/13049]\n",
      "\n",
      "--2020-03-06 11:42:56--  https://raw.githubusercontent.com/keras-team/autokeras/master/tests/fixtures/titanic/train.csv\n",
      "Resolving raw.githubusercontent.com (raw.githubusercontent.com)... 151.101.48.133\n",
      "Connecting to raw.githubusercontent.com (raw.githubusercontent.com)|151.101.48.133|:443... connected.\n",
      "HTTP request sent, awaiting response... 200 OK\n",
      "Length: 30874 (30K) [text/plain]\n",
      "Saving to: ‘train.csv’\n",
      "\n",
      "train.csv           100%[===================>]  30.15K  --.-KB/s    in 0.009s  \n",
      "\n",
      "2020-03-06 11:42:56 (3.14 MB/s) - ‘train.csv’ saved [30874/30874]\n",
      "\n"
     ]
    }
   ],
   "source": [
    "! wget https://raw.githubusercontent.com/keras-team/autokeras/master/tests/fixtures/titanic/eval.csv\n",
    "! wget https://raw.githubusercontent.com/keras-team/autokeras/master/tests/fixtures/titanic/train.csv"
   ]
  },
  {
   "cell_type": "markdown",
   "metadata": {},
   "source": [
    "## Running the Autokeras trainer"
   ]
  },
  {
   "cell_type": "code",
   "execution_count": 0,
   "metadata": {
    "colab": {
     "base_uri": "https://localhost:8080/",
     "height": 1000
    },
    "colab_type": "code",
    "id": "5as1O4HDVeEb",
    "outputId": "9d0ff7fb-4206-4779-ff00-bcdb723f8ac7"
   },
   "outputs": [
    {
     "name": "stdout",
     "output_type": "stream",
     "text": [
      "Train for 16 steps, validate for 4 steps\n",
      "Epoch 1/10\n",
      "16/16 [==============================] - 1s 38ms/step - loss: 1.4087 - accuracy: 0.6375 - val_loss: 0.7840 - val_accuracy: 0.5920\n",
      "Epoch 2/10\n",
      "16/16 [==============================] - 0s 10ms/step - loss: 0.9683 - accuracy: 0.5737 - val_loss: 0.5535 - val_accuracy: 0.7200\n",
      "Epoch 3/10\n",
      "16/16 [==============================] - 0s 15ms/step - loss: 0.6943 - accuracy: 0.6355 - val_loss: 0.5505 - val_accuracy: 0.7360\n",
      "Epoch 4/10\n",
      "16/16 [==============================] - 0s 7ms/step - loss: 0.6406 - accuracy: 0.6474 - val_loss: 0.5294 - val_accuracy: 0.7280\n",
      "Epoch 5/10\n",
      "16/16 [==============================] - 0s 10ms/step - loss: 0.6057 - accuracy: 0.6813 - val_loss: 0.5220 - val_accuracy: 0.7520\n",
      "Epoch 6/10\n",
      "16/16 [==============================] - 0s 6ms/step - loss: 0.6105 - accuracy: 0.6673 - val_loss: 0.5246 - val_accuracy: 0.7520\n",
      "Epoch 7/10\n",
      "16/16 [==============================] - 0s 6ms/step - loss: 0.6091 - accuracy: 0.6713 - val_loss: 0.5224 - val_accuracy: 0.7520\n",
      "Epoch 8/10\n",
      "16/16 [==============================] - 0s 8ms/step - loss: 0.6026 - accuracy: 0.6773 - val_loss: 0.5179 - val_accuracy: 0.7600\n",
      "Epoch 9/10\n",
      "16/16 [==============================] - 0s 6ms/step - loss: 0.5992 - accuracy: 0.6773 - val_loss: 0.5179 - val_accuracy: 0.7600\n",
      "Epoch 10/10\n",
      "16/16 [==============================] - 0s 10ms/step - loss: 0.5933 - accuracy: 0.6833 - val_loss: 0.5128 - val_accuracy: 0.7840\n"
     ]
    },
    {
     "data": {
      "text/html": [
       "<span style=\"color:#4527A0\"><h1 style=\"font-size:18px\">Trial complete</h1></span>"
      ],
      "text/plain": [
       "<IPython.core.display.HTML object>"
      ]
     },
     "metadata": {
      "tags": []
     },
     "output_type": "display_data"
    },
    {
     "data": {
      "text/html": [
       "<span style=\"color:#4527A0\"><h1 style=\"font-size:18px\">Trial summary</h1></span>"
      ],
      "text/plain": [
       "<IPython.core.display.HTML object>"
      ]
     },
     "metadata": {
      "tags": []
     },
     "output_type": "display_data"
    },
    {
     "data": {
      "text/html": [
       "<span style=\"color:cyan\"> |-Trial ID: 686550bfb14588f3839f7be1108c25ff</span>"
      ],
      "text/plain": [
       "<IPython.core.display.HTML object>"
      ]
     },
     "metadata": {
      "tags": []
     },
     "output_type": "display_data"
    },
    {
     "data": {
      "text/html": [
       "<span style=\"color:cyan\"> |-Score: 0.7839999794960022</span>"
      ],
      "text/plain": [
       "<IPython.core.display.HTML object>"
      ]
     },
     "metadata": {
      "tags": []
     },
     "output_type": "display_data"
    },
    {
     "data": {
      "text/html": [
       "<span style=\"color:cyan\"> |-Best step: 0</span>"
      ],
      "text/plain": [
       "<IPython.core.display.HTML object>"
      ]
     },
     "metadata": {
      "tags": []
     },
     "output_type": "display_data"
    },
    {
     "data": {
      "text/html": [
       "<span style=\"color:#7E57C2\"><h2 style=\"font-size:16px\">Hyperparameters:</h2></span>"
      ],
      "text/plain": [
       "<IPython.core.display.HTML object>"
      ]
     },
     "metadata": {
      "tags": []
     },
     "output_type": "display_data"
    },
    {
     "data": {
      "text/html": [
       "<span style=\"color:cyan\"> |-classification_head_1/dropout_rate: 0</span>"
      ],
      "text/plain": [
       "<IPython.core.display.HTML object>"
      ]
     },
     "metadata": {
      "tags": []
     },
     "output_type": "display_data"
    },
    {
     "data": {
      "text/html": [
       "<span style=\"color:blue\"> |-optimizer: adam</span>"
      ],
      "text/plain": [
       "<IPython.core.display.HTML object>"
      ]
     },
     "metadata": {
      "tags": []
     },
     "output_type": "display_data"
    },
    {
     "data": {
      "text/html": [
       "<span style=\"color:cyan\"> |-structured_data_block_1/dense_block_1/dropout_rate: 0</span>"
      ],
      "text/plain": [
       "<IPython.core.display.HTML object>"
      ]
     },
     "metadata": {
      "tags": []
     },
     "output_type": "display_data"
    },
    {
     "data": {
      "text/html": [
       "<span style=\"color:blue\"> |-structured_data_block_1/dense_block_1/num_layers: 2</span>"
      ],
      "text/plain": [
       "<IPython.core.display.HTML object>"
      ]
     },
     "metadata": {
      "tags": []
     },
     "output_type": "display_data"
    },
    {
     "data": {
      "text/html": [
       "<span style=\"color:cyan\"> |-structured_data_block_1/dense_block_1/units_0: 32</span>"
      ],
      "text/plain": [
       "<IPython.core.display.HTML object>"
      ]
     },
     "metadata": {
      "tags": []
     },
     "output_type": "display_data"
    },
    {
     "data": {
      "text/html": [
       "<span style=\"color:blue\"> |-structured_data_block_1/dense_block_1/units_1: 32</span>"
      ],
      "text/plain": [
       "<IPython.core.display.HTML object>"
      ]
     },
     "metadata": {
      "tags": []
     },
     "output_type": "display_data"
    },
    {
     "data": {
      "text/html": [
       "<span style=\"color:cyan\"> |-structured_data_block_1/dense_block_1/use_batchnorm: False</span>"
      ],
      "text/plain": [
       "<IPython.core.display.HTML object>"
      ]
     },
     "metadata": {
      "tags": []
     },
     "output_type": "display_data"
    },
    {
     "name": "stdout",
     "output_type": "stream",
     "text": [
      "Train for 16 steps, validate for 4 steps\n",
      "Epoch 1/10\n",
      "16/16 [==============================] - 1s 40ms/step - loss: 1.4925 - accuracy: 0.5956 - val_loss: 0.9052 - val_accuracy: 0.3680\n",
      "Epoch 2/10\n",
      "16/16 [==============================] - 0s 10ms/step - loss: 1.0690 - accuracy: 0.5777 - val_loss: 0.6772 - val_accuracy: 0.6960\n",
      "Epoch 3/10\n",
      "16/16 [==============================] - 0s 5ms/step - loss: 1.0922 - accuracy: 0.5438 - val_loss: 0.5789 - val_accuracy: 0.6960\n",
      "Epoch 4/10\n",
      "16/16 [==============================] - 0s 11ms/step - loss: 1.1105 - accuracy: 0.5398 - val_loss: 0.5365 - val_accuracy: 0.7360\n",
      "Epoch 5/10\n",
      "16/16 [==============================] - 0s 15ms/step - loss: 0.7715 - accuracy: 0.6255 - val_loss: 0.5135 - val_accuracy: 0.7440\n",
      "Epoch 6/10\n",
      "16/16 [==============================] - 0s 6ms/step - loss: 0.9280 - accuracy: 0.5837 - val_loss: 0.5419 - val_accuracy: 0.6960\n",
      "Epoch 7/10\n",
      "16/16 [==============================] - 0s 5ms/step - loss: 0.8938 - accuracy: 0.6056 - val_loss: 0.5671 - val_accuracy: 0.7200\n",
      "Epoch 8/10\n",
      "16/16 [==============================] - 0s 6ms/step - loss: 0.9390 - accuracy: 0.5896 - val_loss: 0.5224 - val_accuracy: 0.7440\n",
      "Epoch 9/10\n",
      "16/16 [==============================] - 0s 9ms/step - loss: 0.8742 - accuracy: 0.6255 - val_loss: 0.5668 - val_accuracy: 0.7600\n",
      "Epoch 10/10\n",
      "16/16 [==============================] - 0s 6ms/step - loss: 0.8849 - accuracy: 0.6135 - val_loss: 0.5560 - val_accuracy: 0.7200\n"
     ]
    },
    {
     "data": {
      "text/html": [
       "<span style=\"color:#4527A0\"><h1 style=\"font-size:18px\">Trial complete</h1></span>"
      ],
      "text/plain": [
       "<IPython.core.display.HTML object>"
      ]
     },
     "metadata": {
      "tags": []
     },
     "output_type": "display_data"
    },
    {
     "data": {
      "text/html": [
       "<span style=\"color:#4527A0\"><h1 style=\"font-size:18px\">Trial summary</h1></span>"
      ],
      "text/plain": [
       "<IPython.core.display.HTML object>"
      ]
     },
     "metadata": {
      "tags": []
     },
     "output_type": "display_data"
    },
    {
     "data": {
      "text/html": [
       "<span style=\"color:cyan\"> |-Trial ID: 5c895770382fe86f5795af684fef1ba2</span>"
      ],
      "text/plain": [
       "<IPython.core.display.HTML object>"
      ]
     },
     "metadata": {
      "tags": []
     },
     "output_type": "display_data"
    },
    {
     "data": {
      "text/html": [
       "<span style=\"color:cyan\"> |-Score: 0.7599999904632568</span>"
      ],
      "text/plain": [
       "<IPython.core.display.HTML object>"
      ]
     },
     "metadata": {
      "tags": []
     },
     "output_type": "display_data"
    },
    {
     "data": {
      "text/html": [
       "<span style=\"color:cyan\"> |-Best step: 0</span>"
      ],
      "text/plain": [
       "<IPython.core.display.HTML object>"
      ]
     },
     "metadata": {
      "tags": []
     },
     "output_type": "display_data"
    },
    {
     "data": {
      "text/html": [
       "<span style=\"color:#7E57C2\"><h2 style=\"font-size:16px\">Hyperparameters:</h2></span>"
      ],
      "text/plain": [
       "<IPython.core.display.HTML object>"
      ]
     },
     "metadata": {
      "tags": []
     },
     "output_type": "display_data"
    },
    {
     "data": {
      "text/html": [
       "<span style=\"color:cyan\"> |-classification_head_1/dropout_rate: 0</span>"
      ],
      "text/plain": [
       "<IPython.core.display.HTML object>"
      ]
     },
     "metadata": {
      "tags": []
     },
     "output_type": "display_data"
    },
    {
     "data": {
      "text/html": [
       "<span style=\"color:blue\"> |-optimizer: adam</span>"
      ],
      "text/plain": [
       "<IPython.core.display.HTML object>"
      ]
     },
     "metadata": {
      "tags": []
     },
     "output_type": "display_data"
    },
    {
     "data": {
      "text/html": [
       "<span style=\"color:cyan\"> |-structured_data_block_1/dense_block_1/dropout_rate: 0.25</span>"
      ],
      "text/plain": [
       "<IPython.core.display.HTML object>"
      ]
     },
     "metadata": {
      "tags": []
     },
     "output_type": "display_data"
    },
    {
     "data": {
      "text/html": [
       "<span style=\"color:blue\"> |-structured_data_block_1/dense_block_1/num_layers: 2</span>"
      ],
      "text/plain": [
       "<IPython.core.display.HTML object>"
      ]
     },
     "metadata": {
      "tags": []
     },
     "output_type": "display_data"
    },
    {
     "data": {
      "text/html": [
       "<span style=\"color:cyan\"> |-structured_data_block_1/dense_block_1/units_0: 16</span>"
      ],
      "text/plain": [
       "<IPython.core.display.HTML object>"
      ]
     },
     "metadata": {
      "tags": []
     },
     "output_type": "display_data"
    },
    {
     "data": {
      "text/html": [
       "<span style=\"color:blue\"> |-structured_data_block_1/dense_block_1/units_1: 512</span>"
      ],
      "text/plain": [
       "<IPython.core.display.HTML object>"
      ]
     },
     "metadata": {
      "tags": []
     },
     "output_type": "display_data"
    },
    {
     "data": {
      "text/html": [
       "<span style=\"color:cyan\"> |-structured_data_block_1/dense_block_1/use_batchnorm: False</span>"
      ],
      "text/plain": [
       "<IPython.core.display.HTML object>"
      ]
     },
     "metadata": {
      "tags": []
     },
     "output_type": "display_data"
    },
    {
     "name": "stdout",
     "output_type": "stream",
     "text": [
      "Train for 16 steps, validate for 4 steps\n",
      "Epoch 1/10\n",
      "16/16 [==============================] - 1s 45ms/step - loss: 0.7925 - accuracy: 0.5916 - val_loss: 0.5303 - val_accuracy: 0.7040\n",
      "Epoch 2/10\n",
      "16/16 [==============================] - 0s 10ms/step - loss: 0.6739 - accuracy: 0.6295 - val_loss: 0.5137 - val_accuracy: 0.7440\n",
      "Epoch 3/10\n",
      "16/16 [==============================] - 0s 6ms/step - loss: 0.6646 - accuracy: 0.6753 - val_loss: 0.5105 - val_accuracy: 0.7360\n",
      "Epoch 4/10\n",
      "16/16 [==============================] - 0s 6ms/step - loss: 0.6224 - accuracy: 0.6952 - val_loss: 0.5199 - val_accuracy: 0.7120\n",
      "Epoch 5/10\n",
      "16/16 [==============================] - 0s 6ms/step - loss: 0.6722 - accuracy: 0.6753 - val_loss: 0.5356 - val_accuracy: 0.6800\n",
      "Epoch 6/10\n",
      "16/16 [==============================] - 0s 6ms/step - loss: 0.5901 - accuracy: 0.7092 - val_loss: 0.5013 - val_accuracy: 0.7440\n",
      "Epoch 7/10\n",
      "16/16 [==============================] - 0s 9ms/step - loss: 0.6103 - accuracy: 0.7112 - val_loss: 0.4885 - val_accuracy: 0.7600\n",
      "Epoch 8/10\n",
      "16/16 [==============================] - 0s 6ms/step - loss: 0.5981 - accuracy: 0.7470 - val_loss: 0.5151 - val_accuracy: 0.6800\n",
      "Epoch 9/10\n",
      "16/16 [==============================] - 0s 10ms/step - loss: 0.5845 - accuracy: 0.7410 - val_loss: 0.4671 - val_accuracy: 0.7840\n",
      "Epoch 10/10\n",
      "16/16 [==============================] - 0s 7ms/step - loss: 0.5740 - accuracy: 0.7530 - val_loss: 0.4890 - val_accuracy: 0.7280\n"
     ]
    },
    {
     "data": {
      "text/html": [
       "<span style=\"color:#4527A0\"><h1 style=\"font-size:18px\">Trial complete</h1></span>"
      ],
      "text/plain": [
       "<IPython.core.display.HTML object>"
      ]
     },
     "metadata": {
      "tags": []
     },
     "output_type": "display_data"
    },
    {
     "data": {
      "text/html": [
       "<span style=\"color:#4527A0\"><h1 style=\"font-size:18px\">Trial summary</h1></span>"
      ],
      "text/plain": [
       "<IPython.core.display.HTML object>"
      ]
     },
     "metadata": {
      "tags": []
     },
     "output_type": "display_data"
    },
    {
     "data": {
      "text/html": [
       "<span style=\"color:cyan\"> |-Trial ID: 5bd7a84a60e40379eaea6ee2bb6bf876</span>"
      ],
      "text/plain": [
       "<IPython.core.display.HTML object>"
      ]
     },
     "metadata": {
      "tags": []
     },
     "output_type": "display_data"
    },
    {
     "data": {
      "text/html": [
       "<span style=\"color:cyan\"> |-Score: 0.7839999794960022</span>"
      ],
      "text/plain": [
       "<IPython.core.display.HTML object>"
      ]
     },
     "metadata": {
      "tags": []
     },
     "output_type": "display_data"
    },
    {
     "data": {
      "text/html": [
       "<span style=\"color:cyan\"> |-Best step: 0</span>"
      ],
      "text/plain": [
       "<IPython.core.display.HTML object>"
      ]
     },
     "metadata": {
      "tags": []
     },
     "output_type": "display_data"
    },
    {
     "data": {
      "text/html": [
       "<span style=\"color:#7E57C2\"><h2 style=\"font-size:16px\">Hyperparameters:</h2></span>"
      ],
      "text/plain": [
       "<IPython.core.display.HTML object>"
      ]
     },
     "metadata": {
      "tags": []
     },
     "output_type": "display_data"
    },
    {
     "data": {
      "text/html": [
       "<span style=\"color:cyan\"> |-classification_head_1/dropout_rate: 0</span>"
      ],
      "text/plain": [
       "<IPython.core.display.HTML object>"
      ]
     },
     "metadata": {
      "tags": []
     },
     "output_type": "display_data"
    },
    {
     "data": {
      "text/html": [
       "<span style=\"color:blue\"> |-optimizer: adam</span>"
      ],
      "text/plain": [
       "<IPython.core.display.HTML object>"
      ]
     },
     "metadata": {
      "tags": []
     },
     "output_type": "display_data"
    },
    {
     "data": {
      "text/html": [
       "<span style=\"color:cyan\"> |-structured_data_block_1/dense_block_1/dropout_rate: 0.5</span>"
      ],
      "text/plain": [
       "<IPython.core.display.HTML object>"
      ]
     },
     "metadata": {
      "tags": []
     },
     "output_type": "display_data"
    },
    {
     "data": {
      "text/html": [
       "<span style=\"color:blue\"> |-structured_data_block_1/dense_block_1/num_layers: 1</span>"
      ],
      "text/plain": [
       "<IPython.core.display.HTML object>"
      ]
     },
     "metadata": {
      "tags": []
     },
     "output_type": "display_data"
    },
    {
     "data": {
      "text/html": [
       "<span style=\"color:cyan\"> |-structured_data_block_1/dense_block_1/units_0: 256</span>"
      ],
      "text/plain": [
       "<IPython.core.display.HTML object>"
      ]
     },
     "metadata": {
      "tags": []
     },
     "output_type": "display_data"
    },
    {
     "data": {
      "text/html": [
       "<span style=\"color:blue\"> |-structured_data_block_1/dense_block_1/units_1: 32</span>"
      ],
      "text/plain": [
       "<IPython.core.display.HTML object>"
      ]
     },
     "metadata": {
      "tags": []
     },
     "output_type": "display_data"
    },
    {
     "data": {
      "text/html": [
       "<span style=\"color:cyan\"> |-structured_data_block_1/dense_block_1/use_batchnorm: True</span>"
      ],
      "text/plain": [
       "<IPython.core.display.HTML object>"
      ]
     },
     "metadata": {
      "tags": []
     },
     "output_type": "display_data"
    },
    {
     "name": "stdout",
     "output_type": "stream",
     "text": [
      "Train for 16 steps, validate for 4 steps\n",
      "Epoch 1/10\n",
      "16/16 [==============================] - 1s 37ms/step - loss: 0.6820 - accuracy: 0.6394 - val_loss: 0.5704 - val_accuracy: 0.7200\n",
      "Epoch 2/10\n",
      "16/16 [==============================] - 0s 6ms/step - loss: 0.6593 - accuracy: 0.6494 - val_loss: 0.5942 - val_accuracy: 0.7200\n",
      "Epoch 3/10\n",
      "16/16 [==============================] - 0s 5ms/step - loss: 0.6503 - accuracy: 0.6434 - val_loss: 0.5581 - val_accuracy: 0.7120\n",
      "Epoch 4/10\n",
      "16/16 [==============================] - 0s 5ms/step - loss: 0.6258 - accuracy: 0.6773 - val_loss: 0.5542 - val_accuracy: 0.7200\n",
      "Epoch 5/10\n",
      "16/16 [==============================] - 0s 5ms/step - loss: 0.6198 - accuracy: 0.6673 - val_loss: 0.5430 - val_accuracy: 0.7200\n",
      "Epoch 6/10\n",
      "16/16 [==============================] - 0s 8ms/step - loss: 0.6126 - accuracy: 0.6713 - val_loss: 0.5340 - val_accuracy: 0.7280\n",
      "Epoch 7/10\n",
      "16/16 [==============================] - 0s 5ms/step - loss: 0.6037 - accuracy: 0.6793 - val_loss: 0.5289 - val_accuracy: 0.7120\n",
      "Epoch 8/10\n",
      "16/16 [==============================] - 0s 5ms/step - loss: 0.5983 - accuracy: 0.6753 - val_loss: 0.5247 - val_accuracy: 0.7200\n",
      "Epoch 9/10\n",
      "16/16 [==============================] - 0s 6ms/step - loss: 0.5950 - accuracy: 0.6733 - val_loss: 0.5211 - val_accuracy: 0.7200\n",
      "Epoch 10/10\n",
      "16/16 [==============================] - 0s 5ms/step - loss: 0.5906 - accuracy: 0.6793 - val_loss: 0.5171 - val_accuracy: 0.7200\n"
     ]
    },
    {
     "data": {
      "text/html": [
       "<span style=\"color:#4527A0\"><h1 style=\"font-size:18px\">Trial complete</h1></span>"
      ],
      "text/plain": [
       "<IPython.core.display.HTML object>"
      ]
     },
     "metadata": {
      "tags": []
     },
     "output_type": "display_data"
    },
    {
     "data": {
      "text/html": [
       "<span style=\"color:#4527A0\"><h1 style=\"font-size:18px\">Trial summary</h1></span>"
      ],
      "text/plain": [
       "<IPython.core.display.HTML object>"
      ]
     },
     "metadata": {
      "tags": []
     },
     "output_type": "display_data"
    },
    {
     "data": {
      "text/html": [
       "<span style=\"color:cyan\"> |-Trial ID: 0cf2dba2a1c0912b10fe692a9c83ef4b</span>"
      ],
      "text/plain": [
       "<IPython.core.display.HTML object>"
      ]
     },
     "metadata": {
      "tags": []
     },
     "output_type": "display_data"
    },
    {
     "data": {
      "text/html": [
       "<span style=\"color:cyan\"> |-Score: 0.7279999852180481</span>"
      ],
      "text/plain": [
       "<IPython.core.display.HTML object>"
      ]
     },
     "metadata": {
      "tags": []
     },
     "output_type": "display_data"
    },
    {
     "data": {
      "text/html": [
       "<span style=\"color:cyan\"> |-Best step: 0</span>"
      ],
      "text/plain": [
       "<IPython.core.display.HTML object>"
      ]
     },
     "metadata": {
      "tags": []
     },
     "output_type": "display_data"
    },
    {
     "data": {
      "text/html": [
       "<span style=\"color:#7E57C2\"><h2 style=\"font-size:16px\">Hyperparameters:</h2></span>"
      ],
      "text/plain": [
       "<IPython.core.display.HTML object>"
      ]
     },
     "metadata": {
      "tags": []
     },
     "output_type": "display_data"
    },
    {
     "data": {
      "text/html": [
       "<span style=\"color:cyan\"> |-classification_head_1/dropout_rate: 0.0</span>"
      ],
      "text/plain": [
       "<IPython.core.display.HTML object>"
      ]
     },
     "metadata": {
      "tags": []
     },
     "output_type": "display_data"
    },
    {
     "data": {
      "text/html": [
       "<span style=\"color:blue\"> |-optimizer: adam</span>"
      ],
      "text/plain": [
       "<IPython.core.display.HTML object>"
      ]
     },
     "metadata": {
      "tags": []
     },
     "output_type": "display_data"
    },
    {
     "data": {
      "text/html": [
       "<span style=\"color:cyan\"> |-structured_data_block_1/dense_block_1/dropout_rate: 0</span>"
      ],
      "text/plain": [
       "<IPython.core.display.HTML object>"
      ]
     },
     "metadata": {
      "tags": []
     },
     "output_type": "display_data"
    },
    {
     "data": {
      "text/html": [
       "<span style=\"color:blue\"> |-structured_data_block_1/dense_block_1/num_layers: 2</span>"
      ],
      "text/plain": [
       "<IPython.core.display.HTML object>"
      ]
     },
     "metadata": {
      "tags": []
     },
     "output_type": "display_data"
    },
    {
     "data": {
      "text/html": [
       "<span style=\"color:cyan\"> |-structured_data_block_1/dense_block_1/units_0: 32</span>"
      ],
      "text/plain": [
       "<IPython.core.display.HTML object>"
      ]
     },
     "metadata": {
      "tags": []
     },
     "output_type": "display_data"
    },
    {
     "data": {
      "text/html": [
       "<span style=\"color:blue\"> |-structured_data_block_1/dense_block_1/units_1: 32</span>"
      ],
      "text/plain": [
       "<IPython.core.display.HTML object>"
      ]
     },
     "metadata": {
      "tags": []
     },
     "output_type": "display_data"
    },
    {
     "data": {
      "text/html": [
       "<span style=\"color:cyan\"> |-structured_data_block_1/dense_block_1/use_batchnorm: False</span>"
      ],
      "text/plain": [
       "<IPython.core.display.HTML object>"
      ]
     },
     "metadata": {
      "tags": []
     },
     "output_type": "display_data"
    },
    {
     "name": "stdout",
     "output_type": "stream",
     "text": [
      "Train for 16 steps, validate for 4 steps\n",
      "Epoch 1/10\n",
      "16/16 [==============================] - 1s 46ms/step - loss: 0.7112 - accuracy: 0.5936 - val_loss: 1.0621 - val_accuracy: 0.3680\n",
      "Epoch 2/10\n",
      "16/16 [==============================] - 0s 10ms/step - loss: 0.6541 - accuracy: 0.6534 - val_loss: 0.6643 - val_accuracy: 0.5440\n",
      "Epoch 3/10\n",
      "16/16 [==============================] - 0s 14ms/step - loss: 0.6270 - accuracy: 0.6813 - val_loss: 0.5716 - val_accuracy: 0.7680\n",
      "Epoch 4/10\n",
      "16/16 [==============================] - 0s 6ms/step - loss: 0.6106 - accuracy: 0.6873 - val_loss: 0.5515 - val_accuracy: 0.7440\n",
      "Epoch 5/10\n",
      "16/16 [==============================] - 0s 6ms/step - loss: 0.5991 - accuracy: 0.7012 - val_loss: 0.5311 - val_accuracy: 0.7680\n",
      "Epoch 6/10\n",
      "16/16 [==============================] - 0s 6ms/step - loss: 0.5877 - accuracy: 0.6972 - val_loss: 0.5206 - val_accuracy: 0.7600\n",
      "Epoch 7/10\n",
      "16/16 [==============================] - 0s 7ms/step - loss: 0.5797 - accuracy: 0.7012 - val_loss: 0.5144 - val_accuracy: 0.7680\n",
      "Epoch 8/10\n",
      "16/16 [==============================] - 0s 6ms/step - loss: 0.5686 - accuracy: 0.7112 - val_loss: 0.5097 - val_accuracy: 0.7680\n",
      "Epoch 9/10\n",
      "16/16 [==============================] - 0s 6ms/step - loss: 0.5595 - accuracy: 0.7211 - val_loss: 0.5047 - val_accuracy: 0.7680\n",
      "Epoch 10/10\n",
      "16/16 [==============================] - 0s 6ms/step - loss: 0.5493 - accuracy: 0.7171 - val_loss: 0.5027 - val_accuracy: 0.7680\n"
     ]
    },
    {
     "data": {
      "text/html": [
       "<span style=\"color:#4527A0\"><h1 style=\"font-size:18px\">Trial complete</h1></span>"
      ],
      "text/plain": [
       "<IPython.core.display.HTML object>"
      ]
     },
     "metadata": {
      "tags": []
     },
     "output_type": "display_data"
    },
    {
     "data": {
      "text/html": [
       "<span style=\"color:#4527A0\"><h1 style=\"font-size:18px\">Trial summary</h1></span>"
      ],
      "text/plain": [
       "<IPython.core.display.HTML object>"
      ]
     },
     "metadata": {
      "tags": []
     },
     "output_type": "display_data"
    },
    {
     "data": {
      "text/html": [
       "<span style=\"color:cyan\"> |-Trial ID: f1ccaf87019ae233a50d0a2c881d951d</span>"
      ],
      "text/plain": [
       "<IPython.core.display.HTML object>"
      ]
     },
     "metadata": {
      "tags": []
     },
     "output_type": "display_data"
    },
    {
     "data": {
      "text/html": [
       "<span style=\"color:cyan\"> |-Score: 0.7680000066757202</span>"
      ],
      "text/plain": [
       "<IPython.core.display.HTML object>"
      ]
     },
     "metadata": {
      "tags": []
     },
     "output_type": "display_data"
    },
    {
     "data": {
      "text/html": [
       "<span style=\"color:cyan\"> |-Best step: 0</span>"
      ],
      "text/plain": [
       "<IPython.core.display.HTML object>"
      ]
     },
     "metadata": {
      "tags": []
     },
     "output_type": "display_data"
    },
    {
     "data": {
      "text/html": [
       "<span style=\"color:#7E57C2\"><h2 style=\"font-size:16px\">Hyperparameters:</h2></span>"
      ],
      "text/plain": [
       "<IPython.core.display.HTML object>"
      ]
     },
     "metadata": {
      "tags": []
     },
     "output_type": "display_data"
    },
    {
     "data": {
      "text/html": [
       "<span style=\"color:cyan\"> |-classification_head_1/dropout_rate: 0</span>"
      ],
      "text/plain": [
       "<IPython.core.display.HTML object>"
      ]
     },
     "metadata": {
      "tags": []
     },
     "output_type": "display_data"
    },
    {
     "data": {
      "text/html": [
       "<span style=\"color:blue\"> |-optimizer: adam</span>"
      ],
      "text/plain": [
       "<IPython.core.display.HTML object>"
      ]
     },
     "metadata": {
      "tags": []
     },
     "output_type": "display_data"
    },
    {
     "data": {
      "text/html": [
       "<span style=\"color:cyan\"> |-structured_data_block_1/dense_block_1/dropout_rate: 0.0</span>"
      ],
      "text/plain": [
       "<IPython.core.display.HTML object>"
      ]
     },
     "metadata": {
      "tags": []
     },
     "output_type": "display_data"
    },
    {
     "data": {
      "text/html": [
       "<span style=\"color:blue\"> |-structured_data_block_1/dense_block_1/num_layers: 1</span>"
      ],
      "text/plain": [
       "<IPython.core.display.HTML object>"
      ]
     },
     "metadata": {
      "tags": []
     },
     "output_type": "display_data"
    },
    {
     "data": {
      "text/html": [
       "<span style=\"color:cyan\"> |-structured_data_block_1/dense_block_1/units_0: 64</span>"
      ],
      "text/plain": [
       "<IPython.core.display.HTML object>"
      ]
     },
     "metadata": {
      "tags": []
     },
     "output_type": "display_data"
    },
    {
     "data": {
      "text/html": [
       "<span style=\"color:blue\"> |-structured_data_block_1/dense_block_1/units_1: 64</span>"
      ],
      "text/plain": [
       "<IPython.core.display.HTML object>"
      ]
     },
     "metadata": {
      "tags": []
     },
     "output_type": "display_data"
    },
    {
     "data": {
      "text/html": [
       "<span style=\"color:cyan\"> |-structured_data_block_1/dense_block_1/use_batchnorm: True</span>"
      ],
      "text/plain": [
       "<IPython.core.display.HTML object>"
      ]
     },
     "metadata": {
      "tags": []
     },
     "output_type": "display_data"
    },
    {
     "name": "stdout",
     "output_type": "stream",
     "text": [
      "INFO:tensorflow:Oracle triggered exit\n",
      "Train for 20 steps, validate for 4 steps\n",
      "Epoch 1/10\n",
      "20/20 [==============================] - 1s 27ms/step - loss: 5.2696 - accuracy: 0.3876 - val_loss: 1.0674 - val_accuracy: 0.3600\n",
      "Epoch 2/10\n",
      "20/20 [==============================] - 0s 6ms/step - loss: 1.1522 - accuracy: 0.5917 - val_loss: 0.6298 - val_accuracy: 0.7440\n",
      "Epoch 3/10\n",
      "20/20 [==============================] - 0s 5ms/step - loss: 0.8182 - accuracy: 0.6667 - val_loss: 0.5625 - val_accuracy: 0.7280\n",
      "Epoch 4/10\n",
      "20/20 [==============================] - 0s 5ms/step - loss: 0.6822 - accuracy: 0.6491 - val_loss: 0.5840 - val_accuracy: 0.7440\n",
      "Epoch 5/10\n",
      "20/20 [==============================] - 0s 5ms/step - loss: 0.6534 - accuracy: 0.6459 - val_loss: 0.5414 - val_accuracy: 0.7440\n",
      "Epoch 6/10\n",
      "20/20 [==============================] - 0s 5ms/step - loss: 0.6383 - accuracy: 0.6539 - val_loss: 0.5307 - val_accuracy: 0.7360\n",
      "Epoch 7/10\n",
      "20/20 [==============================] - 0s 5ms/step - loss: 0.6329 - accuracy: 0.6587 - val_loss: 0.5206 - val_accuracy: 0.7360\n",
      "Epoch 8/10\n",
      "20/20 [==============================] - 0s 5ms/step - loss: 0.6286 - accuracy: 0.6635 - val_loss: 0.5155 - val_accuracy: 0.7440\n",
      "Epoch 9/10\n",
      "20/20 [==============================] - 0s 5ms/step - loss: 0.6231 - accuracy: 0.6603 - val_loss: 0.5095 - val_accuracy: 0.7360\n",
      "Epoch 10/10\n",
      "20/20 [==============================] - 0s 5ms/step - loss: 0.6183 - accuracy: 0.6667 - val_loss: 0.5051 - val_accuracy: 0.7360\n",
      "WARNING:tensorflow:Unresolved object in checkpoint: (root).optimizer.iter\n",
      "WARNING:tensorflow:Unresolved object in checkpoint: (root).optimizer.beta_1\n",
      "WARNING:tensorflow:Unresolved object in checkpoint: (root).optimizer.beta_2\n",
      "WARNING:tensorflow:Unresolved object in checkpoint: (root).optimizer.decay\n",
      "WARNING:tensorflow:Unresolved object in checkpoint: (root).optimizer.learning_rate\n",
      "WARNING:tensorflow:A checkpoint was restored (e.g. tf.train.Checkpoint.restore or tf.keras.Model.load_weights) but not all checkpointed values were used. See above for specific issues. Use expect_partial() on the load status object, e.g. tf.train.Checkpoint.restore(...).expect_partial(), to silence these warnings, or use assert_consumed() to make the check explicit. See https://www.tensorflow.org/guide/checkpoint#loading_mechanics for details.\n",
      "WARNING:tensorflow:Unresolved object in checkpoint: (root).optimizer.iter\n",
      "WARNING:tensorflow:Unresolved object in checkpoint: (root).optimizer.beta_1\n",
      "WARNING:tensorflow:Unresolved object in checkpoint: (root).optimizer.beta_2\n",
      "WARNING:tensorflow:Unresolved object in checkpoint: (root).optimizer.decay\n",
      "WARNING:tensorflow:Unresolved object in checkpoint: (root).optimizer.learning_rate\n",
      "WARNING:tensorflow:A checkpoint was restored (e.g. tf.train.Checkpoint.restore or tf.keras.Model.load_weights) but not all checkpointed values were used. See above for specific issues. Use expect_partial() on the load status object, e.g. tf.train.Checkpoint.restore(...).expect_partial(), to silence these warnings, or use assert_consumed() to make the check explicit. See https://www.tensorflow.org/guide/checkpoint#loading_mechanics for details.\n",
      "9/9 [==============================] - 0s 15ms/step - loss: 0.5811 - accuracy: 0.7045\n",
      "Test loss: 0.5811447898546854\n",
      "Test accuracy: 0.70454544\n"
     ]
    }
   ],
   "source": [
    "clf = ak.StructuredDataClassifier(max_trials=5)\n",
    "# here x = The path to the train.csv file.\n",
    "# here y = label of target column\n",
    "# x and y can be numpy arrays as well\n",
    "clf.fit(x = 'train.csv', y='survived', epochs=10)\n",
    "predicted_y = clf.predict('eval.csv')\n",
    "#print(clf.evaluate(x = '/content/eval.csv', 'survived'))\n",
    "score = clf.evaluate(x = 'eval.csv', y='survived')\n",
    "print('Test loss:', score[0])\n",
    "print('Test accuracy:', score[1])"
   ]
  },
  {
   "cell_type": "code",
   "execution_count": 0,
   "metadata": {
    "colab": {
     "base_uri": "https://localhost:8080/",
     "height": 1000
    },
    "colab_type": "code",
    "id": "T9cctGUPYNsd",
    "outputId": "a2619bdd-93e6-46ac-a253-04fcf53989ff"
   },
   "outputs": [
    {
     "name": "stdout",
     "output_type": "stream",
     "text": [
      "WARNING:tensorflow:Unresolved object in checkpoint: (root).optimizer.iter\n",
      "WARNING:tensorflow:Unresolved object in checkpoint: (root).optimizer.beta_1\n",
      "WARNING:tensorflow:Unresolved object in checkpoint: (root).optimizer.beta_2\n",
      "WARNING:tensorflow:Unresolved object in checkpoint: (root).optimizer.decay\n",
      "WARNING:tensorflow:Unresolved object in checkpoint: (root).optimizer.learning_rate\n",
      "WARNING:tensorflow:A checkpoint was restored (e.g. tf.train.Checkpoint.restore or tf.keras.Model.load_weights) but not all checkpointed values were used. See above for specific issues. Use expect_partial() on the load status object, e.g. tf.train.Checkpoint.restore(...).expect_partial(), to silence these warnings, or use assert_consumed() to make the check explicit. See https://www.tensorflow.org/guide/checkpoint#loading_mechanics for details.\n",
      "WARNING:tensorflow:Unresolved object in checkpoint: (root).optimizer.iter\n",
      "WARNING:tensorflow:Unresolved object in checkpoint: (root).optimizer.beta_1\n",
      "WARNING:tensorflow:Unresolved object in checkpoint: (root).optimizer.beta_2\n",
      "WARNING:tensorflow:Unresolved object in checkpoint: (root).optimizer.decay\n",
      "WARNING:tensorflow:Unresolved object in checkpoint: (root).optimizer.learning_rate\n",
      "WARNING:tensorflow:A checkpoint was restored (e.g. tf.train.Checkpoint.restore or tf.keras.Model.load_weights) but not all checkpointed values were used. See above for specific issues. Use expect_partial() on the load status object, e.g. tf.train.Checkpoint.restore(...).expect_partial(), to silence these warnings, or use assert_consumed() to make the check explicit. See https://www.tensorflow.org/guide/checkpoint#loading_mechanics for details.\n"
     ]
    },
    {
     "data": {
      "image/png": "[encoded data removed]",
      "text/plain": [
       "<IPython.core.display.Image object>"
      ]
     },
     "execution_count": 13,
     "metadata": {
      "tags": []
     },
     "output_type": "execute_result"
    }
   ],
   "source": [
    "autoKerasStructuredModel = clf.export_model()\n",
    "plot_model(autoKerasStructuredModel, 'AutoKeras Structured Best Model.png')"
   ]
  },
  {
   "cell_type": "markdown",
   "metadata": {
    "colab_type": "text",
    "id": "GpDs5FSGaPur"
   },
   "source": [
    "# Multi-Modal and Multi-Task Learning\n",
    "\n",
    "This refers to presence of multiple types of data in the dataset. Example, a image can have metadata in addition to the image data. This meta data can also be use for the classification and regression tasks. Moreover, this multi modality of data results in better understanding of the data and can be used to create better neural architectures. Taking the example presented in the official documentation, the image input along with the structured metadata is classified into the correct class and also the quality is regressed between 0 and 1.\n",
    "\n",
    "<img src=\"https://i.ibb.co/ZKKCJnw/Screenshot-from-2020-03-03-02-12-13.png\" alt=\"Screenshot-from-2020-03-03-02-12-13\" border=\"0\">\n"
   ]
  },
  {
   "cell_type": "code",
   "execution_count": 0,
   "metadata": {
    "colab": {},
    "colab_type": "code",
    "id": "DRp_ka_OeRW7"
   },
   "outputs": [],
   "source": [
    "num_instances = 1000\n",
    "num_classes = 3\n",
    "# Generate random image data, structured data.\n",
    "x_image = np.random.rand(num_instances, 32, 32, 3).astype(np.float32)\n",
    "x_structured = np.random.rand(num_instances, 20).astype(np.float32)\n",
    "\n",
    "# Also generate random regression and classification targets\n",
    "y_regression = np.random.rand(num_instances, 1).astype(np.float32)\n",
    "y_classification = np.random.randint(num_classes, size=num_instances)"
   ]
  },
  {
   "cell_type": "code",
   "execution_count": 0,
   "metadata": {
    "colab": {
     "base_uri": "https://localhost:8080/",
     "height": 1000
    },
    "colab_type": "code",
    "id": "4L4yCWkHeWHW",
    "outputId": "ee5cb237-b773-45e7-ddf3-6634a3449fd9"
   },
   "outputs": [
    {
     "name": "stdout",
     "output_type": "stream",
     "text": [
      "Train for 25 steps, validate for 7 steps\n",
      "Epoch 1/10\n",
      "25/25 [==============================] - 1s 47ms/step - loss: 1.2144 - regression_head_1_loss: 0.1055 - classification_head_1_loss: 1.1089 - regression_head_1_mean_squared_error: 0.1055 - classification_head_1_accuracy: 0.3313 - val_loss: 1.1730 - val_regression_head_1_loss: 0.0826 - val_classification_head_1_loss: 1.0905 - val_regression_head_1_mean_squared_error: 0.0804 - val_classification_head_1_accuracy: 0.3700\n",
      "Epoch 2/10\n",
      "25/25 [==============================] - 0s 9ms/step - loss: 1.1905 - regression_head_1_loss: 0.0917 - classification_head_1_loss: 1.0989 - regression_head_1_mean_squared_error: 0.0917 - classification_head_1_accuracy: 0.3650 - val_loss: 1.1827 - val_regression_head_1_loss: 0.0901 - val_classification_head_1_loss: 1.0927 - val_regression_head_1_mean_squared_error: 0.0856 - val_classification_head_1_accuracy: 0.3600\n",
      "Epoch 3/10\n",
      "25/25 [==============================] - 0s 9ms/step - loss: 1.1786 - regression_head_1_loss: 0.0855 - classification_head_1_loss: 1.0931 - regression_head_1_mean_squared_error: 0.0855 - classification_head_1_accuracy: 0.3775 - val_loss: 1.1799 - val_regression_head_1_loss: 0.0871 - val_classification_head_1_loss: 1.0928 - val_regression_head_1_mean_squared_error: 0.0833 - val_classification_head_1_accuracy: 0.3700\n",
      "Epoch 4/10\n",
      "25/25 [==============================] - 0s 11ms/step - loss: 1.1765 - regression_head_1_loss: 0.0852 - classification_head_1_loss: 1.0912 - regression_head_1_mean_squared_error: 0.0852 - classification_head_1_accuracy: 0.3762 - val_loss: 1.1809 - val_regression_head_1_loss: 0.0883 - val_classification_head_1_loss: 1.0926 - val_regression_head_1_mean_squared_error: 0.0840 - val_classification_head_1_accuracy: 0.3750\n",
      "Epoch 5/10\n",
      "25/25 [==============================] - 0s 13ms/step - loss: 1.1732 - regression_head_1_loss: 0.0839 - classification_head_1_loss: 1.0893 - regression_head_1_mean_squared_error: 0.0839 - classification_head_1_accuracy: 0.3775 - val_loss: 1.1806 - val_regression_head_1_loss: 0.0880 - val_classification_head_1_loss: 1.0926 - val_regression_head_1_mean_squared_error: 0.0837 - val_classification_head_1_accuracy: 0.3850\n",
      "Epoch 6/10\n",
      "25/25 [==============================] - 0s 12ms/step - loss: 1.1705 - regression_head_1_loss: 0.0838 - classification_head_1_loss: 1.0867 - regression_head_1_mean_squared_error: 0.0838 - classification_head_1_accuracy: 0.3925 - val_loss: 1.1809 - val_regression_head_1_loss: 0.0893 - val_classification_head_1_loss: 1.0916 - val_regression_head_1_mean_squared_error: 0.0846 - val_classification_head_1_accuracy: 0.3800\n",
      "Epoch 7/10\n",
      "25/25 [==============================] - 0s 10ms/step - loss: 1.1675 - regression_head_1_loss: 0.0833 - classification_head_1_loss: 1.0841 - regression_head_1_mean_squared_error: 0.0833 - classification_head_1_accuracy: 0.4062 - val_loss: 1.1805 - val_regression_head_1_loss: 0.0888 - val_classification_head_1_loss: 1.0917 - val_regression_head_1_mean_squared_error: 0.0841 - val_classification_head_1_accuracy: 0.3900\n",
      "Epoch 8/10\n",
      "25/25 [==============================] - 0s 9ms/step - loss: 1.1646 - regression_head_1_loss: 0.0826 - classification_head_1_loss: 1.0820 - regression_head_1_mean_squared_error: 0.0826 - classification_head_1_accuracy: 0.4263 - val_loss: 1.1814 - val_regression_head_1_loss: 0.0897 - val_classification_head_1_loss: 1.0917 - val_regression_head_1_mean_squared_error: 0.0845 - val_classification_head_1_accuracy: 0.3800\n",
      "Epoch 9/10\n",
      "25/25 [==============================] - 0s 9ms/step - loss: 1.1572 - regression_head_1_loss: 0.0798 - classification_head_1_loss: 1.0774 - regression_head_1_mean_squared_error: 0.0798 - classification_head_1_accuracy: 0.4238 - val_loss: 1.1782 - val_regression_head_1_loss: 0.0882 - val_classification_head_1_loss: 1.0901 - val_regression_head_1_mean_squared_error: 0.0838 - val_classification_head_1_accuracy: 0.3850\n",
      "Epoch 10/10\n",
      "25/25 [==============================] - 0s 10ms/step - loss: 1.1497 - regression_head_1_loss: 0.0774 - classification_head_1_loss: 1.0723 - regression_head_1_mean_squared_error: 0.0774 - classification_head_1_accuracy: 0.4475 - val_loss: 1.1779 - val_regression_head_1_loss: 0.0889 - val_classification_head_1_loss: 1.0889 - val_regression_head_1_mean_squared_error: 0.0842 - val_classification_head_1_accuracy: 0.3750\n"
     ]
    },
    {
     "data": {
      "text/html": [
       "<span style=\"color:#4527A0\"><h1 style=\"font-size:18px\">Trial complete</h1></span>"
      ],
      "text/plain": [
       "<IPython.core.display.HTML object>"
      ]
     },
     "metadata": {
      "tags": []
     },
     "output_type": "display_data"
    },
    {
     "data": {
      "text/html": [
       "<span style=\"color:#4527A0\"><h1 style=\"font-size:18px\">Trial summary</h1></span>"
      ],
      "text/plain": [
       "<IPython.core.display.HTML object>"
      ]
     },
     "metadata": {
      "tags": []
     },
     "output_type": "display_data"
    },
    {
     "data": {
      "text/html": [
       "<span style=\"color:cyan\"> |-Trial ID: 6f8feb781865a332c34821fc082d46eb</span>"
      ],
      "text/plain": [
       "<IPython.core.display.HTML object>"
      ]
     },
     "metadata": {
      "tags": []
     },
     "output_type": "display_data"
    },
    {
     "data": {
      "text/html": [
       "<span style=\"color:cyan\"> |-Score: 1.1730346168790544</span>"
      ],
      "text/plain": [
       "<IPython.core.display.HTML object>"
      ]
     },
     "metadata": {
      "tags": []
     },
     "output_type": "display_data"
    },
    {
     "data": {
      "text/html": [
       "<span style=\"color:cyan\"> |-Best step: 0</span>"
      ],
      "text/plain": [
       "<IPython.core.display.HTML object>"
      ]
     },
     "metadata": {
      "tags": []
     },
     "output_type": "display_data"
    },
    {
     "data": {
      "text/html": [
       "<span style=\"color:#7E57C2\"><h2 style=\"font-size:16px\">Hyperparameters:</h2></span>"
      ],
      "text/plain": [
       "<IPython.core.display.HTML object>"
      ]
     },
     "metadata": {
      "tags": []
     },
     "output_type": "display_data"
    },
    {
     "data": {
      "text/html": [
       "<span style=\"color:cyan\"> |-classification_head_1/dropout_rate: 0</span>"
      ],
      "text/plain": [
       "<IPython.core.display.HTML object>"
      ]
     },
     "metadata": {
      "tags": []
     },
     "output_type": "display_data"
    },
    {
     "data": {
      "text/html": [
       "<span style=\"color:blue\"> |-image_block_1/augment: False</span>"
      ],
      "text/plain": [
       "<IPython.core.display.HTML object>"
      ]
     },
     "metadata": {
      "tags": []
     },
     "output_type": "display_data"
    },
    {
     "data": {
      "text/html": [
       "<span style=\"color:cyan\"> |-image_block_1/block_type: vanilla</span>"
      ],
      "text/plain": [
       "<IPython.core.display.HTML object>"
      ]
     },
     "metadata": {
      "tags": []
     },
     "output_type": "display_data"
    },
    {
     "data": {
      "text/html": [
       "<span style=\"color:blue\"> |-image_block_1/conv_block_1/dropout_rate: 0</span>"
      ],
      "text/plain": [
       "<IPython.core.display.HTML object>"
      ]
     },
     "metadata": {
      "tags": []
     },
     "output_type": "display_data"
    },
    {
     "data": {
      "text/html": [
       "<span style=\"color:cyan\"> |-image_block_1/conv_block_1/filters_0_0: 32</span>"
      ],
      "text/plain": [
       "<IPython.core.display.HTML object>"
      ]
     },
     "metadata": {
      "tags": []
     },
     "output_type": "display_data"
    },
    {
     "data": {
      "text/html": [
       "<span style=\"color:blue\"> |-image_block_1/conv_block_1/filters_0_1: 32</span>"
      ],
      "text/plain": [
       "<IPython.core.display.HTML object>"
      ]
     },
     "metadata": {
      "tags": []
     },
     "output_type": "display_data"
    },
    {
     "data": {
      "text/html": [
       "<span style=\"color:cyan\"> |-image_block_1/conv_block_1/filters_1_0: 32</span>"
      ],
      "text/plain": [
       "<IPython.core.display.HTML object>"
      ]
     },
     "metadata": {
      "tags": []
     },
     "output_type": "display_data"
    },
    {
     "data": {
      "text/html": [
       "<span style=\"color:blue\"> |-image_block_1/conv_block_1/filters_1_1: 32</span>"
      ],
      "text/plain": [
       "<IPython.core.display.HTML object>"
      ]
     },
     "metadata": {
      "tags": []
     },
     "output_type": "display_data"
    },
    {
     "data": {
      "text/html": [
       "<span style=\"color:cyan\"> |-image_block_1/conv_block_1/kernel_size: 3</span>"
      ],
      "text/plain": [
       "<IPython.core.display.HTML object>"
      ]
     },
     "metadata": {
      "tags": []
     },
     "output_type": "display_data"
    },
    {
     "data": {
      "text/html": [
       "<span style=\"color:blue\"> |-image_block_1/conv_block_1/max_pooling: True</span>"
      ],
      "text/plain": [
       "<IPython.core.display.HTML object>"
      ]
     },
     "metadata": {
      "tags": []
     },
     "output_type": "display_data"
    },
    {
     "data": {
      "text/html": [
       "<span style=\"color:cyan\"> |-image_block_1/conv_block_1/num_blocks: 2</span>"
      ],
      "text/plain": [
       "<IPython.core.display.HTML object>"
      ]
     },
     "metadata": {
      "tags": []
     },
     "output_type": "display_data"
    },
    {
     "data": {
      "text/html": [
       "<span style=\"color:blue\"> |-image_block_1/conv_block_1/num_layers: 2</span>"
      ],
      "text/plain": [
       "<IPython.core.display.HTML object>"
      ]
     },
     "metadata": {
      "tags": []
     },
     "output_type": "display_data"
    },
    {
     "data": {
      "text/html": [
       "<span style=\"color:cyan\"> |-image_block_1/conv_block_1/separable: False</span>"
      ],
      "text/plain": [
       "<IPython.core.display.HTML object>"
      ]
     },
     "metadata": {
      "tags": []
     },
     "output_type": "display_data"
    },
    {
     "data": {
      "text/html": [
       "<span style=\"color:blue\"> |-image_block_1/normalize: False</span>"
      ],
      "text/plain": [
       "<IPython.core.display.HTML object>"
      ]
     },
     "metadata": {
      "tags": []
     },
     "output_type": "display_data"
    },
    {
     "data": {
      "text/html": [
       "<span style=\"color:cyan\"> |-merge_1/merge_type: add</span>"
      ],
      "text/plain": [
       "<IPython.core.display.HTML object>"
      ]
     },
     "metadata": {
      "tags": []
     },
     "output_type": "display_data"
    },
    {
     "data": {
      "text/html": [
       "<span style=\"color:blue\"> |-optimizer: adam</span>"
      ],
      "text/plain": [
       "<IPython.core.display.HTML object>"
      ]
     },
     "metadata": {
      "tags": []
     },
     "output_type": "display_data"
    },
    {
     "data": {
      "text/html": [
       "<span style=\"color:cyan\"> |-regression_head_1/dropout_rate: 0</span>"
      ],
      "text/plain": [
       "<IPython.core.display.HTML object>"
      ]
     },
     "metadata": {
      "tags": []
     },
     "output_type": "display_data"
    },
    {
     "data": {
      "text/html": [
       "<span style=\"color:blue\"> |-structured_data_block_1/dense_block_1/dropout_rate: 0</span>"
      ],
      "text/plain": [
       "<IPython.core.display.HTML object>"
      ]
     },
     "metadata": {
      "tags": []
     },
     "output_type": "display_data"
    },
    {
     "data": {
      "text/html": [
       "<span style=\"color:cyan\"> |-structured_data_block_1/dense_block_1/num_layers: 2</span>"
      ],
      "text/plain": [
       "<IPython.core.display.HTML object>"
      ]
     },
     "metadata": {
      "tags": []
     },
     "output_type": "display_data"
    },
    {
     "data": {
      "text/html": [
       "<span style=\"color:blue\"> |-structured_data_block_1/dense_block_1/units_0: 32</span>"
      ],
      "text/plain": [
       "<IPython.core.display.HTML object>"
      ]
     },
     "metadata": {
      "tags": []
     },
     "output_type": "display_data"
    },
    {
     "data": {
      "text/html": [
       "<span style=\"color:cyan\"> |-structured_data_block_1/dense_block_1/units_1: 32</span>"
      ],
      "text/plain": [
       "<IPython.core.display.HTML object>"
      ]
     },
     "metadata": {
      "tags": []
     },
     "output_type": "display_data"
    },
    {
     "data": {
      "text/html": [
       "<span style=\"color:blue\"> |-structured_data_block_1/dense_block_1/use_batchnorm: False</span>"
      ],
      "text/plain": [
       "<IPython.core.display.HTML object>"
      ]
     },
     "metadata": {
      "tags": []
     },
     "output_type": "display_data"
    },
    {
     "name": "stdout",
     "output_type": "stream",
     "text": [
      "Train for 25 steps, validate for 7 steps\n",
      "Epoch 1/10\n",
      "25/25 [==============================] - 3s 112ms/step - loss: 14.2468 - regression_head_1_loss: 12.9721 - classification_head_1_loss: 1.2747 - regression_head_1_mean_squared_error: 12.9721 - classification_head_1_accuracy: 0.3300 - val_loss: 1.3221 - val_regression_head_1_loss: 0.2217 - val_classification_head_1_loss: 1.1004 - val_regression_head_1_mean_squared_error: 0.2017 - val_classification_head_1_accuracy: 0.3500\n",
      "Epoch 2/10\n",
      "25/25 [==============================] - 1s 28ms/step - loss: 2.7131 - regression_head_1_loss: 1.7073 - classification_head_1_loss: 1.0058 - regression_head_1_mean_squared_error: 1.7073 - classification_head_1_accuracy: 0.5350 - val_loss: 1.3319 - val_regression_head_1_loss: 0.2319 - val_classification_head_1_loss: 1.1000 - val_regression_head_1_mean_squared_error: 0.2112 - val_classification_head_1_accuracy: 0.3800\n",
      "Epoch 3/10\n",
      "25/25 [==============================] - 1s 27ms/step - loss: 3.6934 - regression_head_1_loss: 2.8182 - classification_head_1_loss: 0.8752 - regression_head_1_mean_squared_error: 2.8182 - classification_head_1_accuracy: 0.6562 - val_loss: 1.3260 - val_regression_head_1_loss: 0.2258 - val_classification_head_1_loss: 1.1002 - val_regression_head_1_mean_squared_error: 0.2057 - val_classification_head_1_accuracy: 0.3850\n",
      "Epoch 4/10\n",
      "25/25 [==============================] - 1s 28ms/step - loss: 2.3111 - regression_head_1_loss: 1.4675 - classification_head_1_loss: 0.8436 - regression_head_1_mean_squared_error: 1.4675 - classification_head_1_accuracy: 0.6888 - val_loss: 1.3721 - val_regression_head_1_loss: 0.2699 - val_classification_head_1_loss: 1.1022 - val_regression_head_1_mean_squared_error: 0.2469 - val_classification_head_1_accuracy: 0.3700\n",
      "Epoch 5/10\n",
      "25/25 [==============================] - 1s 27ms/step - loss: 1.1606 - regression_head_1_loss: 0.4577 - classification_head_1_loss: 0.7030 - regression_head_1_mean_squared_error: 0.4577 - classification_head_1_accuracy: 0.8300 - val_loss: 1.3728 - val_regression_head_1_loss: 0.2655 - val_classification_head_1_loss: 1.1073 - val_regression_head_1_mean_squared_error: 0.2427 - val_classification_head_1_accuracy: 0.3700\n",
      "Epoch 6/10\n",
      "25/25 [==============================] - 1s 28ms/step - loss: 0.4354 - regression_head_1_loss: 0.0780 - classification_head_1_loss: 0.3575 - regression_head_1_mean_squared_error: 0.0780 - classification_head_1_accuracy: 0.9575 - val_loss: 1.3727 - val_regression_head_1_loss: 0.2575 - val_classification_head_1_loss: 1.1152 - val_regression_head_1_mean_squared_error: 0.2353 - val_classification_head_1_accuracy: 0.3700\n",
      "Epoch 7/10\n",
      "25/25 [==============================] - 1s 27ms/step - loss: 0.1038 - regression_head_1_loss: 0.0350 - classification_head_1_loss: 0.0688 - regression_head_1_mean_squared_error: 0.0350 - classification_head_1_accuracy: 0.9987 - val_loss: 1.3837 - val_regression_head_1_loss: 0.2576 - val_classification_head_1_loss: 1.1261 - val_regression_head_1_mean_squared_error: 0.2353 - val_classification_head_1_accuracy: 0.3700\n",
      "Epoch 8/10\n",
      "25/25 [==============================] - 1s 27ms/step - loss: 0.0638 - regression_head_1_loss: 0.0400 - classification_head_1_loss: 0.0238 - regression_head_1_mean_squared_error: 0.0400 - classification_head_1_accuracy: 0.9975 - val_loss: 1.3986 - val_regression_head_1_loss: 0.2652 - val_classification_head_1_loss: 1.1334 - val_regression_head_1_mean_squared_error: 0.2425 - val_classification_head_1_accuracy: 0.3700\n",
      "Epoch 9/10\n",
      "25/25 [==============================] - 1s 28ms/step - loss: 0.0644 - regression_head_1_loss: 0.0348 - classification_head_1_loss: 0.0296 - regression_head_1_mean_squared_error: 0.0348 - classification_head_1_accuracy: 0.9925 - val_loss: 1.4070 - val_regression_head_1_loss: 0.2661 - val_classification_head_1_loss: 1.1409 - val_regression_head_1_mean_squared_error: 0.2433 - val_classification_head_1_accuracy: 0.3700\n",
      "Epoch 10/10\n",
      "25/25 [==============================] - 1s 28ms/step - loss: 0.0698 - regression_head_1_loss: 0.0415 - classification_head_1_loss: 0.0283 - regression_head_1_mean_squared_error: 0.0415 - classification_head_1_accuracy: 0.9950 - val_loss: 1.4044 - val_regression_head_1_loss: 0.2575 - val_classification_head_1_loss: 1.1469 - val_regression_head_1_mean_squared_error: 0.2352 - val_classification_head_1_accuracy: 0.3700\n"
     ]
    },
    {
     "data": {
      "text/html": [
       "<span style=\"color:#4527A0\"><h1 style=\"font-size:18px\">Trial complete</h1></span>"
      ],
      "text/plain": [
       "<IPython.core.display.HTML object>"
      ]
     },
     "metadata": {
      "tags": []
     },
     "output_type": "display_data"
    },
    {
     "data": {
      "text/html": [
       "<span style=\"color:#4527A0\"><h1 style=\"font-size:18px\">Trial summary</h1></span>"
      ],
      "text/plain": [
       "<IPython.core.display.HTML object>"
      ]
     },
     "metadata": {
      "tags": []
     },
     "output_type": "display_data"
    },
    {
     "data": {
      "text/html": [
       "<span style=\"color:cyan\"> |-Trial ID: baddf653b20466d2df8a54e8f5814fdc</span>"
      ],
      "text/plain": [
       "<IPython.core.display.HTML object>"
      ]
     },
     "metadata": {
      "tags": []
     },
     "output_type": "display_data"
    },
    {
     "data": {
      "text/html": [
       "<span style=\"color:cyan\"> |-Score: 1.322083251816886</span>"
      ],
      "text/plain": [
       "<IPython.core.display.HTML object>"
      ]
     },
     "metadata": {
      "tags": []
     },
     "output_type": "display_data"
    },
    {
     "data": {
      "text/html": [
       "<span style=\"color:cyan\"> |-Best step: 0</span>"
      ],
      "text/plain": [
       "<IPython.core.display.HTML object>"
      ]
     },
     "metadata": {
      "tags": []
     },
     "output_type": "display_data"
    },
    {
     "data": {
      "text/html": [
       "<span style=\"color:#7E57C2\"><h2 style=\"font-size:16px\">Hyperparameters:</h2></span>"
      ],
      "text/plain": [
       "<IPython.core.display.HTML object>"
      ]
     },
     "metadata": {
      "tags": []
     },
     "output_type": "display_data"
    },
    {
     "data": {
      "text/html": [
       "<span style=\"color:cyan\"> |-classification_head_1/dropout_rate: 0</span>"
      ],
      "text/plain": [
       "<IPython.core.display.HTML object>"
      ]
     },
     "metadata": {
      "tags": []
     },
     "output_type": "display_data"
    },
    {
     "data": {
      "text/html": [
       "<span style=\"color:blue\"> |-image_block_1/augment: True</span>"
      ],
      "text/plain": [
       "<IPython.core.display.HTML object>"
      ]
     },
     "metadata": {
      "tags": []
     },
     "output_type": "display_data"
    },
    {
     "data": {
      "text/html": [
       "<span style=\"color:cyan\"> |-image_block_1/block_type: xception</span>"
      ],
      "text/plain": [
       "<IPython.core.display.HTML object>"
      ]
     },
     "metadata": {
      "tags": []
     },
     "output_type": "display_data"
    },
    {
     "data": {
      "text/html": [
       "<span style=\"color:blue\"> |-image_block_1/conv_block_1/dropout_rate: 0.25</span>"
      ],
      "text/plain": [
       "<IPython.core.display.HTML object>"
      ]
     },
     "metadata": {
      "tags": []
     },
     "output_type": "display_data"
    },
    {
     "data": {
      "text/html": [
       "<span style=\"color:cyan\"> |-image_block_1/conv_block_1/filters_0_0: 16</span>"
      ],
      "text/plain": [
       "<IPython.core.display.HTML object>"
      ]
     },
     "metadata": {
      "tags": []
     },
     "output_type": "display_data"
    },
    {
     "data": {
      "text/html": [
       "<span style=\"color:blue\"> |-image_block_1/conv_block_1/filters_0_1: 64</span>"
      ],
      "text/plain": [
       "<IPython.core.display.HTML object>"
      ]
     },
     "metadata": {
      "tags": []
     },
     "output_type": "display_data"
    },
    {
     "data": {
      "text/html": [
       "<span style=\"color:cyan\"> |-image_block_1/conv_block_1/filters_1_0: 32</span>"
      ],
      "text/plain": [
       "<IPython.core.display.HTML object>"
      ]
     },
     "metadata": {
      "tags": []
     },
     "output_type": "display_data"
    },
    {
     "data": {
      "text/html": [
       "<span style=\"color:blue\"> |-image_block_1/conv_block_1/filters_1_1: 128</span>"
      ],
      "text/plain": [
       "<IPython.core.display.HTML object>"
      ]
     },
     "metadata": {
      "tags": []
     },
     "output_type": "display_data"
    },
    {
     "data": {
      "text/html": [
       "<span style=\"color:cyan\"> |-image_block_1/conv_block_1/kernel_size: 3</span>"
      ],
      "text/plain": [
       "<IPython.core.display.HTML object>"
      ]
     },
     "metadata": {
      "tags": []
     },
     "output_type": "display_data"
    },
    {
     "data": {
      "text/html": [
       "<span style=\"color:blue\"> |-image_block_1/conv_block_1/max_pooling: True</span>"
      ],
      "text/plain": [
       "<IPython.core.display.HTML object>"
      ]
     },
     "metadata": {
      "tags": []
     },
     "output_type": "display_data"
    },
    {
     "data": {
      "text/html": [
       "<span style=\"color:cyan\"> |-image_block_1/conv_block_1/num_blocks: 1</span>"
      ],
      "text/plain": [
       "<IPython.core.display.HTML object>"
      ]
     },
     "metadata": {
      "tags": []
     },
     "output_type": "display_data"
    },
    {
     "data": {
      "text/html": [
       "<span style=\"color:blue\"> |-image_block_1/conv_block_1/num_layers: 2</span>"
      ],
      "text/plain": [
       "<IPython.core.display.HTML object>"
      ]
     },
     "metadata": {
      "tags": []
     },
     "output_type": "display_data"
    },
    {
     "data": {
      "text/html": [
       "<span style=\"color:cyan\"> |-image_block_1/conv_block_1/separable: False</span>"
      ],
      "text/plain": [
       "<IPython.core.display.HTML object>"
      ]
     },
     "metadata": {
      "tags": []
     },
     "output_type": "display_data"
    },
    {
     "data": {
      "text/html": [
       "<span style=\"color:blue\"> |-image_block_1/normalize: True</span>"
      ],
      "text/plain": [
       "<IPython.core.display.HTML object>"
      ]
     },
     "metadata": {
      "tags": []
     },
     "output_type": "display_data"
    },
    {
     "data": {
      "text/html": [
       "<span style=\"color:cyan\"> |-image_block_1/xception_block_1/activation: relu</span>"
      ],
      "text/plain": [
       "<IPython.core.display.HTML object>"
      ]
     },
     "metadata": {
      "tags": []
     },
     "output_type": "display_data"
    },
    {
     "data": {
      "text/html": [
       "<span style=\"color:blue\"> |-image_block_1/xception_block_1/conv2d_num_filters: 64</span>"
      ],
      "text/plain": [
       "<IPython.core.display.HTML object>"
      ]
     },
     "metadata": {
      "tags": []
     },
     "output_type": "display_data"
    },
    {
     "data": {
      "text/html": [
       "<span style=\"color:cyan\"> |-image_block_1/xception_block_1/initial_strides: 2</span>"
      ],
      "text/plain": [
       "<IPython.core.display.HTML object>"
      ]
     },
     "metadata": {
      "tags": []
     },
     "output_type": "display_data"
    },
    {
     "data": {
      "text/html": [
       "<span style=\"color:blue\"> |-image_block_1/xception_block_1/kernel_size: 3</span>"
      ],
      "text/plain": [
       "<IPython.core.display.HTML object>"
      ]
     },
     "metadata": {
      "tags": []
     },
     "output_type": "display_data"
    },
    {
     "data": {
      "text/html": [
       "<span style=\"color:cyan\"> |-image_block_1/xception_block_1/num_residual_blocks: 4</span>"
      ],
      "text/plain": [
       "<IPython.core.display.HTML object>"
      ]
     },
     "metadata": {
      "tags": []
     },
     "output_type": "display_data"
    },
    {
     "data": {
      "text/html": [
       "<span style=\"color:blue\"> |-image_block_1/xception_block_1/pooling: avg</span>"
      ],
      "text/plain": [
       "<IPython.core.display.HTML object>"
      ]
     },
     "metadata": {
      "tags": []
     },
     "output_type": "display_data"
    },
    {
     "data": {
      "text/html": [
       "<span style=\"color:cyan\"> |-image_block_1/xception_block_1/sep_num_filters: 256</span>"
      ],
      "text/plain": [
       "<IPython.core.display.HTML object>"
      ]
     },
     "metadata": {
      "tags": []
     },
     "output_type": "display_data"
    },
    {
     "data": {
      "text/html": [
       "<span style=\"color:blue\"> |-merge_1/merge_type: add</span>"
      ],
      "text/plain": [
       "<IPython.core.display.HTML object>"
      ]
     },
     "metadata": {
      "tags": []
     },
     "output_type": "display_data"
    },
    {
     "data": {
      "text/html": [
       "<span style=\"color:cyan\"> |-optimizer: adam</span>"
      ],
      "text/plain": [
       "<IPython.core.display.HTML object>"
      ]
     },
     "metadata": {
      "tags": []
     },
     "output_type": "display_data"
    },
    {
     "data": {
      "text/html": [
       "<span style=\"color:blue\"> |-regression_head_1/dropout_rate: 0</span>"
      ],
      "text/plain": [
       "<IPython.core.display.HTML object>"
      ]
     },
     "metadata": {
      "tags": []
     },
     "output_type": "display_data"
    },
    {
     "data": {
      "text/html": [
       "<span style=\"color:cyan\"> |-structured_data_block_1/dense_block_1/dropout_rate: 0.25</span>"
      ],
      "text/plain": [
       "<IPython.core.display.HTML object>"
      ]
     },
     "metadata": {
      "tags": []
     },
     "output_type": "display_data"
    },
    {
     "data": {
      "text/html": [
       "<span style=\"color:blue\"> |-structured_data_block_1/dense_block_1/num_layers: 1</span>"
      ],
      "text/plain": [
       "<IPython.core.display.HTML object>"
      ]
     },
     "metadata": {
      "tags": []
     },
     "output_type": "display_data"
    },
    {
     "data": {
      "text/html": [
       "<span style=\"color:cyan\"> |-structured_data_block_1/dense_block_1/units_0: 64</span>"
      ],
      "text/plain": [
       "<IPython.core.display.HTML object>"
      ]
     },
     "metadata": {
      "tags": []
     },
     "output_type": "display_data"
    },
    {
     "data": {
      "text/html": [
       "<span style=\"color:blue\"> |-structured_data_block_1/dense_block_1/units_1: 512</span>"
      ],
      "text/plain": [
       "<IPython.core.display.HTML object>"
      ]
     },
     "metadata": {
      "tags": []
     },
     "output_type": "display_data"
    },
    {
     "data": {
      "text/html": [
       "<span style=\"color:cyan\"> |-structured_data_block_1/dense_block_1/use_batchnorm: False</span>"
      ],
      "text/plain": [
       "<IPython.core.display.HTML object>"
      ]
     },
     "metadata": {
      "tags": []
     },
     "output_type": "display_data"
    },
    {
     "name": "stdout",
     "output_type": "stream",
     "text": [
      "Train for 25 steps, validate for 7 steps\n",
      "Epoch 1/10\n",
      "25/25 [==============================] - 8s 308ms/step - loss: 3.9644 - regression_head_1_loss: 2.4624 - classification_head_1_loss: 1.5020 - regression_head_1_mean_squared_error: 2.4624 - classification_head_1_accuracy: 0.3550 - val_loss: 1.2654 - val_regression_head_1_loss: 0.1672 - val_classification_head_1_loss: 1.0982 - val_regression_head_1_mean_squared_error: 0.1575 - val_classification_head_1_accuracy: 0.3300\n",
      "Epoch 2/10\n",
      "25/25 [==============================] - 2s 82ms/step - loss: 2.1004 - regression_head_1_loss: 0.8000 - classification_head_1_loss: 1.3004 - regression_head_1_mean_squared_error: 0.8000 - classification_head_1_accuracy: 0.3975 - val_loss: 1.2325 - val_regression_head_1_loss: 0.1206 - val_classification_head_1_loss: 1.1120 - val_regression_head_1_mean_squared_error: 0.1129 - val_classification_head_1_accuracy: 0.3350\n",
      "Epoch 3/10\n",
      "25/25 [==============================] - 1s 45ms/step - loss: 1.0545 - regression_head_1_loss: 0.2998 - classification_head_1_loss: 0.7547 - regression_head_1_mean_squared_error: 0.2998 - classification_head_1_accuracy: 0.7412 - val_loss: 1.3416 - val_regression_head_1_loss: 0.2390 - val_classification_head_1_loss: 1.1026 - val_regression_head_1_mean_squared_error: 0.2203 - val_classification_head_1_accuracy: 0.2950\n",
      "Epoch 4/10\n",
      "25/25 [==============================] - 1s 47ms/step - loss: 0.5673 - regression_head_1_loss: 0.1215 - classification_head_1_loss: 0.4457 - regression_head_1_mean_squared_error: 0.1215 - classification_head_1_accuracy: 0.9413 - val_loss: 1.3694 - val_regression_head_1_loss: 0.2041 - val_classification_head_1_loss: 1.1653 - val_regression_head_1_mean_squared_error: 0.1867 - val_classification_head_1_accuracy: 0.3900\n",
      "Epoch 5/10\n",
      "25/25 [==============================] - 2s 87ms/step - loss: 0.2723 - regression_head_1_loss: 0.0725 - classification_head_1_loss: 0.1998 - regression_head_1_mean_squared_error: 0.0725 - classification_head_1_accuracy: 0.9700 - val_loss: 1.1843 - val_regression_head_1_loss: 0.0821 - val_classification_head_1_loss: 1.1022 - val_regression_head_1_mean_squared_error: 0.0806 - val_classification_head_1_accuracy: 0.2900\n",
      "Epoch 6/10\n",
      "25/25 [==============================] - 1s 45ms/step - loss: 0.1716 - regression_head_1_loss: 0.0725 - classification_head_1_loss: 0.0991 - regression_head_1_mean_squared_error: 0.0725 - classification_head_1_accuracy: 0.9887 - val_loss: 1.2150 - val_regression_head_1_loss: 0.0870 - val_classification_head_1_loss: 1.1280 - val_regression_head_1_mean_squared_error: 0.0828 - val_classification_head_1_accuracy: 0.3950\n",
      "Epoch 7/10\n",
      "25/25 [==============================] - 1s 44ms/step - loss: 0.1598 - regression_head_1_loss: 0.1124 - classification_head_1_loss: 0.0474 - regression_head_1_mean_squared_error: 0.1124 - classification_head_1_accuracy: 0.9937 - val_loss: 1.2298 - val_regression_head_1_loss: 0.0830 - val_classification_head_1_loss: 1.1468 - val_regression_head_1_mean_squared_error: 0.0846 - val_classification_head_1_accuracy: 0.4100\n",
      "Epoch 8/10\n",
      "25/25 [==============================] - 1s 43ms/step - loss: 0.3291 - regression_head_1_loss: 0.1493 - classification_head_1_loss: 0.1798 - regression_head_1_mean_squared_error: 0.1493 - classification_head_1_accuracy: 0.9837 - val_loss: 1.5664 - val_regression_head_1_loss: 0.4406 - val_classification_head_1_loss: 1.1258 - val_regression_head_1_mean_squared_error: 0.4147 - val_classification_head_1_accuracy: 0.3600\n",
      "Epoch 9/10\n",
      "25/25 [==============================] - 1s 44ms/step - loss: 0.3690 - regression_head_1_loss: 0.1258 - classification_head_1_loss: 0.2432 - regression_head_1_mean_squared_error: 0.1258 - classification_head_1_accuracy: 0.9825 - val_loss: 1.3575 - val_regression_head_1_loss: 0.1259 - val_classification_head_1_loss: 1.2316 - val_regression_head_1_mean_squared_error: 0.1160 - val_classification_head_1_accuracy: 0.3450\n",
      "Epoch 10/10\n",
      "25/25 [==============================] - 1s 44ms/step - loss: 0.2738 - regression_head_1_loss: 0.1132 - classification_head_1_loss: 0.1606 - regression_head_1_mean_squared_error: 0.1132 - classification_head_1_accuracy: 0.9700 - val_loss: 1.5189 - val_regression_head_1_loss: 0.0867 - val_classification_head_1_loss: 1.4322 - val_regression_head_1_mean_squared_error: 0.0827 - val_classification_head_1_accuracy: 0.3200\n"
     ]
    },
    {
     "data": {
      "text/html": [
       "<span style=\"color:#4527A0\"><h1 style=\"font-size:18px\">Trial complete</h1></span>"
      ],
      "text/plain": [
       "<IPython.core.display.HTML object>"
      ]
     },
     "metadata": {
      "tags": []
     },
     "output_type": "display_data"
    },
    {
     "data": {
      "text/html": [
       "<span style=\"color:#4527A0\"><h1 style=\"font-size:18px\">Trial summary</h1></span>"
      ],
      "text/plain": [
       "<IPython.core.display.HTML object>"
      ]
     },
     "metadata": {
      "tags": []
     },
     "output_type": "display_data"
    },
    {
     "data": {
      "text/html": [
       "<span style=\"color:cyan\"> |-Trial ID: 7615b6982f146628e04e458cb81256b7</span>"
      ],
      "text/plain": [
       "<IPython.core.display.HTML object>"
      ]
     },
     "metadata": {
      "tags": []
     },
     "output_type": "display_data"
    },
    {
     "data": {
      "text/html": [
       "<span style=\"color:cyan\"> |-Score: 1.1842634337288993</span>"
      ],
      "text/plain": [
       "<IPython.core.display.HTML object>"
      ]
     },
     "metadata": {
      "tags": []
     },
     "output_type": "display_data"
    },
    {
     "data": {
      "text/html": [
       "<span style=\"color:cyan\"> |-Best step: 0</span>"
      ],
      "text/plain": [
       "<IPython.core.display.HTML object>"
      ]
     },
     "metadata": {
      "tags": []
     },
     "output_type": "display_data"
    },
    {
     "data": {
      "text/html": [
       "<span style=\"color:#7E57C2\"><h2 style=\"font-size:16px\">Hyperparameters:</h2></span>"
      ],
      "text/plain": [
       "<IPython.core.display.HTML object>"
      ]
     },
     "metadata": {
      "tags": []
     },
     "output_type": "display_data"
    },
    {
     "data": {
      "text/html": [
       "<span style=\"color:cyan\"> |-classification_head_1/dropout_rate: 0</span>"
      ],
      "text/plain": [
       "<IPython.core.display.HTML object>"
      ]
     },
     "metadata": {
      "tags": []
     },
     "output_type": "display_data"
    },
    {
     "data": {
      "text/html": [
       "<span style=\"color:blue\"> |-image_block_1/augment: False</span>"
      ],
      "text/plain": [
       "<IPython.core.display.HTML object>"
      ]
     },
     "metadata": {
      "tags": []
     },
     "output_type": "display_data"
    },
    {
     "data": {
      "text/html": [
       "<span style=\"color:cyan\"> |-image_block_1/block_type: resnet</span>"
      ],
      "text/plain": [
       "<IPython.core.display.HTML object>"
      ]
     },
     "metadata": {
      "tags": []
     },
     "output_type": "display_data"
    },
    {
     "data": {
      "text/html": [
       "<span style=\"color:blue\"> |-image_block_1/conv_block_1/dropout_rate: 0.5</span>"
      ],
      "text/plain": [
       "<IPython.core.display.HTML object>"
      ]
     },
     "metadata": {
      "tags": []
     },
     "output_type": "display_data"
    },
    {
     "data": {
      "text/html": [
       "<span style=\"color:cyan\"> |-image_block_1/conv_block_1/filters_0_0: 32</span>"
      ],
      "text/plain": [
       "<IPython.core.display.HTML object>"
      ]
     },
     "metadata": {
      "tags": []
     },
     "output_type": "display_data"
    },
    {
     "data": {
      "text/html": [
       "<span style=\"color:blue\"> |-image_block_1/conv_block_1/filters_0_1: 512</span>"
      ],
      "text/plain": [
       "<IPython.core.display.HTML object>"
      ]
     },
     "metadata": {
      "tags": []
     },
     "output_type": "display_data"
    },
    {
     "data": {
      "text/html": [
       "<span style=\"color:cyan\"> |-image_block_1/conv_block_1/filters_1_0: 32</span>"
      ],
      "text/plain": [
       "<IPython.core.display.HTML object>"
      ]
     },
     "metadata": {
      "tags": []
     },
     "output_type": "display_data"
    },
    {
     "data": {
      "text/html": [
       "<span style=\"color:blue\"> |-image_block_1/conv_block_1/filters_1_1: 16</span>"
      ],
      "text/plain": [
       "<IPython.core.display.HTML object>"
      ]
     },
     "metadata": {
      "tags": []
     },
     "output_type": "display_data"
    },
    {
     "data": {
      "text/html": [
       "<span style=\"color:cyan\"> |-image_block_1/conv_block_1/kernel_size: 3</span>"
      ],
      "text/plain": [
       "<IPython.core.display.HTML object>"
      ]
     },
     "metadata": {
      "tags": []
     },
     "output_type": "display_data"
    },
    {
     "data": {
      "text/html": [
       "<span style=\"color:blue\"> |-image_block_1/conv_block_1/max_pooling: False</span>"
      ],
      "text/plain": [
       "<IPython.core.display.HTML object>"
      ]
     },
     "metadata": {
      "tags": []
     },
     "output_type": "display_data"
    },
    {
     "data": {
      "text/html": [
       "<span style=\"color:cyan\"> |-image_block_1/conv_block_1/num_blocks: 2</span>"
      ],
      "text/plain": [
       "<IPython.core.display.HTML object>"
      ]
     },
     "metadata": {
      "tags": []
     },
     "output_type": "display_data"
    },
    {
     "data": {
      "text/html": [
       "<span style=\"color:blue\"> |-image_block_1/conv_block_1/num_layers: 2</span>"
      ],
      "text/plain": [
       "<IPython.core.display.HTML object>"
      ]
     },
     "metadata": {
      "tags": []
     },
     "output_type": "display_data"
    },
    {
     "data": {
      "text/html": [
       "<span style=\"color:cyan\"> |-image_block_1/conv_block_1/separable: False</span>"
      ],
      "text/plain": [
       "<IPython.core.display.HTML object>"
      ]
     },
     "metadata": {
      "tags": []
     },
     "output_type": "display_data"
    },
    {
     "data": {
      "text/html": [
       "<span style=\"color:blue\"> |-image_block_1/normalize: True</span>"
      ],
      "text/plain": [
       "<IPython.core.display.HTML object>"
      ]
     },
     "metadata": {
      "tags": []
     },
     "output_type": "display_data"
    },
    {
     "data": {
      "text/html": [
       "<span style=\"color:cyan\"> |-image_block_1/res_net_block_1/conv3_depth: 4</span>"
      ],
      "text/plain": [
       "<IPython.core.display.HTML object>"
      ]
     },
     "metadata": {
      "tags": []
     },
     "output_type": "display_data"
    },
    {
     "data": {
      "text/html": [
       "<span style=\"color:blue\"> |-image_block_1/res_net_block_1/conv4_depth: 6</span>"
      ],
      "text/plain": [
       "<IPython.core.display.HTML object>"
      ]
     },
     "metadata": {
      "tags": []
     },
     "output_type": "display_data"
    },
    {
     "data": {
      "text/html": [
       "<span style=\"color:cyan\"> |-image_block_1/res_net_block_1/pooling: avg</span>"
      ],
      "text/plain": [
       "<IPython.core.display.HTML object>"
      ]
     },
     "metadata": {
      "tags": []
     },
     "output_type": "display_data"
    },
    {
     "data": {
      "text/html": [
       "<span style=\"color:blue\"> |-image_block_1/res_net_block_1/version: v2</span>"
      ],
      "text/plain": [
       "<IPython.core.display.HTML object>"
      ]
     },
     "metadata": {
      "tags": []
     },
     "output_type": "display_data"
    },
    {
     "data": {
      "text/html": [
       "<span style=\"color:cyan\"> |-image_block_1/xception_block_1/activation: relu</span>"
      ],
      "text/plain": [
       "<IPython.core.display.HTML object>"
      ]
     },
     "metadata": {
      "tags": []
     },
     "output_type": "display_data"
    },
    {
     "data": {
      "text/html": [
       "<span style=\"color:blue\"> |-image_block_1/xception_block_1/conv2d_num_filters: 128</span>"
      ],
      "text/plain": [
       "<IPython.core.display.HTML object>"
      ]
     },
     "metadata": {
      "tags": []
     },
     "output_type": "display_data"
    },
    {
     "data": {
      "text/html": [
       "<span style=\"color:cyan\"> |-image_block_1/xception_block_1/initial_strides: 2</span>"
      ],
      "text/plain": [
       "<IPython.core.display.HTML object>"
      ]
     },
     "metadata": {
      "tags": []
     },
     "output_type": "display_data"
    },
    {
     "data": {
      "text/html": [
       "<span style=\"color:blue\"> |-image_block_1/xception_block_1/kernel_size: 3</span>"
      ],
      "text/plain": [
       "<IPython.core.display.HTML object>"
      ]
     },
     "metadata": {
      "tags": []
     },
     "output_type": "display_data"
    },
    {
     "data": {
      "text/html": [
       "<span style=\"color:cyan\"> |-image_block_1/xception_block_1/num_residual_blocks: 8</span>"
      ],
      "text/plain": [
       "<IPython.core.display.HTML object>"
      ]
     },
     "metadata": {
      "tags": []
     },
     "output_type": "display_data"
    },
    {
     "data": {
      "text/html": [
       "<span style=\"color:blue\"> |-image_block_1/xception_block_1/pooling: flatten</span>"
      ],
      "text/plain": [
       "<IPython.core.display.HTML object>"
      ]
     },
     "metadata": {
      "tags": []
     },
     "output_type": "display_data"
    },
    {
     "data": {
      "text/html": [
       "<span style=\"color:cyan\"> |-image_block_1/xception_block_1/sep_num_filters: 512</span>"
      ],
      "text/plain": [
       "<IPython.core.display.HTML object>"
      ]
     },
     "metadata": {
      "tags": []
     },
     "output_type": "display_data"
    },
    {
     "data": {
      "text/html": [
       "<span style=\"color:blue\"> |-merge_1/merge_type: add</span>"
      ],
      "text/plain": [
       "<IPython.core.display.HTML object>"
      ]
     },
     "metadata": {
      "tags": []
     },
     "output_type": "display_data"
    },
    {
     "data": {
      "text/html": [
       "<span style=\"color:cyan\"> |-optimizer: adam</span>"
      ],
      "text/plain": [
       "<IPython.core.display.HTML object>"
      ]
     },
     "metadata": {
      "tags": []
     },
     "output_type": "display_data"
    },
    {
     "data": {
      "text/html": [
       "<span style=\"color:blue\"> |-regression_head_1/dropout_rate: 0</span>"
      ],
      "text/plain": [
       "<IPython.core.display.HTML object>"
      ]
     },
     "metadata": {
      "tags": []
     },
     "output_type": "display_data"
    },
    {
     "data": {
      "text/html": [
       "<span style=\"color:cyan\"> |-structured_data_block_1/dense_block_1/dropout_rate: 0.25</span>"
      ],
      "text/plain": [
       "<IPython.core.display.HTML object>"
      ]
     },
     "metadata": {
      "tags": []
     },
     "output_type": "display_data"
    },
    {
     "data": {
      "text/html": [
       "<span style=\"color:blue\"> |-structured_data_block_1/dense_block_1/num_layers: 1</span>"
      ],
      "text/plain": [
       "<IPython.core.display.HTML object>"
      ]
     },
     "metadata": {
      "tags": []
     },
     "output_type": "display_data"
    },
    {
     "data": {
      "text/html": [
       "<span style=\"color:cyan\"> |-structured_data_block_1/dense_block_1/units_0: 256</span>"
      ],
      "text/plain": [
       "<IPython.core.display.HTML object>"
      ]
     },
     "metadata": {
      "tags": []
     },
     "output_type": "display_data"
    },
    {
     "data": {
      "text/html": [
       "<span style=\"color:blue\"> |-structured_data_block_1/dense_block_1/units_1: 64</span>"
      ],
      "text/plain": [
       "<IPython.core.display.HTML object>"
      ]
     },
     "metadata": {
      "tags": []
     },
     "output_type": "display_data"
    },
    {
     "data": {
      "text/html": [
       "<span style=\"color:cyan\"> |-structured_data_block_1/dense_block_1/use_batchnorm: False</span>"
      ],
      "text/plain": [
       "<IPython.core.display.HTML object>"
      ]
     },
     "metadata": {
      "tags": []
     },
     "output_type": "display_data"
    },
    {
     "name": "stdout",
     "output_type": "stream",
     "text": [
      "Train for 25 steps, validate for 7 steps\n",
      "Epoch 1/10\n",
      "25/25 [==============================] - 9s 364ms/step - loss: 4.1925 - regression_head_1_loss: 2.7021 - classification_head_1_loss: 1.4904 - regression_head_1_mean_squared_error: 2.7021 - classification_head_1_accuracy: 0.3388 - val_loss: 1.3522 - val_regression_head_1_loss: 0.2539 - val_classification_head_1_loss: 1.0983 - val_regression_head_1_mean_squared_error: 0.2337 - val_classification_head_1_accuracy: 0.3550\n",
      "Epoch 2/10\n",
      "25/25 [==============================] - 2s 93ms/step - loss: 2.6776 - regression_head_1_loss: 1.2722 - classification_head_1_loss: 1.4054 - regression_head_1_mean_squared_error: 1.2722 - classification_head_1_accuracy: 0.3587 - val_loss: 1.1937 - val_regression_head_1_loss: 0.0862 - val_classification_head_1_loss: 1.1075 - val_regression_head_1_mean_squared_error: 0.0891 - val_classification_head_1_accuracy: 0.2950\n",
      "Epoch 3/10\n",
      "25/25 [==============================] - 1s 49ms/step - loss: 1.7731 - regression_head_1_loss: 0.7668 - classification_head_1_loss: 1.0062 - regression_head_1_mean_squared_error: 0.7668 - classification_head_1_accuracy: 0.5537 - val_loss: 1.2641 - val_regression_head_1_loss: 0.1408 - val_classification_head_1_loss: 1.1233 - val_regression_head_1_mean_squared_error: 0.1288 - val_classification_head_1_accuracy: 0.3800\n",
      "Epoch 4/10\n",
      "25/25 [==============================] - 1s 51ms/step - loss: 1.1066 - regression_head_1_loss: 0.5344 - classification_head_1_loss: 0.5721 - regression_head_1_mean_squared_error: 0.5344 - classification_head_1_accuracy: 0.7750 - val_loss: 1.3739 - val_regression_head_1_loss: 0.1426 - val_classification_head_1_loss: 1.2313 - val_regression_head_1_mean_squared_error: 0.1311 - val_classification_head_1_accuracy: 0.2950\n",
      "Epoch 5/10\n",
      "25/25 [==============================] - 1s 48ms/step - loss: 1.0227 - regression_head_1_loss: 0.3429 - classification_head_1_loss: 0.6798 - regression_head_1_mean_squared_error: 0.3429 - classification_head_1_accuracy: 0.7800 - val_loss: 1.8795 - val_regression_head_1_loss: 0.0829 - val_classification_head_1_loss: 1.7966 - val_regression_head_1_mean_squared_error: 0.0802 - val_classification_head_1_accuracy: 0.2950\n",
      "Epoch 6/10\n",
      "25/25 [==============================] - 1s 49ms/step - loss: 0.7784 - regression_head_1_loss: 0.1699 - classification_head_1_loss: 0.6084 - regression_head_1_mean_squared_error: 0.1699 - classification_head_1_accuracy: 0.8438 - val_loss: 1.8207 - val_regression_head_1_loss: 0.0868 - val_classification_head_1_loss: 1.7339 - val_regression_head_1_mean_squared_error: 0.0898 - val_classification_head_1_accuracy: 0.2950\n",
      "Epoch 7/10\n",
      "25/25 [==============================] - 1s 48ms/step - loss: 0.4432 - regression_head_1_loss: 0.1146 - classification_head_1_loss: 0.3287 - regression_head_1_mean_squared_error: 0.1146 - classification_head_1_accuracy: 0.8988 - val_loss: 3.3973 - val_regression_head_1_loss: 0.0935 - val_classification_head_1_loss: 3.3038 - val_regression_head_1_mean_squared_error: 0.0980 - val_classification_head_1_accuracy: 0.2950\n",
      "Epoch 8/10\n",
      "25/25 [==============================] - 1s 48ms/step - loss: 0.2733 - regression_head_1_loss: 0.1140 - classification_head_1_loss: 0.1593 - regression_head_1_mean_squared_error: 0.1140 - classification_head_1_accuracy: 0.9438 - val_loss: 1.9018 - val_regression_head_1_loss: 0.1415 - val_classification_head_1_loss: 1.7603 - val_regression_head_1_mean_squared_error: 0.1514 - val_classification_head_1_accuracy: 0.3150\n",
      "Epoch 9/10\n",
      "25/25 [==============================] - 1s 49ms/step - loss: 0.2454 - regression_head_1_loss: 0.1784 - classification_head_1_loss: 0.0670 - regression_head_1_mean_squared_error: 0.1784 - classification_head_1_accuracy: 0.9850 - val_loss: 3.2007 - val_regression_head_1_loss: 0.0883 - val_classification_head_1_loss: 3.1124 - val_regression_head_1_mean_squared_error: 0.0903 - val_classification_head_1_accuracy: 0.2950\n",
      "Epoch 10/10\n",
      "25/25 [==============================] - 1s 51ms/step - loss: 0.2936 - regression_head_1_loss: 0.2535 - classification_head_1_loss: 0.0401 - regression_head_1_mean_squared_error: 0.2535 - classification_head_1_accuracy: 0.9900 - val_loss: 1.6424 - val_regression_head_1_loss: 0.1089 - val_classification_head_1_loss: 1.5334 - val_regression_head_1_mean_squared_error: 0.1140 - val_classification_head_1_accuracy: 0.2900\n"
     ]
    },
    {
     "data": {
      "text/html": [
       "<span style=\"color:#4527A0\"><h1 style=\"font-size:18px\">Trial complete</h1></span>"
      ],
      "text/plain": [
       "<IPython.core.display.HTML object>"
      ]
     },
     "metadata": {
      "tags": []
     },
     "output_type": "display_data"
    },
    {
     "data": {
      "text/html": [
       "<span style=\"color:#4527A0\"><h1 style=\"font-size:18px\">Trial summary</h1></span>"
      ],
      "text/plain": [
       "<IPython.core.display.HTML object>"
      ]
     },
     "metadata": {
      "tags": []
     },
     "output_type": "display_data"
    },
    {
     "data": {
      "text/html": [
       "<span style=\"color:cyan\"> |-Trial ID: a5573a0f8e1f7034cb2152aca389b9dc</span>"
      ],
      "text/plain": [
       "<IPython.core.display.HTML object>"
      ]
     },
     "metadata": {
      "tags": []
     },
     "output_type": "display_data"
    },
    {
     "data": {
      "text/html": [
       "<span style=\"color:cyan\"> |-Score: 1.1936588287353516</span>"
      ],
      "text/plain": [
       "<IPython.core.display.HTML object>"
      ]
     },
     "metadata": {
      "tags": []
     },
     "output_type": "display_data"
    },
    {
     "data": {
      "text/html": [
       "<span style=\"color:cyan\"> |-Best step: 0</span>"
      ],
      "text/plain": [
       "<IPython.core.display.HTML object>"
      ]
     },
     "metadata": {
      "tags": []
     },
     "output_type": "display_data"
    },
    {
     "data": {
      "text/html": [
       "<span style=\"color:#7E57C2\"><h2 style=\"font-size:16px\">Hyperparameters:</h2></span>"
      ],
      "text/plain": [
       "<IPython.core.display.HTML object>"
      ]
     },
     "metadata": {
      "tags": []
     },
     "output_type": "display_data"
    },
    {
     "data": {
      "text/html": [
       "<span style=\"color:cyan\"> |-classification_head_1/dropout_rate: 0</span>"
      ],
      "text/plain": [
       "<IPython.core.display.HTML object>"
      ]
     },
     "metadata": {
      "tags": []
     },
     "output_type": "display_data"
    },
    {
     "data": {
      "text/html": [
       "<span style=\"color:blue\"> |-image_block_1/augment: False</span>"
      ],
      "text/plain": [
       "<IPython.core.display.HTML object>"
      ]
     },
     "metadata": {
      "tags": []
     },
     "output_type": "display_data"
    },
    {
     "data": {
      "text/html": [
       "<span style=\"color:cyan\"> |-image_block_1/block_type: resnet</span>"
      ],
      "text/plain": [
       "<IPython.core.display.HTML object>"
      ]
     },
     "metadata": {
      "tags": []
     },
     "output_type": "display_data"
    },
    {
     "data": {
      "text/html": [
       "<span style=\"color:blue\"> |-image_block_1/conv_block_1/dropout_rate: 0.25</span>"
      ],
      "text/plain": [
       "<IPython.core.display.HTML object>"
      ]
     },
     "metadata": {
      "tags": []
     },
     "output_type": "display_data"
    },
    {
     "data": {
      "text/html": [
       "<span style=\"color:cyan\"> |-image_block_1/conv_block_1/filters_0_0: 512</span>"
      ],
      "text/plain": [
       "<IPython.core.display.HTML object>"
      ]
     },
     "metadata": {
      "tags": []
     },
     "output_type": "display_data"
    },
    {
     "data": {
      "text/html": [
       "<span style=\"color:blue\"> |-image_block_1/conv_block_1/filters_0_1: 16</span>"
      ],
      "text/plain": [
       "<IPython.core.display.HTML object>"
      ]
     },
     "metadata": {
      "tags": []
     },
     "output_type": "display_data"
    },
    {
     "data": {
      "text/html": [
       "<span style=\"color:cyan\"> |-image_block_1/conv_block_1/filters_1_0: 512</span>"
      ],
      "text/plain": [
       "<IPython.core.display.HTML object>"
      ]
     },
     "metadata": {
      "tags": []
     },
     "output_type": "display_data"
    },
    {
     "data": {
      "text/html": [
       "<span style=\"color:blue\"> |-image_block_1/conv_block_1/filters_1_1: 512</span>"
      ],
      "text/plain": [
       "<IPython.core.display.HTML object>"
      ]
     },
     "metadata": {
      "tags": []
     },
     "output_type": "display_data"
    },
    {
     "data": {
      "text/html": [
       "<span style=\"color:cyan\"> |-image_block_1/conv_block_1/kernel_size: 3</span>"
      ],
      "text/plain": [
       "<IPython.core.display.HTML object>"
      ]
     },
     "metadata": {
      "tags": []
     },
     "output_type": "display_data"
    },
    {
     "data": {
      "text/html": [
       "<span style=\"color:blue\"> |-image_block_1/conv_block_1/max_pooling: True</span>"
      ],
      "text/plain": [
       "<IPython.core.display.HTML object>"
      ]
     },
     "metadata": {
      "tags": []
     },
     "output_type": "display_data"
    },
    {
     "data": {
      "text/html": [
       "<span style=\"color:cyan\"> |-image_block_1/conv_block_1/num_blocks: 3</span>"
      ],
      "text/plain": [
       "<IPython.core.display.HTML object>"
      ]
     },
     "metadata": {
      "tags": []
     },
     "output_type": "display_data"
    },
    {
     "data": {
      "text/html": [
       "<span style=\"color:blue\"> |-image_block_1/conv_block_1/num_layers: 2</span>"
      ],
      "text/plain": [
       "<IPython.core.display.HTML object>"
      ]
     },
     "metadata": {
      "tags": []
     },
     "output_type": "display_data"
    },
    {
     "data": {
      "text/html": [
       "<span style=\"color:cyan\"> |-image_block_1/conv_block_1/separable: True</span>"
      ],
      "text/plain": [
       "<IPython.core.display.HTML object>"
      ]
     },
     "metadata": {
      "tags": []
     },
     "output_type": "display_data"
    },
    {
     "data": {
      "text/html": [
       "<span style=\"color:blue\"> |-image_block_1/normalize: False</span>"
      ],
      "text/plain": [
       "<IPython.core.display.HTML object>"
      ]
     },
     "metadata": {
      "tags": []
     },
     "output_type": "display_data"
    },
    {
     "data": {
      "text/html": [
       "<span style=\"color:cyan\"> |-image_block_1/res_net_block_1/conv3_depth: 8</span>"
      ],
      "text/plain": [
       "<IPython.core.display.HTML object>"
      ]
     },
     "metadata": {
      "tags": []
     },
     "output_type": "display_data"
    },
    {
     "data": {
      "text/html": [
       "<span style=\"color:blue\"> |-image_block_1/res_net_block_1/conv4_depth: 6</span>"
      ],
      "text/plain": [
       "<IPython.core.display.HTML object>"
      ]
     },
     "metadata": {
      "tags": []
     },
     "output_type": "display_data"
    },
    {
     "data": {
      "text/html": [
       "<span style=\"color:cyan\"> |-image_block_1/res_net_block_1/pooling: avg</span>"
      ],
      "text/plain": [
       "<IPython.core.display.HTML object>"
      ]
     },
     "metadata": {
      "tags": []
     },
     "output_type": "display_data"
    },
    {
     "data": {
      "text/html": [
       "<span style=\"color:blue\"> |-image_block_1/res_net_block_1/version: v2</span>"
      ],
      "text/plain": [
       "<IPython.core.display.HTML object>"
      ]
     },
     "metadata": {
      "tags": []
     },
     "output_type": "display_data"
    },
    {
     "data": {
      "text/html": [
       "<span style=\"color:cyan\"> |-image_block_1/xception_block_1/activation: relu</span>"
      ],
      "text/plain": [
       "<IPython.core.display.HTML object>"
      ]
     },
     "metadata": {
      "tags": []
     },
     "output_type": "display_data"
    },
    {
     "data": {
      "text/html": [
       "<span style=\"color:blue\"> |-image_block_1/xception_block_1/conv2d_num_filters: 32</span>"
      ],
      "text/plain": [
       "<IPython.core.display.HTML object>"
      ]
     },
     "metadata": {
      "tags": []
     },
     "output_type": "display_data"
    },
    {
     "data": {
      "text/html": [
       "<span style=\"color:cyan\"> |-image_block_1/xception_block_1/initial_strides: 2</span>"
      ],
      "text/plain": [
       "<IPython.core.display.HTML object>"
      ]
     },
     "metadata": {
      "tags": []
     },
     "output_type": "display_data"
    },
    {
     "data": {
      "text/html": [
       "<span style=\"color:blue\"> |-image_block_1/xception_block_1/kernel_size: 3</span>"
      ],
      "text/plain": [
       "<IPython.core.display.HTML object>"
      ]
     },
     "metadata": {
      "tags": []
     },
     "output_type": "display_data"
    },
    {
     "data": {
      "text/html": [
       "<span style=\"color:cyan\"> |-image_block_1/xception_block_1/num_residual_blocks: 5</span>"
      ],
      "text/plain": [
       "<IPython.core.display.HTML object>"
      ]
     },
     "metadata": {
      "tags": []
     },
     "output_type": "display_data"
    },
    {
     "data": {
      "text/html": [
       "<span style=\"color:blue\"> |-image_block_1/xception_block_1/pooling: flatten</span>"
      ],
      "text/plain": [
       "<IPython.core.display.HTML object>"
      ]
     },
     "metadata": {
      "tags": []
     },
     "output_type": "display_data"
    },
    {
     "data": {
      "text/html": [
       "<span style=\"color:cyan\"> |-image_block_1/xception_block_1/sep_num_filters: 384</span>"
      ],
      "text/plain": [
       "<IPython.core.display.HTML object>"
      ]
     },
     "metadata": {
      "tags": []
     },
     "output_type": "display_data"
    },
    {
     "data": {
      "text/html": [
       "<span style=\"color:blue\"> |-merge_1/merge_type: add</span>"
      ],
      "text/plain": [
       "<IPython.core.display.HTML object>"
      ]
     },
     "metadata": {
      "tags": []
     },
     "output_type": "display_data"
    },
    {
     "data": {
      "text/html": [
       "<span style=\"color:cyan\"> |-optimizer: adam</span>"
      ],
      "text/plain": [
       "<IPython.core.display.HTML object>"
      ]
     },
     "metadata": {
      "tags": []
     },
     "output_type": "display_data"
    },
    {
     "data": {
      "text/html": [
       "<span style=\"color:blue\"> |-regression_head_1/dropout_rate: 0</span>"
      ],
      "text/plain": [
       "<IPython.core.display.HTML object>"
      ]
     },
     "metadata": {
      "tags": []
     },
     "output_type": "display_data"
    },
    {
     "data": {
      "text/html": [
       "<span style=\"color:cyan\"> |-structured_data_block_1/dense_block_1/dropout_rate: 0.0</span>"
      ],
      "text/plain": [
       "<IPython.core.display.HTML object>"
      ]
     },
     "metadata": {
      "tags": []
     },
     "output_type": "display_data"
    },
    {
     "data": {
      "text/html": [
       "<span style=\"color:blue\"> |-structured_data_block_1/dense_block_1/num_layers: 3</span>"
      ],
      "text/plain": [
       "<IPython.core.display.HTML object>"
      ]
     },
     "metadata": {
      "tags": []
     },
     "output_type": "display_data"
    },
    {
     "data": {
      "text/html": [
       "<span style=\"color:cyan\"> |-structured_data_block_1/dense_block_1/units_0: 32</span>"
      ],
      "text/plain": [
       "<IPython.core.display.HTML object>"
      ]
     },
     "metadata": {
      "tags": []
     },
     "output_type": "display_data"
    },
    {
     "data": {
      "text/html": [
       "<span style=\"color:blue\"> |-structured_data_block_1/dense_block_1/units_1: 256</span>"
      ],
      "text/plain": [
       "<IPython.core.display.HTML object>"
      ]
     },
     "metadata": {
      "tags": []
     },
     "output_type": "display_data"
    },
    {
     "data": {
      "text/html": [
       "<span style=\"color:cyan\"> |-structured_data_block_1/dense_block_1/units_2: 32</span>"
      ],
      "text/plain": [
       "<IPython.core.display.HTML object>"
      ]
     },
     "metadata": {
      "tags": []
     },
     "output_type": "display_data"
    },
    {
     "data": {
      "text/html": [
       "<span style=\"color:blue\"> |-structured_data_block_1/dense_block_1/use_batchnorm: False</span>"
      ],
      "text/plain": [
       "<IPython.core.display.HTML object>"
      ]
     },
     "metadata": {
      "tags": []
     },
     "output_type": "display_data"
    },
    {
     "name": "stdout",
     "output_type": "stream",
     "text": [
      "Train for 25 steps, validate for 7 steps\n",
      "Epoch 1/10\n",
      "25/25 [==============================] - 4s 159ms/step - loss: 9.8743 - regression_head_1_loss: 7.6074 - classification_head_1_loss: 2.2668 - regression_head_1_mean_squared_error: 7.6074 - classification_head_1_accuracy: 0.3275 - val_loss: 1.4822 - val_regression_head_1_loss: 0.1966 - val_classification_head_1_loss: 1.2856 - val_regression_head_1_mean_squared_error: 0.2054 - val_classification_head_1_accuracy: 0.4000\n",
      "Epoch 2/10\n",
      "25/25 [==============================] - 2s 66ms/step - loss: 1.3067 - regression_head_1_loss: 0.4432 - classification_head_1_loss: 0.8635 - regression_head_1_mean_squared_error: 0.4432 - classification_head_1_accuracy: 0.5788 - val_loss: 2.9023 - val_regression_head_1_loss: 1.2888 - val_classification_head_1_loss: 1.6135 - val_regression_head_1_mean_squared_error: 1.2964 - val_classification_head_1_accuracy: 0.3400\n",
      "Epoch 3/10\n",
      "25/25 [==============================] - 2s 68ms/step - loss: 0.8096 - regression_head_1_loss: 0.2520 - classification_head_1_loss: 0.5576 - regression_head_1_mean_squared_error: 0.2520 - classification_head_1_accuracy: 0.8213 - val_loss: 1.7558 - val_regression_head_1_loss: 0.3553 - val_classification_head_1_loss: 1.4005 - val_regression_head_1_mean_squared_error: 0.3679 - val_classification_head_1_accuracy: 0.3550\n",
      "Epoch 4/10\n",
      "25/25 [==============================] - 2s 68ms/step - loss: 0.4974 - regression_head_1_loss: 0.1170 - classification_head_1_loss: 0.3803 - regression_head_1_mean_squared_error: 0.1170 - classification_head_1_accuracy: 0.9375 - val_loss: 1.9057 - val_regression_head_1_loss: 0.3655 - val_classification_head_1_loss: 1.5402 - val_regression_head_1_mean_squared_error: 0.3816 - val_classification_head_1_accuracy: 0.3400\n",
      "Epoch 5/10\n",
      "25/25 [==============================] - 2s 67ms/step - loss: 0.3969 - regression_head_1_loss: 0.1091 - classification_head_1_loss: 0.2878 - regression_head_1_mean_squared_error: 0.1091 - classification_head_1_accuracy: 0.9675 - val_loss: 1.8200 - val_regression_head_1_loss: 0.2056 - val_classification_head_1_loss: 1.6144 - val_regression_head_1_mean_squared_error: 0.2185 - val_classification_head_1_accuracy: 0.3650\n",
      "Epoch 6/10\n",
      "25/25 [==============================] - 2s 66ms/step - loss: 0.3807 - regression_head_1_loss: 0.1488 - classification_head_1_loss: 0.2319 - regression_head_1_mean_squared_error: 0.1488 - classification_head_1_accuracy: 0.9862 - val_loss: 1.7875 - val_regression_head_1_loss: 0.1228 - val_classification_head_1_loss: 1.6647 - val_regression_head_1_mean_squared_error: 0.1249 - val_classification_head_1_accuracy: 0.3550\n",
      "Epoch 7/10\n",
      "25/25 [==============================] - 2s 68ms/step - loss: 0.4145 - regression_head_1_loss: 0.2261 - classification_head_1_loss: 0.1885 - regression_head_1_mean_squared_error: 0.2261 - classification_head_1_accuracy: 0.9900 - val_loss: 1.9342 - val_regression_head_1_loss: 0.1660 - val_classification_head_1_loss: 1.7682 - val_regression_head_1_mean_squared_error: 0.1647 - val_classification_head_1_accuracy: 0.3500\n",
      "Epoch 8/10\n",
      "25/25 [==============================] - 2s 66ms/step - loss: 0.2883 - regression_head_1_loss: 0.1569 - classification_head_1_loss: 0.1314 - regression_head_1_mean_squared_error: 0.1569 - classification_head_1_accuracy: 0.9975 - val_loss: 2.1838 - val_regression_head_1_loss: 0.3136 - val_classification_head_1_loss: 1.8702 - val_regression_head_1_mean_squared_error: 0.2985 - val_classification_head_1_accuracy: 0.3700\n",
      "Epoch 9/10\n",
      "25/25 [==============================] - 2s 67ms/step - loss: 0.2983 - regression_head_1_loss: 0.1990 - classification_head_1_loss: 0.0992 - regression_head_1_mean_squared_error: 0.1990 - classification_head_1_accuracy: 1.0000 - val_loss: 2.2957 - val_regression_head_1_loss: 0.2848 - val_classification_head_1_loss: 2.0108 - val_regression_head_1_mean_squared_error: 0.2830 - val_classification_head_1_accuracy: 0.3450\n",
      "Epoch 10/10\n",
      "25/25 [==============================] - 2s 66ms/step - loss: 0.3538 - regression_head_1_loss: 0.2542 - classification_head_1_loss: 0.0996 - regression_head_1_mean_squared_error: 0.2542 - classification_head_1_accuracy: 0.9975 - val_loss: 2.8878 - val_regression_head_1_loss: 0.7860 - val_classification_head_1_loss: 2.1018 - val_regression_head_1_mean_squared_error: 0.7697 - val_classification_head_1_accuracy: 0.3750\n"
     ]
    },
    {
     "data": {
      "text/html": [
       "<span style=\"color:#4527A0\"><h1 style=\"font-size:18px\">Trial complete</h1></span>"
      ],
      "text/plain": [
       "<IPython.core.display.HTML object>"
      ]
     },
     "metadata": {
      "tags": []
     },
     "output_type": "display_data"
    },
    {
     "data": {
      "text/html": [
       "<span style=\"color:#4527A0\"><h1 style=\"font-size:18px\">Trial summary</h1></span>"
      ],
      "text/plain": [
       "<IPython.core.display.HTML object>"
      ]
     },
     "metadata": {
      "tags": []
     },
     "output_type": "display_data"
    },
    {
     "data": {
      "text/html": [
       "<span style=\"color:cyan\"> |-Trial ID: 1fa49fabdf52125cea7b059aa3b6c873</span>"
      ],
      "text/plain": [
       "<IPython.core.display.HTML object>"
      ]
     },
     "metadata": {
      "tags": []
     },
     "output_type": "display_data"
    },
    {
     "data": {
      "text/html": [
       "<span style=\"color:cyan\"> |-Score: 1.4822427715573991</span>"
      ],
      "text/plain": [
       "<IPython.core.display.HTML object>"
      ]
     },
     "metadata": {
      "tags": []
     },
     "output_type": "display_data"
    },
    {
     "data": {
      "text/html": [
       "<span style=\"color:cyan\"> |-Best step: 0</span>"
      ],
      "text/plain": [
       "<IPython.core.display.HTML object>"
      ]
     },
     "metadata": {
      "tags": []
     },
     "output_type": "display_data"
    },
    {
     "data": {
      "text/html": [
       "<span style=\"color:#7E57C2\"><h2 style=\"font-size:16px\">Hyperparameters:</h2></span>"
      ],
      "text/plain": [
       "<IPython.core.display.HTML object>"
      ]
     },
     "metadata": {
      "tags": []
     },
     "output_type": "display_data"
    },
    {
     "data": {
      "text/html": [
       "<span style=\"color:cyan\"> |-classification_head_1/dropout_rate: 0</span>"
      ],
      "text/plain": [
       "<IPython.core.display.HTML object>"
      ]
     },
     "metadata": {
      "tags": []
     },
     "output_type": "display_data"
    },
    {
     "data": {
      "text/html": [
       "<span style=\"color:blue\"> |-image_block_1/augment: False</span>"
      ],
      "text/plain": [
       "<IPython.core.display.HTML object>"
      ]
     },
     "metadata": {
      "tags": []
     },
     "output_type": "display_data"
    },
    {
     "data": {
      "text/html": [
       "<span style=\"color:cyan\"> |-image_block_1/block_type: xception</span>"
      ],
      "text/plain": [
       "<IPython.core.display.HTML object>"
      ]
     },
     "metadata": {
      "tags": []
     },
     "output_type": "display_data"
    },
    {
     "data": {
      "text/html": [
       "<span style=\"color:blue\"> |-image_block_1/conv_block_1/dropout_rate: 0.25</span>"
      ],
      "text/plain": [
       "<IPython.core.display.HTML object>"
      ]
     },
     "metadata": {
      "tags": []
     },
     "output_type": "display_data"
    },
    {
     "data": {
      "text/html": [
       "<span style=\"color:cyan\"> |-image_block_1/conv_block_1/filters_0_0: 64</span>"
      ],
      "text/plain": [
       "<IPython.core.display.HTML object>"
      ]
     },
     "metadata": {
      "tags": []
     },
     "output_type": "display_data"
    },
    {
     "data": {
      "text/html": [
       "<span style=\"color:blue\"> |-image_block_1/conv_block_1/filters_0_1: 512</span>"
      ],
      "text/plain": [
       "<IPython.core.display.HTML object>"
      ]
     },
     "metadata": {
      "tags": []
     },
     "output_type": "display_data"
    },
    {
     "data": {
      "text/html": [
       "<span style=\"color:cyan\"> |-image_block_1/conv_block_1/filters_1_0: 64</span>"
      ],
      "text/plain": [
       "<IPython.core.display.HTML object>"
      ]
     },
     "metadata": {
      "tags": []
     },
     "output_type": "display_data"
    },
    {
     "data": {
      "text/html": [
       "<span style=\"color:blue\"> |-image_block_1/conv_block_1/filters_1_1: 64</span>"
      ],
      "text/plain": [
       "<IPython.core.display.HTML object>"
      ]
     },
     "metadata": {
      "tags": []
     },
     "output_type": "display_data"
    },
    {
     "data": {
      "text/html": [
       "<span style=\"color:cyan\"> |-image_block_1/conv_block_1/kernel_size: 7</span>"
      ],
      "text/plain": [
       "<IPython.core.display.HTML object>"
      ]
     },
     "metadata": {
      "tags": []
     },
     "output_type": "display_data"
    },
    {
     "data": {
      "text/html": [
       "<span style=\"color:blue\"> |-image_block_1/conv_block_1/max_pooling: True</span>"
      ],
      "text/plain": [
       "<IPython.core.display.HTML object>"
      ]
     },
     "metadata": {
      "tags": []
     },
     "output_type": "display_data"
    },
    {
     "data": {
      "text/html": [
       "<span style=\"color:cyan\"> |-image_block_1/conv_block_1/num_blocks: 2</span>"
      ],
      "text/plain": [
       "<IPython.core.display.HTML object>"
      ]
     },
     "metadata": {
      "tags": []
     },
     "output_type": "display_data"
    },
    {
     "data": {
      "text/html": [
       "<span style=\"color:blue\"> |-image_block_1/conv_block_1/num_layers: 1</span>"
      ],
      "text/plain": [
       "<IPython.core.display.HTML object>"
      ]
     },
     "metadata": {
      "tags": []
     },
     "output_type": "display_data"
    },
    {
     "data": {
      "text/html": [
       "<span style=\"color:cyan\"> |-image_block_1/conv_block_1/separable: False</span>"
      ],
      "text/plain": [
       "<IPython.core.display.HTML object>"
      ]
     },
     "metadata": {
      "tags": []
     },
     "output_type": "display_data"
    },
    {
     "data": {
      "text/html": [
       "<span style=\"color:blue\"> |-image_block_1/normalize: False</span>"
      ],
      "text/plain": [
       "<IPython.core.display.HTML object>"
      ]
     },
     "metadata": {
      "tags": []
     },
     "output_type": "display_data"
    },
    {
     "data": {
      "text/html": [
       "<span style=\"color:cyan\"> |-image_block_1/res_net_block_1/conv3_depth: 4</span>"
      ],
      "text/plain": [
       "<IPython.core.display.HTML object>"
      ]
     },
     "metadata": {
      "tags": []
     },
     "output_type": "display_data"
    },
    {
     "data": {
      "text/html": [
       "<span style=\"color:blue\"> |-image_block_1/res_net_block_1/conv4_depth: 36</span>"
      ],
      "text/plain": [
       "<IPython.core.display.HTML object>"
      ]
     },
     "metadata": {
      "tags": []
     },
     "output_type": "display_data"
    },
    {
     "data": {
      "text/html": [
       "<span style=\"color:cyan\"> |-image_block_1/res_net_block_1/pooling: max</span>"
      ],
      "text/plain": [
       "<IPython.core.display.HTML object>"
      ]
     },
     "metadata": {
      "tags": []
     },
     "output_type": "display_data"
    },
    {
     "data": {
      "text/html": [
       "<span style=\"color:blue\"> |-image_block_1/res_net_block_1/version: v2</span>"
      ],
      "text/plain": [
       "<IPython.core.display.HTML object>"
      ]
     },
     "metadata": {
      "tags": []
     },
     "output_type": "display_data"
    },
    {
     "data": {
      "text/html": [
       "<span style=\"color:cyan\"> |-image_block_1/xception_block_1/activation: selu</span>"
      ],
      "text/plain": [
       "<IPython.core.display.HTML object>"
      ]
     },
     "metadata": {
      "tags": []
     },
     "output_type": "display_data"
    },
    {
     "data": {
      "text/html": [
       "<span style=\"color:blue\"> |-image_block_1/xception_block_1/conv2d_num_filters: 32</span>"
      ],
      "text/plain": [
       "<IPython.core.display.HTML object>"
      ]
     },
     "metadata": {
      "tags": []
     },
     "output_type": "display_data"
    },
    {
     "data": {
      "text/html": [
       "<span style=\"color:cyan\"> |-image_block_1/xception_block_1/initial_strides: 2</span>"
      ],
      "text/plain": [
       "<IPython.core.display.HTML object>"
      ]
     },
     "metadata": {
      "tags": []
     },
     "output_type": "display_data"
    },
    {
     "data": {
      "text/html": [
       "<span style=\"color:blue\"> |-image_block_1/xception_block_1/kernel_size: 5</span>"
      ],
      "text/plain": [
       "<IPython.core.display.HTML object>"
      ]
     },
     "metadata": {
      "tags": []
     },
     "output_type": "display_data"
    },
    {
     "data": {
      "text/html": [
       "<span style=\"color:cyan\"> |-image_block_1/xception_block_1/num_residual_blocks: 6</span>"
      ],
      "text/plain": [
       "<IPython.core.display.HTML object>"
      ]
     },
     "metadata": {
      "tags": []
     },
     "output_type": "display_data"
    },
    {
     "data": {
      "text/html": [
       "<span style=\"color:blue\"> |-image_block_1/xception_block_1/pooling: flatten</span>"
      ],
      "text/plain": [
       "<IPython.core.display.HTML object>"
      ]
     },
     "metadata": {
      "tags": []
     },
     "output_type": "display_data"
    },
    {
     "data": {
      "text/html": [
       "<span style=\"color:cyan\"> |-image_block_1/xception_block_1/sep_num_filters: 512</span>"
      ],
      "text/plain": [
       "<IPython.core.display.HTML object>"
      ]
     },
     "metadata": {
      "tags": []
     },
     "output_type": "display_data"
    },
    {
     "data": {
      "text/html": [
       "<span style=\"color:blue\"> |-merge_1/merge_type: add</span>"
      ],
      "text/plain": [
       "<IPython.core.display.HTML object>"
      ]
     },
     "metadata": {
      "tags": []
     },
     "output_type": "display_data"
    },
    {
     "data": {
      "text/html": [
       "<span style=\"color:cyan\"> |-optimizer: adam</span>"
      ],
      "text/plain": [
       "<IPython.core.display.HTML object>"
      ]
     },
     "metadata": {
      "tags": []
     },
     "output_type": "display_data"
    },
    {
     "data": {
      "text/html": [
       "<span style=\"color:blue\"> |-regression_head_1/dropout_rate: 0</span>"
      ],
      "text/plain": [
       "<IPython.core.display.HTML object>"
      ]
     },
     "metadata": {
      "tags": []
     },
     "output_type": "display_data"
    },
    {
     "data": {
      "text/html": [
       "<span style=\"color:cyan\"> |-structured_data_block_1/dense_block_1/dropout_rate: 0.25</span>"
      ],
      "text/plain": [
       "<IPython.core.display.HTML object>"
      ]
     },
     "metadata": {
      "tags": []
     },
     "output_type": "display_data"
    },
    {
     "data": {
      "text/html": [
       "<span style=\"color:blue\"> |-structured_data_block_1/dense_block_1/num_layers: 2</span>"
      ],
      "text/plain": [
       "<IPython.core.display.HTML object>"
      ]
     },
     "metadata": {
      "tags": []
     },
     "output_type": "display_data"
    },
    {
     "data": {
      "text/html": [
       "<span style=\"color:cyan\"> |-structured_data_block_1/dense_block_1/units_0: 32</span>"
      ],
      "text/plain": [
       "<IPython.core.display.HTML object>"
      ]
     },
     "metadata": {
      "tags": []
     },
     "output_type": "display_data"
    },
    {
     "data": {
      "text/html": [
       "<span style=\"color:blue\"> |-structured_data_block_1/dense_block_1/units_1: 512</span>"
      ],
      "text/plain": [
       "<IPython.core.display.HTML object>"
      ]
     },
     "metadata": {
      "tags": []
     },
     "output_type": "display_data"
    },
    {
     "data": {
      "text/html": [
       "<span style=\"color:cyan\"> |-structured_data_block_1/dense_block_1/units_2: 32</span>"
      ],
      "text/plain": [
       "<IPython.core.display.HTML object>"
      ]
     },
     "metadata": {
      "tags": []
     },
     "output_type": "display_data"
    },
    {
     "data": {
      "text/html": [
       "<span style=\"color:blue\"> |-structured_data_block_1/dense_block_1/use_batchnorm: True</span>"
      ],
      "text/plain": [
       "<IPython.core.display.HTML object>"
      ]
     },
     "metadata": {
      "tags": []
     },
     "output_type": "display_data"
    },
    {
     "name": "stdout",
     "output_type": "stream",
     "text": [
      "Train for 25 steps, validate for 7 steps\n",
      "Epoch 1/10\n",
      "25/25 [==============================] - 15s 618ms/step - loss: 4.0455 - regression_head_1_loss: 2.5259 - classification_head_1_loss: 1.5196 - regression_head_1_mean_squared_error: 2.5259 - classification_head_1_accuracy: 0.3375 - val_loss: 20.4776 - val_regression_head_1_loss: 17.7808 - val_classification_head_1_loss: 2.6968 - val_regression_head_1_mean_squared_error: 17.5429 - val_classification_head_1_accuracy: 0.3700\n",
      "Epoch 2/10\n",
      "25/25 [==============================] - 2s 78ms/step - loss: 2.0351 - regression_head_1_loss: 0.8103 - classification_head_1_loss: 1.2249 - regression_head_1_mean_squared_error: 0.8103 - classification_head_1_accuracy: 0.4400 - val_loss: 50.3195 - val_regression_head_1_loss: 21.8195 - val_classification_head_1_loss: 28.5000 - val_regression_head_1_mean_squared_error: 21.9185 - val_classification_head_1_accuracy: 0.3700\n",
      "Epoch 3/10\n",
      "25/25 [==============================] - 2s 76ms/step - loss: 1.1325 - regression_head_1_loss: 0.2943 - classification_head_1_loss: 0.8382 - regression_head_1_mean_squared_error: 0.2943 - classification_head_1_accuracy: 0.7075 - val_loss: 31.9645 - val_regression_head_1_loss: 26.9208 - val_classification_head_1_loss: 5.0437 - val_regression_head_1_mean_squared_error: 26.6593 - val_classification_head_1_accuracy: 0.3700\n",
      "Epoch 4/10\n",
      "25/25 [==============================] - 4s 159ms/step - loss: 0.4728 - regression_head_1_loss: 0.1261 - classification_head_1_loss: 0.3467 - regression_head_1_mean_squared_error: 0.1261 - classification_head_1_accuracy: 0.9150 - val_loss: 3.0016 - val_regression_head_1_loss: 1.6498 - val_classification_head_1_loss: 1.3518 - val_regression_head_1_mean_squared_error: 1.5956 - val_classification_head_1_accuracy: 0.3700\n",
      "Epoch 5/10\n",
      "25/25 [==============================] - 4s 165ms/step - loss: 0.1913 - regression_head_1_loss: 0.0608 - classification_head_1_loss: 0.1304 - regression_head_1_mean_squared_error: 0.0608 - classification_head_1_accuracy: 0.9588 - val_loss: 1.7561 - val_regression_head_1_loss: 0.5966 - val_classification_head_1_loss: 1.1594 - val_regression_head_1_mean_squared_error: 0.5680 - val_classification_head_1_accuracy: 0.3450\n",
      "Epoch 6/10\n",
      "25/25 [==============================] - 2s 77ms/step - loss: 0.2747 - regression_head_1_loss: 0.0727 - classification_head_1_loss: 0.2021 - regression_head_1_mean_squared_error: 0.0727 - classification_head_1_accuracy: 0.9400 - val_loss: 1.9667 - val_regression_head_1_loss: 0.8256 - val_classification_head_1_loss: 1.1411 - val_regression_head_1_mean_squared_error: 0.7884 - val_classification_head_1_accuracy: 0.3500\n",
      "Epoch 7/10\n",
      "25/25 [==============================] - 2s 78ms/step - loss: 0.3896 - regression_head_1_loss: 0.1061 - classification_head_1_loss: 0.2835 - regression_head_1_mean_squared_error: 0.1061 - classification_head_1_accuracy: 0.9112 - val_loss: 1.8108 - val_regression_head_1_loss: 0.5173 - val_classification_head_1_loss: 1.2935 - val_regression_head_1_mean_squared_error: 0.4882 - val_classification_head_1_accuracy: 0.3400\n",
      "Epoch 8/10\n",
      "25/25 [==============================] - 2s 80ms/step - loss: 0.5633 - regression_head_1_loss: 0.1471 - classification_head_1_loss: 0.4161 - regression_head_1_mean_squared_error: 0.1471 - classification_head_1_accuracy: 0.8313 - val_loss: 3.9672 - val_regression_head_1_loss: 0.9101 - val_classification_head_1_loss: 3.0571 - val_regression_head_1_mean_squared_error: 0.8704 - val_classification_head_1_accuracy: 0.3350\n",
      "Epoch 9/10\n",
      "25/25 [==============================] - 2s 79ms/step - loss: 0.5260 - regression_head_1_loss: 0.1776 - classification_head_1_loss: 0.3484 - regression_head_1_mean_squared_error: 0.1776 - classification_head_1_accuracy: 0.8750 - val_loss: 3.8180 - val_regression_head_1_loss: 0.3828 - val_classification_head_1_loss: 3.4351 - val_regression_head_1_mean_squared_error: 0.3497 - val_classification_head_1_accuracy: 0.3700\n",
      "Epoch 10/10\n",
      "25/25 [==============================] - 2s 77ms/step - loss: 0.5023 - regression_head_1_loss: 0.2164 - classification_head_1_loss: 0.2859 - regression_head_1_mean_squared_error: 0.2164 - classification_head_1_accuracy: 0.9588 - val_loss: 1.7601 - val_regression_head_1_loss: 0.3442 - val_classification_head_1_loss: 1.4159 - val_regression_head_1_mean_squared_error: 0.3160 - val_classification_head_1_accuracy: 0.3700\n"
     ]
    },
    {
     "data": {
      "text/html": [
       "<span style=\"color:#4527A0\"><h1 style=\"font-size:18px\">Trial complete</h1></span>"
      ],
      "text/plain": [
       "<IPython.core.display.HTML object>"
      ]
     },
     "metadata": {
      "tags": []
     },
     "output_type": "display_data"
    },
    {
     "data": {
      "text/html": [
       "<span style=\"color:#4527A0\"><h1 style=\"font-size:18px\">Trial summary</h1></span>"
      ],
      "text/plain": [
       "<IPython.core.display.HTML object>"
      ]
     },
     "metadata": {
      "tags": []
     },
     "output_type": "display_data"
    },
    {
     "data": {
      "text/html": [
       "<span style=\"color:cyan\"> |-Trial ID: 0eef8f3a4ddb9c9cb1d0f879fe3cc47f</span>"
      ],
      "text/plain": [
       "<IPython.core.display.HTML object>"
      ]
     },
     "metadata": {
      "tags": []
     },
     "output_type": "display_data"
    },
    {
     "data": {
      "text/html": [
       "<span style=\"color:cyan\"> |-Score: 1.7560719081333704</span>"
      ],
      "text/plain": [
       "<IPython.core.display.HTML object>"
      ]
     },
     "metadata": {
      "tags": []
     },
     "output_type": "display_data"
    },
    {
     "data": {
      "text/html": [
       "<span style=\"color:cyan\"> |-Best step: 0</span>"
      ],
      "text/plain": [
       "<IPython.core.display.HTML object>"
      ]
     },
     "metadata": {
      "tags": []
     },
     "output_type": "display_data"
    },
    {
     "data": {
      "text/html": [
       "<span style=\"color:#7E57C2\"><h2 style=\"font-size:16px\">Hyperparameters:</h2></span>"
      ],
      "text/plain": [
       "<IPython.core.display.HTML object>"
      ]
     },
     "metadata": {
      "tags": []
     },
     "output_type": "display_data"
    },
    {
     "data": {
      "text/html": [
       "<span style=\"color:cyan\"> |-classification_head_1/dropout_rate: 0</span>"
      ],
      "text/plain": [
       "<IPython.core.display.HTML object>"
      ]
     },
     "metadata": {
      "tags": []
     },
     "output_type": "display_data"
    },
    {
     "data": {
      "text/html": [
       "<span style=\"color:blue\"> |-image_block_1/augment: False</span>"
      ],
      "text/plain": [
       "<IPython.core.display.HTML object>"
      ]
     },
     "metadata": {
      "tags": []
     },
     "output_type": "display_data"
    },
    {
     "data": {
      "text/html": [
       "<span style=\"color:cyan\"> |-image_block_1/block_type: resnet</span>"
      ],
      "text/plain": [
       "<IPython.core.display.HTML object>"
      ]
     },
     "metadata": {
      "tags": []
     },
     "output_type": "display_data"
    },
    {
     "data": {
      "text/html": [
       "<span style=\"color:blue\"> |-image_block_1/conv_block_1/dropout_rate: 0.0</span>"
      ],
      "text/plain": [
       "<IPython.core.display.HTML object>"
      ]
     },
     "metadata": {
      "tags": []
     },
     "output_type": "display_data"
    },
    {
     "data": {
      "text/html": [
       "<span style=\"color:cyan\"> |-image_block_1/conv_block_1/filters_0_0: 128</span>"
      ],
      "text/plain": [
       "<IPython.core.display.HTML object>"
      ]
     },
     "metadata": {
      "tags": []
     },
     "output_type": "display_data"
    },
    {
     "data": {
      "text/html": [
       "<span style=\"color:blue\"> |-image_block_1/conv_block_1/filters_0_1: 32</span>"
      ],
      "text/plain": [
       "<IPython.core.display.HTML object>"
      ]
     },
     "metadata": {
      "tags": []
     },
     "output_type": "display_data"
    },
    {
     "data": {
      "text/html": [
       "<span style=\"color:cyan\"> |-image_block_1/conv_block_1/filters_1_0: 512</span>"
      ],
      "text/plain": [
       "<IPython.core.display.HTML object>"
      ]
     },
     "metadata": {
      "tags": []
     },
     "output_type": "display_data"
    },
    {
     "data": {
      "text/html": [
       "<span style=\"color:blue\"> |-image_block_1/conv_block_1/filters_1_1: 64</span>"
      ],
      "text/plain": [
       "<IPython.core.display.HTML object>"
      ]
     },
     "metadata": {
      "tags": []
     },
     "output_type": "display_data"
    },
    {
     "data": {
      "text/html": [
       "<span style=\"color:cyan\"> |-image_block_1/conv_block_1/kernel_size: 7</span>"
      ],
      "text/plain": [
       "<IPython.core.display.HTML object>"
      ]
     },
     "metadata": {
      "tags": []
     },
     "output_type": "display_data"
    },
    {
     "data": {
      "text/html": [
       "<span style=\"color:blue\"> |-image_block_1/conv_block_1/max_pooling: True</span>"
      ],
      "text/plain": [
       "<IPython.core.display.HTML object>"
      ]
     },
     "metadata": {
      "tags": []
     },
     "output_type": "display_data"
    },
    {
     "data": {
      "text/html": [
       "<span style=\"color:cyan\"> |-image_block_1/conv_block_1/num_blocks: 3</span>"
      ],
      "text/plain": [
       "<IPython.core.display.HTML object>"
      ]
     },
     "metadata": {
      "tags": []
     },
     "output_type": "display_data"
    },
    {
     "data": {
      "text/html": [
       "<span style=\"color:blue\"> |-image_block_1/conv_block_1/num_layers: 1</span>"
      ],
      "text/plain": [
       "<IPython.core.display.HTML object>"
      ]
     },
     "metadata": {
      "tags": []
     },
     "output_type": "display_data"
    },
    {
     "data": {
      "text/html": [
       "<span style=\"color:cyan\"> |-image_block_1/conv_block_1/separable: True</span>"
      ],
      "text/plain": [
       "<IPython.core.display.HTML object>"
      ]
     },
     "metadata": {
      "tags": []
     },
     "output_type": "display_data"
    },
    {
     "data": {
      "text/html": [
       "<span style=\"color:blue\"> |-image_block_1/normalize: True</span>"
      ],
      "text/plain": [
       "<IPython.core.display.HTML object>"
      ]
     },
     "metadata": {
      "tags": []
     },
     "output_type": "display_data"
    },
    {
     "data": {
      "text/html": [
       "<span style=\"color:cyan\"> |-image_block_1/res_net_block_1/conv3_depth: 4</span>"
      ],
      "text/plain": [
       "<IPython.core.display.HTML object>"
      ]
     },
     "metadata": {
      "tags": []
     },
     "output_type": "display_data"
    },
    {
     "data": {
      "text/html": [
       "<span style=\"color:blue\"> |-image_block_1/res_net_block_1/conv4_depth: 23</span>"
      ],
      "text/plain": [
       "<IPython.core.display.HTML object>"
      ]
     },
     "metadata": {
      "tags": []
     },
     "output_type": "display_data"
    },
    {
     "data": {
      "text/html": [
       "<span style=\"color:cyan\"> |-image_block_1/res_net_block_1/pooling: max</span>"
      ],
      "text/plain": [
       "<IPython.core.display.HTML object>"
      ]
     },
     "metadata": {
      "tags": []
     },
     "output_type": "display_data"
    },
    {
     "data": {
      "text/html": [
       "<span style=\"color:blue\"> |-image_block_1/res_net_block_1/version: v2</span>"
      ],
      "text/plain": [
       "<IPython.core.display.HTML object>"
      ]
     },
     "metadata": {
      "tags": []
     },
     "output_type": "display_data"
    },
    {
     "data": {
      "text/html": [
       "<span style=\"color:cyan\"> |-image_block_1/xception_block_1/activation: selu</span>"
      ],
      "text/plain": [
       "<IPython.core.display.HTML object>"
      ]
     },
     "metadata": {
      "tags": []
     },
     "output_type": "display_data"
    },
    {
     "data": {
      "text/html": [
       "<span style=\"color:blue\"> |-image_block_1/xception_block_1/conv2d_num_filters: 64</span>"
      ],
      "text/plain": [
       "<IPython.core.display.HTML object>"
      ]
     },
     "metadata": {
      "tags": []
     },
     "output_type": "display_data"
    },
    {
     "data": {
      "text/html": [
       "<span style=\"color:cyan\"> |-image_block_1/xception_block_1/initial_strides: 2</span>"
      ],
      "text/plain": [
       "<IPython.core.display.HTML object>"
      ]
     },
     "metadata": {
      "tags": []
     },
     "output_type": "display_data"
    },
    {
     "data": {
      "text/html": [
       "<span style=\"color:blue\"> |-image_block_1/xception_block_1/kernel_size: 5</span>"
      ],
      "text/plain": [
       "<IPython.core.display.HTML object>"
      ]
     },
     "metadata": {
      "tags": []
     },
     "output_type": "display_data"
    },
    {
     "data": {
      "text/html": [
       "<span style=\"color:cyan\"> |-image_block_1/xception_block_1/num_residual_blocks: 8</span>"
      ],
      "text/plain": [
       "<IPython.core.display.HTML object>"
      ]
     },
     "metadata": {
      "tags": []
     },
     "output_type": "display_data"
    },
    {
     "data": {
      "text/html": [
       "<span style=\"color:blue\"> |-image_block_1/xception_block_1/pooling: flatten</span>"
      ],
      "text/plain": [
       "<IPython.core.display.HTML object>"
      ]
     },
     "metadata": {
      "tags": []
     },
     "output_type": "display_data"
    },
    {
     "data": {
      "text/html": [
       "<span style=\"color:cyan\"> |-image_block_1/xception_block_1/sep_num_filters: 384</span>"
      ],
      "text/plain": [
       "<IPython.core.display.HTML object>"
      ]
     },
     "metadata": {
      "tags": []
     },
     "output_type": "display_data"
    },
    {
     "data": {
      "text/html": [
       "<span style=\"color:blue\"> |-merge_1/merge_type: add</span>"
      ],
      "text/plain": [
       "<IPython.core.display.HTML object>"
      ]
     },
     "metadata": {
      "tags": []
     },
     "output_type": "display_data"
    },
    {
     "data": {
      "text/html": [
       "<span style=\"color:cyan\"> |-optimizer: adam</span>"
      ],
      "text/plain": [
       "<IPython.core.display.HTML object>"
      ]
     },
     "metadata": {
      "tags": []
     },
     "output_type": "display_data"
    },
    {
     "data": {
      "text/html": [
       "<span style=\"color:blue\"> |-regression_head_1/dropout_rate: 0</span>"
      ],
      "text/plain": [
       "<IPython.core.display.HTML object>"
      ]
     },
     "metadata": {
      "tags": []
     },
     "output_type": "display_data"
    },
    {
     "data": {
      "text/html": [
       "<span style=\"color:cyan\"> |-structured_data_block_1/dense_block_1/dropout_rate: 0.0</span>"
      ],
      "text/plain": [
       "<IPython.core.display.HTML object>"
      ]
     },
     "metadata": {
      "tags": []
     },
     "output_type": "display_data"
    },
    {
     "data": {
      "text/html": [
       "<span style=\"color:blue\"> |-structured_data_block_1/dense_block_1/num_layers: 1</span>"
      ],
      "text/plain": [
       "<IPython.core.display.HTML object>"
      ]
     },
     "metadata": {
      "tags": []
     },
     "output_type": "display_data"
    },
    {
     "data": {
      "text/html": [
       "<span style=\"color:cyan\"> |-structured_data_block_1/dense_block_1/units_0: 1024</span>"
      ],
      "text/plain": [
       "<IPython.core.display.HTML object>"
      ]
     },
     "metadata": {
      "tags": []
     },
     "output_type": "display_data"
    },
    {
     "data": {
      "text/html": [
       "<span style=\"color:blue\"> |-structured_data_block_1/dense_block_1/units_1: 512</span>"
      ],
      "text/plain": [
       "<IPython.core.display.HTML object>"
      ]
     },
     "metadata": {
      "tags": []
     },
     "output_type": "display_data"
    },
    {
     "data": {
      "text/html": [
       "<span style=\"color:cyan\"> |-structured_data_block_1/dense_block_1/units_2: 16</span>"
      ],
      "text/plain": [
       "<IPython.core.display.HTML object>"
      ]
     },
     "metadata": {
      "tags": []
     },
     "output_type": "display_data"
    },
    {
     "data": {
      "text/html": [
       "<span style=\"color:blue\"> |-structured_data_block_1/dense_block_1/use_batchnorm: True</span>"
      ],
      "text/plain": [
       "<IPython.core.display.HTML object>"
      ]
     },
     "metadata": {
      "tags": []
     },
     "output_type": "display_data"
    },
    {
     "name": "stdout",
     "output_type": "stream",
     "text": [
      "Train for 25 steps, validate for 7 steps\n",
      "Epoch 1/10\n",
      "25/25 [==============================] - 9s 370ms/step - loss: 3.2673 - regression_head_1_loss: 1.8064 - classification_head_1_loss: 1.4609 - regression_head_1_mean_squared_error: 1.8064 - classification_head_1_accuracy: 0.3487 - val_loss: 1.3071 - val_regression_head_1_loss: 0.2095 - val_classification_head_1_loss: 1.0976 - val_regression_head_1_mean_squared_error: 0.1898 - val_classification_head_1_accuracy: 0.3550\n",
      "Epoch 2/10\n",
      "25/25 [==============================] - 1s 52ms/step - loss: 1.7436 - regression_head_1_loss: 0.4343 - classification_head_1_loss: 1.3093 - regression_head_1_mean_squared_error: 0.4343 - classification_head_1_accuracy: 0.3800 - val_loss: 1.3956 - val_regression_head_1_loss: 0.2963 - val_classification_head_1_loss: 1.0993 - val_regression_head_1_mean_squared_error: 0.2732 - val_classification_head_1_accuracy: 0.3300\n",
      "Epoch 3/10\n",
      "25/25 [==============================] - 1s 50ms/step - loss: 1.0145 - regression_head_1_loss: 0.1430 - classification_head_1_loss: 0.8714 - regression_head_1_mean_squared_error: 0.1430 - classification_head_1_accuracy: 0.6450 - val_loss: 1.3846 - val_regression_head_1_loss: 0.2717 - val_classification_head_1_loss: 1.1129 - val_regression_head_1_mean_squared_error: 0.2503 - val_classification_head_1_accuracy: 0.2950\n",
      "Epoch 4/10\n",
      "25/25 [==============================] - 1s 50ms/step - loss: 0.4178 - regression_head_1_loss: 0.0849 - classification_head_1_loss: 0.3330 - regression_head_1_mean_squared_error: 0.0849 - classification_head_1_accuracy: 0.9050 - val_loss: 1.4912 - val_regression_head_1_loss: 0.2870 - val_classification_head_1_loss: 1.2042 - val_regression_head_1_mean_squared_error: 0.2657 - val_classification_head_1_accuracy: 0.2950\n",
      "Epoch 5/10\n",
      "25/25 [==============================] - 1s 50ms/step - loss: 0.4700 - regression_head_1_loss: 0.0698 - classification_head_1_loss: 0.4003 - regression_head_1_mean_squared_error: 0.0698 - classification_head_1_accuracy: 0.8838 - val_loss: 1.5227 - val_regression_head_1_loss: 0.1508 - val_classification_head_1_loss: 1.3719 - val_regression_head_1_mean_squared_error: 0.1381 - val_classification_head_1_accuracy: 0.3700\n",
      "Epoch 6/10\n",
      "25/25 [==============================] - 1s 56ms/step - loss: 0.6415 - regression_head_1_loss: 0.0673 - classification_head_1_loss: 0.5741 - regression_head_1_mean_squared_error: 0.0673 - classification_head_1_accuracy: 0.8800 - val_loss: 2.2634 - val_regression_head_1_loss: 0.0821 - val_classification_head_1_loss: 2.1813 - val_regression_head_1_mean_squared_error: 0.0793 - val_classification_head_1_accuracy: 0.3700\n",
      "Epoch 7/10\n",
      "25/25 [==============================] - 1s 56ms/step - loss: 1.0055 - regression_head_1_loss: 0.0826 - classification_head_1_loss: 0.9229 - regression_head_1_mean_squared_error: 0.0826 - classification_head_1_accuracy: 0.8650 - val_loss: 3.5144 - val_regression_head_1_loss: 0.0883 - val_classification_head_1_loss: 3.4262 - val_regression_head_1_mean_squared_error: 0.0834 - val_classification_head_1_accuracy: 0.3700\n",
      "Epoch 8/10\n",
      "25/25 [==============================] - 1s 49ms/step - loss: 0.5096 - regression_head_1_loss: 0.0758 - classification_head_1_loss: 0.4337 - regression_head_1_mean_squared_error: 0.0758 - classification_head_1_accuracy: 0.9388 - val_loss: 4.1734 - val_regression_head_1_loss: 0.0927 - val_classification_head_1_loss: 4.0807 - val_regression_head_1_mean_squared_error: 0.0966 - val_classification_head_1_accuracy: 0.3700\n",
      "Epoch 9/10\n",
      "25/25 [==============================] - 1s 50ms/step - loss: 0.2274 - regression_head_1_loss: 0.0564 - classification_head_1_loss: 0.1710 - regression_head_1_mean_squared_error: 0.0564 - classification_head_1_accuracy: 0.9625 - val_loss: 3.8449 - val_regression_head_1_loss: 0.1104 - val_classification_head_1_loss: 3.7345 - val_regression_head_1_mean_squared_error: 0.1165 - val_classification_head_1_accuracy: 0.3700\n",
      "Epoch 10/10\n",
      "25/25 [==============================] - 1s 49ms/step - loss: 0.2656 - regression_head_1_loss: 0.0945 - classification_head_1_loss: 0.1711 - regression_head_1_mean_squared_error: 0.0945 - classification_head_1_accuracy: 0.9775 - val_loss: 4.1167 - val_regression_head_1_loss: 0.0819 - val_classification_head_1_loss: 4.0347 - val_regression_head_1_mean_squared_error: 0.0816 - val_classification_head_1_accuracy: 0.3700\n"
     ]
    },
    {
     "data": {
      "text/html": [
       "<span style=\"color:#4527A0\"><h1 style=\"font-size:18px\">Trial complete</h1></span>"
      ],
      "text/plain": [
       "<IPython.core.display.HTML object>"
      ]
     },
     "metadata": {
      "tags": []
     },
     "output_type": "display_data"
    },
    {
     "data": {
      "text/html": [
       "<span style=\"color:#4527A0\"><h1 style=\"font-size:18px\">Trial summary</h1></span>"
      ],
      "text/plain": [
       "<IPython.core.display.HTML object>"
      ]
     },
     "metadata": {
      "tags": []
     },
     "output_type": "display_data"
    },
    {
     "data": {
      "text/html": [
       "<span style=\"color:cyan\"> |-Trial ID: dc333be635ccd95e9d7eb77fda4bf02d</span>"
      ],
      "text/plain": [
       "<IPython.core.display.HTML object>"
      ]
     },
     "metadata": {
      "tags": []
     },
     "output_type": "display_data"
    },
    {
     "data": {
      "text/html": [
       "<span style=\"color:cyan\"> |-Score: 1.3070709364754813</span>"
      ],
      "text/plain": [
       "<IPython.core.display.HTML object>"
      ]
     },
     "metadata": {
      "tags": []
     },
     "output_type": "display_data"
    },
    {
     "data": {
      "text/html": [
       "<span style=\"color:cyan\"> |-Best step: 0</span>"
      ],
      "text/plain": [
       "<IPython.core.display.HTML object>"
      ]
     },
     "metadata": {
      "tags": []
     },
     "output_type": "display_data"
    },
    {
     "data": {
      "text/html": [
       "<span style=\"color:#7E57C2\"><h2 style=\"font-size:16px\">Hyperparameters:</h2></span>"
      ],
      "text/plain": [
       "<IPython.core.display.HTML object>"
      ]
     },
     "metadata": {
      "tags": []
     },
     "output_type": "display_data"
    },
    {
     "data": {
      "text/html": [
       "<span style=\"color:cyan\"> |-classification_head_1/dropout_rate: 0</span>"
      ],
      "text/plain": [
       "<IPython.core.display.HTML object>"
      ]
     },
     "metadata": {
      "tags": []
     },
     "output_type": "display_data"
    },
    {
     "data": {
      "text/html": [
       "<span style=\"color:blue\"> |-image_block_1/augment: False</span>"
      ],
      "text/plain": [
       "<IPython.core.display.HTML object>"
      ]
     },
     "metadata": {
      "tags": []
     },
     "output_type": "display_data"
    },
    {
     "data": {
      "text/html": [
       "<span style=\"color:cyan\"> |-image_block_1/block_type: resnet</span>"
      ],
      "text/plain": [
       "<IPython.core.display.HTML object>"
      ]
     },
     "metadata": {
      "tags": []
     },
     "output_type": "display_data"
    },
    {
     "data": {
      "text/html": [
       "<span style=\"color:blue\"> |-image_block_1/conv_block_1/dropout_rate: 0.5</span>"
      ],
      "text/plain": [
       "<IPython.core.display.HTML object>"
      ]
     },
     "metadata": {
      "tags": []
     },
     "output_type": "display_data"
    },
    {
     "data": {
      "text/html": [
       "<span style=\"color:cyan\"> |-image_block_1/conv_block_1/filters_0_0: 32</span>"
      ],
      "text/plain": [
       "<IPython.core.display.HTML object>"
      ]
     },
     "metadata": {
      "tags": []
     },
     "output_type": "display_data"
    },
    {
     "data": {
      "text/html": [
       "<span style=\"color:blue\"> |-image_block_1/conv_block_1/filters_0_1: 16</span>"
      ],
      "text/plain": [
       "<IPython.core.display.HTML object>"
      ]
     },
     "metadata": {
      "tags": []
     },
     "output_type": "display_data"
    },
    {
     "data": {
      "text/html": [
       "<span style=\"color:cyan\"> |-image_block_1/conv_block_1/filters_1_0: 512</span>"
      ],
      "text/plain": [
       "<IPython.core.display.HTML object>"
      ]
     },
     "metadata": {
      "tags": []
     },
     "output_type": "display_data"
    },
    {
     "data": {
      "text/html": [
       "<span style=\"color:blue\"> |-image_block_1/conv_block_1/filters_1_1: 32</span>"
      ],
      "text/plain": [
       "<IPython.core.display.HTML object>"
      ]
     },
     "metadata": {
      "tags": []
     },
     "output_type": "display_data"
    },
    {
     "data": {
      "text/html": [
       "<span style=\"color:cyan\"> |-image_block_1/conv_block_1/kernel_size: 7</span>"
      ],
      "text/plain": [
       "<IPython.core.display.HTML object>"
      ]
     },
     "metadata": {
      "tags": []
     },
     "output_type": "display_data"
    },
    {
     "data": {
      "text/html": [
       "<span style=\"color:blue\"> |-image_block_1/conv_block_1/max_pooling: False</span>"
      ],
      "text/plain": [
       "<IPython.core.display.HTML object>"
      ]
     },
     "metadata": {
      "tags": []
     },
     "output_type": "display_data"
    },
    {
     "data": {
      "text/html": [
       "<span style=\"color:cyan\"> |-image_block_1/conv_block_1/num_blocks: 3</span>"
      ],
      "text/plain": [
       "<IPython.core.display.HTML object>"
      ]
     },
     "metadata": {
      "tags": []
     },
     "output_type": "display_data"
    },
    {
     "data": {
      "text/html": [
       "<span style=\"color:blue\"> |-image_block_1/conv_block_1/num_layers: 2</span>"
      ],
      "text/plain": [
       "<IPython.core.display.HTML object>"
      ]
     },
     "metadata": {
      "tags": []
     },
     "output_type": "display_data"
    },
    {
     "data": {
      "text/html": [
       "<span style=\"color:cyan\"> |-image_block_1/conv_block_1/separable: False</span>"
      ],
      "text/plain": [
       "<IPython.core.display.HTML object>"
      ]
     },
     "metadata": {
      "tags": []
     },
     "output_type": "display_data"
    },
    {
     "data": {
      "text/html": [
       "<span style=\"color:blue\"> |-image_block_1/normalize: False</span>"
      ],
      "text/plain": [
       "<IPython.core.display.HTML object>"
      ]
     },
     "metadata": {
      "tags": []
     },
     "output_type": "display_data"
    },
    {
     "data": {
      "text/html": [
       "<span style=\"color:cyan\"> |-image_block_1/res_net_block_1/conv3_depth: 8</span>"
      ],
      "text/plain": [
       "<IPython.core.display.HTML object>"
      ]
     },
     "metadata": {
      "tags": []
     },
     "output_type": "display_data"
    },
    {
     "data": {
      "text/html": [
       "<span style=\"color:blue\"> |-image_block_1/res_net_block_1/conv4_depth: 6</span>"
      ],
      "text/plain": [
       "<IPython.core.display.HTML object>"
      ]
     },
     "metadata": {
      "tags": []
     },
     "output_type": "display_data"
    },
    {
     "data": {
      "text/html": [
       "<span style=\"color:cyan\"> |-image_block_1/res_net_block_1/pooling: max</span>"
      ],
      "text/plain": [
       "<IPython.core.display.HTML object>"
      ]
     },
     "metadata": {
      "tags": []
     },
     "output_type": "display_data"
    },
    {
     "data": {
      "text/html": [
       "<span style=\"color:blue\"> |-image_block_1/res_net_block_1/version: v2</span>"
      ],
      "text/plain": [
       "<IPython.core.display.HTML object>"
      ]
     },
     "metadata": {
      "tags": []
     },
     "output_type": "display_data"
    },
    {
     "data": {
      "text/html": [
       "<span style=\"color:cyan\"> |-image_block_1/xception_block_1/activation: relu</span>"
      ],
      "text/plain": [
       "<IPython.core.display.HTML object>"
      ]
     },
     "metadata": {
      "tags": []
     },
     "output_type": "display_data"
    },
    {
     "data": {
      "text/html": [
       "<span style=\"color:blue\"> |-image_block_1/xception_block_1/conv2d_num_filters: 32</span>"
      ],
      "text/plain": [
       "<IPython.core.display.HTML object>"
      ]
     },
     "metadata": {
      "tags": []
     },
     "output_type": "display_data"
    },
    {
     "data": {
      "text/html": [
       "<span style=\"color:cyan\"> |-image_block_1/xception_block_1/initial_strides: 2</span>"
      ],
      "text/plain": [
       "<IPython.core.display.HTML object>"
      ]
     },
     "metadata": {
      "tags": []
     },
     "output_type": "display_data"
    },
    {
     "data": {
      "text/html": [
       "<span style=\"color:blue\"> |-image_block_1/xception_block_1/kernel_size: 3</span>"
      ],
      "text/plain": [
       "<IPython.core.display.HTML object>"
      ]
     },
     "metadata": {
      "tags": []
     },
     "output_type": "display_data"
    },
    {
     "data": {
      "text/html": [
       "<span style=\"color:cyan\"> |-image_block_1/xception_block_1/num_residual_blocks: 7</span>"
      ],
      "text/plain": [
       "<IPython.core.display.HTML object>"
      ]
     },
     "metadata": {
      "tags": []
     },
     "output_type": "display_data"
    },
    {
     "data": {
      "text/html": [
       "<span style=\"color:blue\"> |-image_block_1/xception_block_1/pooling: avg</span>"
      ],
      "text/plain": [
       "<IPython.core.display.HTML object>"
      ]
     },
     "metadata": {
      "tags": []
     },
     "output_type": "display_data"
    },
    {
     "data": {
      "text/html": [
       "<span style=\"color:cyan\"> |-image_block_1/xception_block_1/sep_num_filters: 128</span>"
      ],
      "text/plain": [
       "<IPython.core.display.HTML object>"
      ]
     },
     "metadata": {
      "tags": []
     },
     "output_type": "display_data"
    },
    {
     "data": {
      "text/html": [
       "<span style=\"color:blue\"> |-merge_1/merge_type: add</span>"
      ],
      "text/plain": [
       "<IPython.core.display.HTML object>"
      ]
     },
     "metadata": {
      "tags": []
     },
     "output_type": "display_data"
    },
    {
     "data": {
      "text/html": [
       "<span style=\"color:cyan\"> |-optimizer: adam</span>"
      ],
      "text/plain": [
       "<IPython.core.display.HTML object>"
      ]
     },
     "metadata": {
      "tags": []
     },
     "output_type": "display_data"
    },
    {
     "data": {
      "text/html": [
       "<span style=\"color:blue\"> |-regression_head_1/dropout_rate: 0</span>"
      ],
      "text/plain": [
       "<IPython.core.display.HTML object>"
      ]
     },
     "metadata": {
      "tags": []
     },
     "output_type": "display_data"
    },
    {
     "data": {
      "text/html": [
       "<span style=\"color:cyan\"> |-structured_data_block_1/dense_block_1/dropout_rate: 0.5</span>"
      ],
      "text/plain": [
       "<IPython.core.display.HTML object>"
      ]
     },
     "metadata": {
      "tags": []
     },
     "output_type": "display_data"
    },
    {
     "data": {
      "text/html": [
       "<span style=\"color:blue\"> |-structured_data_block_1/dense_block_1/num_layers: 3</span>"
      ],
      "text/plain": [
       "<IPython.core.display.HTML object>"
      ]
     },
     "metadata": {
      "tags": []
     },
     "output_type": "display_data"
    },
    {
     "data": {
      "text/html": [
       "<span style=\"color:cyan\"> |-structured_data_block_1/dense_block_1/units_0: 32</span>"
      ],
      "text/plain": [
       "<IPython.core.display.HTML object>"
      ]
     },
     "metadata": {
      "tags": []
     },
     "output_type": "display_data"
    },
    {
     "data": {
      "text/html": [
       "<span style=\"color:blue\"> |-structured_data_block_1/dense_block_1/units_1: 256</span>"
      ],
      "text/plain": [
       "<IPython.core.display.HTML object>"
      ]
     },
     "metadata": {
      "tags": []
     },
     "output_type": "display_data"
    },
    {
     "data": {
      "text/html": [
       "<span style=\"color:cyan\"> |-structured_data_block_1/dense_block_1/units_2: 1024</span>"
      ],
      "text/plain": [
       "<IPython.core.display.HTML object>"
      ]
     },
     "metadata": {
      "tags": []
     },
     "output_type": "display_data"
    },
    {
     "data": {
      "text/html": [
       "<span style=\"color:blue\"> |-structured_data_block_1/dense_block_1/use_batchnorm: False</span>"
      ],
      "text/plain": [
       "<IPython.core.display.HTML object>"
      ]
     },
     "metadata": {
      "tags": []
     },
     "output_type": "display_data"
    },
    {
     "name": "stdout",
     "output_type": "stream",
     "text": [
      "Train for 25 steps, validate for 7 steps\n",
      "Epoch 1/10\n",
      "25/25 [==============================] - 25s 1s/step - loss: 11.6085 - regression_head_1_loss: 9.9082 - classification_head_1_loss: 1.7003 - regression_head_1_mean_squared_error: 9.9082 - classification_head_1_accuracy: 0.3562 - val_loss: 1.8912 - val_regression_head_1_loss: 0.7944 - val_classification_head_1_loss: 1.0967 - val_regression_head_1_mean_squared_error: 0.7590 - val_classification_head_1_accuracy: 0.3700\n",
      "Epoch 2/10\n",
      "25/25 [==============================] - 6s 244ms/step - loss: 1.9654 - regression_head_1_loss: 0.4739 - classification_head_1_loss: 1.4915 - regression_head_1_mean_squared_error: 0.4739 - classification_head_1_accuracy: 0.3812 - val_loss: 1.2177 - val_regression_head_1_loss: 0.1151 - val_classification_head_1_loss: 1.1026 - val_regression_head_1_mean_squared_error: 0.1064 - val_classification_head_1_accuracy: 0.3350\n",
      "Epoch 3/10\n",
      "25/25 [==============================] - 13s 505ms/step - loss: 1.5767 - regression_head_1_loss: 0.2980 - classification_head_1_loss: 1.2787 - regression_head_1_mean_squared_error: 0.2980 - classification_head_1_accuracy: 0.4062 - val_loss: 1.1927 - val_regression_head_1_loss: 0.0855 - val_classification_head_1_loss: 1.1073 - val_regression_head_1_mean_squared_error: 0.0821 - val_classification_head_1_accuracy: 0.3250\n",
      "Epoch 4/10\n",
      "25/25 [==============================] - 3s 115ms/step - loss: 1.2366 - regression_head_1_loss: 0.1621 - classification_head_1_loss: 1.0745 - regression_head_1_mean_squared_error: 0.1621 - classification_head_1_accuracy: 0.4850 - val_loss: 1.2744 - val_regression_head_1_loss: 0.0977 - val_classification_head_1_loss: 1.1767 - val_regression_head_1_mean_squared_error: 0.1019 - val_classification_head_1_accuracy: 0.3150\n",
      "Epoch 5/10\n",
      "25/25 [==============================] - 3s 116ms/step - loss: 1.1496 - regression_head_1_loss: 0.1488 - classification_head_1_loss: 1.0008 - regression_head_1_mean_squared_error: 0.1488 - classification_head_1_accuracy: 0.6637 - val_loss: 1.3573 - val_regression_head_1_loss: 0.0842 - val_classification_head_1_loss: 1.2731 - val_regression_head_1_mean_squared_error: 0.0824 - val_classification_head_1_accuracy: 0.2950\n",
      "Epoch 6/10\n",
      "25/25 [==============================] - 3s 110ms/step - loss: 1.0083 - regression_head_1_loss: 0.1557 - classification_head_1_loss: 0.8526 - regression_head_1_mean_squared_error: 0.1557 - classification_head_1_accuracy: 0.8200 - val_loss: 1.6203 - val_regression_head_1_loss: 0.0844 - val_classification_head_1_loss: 1.5359 - val_regression_head_1_mean_squared_error: 0.0831 - val_classification_head_1_accuracy: 0.2950\n",
      "Epoch 7/10\n",
      "25/25 [==============================] - 3s 109ms/step - loss: 0.7515 - regression_head_1_loss: 0.1369 - classification_head_1_loss: 0.6146 - regression_head_1_mean_squared_error: 0.1369 - classification_head_1_accuracy: 0.8550 - val_loss: 2.2555 - val_regression_head_1_loss: 0.1093 - val_classification_head_1_loss: 2.1462 - val_regression_head_1_mean_squared_error: 0.1022 - val_classification_head_1_accuracy: 0.2950\n",
      "Epoch 8/10\n",
      "25/25 [==============================] - 3s 110ms/step - loss: 0.4540 - regression_head_1_loss: 0.1287 - classification_head_1_loss: 0.3253 - regression_head_1_mean_squared_error: 0.1287 - classification_head_1_accuracy: 0.9162 - val_loss: 3.1170 - val_regression_head_1_loss: 0.1248 - val_classification_head_1_loss: 2.9922 - val_regression_head_1_mean_squared_error: 0.1158 - val_classification_head_1_accuracy: 0.2950\n",
      "Epoch 9/10\n",
      "25/25 [==============================] - 3s 110ms/step - loss: 0.4485 - regression_head_1_loss: 0.1358 - classification_head_1_loss: 0.3127 - regression_head_1_mean_squared_error: 0.1358 - classification_head_1_accuracy: 0.9425 - val_loss: 3.5941 - val_regression_head_1_loss: 0.1140 - val_classification_head_1_loss: 3.4802 - val_regression_head_1_mean_squared_error: 0.1067 - val_classification_head_1_accuracy: 0.2950\n",
      "Epoch 10/10\n",
      "25/25 [==============================] - 3s 109ms/step - loss: 0.5557 - regression_head_1_loss: 0.1220 - classification_head_1_loss: 0.4337 - regression_head_1_mean_squared_error: 0.1220 - classification_head_1_accuracy: 0.9400 - val_loss: 3.9987 - val_regression_head_1_loss: 0.1904 - val_classification_head_1_loss: 3.8083 - val_regression_head_1_mean_squared_error: 0.2029 - val_classification_head_1_accuracy: 0.2950\n"
     ]
    },
    {
     "data": {
      "text/html": [
       "<span style=\"color:#4527A0\"><h1 style=\"font-size:18px\">Trial complete</h1></span>"
      ],
      "text/plain": [
       "<IPython.core.display.HTML object>"
      ]
     },
     "metadata": {
      "tags": []
     },
     "output_type": "display_data"
    },
    {
     "data": {
      "text/html": [
       "<span style=\"color:#4527A0\"><h1 style=\"font-size:18px\">Trial summary</h1></span>"
      ],
      "text/plain": [
       "<IPython.core.display.HTML object>"
      ]
     },
     "metadata": {
      "tags": []
     },
     "output_type": "display_data"
    },
    {
     "data": {
      "text/html": [
       "<span style=\"color:cyan\"> |-Trial ID: c0c0fdb83e6baf7d560f242ff67bc96b</span>"
      ],
      "text/plain": [
       "<IPython.core.display.HTML object>"
      ]
     },
     "metadata": {
      "tags": []
     },
     "output_type": "display_data"
    },
    {
     "data": {
      "text/html": [
       "<span style=\"color:cyan\"> |-Score: 1.1927122388567244</span>"
      ],
      "text/plain": [
       "<IPython.core.display.HTML object>"
      ]
     },
     "metadata": {
      "tags": []
     },
     "output_type": "display_data"
    },
    {
     "data": {
      "text/html": [
       "<span style=\"color:cyan\"> |-Best step: 0</span>"
      ],
      "text/plain": [
       "<IPython.core.display.HTML object>"
      ]
     },
     "metadata": {
      "tags": []
     },
     "output_type": "display_data"
    },
    {
     "data": {
      "text/html": [
       "<span style=\"color:#7E57C2\"><h2 style=\"font-size:16px\">Hyperparameters:</h2></span>"
      ],
      "text/plain": [
       "<IPython.core.display.HTML object>"
      ]
     },
     "metadata": {
      "tags": []
     },
     "output_type": "display_data"
    },
    {
     "data": {
      "text/html": [
       "<span style=\"color:cyan\"> |-classification_head_1/dropout_rate: 0</span>"
      ],
      "text/plain": [
       "<IPython.core.display.HTML object>"
      ]
     },
     "metadata": {
      "tags": []
     },
     "output_type": "display_data"
    },
    {
     "data": {
      "text/html": [
       "<span style=\"color:blue\"> |-image_block_1/augment: False</span>"
      ],
      "text/plain": [
       "<IPython.core.display.HTML object>"
      ]
     },
     "metadata": {
      "tags": []
     },
     "output_type": "display_data"
    },
    {
     "data": {
      "text/html": [
       "<span style=\"color:cyan\"> |-image_block_1/block_type: resnet</span>"
      ],
      "text/plain": [
       "<IPython.core.display.HTML object>"
      ]
     },
     "metadata": {
      "tags": []
     },
     "output_type": "display_data"
    },
    {
     "data": {
      "text/html": [
       "<span style=\"color:blue\"> |-image_block_1/conv_block_1/dropout_rate: 0.0</span>"
      ],
      "text/plain": [
       "<IPython.core.display.HTML object>"
      ]
     },
     "metadata": {
      "tags": []
     },
     "output_type": "display_data"
    },
    {
     "data": {
      "text/html": [
       "<span style=\"color:cyan\"> |-image_block_1/conv_block_1/filters_0_0: 64</span>"
      ],
      "text/plain": [
       "<IPython.core.display.HTML object>"
      ]
     },
     "metadata": {
      "tags": []
     },
     "output_type": "display_data"
    },
    {
     "data": {
      "text/html": [
       "<span style=\"color:blue\"> |-image_block_1/conv_block_1/filters_0_1: 256</span>"
      ],
      "text/plain": [
       "<IPython.core.display.HTML object>"
      ]
     },
     "metadata": {
      "tags": []
     },
     "output_type": "display_data"
    },
    {
     "data": {
      "text/html": [
       "<span style=\"color:cyan\"> |-image_block_1/conv_block_1/filters_1_0: 128</span>"
      ],
      "text/plain": [
       "<IPython.core.display.HTML object>"
      ]
     },
     "metadata": {
      "tags": []
     },
     "output_type": "display_data"
    },
    {
     "data": {
      "text/html": [
       "<span style=\"color:blue\"> |-image_block_1/conv_block_1/filters_1_1: 32</span>"
      ],
      "text/plain": [
       "<IPython.core.display.HTML object>"
      ]
     },
     "metadata": {
      "tags": []
     },
     "output_type": "display_data"
    },
    {
     "data": {
      "text/html": [
       "<span style=\"color:cyan\"> |-image_block_1/conv_block_1/kernel_size: 7</span>"
      ],
      "text/plain": [
       "<IPython.core.display.HTML object>"
      ]
     },
     "metadata": {
      "tags": []
     },
     "output_type": "display_data"
    },
    {
     "data": {
      "text/html": [
       "<span style=\"color:blue\"> |-image_block_1/conv_block_1/max_pooling: True</span>"
      ],
      "text/plain": [
       "<IPython.core.display.HTML object>"
      ]
     },
     "metadata": {
      "tags": []
     },
     "output_type": "display_data"
    },
    {
     "data": {
      "text/html": [
       "<span style=\"color:cyan\"> |-image_block_1/conv_block_1/num_blocks: 3</span>"
      ],
      "text/plain": [
       "<IPython.core.display.HTML object>"
      ]
     },
     "metadata": {
      "tags": []
     },
     "output_type": "display_data"
    },
    {
     "data": {
      "text/html": [
       "<span style=\"color:blue\"> |-image_block_1/conv_block_1/num_layers: 1</span>"
      ],
      "text/plain": [
       "<IPython.core.display.HTML object>"
      ]
     },
     "metadata": {
      "tags": []
     },
     "output_type": "display_data"
    },
    {
     "data": {
      "text/html": [
       "<span style=\"color:cyan\"> |-image_block_1/conv_block_1/separable: True</span>"
      ],
      "text/plain": [
       "<IPython.core.display.HTML object>"
      ]
     },
     "metadata": {
      "tags": []
     },
     "output_type": "display_data"
    },
    {
     "data": {
      "text/html": [
       "<span style=\"color:blue\"> |-image_block_1/normalize: True</span>"
      ],
      "text/plain": [
       "<IPython.core.display.HTML object>"
      ]
     },
     "metadata": {
      "tags": []
     },
     "output_type": "display_data"
    },
    {
     "data": {
      "text/html": [
       "<span style=\"color:cyan\"> |-image_block_1/res_net_block_1/conv3_depth: 8</span>"
      ],
      "text/plain": [
       "<IPython.core.display.HTML object>"
      ]
     },
     "metadata": {
      "tags": []
     },
     "output_type": "display_data"
    },
    {
     "data": {
      "text/html": [
       "<span style=\"color:blue\"> |-image_block_1/res_net_block_1/conv4_depth: 36</span>"
      ],
      "text/plain": [
       "<IPython.core.display.HTML object>"
      ]
     },
     "metadata": {
      "tags": []
     },
     "output_type": "display_data"
    },
    {
     "data": {
      "text/html": [
       "<span style=\"color:cyan\"> |-image_block_1/res_net_block_1/pooling: avg</span>"
      ],
      "text/plain": [
       "<IPython.core.display.HTML object>"
      ]
     },
     "metadata": {
      "tags": []
     },
     "output_type": "display_data"
    },
    {
     "data": {
      "text/html": [
       "<span style=\"color:blue\"> |-image_block_1/res_net_block_1/version: v1</span>"
      ],
      "text/plain": [
       "<IPython.core.display.HTML object>"
      ]
     },
     "metadata": {
      "tags": []
     },
     "output_type": "display_data"
    },
    {
     "data": {
      "text/html": [
       "<span style=\"color:cyan\"> |-image_block_1/xception_block_1/activation: selu</span>"
      ],
      "text/plain": [
       "<IPython.core.display.HTML object>"
      ]
     },
     "metadata": {
      "tags": []
     },
     "output_type": "display_data"
    },
    {
     "data": {
      "text/html": [
       "<span style=\"color:blue\"> |-image_block_1/xception_block_1/conv2d_num_filters: 64</span>"
      ],
      "text/plain": [
       "<IPython.core.display.HTML object>"
      ]
     },
     "metadata": {
      "tags": []
     },
     "output_type": "display_data"
    },
    {
     "data": {
      "text/html": [
       "<span style=\"color:cyan\"> |-image_block_1/xception_block_1/initial_strides: 2</span>"
      ],
      "text/plain": [
       "<IPython.core.display.HTML object>"
      ]
     },
     "metadata": {
      "tags": []
     },
     "output_type": "display_data"
    },
    {
     "data": {
      "text/html": [
       "<span style=\"color:blue\"> |-image_block_1/xception_block_1/kernel_size: 5</span>"
      ],
      "text/plain": [
       "<IPython.core.display.HTML object>"
      ]
     },
     "metadata": {
      "tags": []
     },
     "output_type": "display_data"
    },
    {
     "data": {
      "text/html": [
       "<span style=\"color:cyan\"> |-image_block_1/xception_block_1/num_residual_blocks: 5</span>"
      ],
      "text/plain": [
       "<IPython.core.display.HTML object>"
      ]
     },
     "metadata": {
      "tags": []
     },
     "output_type": "display_data"
    },
    {
     "data": {
      "text/html": [
       "<span style=\"color:blue\"> |-image_block_1/xception_block_1/pooling: max</span>"
      ],
      "text/plain": [
       "<IPython.core.display.HTML object>"
      ]
     },
     "metadata": {
      "tags": []
     },
     "output_type": "display_data"
    },
    {
     "data": {
      "text/html": [
       "<span style=\"color:cyan\"> |-image_block_1/xception_block_1/sep_num_filters: 640</span>"
      ],
      "text/plain": [
       "<IPython.core.display.HTML object>"
      ]
     },
     "metadata": {
      "tags": []
     },
     "output_type": "display_data"
    },
    {
     "data": {
      "text/html": [
       "<span style=\"color:blue\"> |-merge_1/merge_type: add</span>"
      ],
      "text/plain": [
       "<IPython.core.display.HTML object>"
      ]
     },
     "metadata": {
      "tags": []
     },
     "output_type": "display_data"
    },
    {
     "data": {
      "text/html": [
       "<span style=\"color:cyan\"> |-optimizer: adam</span>"
      ],
      "text/plain": [
       "<IPython.core.display.HTML object>"
      ]
     },
     "metadata": {
      "tags": []
     },
     "output_type": "display_data"
    },
    {
     "data": {
      "text/html": [
       "<span style=\"color:blue\"> |-regression_head_1/dropout_rate: 0</span>"
      ],
      "text/plain": [
       "<IPython.core.display.HTML object>"
      ]
     },
     "metadata": {
      "tags": []
     },
     "output_type": "display_data"
    },
    {
     "data": {
      "text/html": [
       "<span style=\"color:cyan\"> |-structured_data_block_1/dense_block_1/dropout_rate: 0.25</span>"
      ],
      "text/plain": [
       "<IPython.core.display.HTML object>"
      ]
     },
     "metadata": {
      "tags": []
     },
     "output_type": "display_data"
    },
    {
     "data": {
      "text/html": [
       "<span style=\"color:blue\"> |-structured_data_block_1/dense_block_1/num_layers: 3</span>"
      ],
      "text/plain": [
       "<IPython.core.display.HTML object>"
      ]
     },
     "metadata": {
      "tags": []
     },
     "output_type": "display_data"
    },
    {
     "data": {
      "text/html": [
       "<span style=\"color:cyan\"> |-structured_data_block_1/dense_block_1/units_0: 32</span>"
      ],
      "text/plain": [
       "<IPython.core.display.HTML object>"
      ]
     },
     "metadata": {
      "tags": []
     },
     "output_type": "display_data"
    },
    {
     "data": {
      "text/html": [
       "<span style=\"color:blue\"> |-structured_data_block_1/dense_block_1/units_1: 64</span>"
      ],
      "text/plain": [
       "<IPython.core.display.HTML object>"
      ]
     },
     "metadata": {
      "tags": []
     },
     "output_type": "display_data"
    },
    {
     "data": {
      "text/html": [
       "<span style=\"color:cyan\"> |-structured_data_block_1/dense_block_1/units_2: 256</span>"
      ],
      "text/plain": [
       "<IPython.core.display.HTML object>"
      ]
     },
     "metadata": {
      "tags": []
     },
     "output_type": "display_data"
    },
    {
     "data": {
      "text/html": [
       "<span style=\"color:blue\"> |-structured_data_block_1/dense_block_1/use_batchnorm: True</span>"
      ],
      "text/plain": [
       "<IPython.core.display.HTML object>"
      ]
     },
     "metadata": {
      "tags": []
     },
     "output_type": "display_data"
    },
    {
     "name": "stdout",
     "output_type": "stream",
     "text": [
      "Train for 25 steps, validate for 7 steps\n",
      "Epoch 1/10\n",
      "25/25 [==============================] - 1s 56ms/step - loss: 1.2387 - regression_head_1_loss: 0.1329 - classification_head_1_loss: 1.1058 - regression_head_1_mean_squared_error: 0.1329 - classification_head_1_accuracy: 0.3575 - val_loss: 1.2499 - val_regression_head_1_loss: 0.1495 - val_classification_head_1_loss: 1.1004 - val_regression_head_1_mean_squared_error: 0.1371 - val_classification_head_1_accuracy: 0.3200\n",
      "Epoch 2/10\n",
      "25/25 [==============================] - 0s 17ms/step - loss: 1.1478 - regression_head_1_loss: 0.0862 - classification_head_1_loss: 1.0616 - regression_head_1_mean_squared_error: 0.0862 - classification_head_1_accuracy: 0.4825 - val_loss: 1.2688 - val_regression_head_1_loss: 0.1701 - val_classification_head_1_loss: 1.0987 - val_regression_head_1_mean_squared_error: 0.1564 - val_classification_head_1_accuracy: 0.3500\n",
      "Epoch 3/10\n",
      "25/25 [==============================] - 0s 17ms/step - loss: 1.1036 - regression_head_1_loss: 0.0785 - classification_head_1_loss: 1.0251 - regression_head_1_mean_squared_error: 0.0785 - classification_head_1_accuracy: 0.5675 - val_loss: 1.2462 - val_regression_head_1_loss: 0.1418 - val_classification_head_1_loss: 1.1044 - val_regression_head_1_mean_squared_error: 0.1308 - val_classification_head_1_accuracy: 0.3650\n",
      "Epoch 4/10\n",
      "25/25 [==============================] - 0s 17ms/step - loss: 1.0370 - regression_head_1_loss: 0.0710 - classification_head_1_loss: 0.9660 - regression_head_1_mean_squared_error: 0.0710 - classification_head_1_accuracy: 0.5838 - val_loss: 1.2373 - val_regression_head_1_loss: 0.1236 - val_classification_head_1_loss: 1.1137 - val_regression_head_1_mean_squared_error: 0.1156 - val_classification_head_1_accuracy: 0.3500\n",
      "Epoch 5/10\n",
      "25/25 [==============================] - 0s 17ms/step - loss: 0.8965 - regression_head_1_loss: 0.0589 - classification_head_1_loss: 0.8376 - regression_head_1_mean_squared_error: 0.0589 - classification_head_1_accuracy: 0.7038 - val_loss: 1.3164 - val_regression_head_1_loss: 0.1510 - val_classification_head_1_loss: 1.1654 - val_regression_head_1_mean_squared_error: 0.1430 - val_classification_head_1_accuracy: 0.3250\n",
      "Epoch 6/10\n",
      "25/25 [==============================] - 0s 16ms/step - loss: 0.7724 - regression_head_1_loss: 0.0677 - classification_head_1_loss: 0.7047 - regression_head_1_mean_squared_error: 0.0677 - classification_head_1_accuracy: 0.7425 - val_loss: 1.3462 - val_regression_head_1_loss: 0.1332 - val_classification_head_1_loss: 1.2130 - val_regression_head_1_mean_squared_error: 0.1279 - val_classification_head_1_accuracy: 0.3150\n",
      "Epoch 7/10\n",
      "25/25 [==============================] - 0s 17ms/step - loss: 0.7332 - regression_head_1_loss: 0.1620 - classification_head_1_loss: 0.5711 - regression_head_1_mean_squared_error: 0.1620 - classification_head_1_accuracy: 0.8188 - val_loss: 1.3308 - val_regression_head_1_loss: 0.1235 - val_classification_head_1_loss: 1.2073 - val_regression_head_1_mean_squared_error: 0.1180 - val_classification_head_1_accuracy: 0.3150\n",
      "Epoch 8/10\n",
      "25/25 [==============================] - 0s 17ms/step - loss: 0.6739 - regression_head_1_loss: 0.1263 - classification_head_1_loss: 0.5476 - regression_head_1_mean_squared_error: 0.1263 - classification_head_1_accuracy: 0.8300 - val_loss: 1.3796 - val_regression_head_1_loss: 0.1519 - val_classification_head_1_loss: 1.2276 - val_regression_head_1_mean_squared_error: 0.1423 - val_classification_head_1_accuracy: 0.3250\n",
      "Epoch 9/10\n",
      "25/25 [==============================] - 0s 17ms/step - loss: 0.6798 - regression_head_1_loss: 0.1620 - classification_head_1_loss: 0.5178 - regression_head_1_mean_squared_error: 0.1620 - classification_head_1_accuracy: 0.8350 - val_loss: 1.3802 - val_regression_head_1_loss: 0.1404 - val_classification_head_1_loss: 1.2398 - val_regression_head_1_mean_squared_error: 0.1324 - val_classification_head_1_accuracy: 0.3750\n",
      "Epoch 10/10\n",
      "25/25 [==============================] - 0s 16ms/step - loss: 0.6439 - regression_head_1_loss: 0.1145 - classification_head_1_loss: 0.5294 - regression_head_1_mean_squared_error: 0.1145 - classification_head_1_accuracy: 0.8300 - val_loss: 1.3597 - val_regression_head_1_loss: 0.1212 - val_classification_head_1_loss: 1.2385 - val_regression_head_1_mean_squared_error: 0.1251 - val_classification_head_1_accuracy: 0.3600\n"
     ]
    },
    {
     "data": {
      "text/html": [
       "<span style=\"color:#4527A0\"><h1 style=\"font-size:18px\">Trial complete</h1></span>"
      ],
      "text/plain": [
       "<IPython.core.display.HTML object>"
      ]
     },
     "metadata": {
      "tags": []
     },
     "output_type": "display_data"
    },
    {
     "data": {
      "text/html": [
       "<span style=\"color:#4527A0\"><h1 style=\"font-size:18px\">Trial summary</h1></span>"
      ],
      "text/plain": [
       "<IPython.core.display.HTML object>"
      ]
     },
     "metadata": {
      "tags": []
     },
     "output_type": "display_data"
    },
    {
     "data": {
      "text/html": [
       "<span style=\"color:cyan\"> |-Trial ID: ee272c6882c22aa7d6dce4f1d46dd4d3</span>"
      ],
      "text/plain": [
       "<IPython.core.display.HTML object>"
      ]
     },
     "metadata": {
      "tags": []
     },
     "output_type": "display_data"
    },
    {
     "data": {
      "text/html": [
       "<span style=\"color:cyan\"> |-Score: 1.237270508493696</span>"
      ],
      "text/plain": [
       "<IPython.core.display.HTML object>"
      ]
     },
     "metadata": {
      "tags": []
     },
     "output_type": "display_data"
    },
    {
     "data": {
      "text/html": [
       "<span style=\"color:cyan\"> |-Best step: 0</span>"
      ],
      "text/plain": [
       "<IPython.core.display.HTML object>"
      ]
     },
     "metadata": {
      "tags": []
     },
     "output_type": "display_data"
    },
    {
     "data": {
      "text/html": [
       "<span style=\"color:#7E57C2\"><h2 style=\"font-size:16px\">Hyperparameters:</h2></span>"
      ],
      "text/plain": [
       "<IPython.core.display.HTML object>"
      ]
     },
     "metadata": {
      "tags": []
     },
     "output_type": "display_data"
    },
    {
     "data": {
      "text/html": [
       "<span style=\"color:cyan\"> |-classification_head_1/dropout_rate: 0</span>"
      ],
      "text/plain": [
       "<IPython.core.display.HTML object>"
      ]
     },
     "metadata": {
      "tags": []
     },
     "output_type": "display_data"
    },
    {
     "data": {
      "text/html": [
       "<span style=\"color:blue\"> |-image_block_1/augment: True</span>"
      ],
      "text/plain": [
       "<IPython.core.display.HTML object>"
      ]
     },
     "metadata": {
      "tags": []
     },
     "output_type": "display_data"
    },
    {
     "data": {
      "text/html": [
       "<span style=\"color:cyan\"> |-image_block_1/block_type: vanilla</span>"
      ],
      "text/plain": [
       "<IPython.core.display.HTML object>"
      ]
     },
     "metadata": {
      "tags": []
     },
     "output_type": "display_data"
    },
    {
     "data": {
      "text/html": [
       "<span style=\"color:blue\"> |-image_block_1/conv_block_1/dropout_rate: 0.5</span>"
      ],
      "text/plain": [
       "<IPython.core.display.HTML object>"
      ]
     },
     "metadata": {
      "tags": []
     },
     "output_type": "display_data"
    },
    {
     "data": {
      "text/html": [
       "<span style=\"color:cyan\"> |-image_block_1/conv_block_1/filters_0_0: 32</span>"
      ],
      "text/plain": [
       "<IPython.core.display.HTML object>"
      ]
     },
     "metadata": {
      "tags": []
     },
     "output_type": "display_data"
    },
    {
     "data": {
      "text/html": [
       "<span style=\"color:blue\"> |-image_block_1/conv_block_1/filters_0_1: 512</span>"
      ],
      "text/plain": [
       "<IPython.core.display.HTML object>"
      ]
     },
     "metadata": {
      "tags": []
     },
     "output_type": "display_data"
    },
    {
     "data": {
      "text/html": [
       "<span style=\"color:cyan\"> |-image_block_1/conv_block_1/filters_1_0: 128</span>"
      ],
      "text/plain": [
       "<IPython.core.display.HTML object>"
      ]
     },
     "metadata": {
      "tags": []
     },
     "output_type": "display_data"
    },
    {
     "data": {
      "text/html": [
       "<span style=\"color:blue\"> |-image_block_1/conv_block_1/filters_1_1: 128</span>"
      ],
      "text/plain": [
       "<IPython.core.display.HTML object>"
      ]
     },
     "metadata": {
      "tags": []
     },
     "output_type": "display_data"
    },
    {
     "data": {
      "text/html": [
       "<span style=\"color:cyan\"> |-image_block_1/conv_block_1/kernel_size: 7</span>"
      ],
      "text/plain": [
       "<IPython.core.display.HTML object>"
      ]
     },
     "metadata": {
      "tags": []
     },
     "output_type": "display_data"
    },
    {
     "data": {
      "text/html": [
       "<span style=\"color:blue\"> |-image_block_1/conv_block_1/max_pooling: False</span>"
      ],
      "text/plain": [
       "<IPython.core.display.HTML object>"
      ]
     },
     "metadata": {
      "tags": []
     },
     "output_type": "display_data"
    },
    {
     "data": {
      "text/html": [
       "<span style=\"color:cyan\"> |-image_block_1/conv_block_1/num_blocks: 2</span>"
      ],
      "text/plain": [
       "<IPython.core.display.HTML object>"
      ]
     },
     "metadata": {
      "tags": []
     },
     "output_type": "display_data"
    },
    {
     "data": {
      "text/html": [
       "<span style=\"color:blue\"> |-image_block_1/conv_block_1/num_layers: 1</span>"
      ],
      "text/plain": [
       "<IPython.core.display.HTML object>"
      ]
     },
     "metadata": {
      "tags": []
     },
     "output_type": "display_data"
    },
    {
     "data": {
      "text/html": [
       "<span style=\"color:cyan\"> |-image_block_1/conv_block_1/separable: True</span>"
      ],
      "text/plain": [
       "<IPython.core.display.HTML object>"
      ]
     },
     "metadata": {
      "tags": []
     },
     "output_type": "display_data"
    },
    {
     "data": {
      "text/html": [
       "<span style=\"color:blue\"> |-image_block_1/normalize: True</span>"
      ],
      "text/plain": [
       "<IPython.core.display.HTML object>"
      ]
     },
     "metadata": {
      "tags": []
     },
     "output_type": "display_data"
    },
    {
     "data": {
      "text/html": [
       "<span style=\"color:cyan\"> |-image_block_1/res_net_block_1/conv3_depth: 4</span>"
      ],
      "text/plain": [
       "<IPython.core.display.HTML object>"
      ]
     },
     "metadata": {
      "tags": []
     },
     "output_type": "display_data"
    },
    {
     "data": {
      "text/html": [
       "<span style=\"color:blue\"> |-image_block_1/res_net_block_1/conv4_depth: 36</span>"
      ],
      "text/plain": [
       "<IPython.core.display.HTML object>"
      ]
     },
     "metadata": {
      "tags": []
     },
     "output_type": "display_data"
    },
    {
     "data": {
      "text/html": [
       "<span style=\"color:cyan\"> |-image_block_1/res_net_block_1/pooling: max</span>"
      ],
      "text/plain": [
       "<IPython.core.display.HTML object>"
      ]
     },
     "metadata": {
      "tags": []
     },
     "output_type": "display_data"
    },
    {
     "data": {
      "text/html": [
       "<span style=\"color:blue\"> |-image_block_1/res_net_block_1/version: v2</span>"
      ],
      "text/plain": [
       "<IPython.core.display.HTML object>"
      ]
     },
     "metadata": {
      "tags": []
     },
     "output_type": "display_data"
    },
    {
     "data": {
      "text/html": [
       "<span style=\"color:cyan\"> |-image_block_1/xception_block_1/activation: relu</span>"
      ],
      "text/plain": [
       "<IPython.core.display.HTML object>"
      ]
     },
     "metadata": {
      "tags": []
     },
     "output_type": "display_data"
    },
    {
     "data": {
      "text/html": [
       "<span style=\"color:blue\"> |-image_block_1/xception_block_1/conv2d_num_filters: 128</span>"
      ],
      "text/plain": [
       "<IPython.core.display.HTML object>"
      ]
     },
     "metadata": {
      "tags": []
     },
     "output_type": "display_data"
    },
    {
     "data": {
      "text/html": [
       "<span style=\"color:cyan\"> |-image_block_1/xception_block_1/initial_strides: 2</span>"
      ],
      "text/plain": [
       "<IPython.core.display.HTML object>"
      ]
     },
     "metadata": {
      "tags": []
     },
     "output_type": "display_data"
    },
    {
     "data": {
      "text/html": [
       "<span style=\"color:blue\"> |-image_block_1/xception_block_1/kernel_size: 5</span>"
      ],
      "text/plain": [
       "<IPython.core.display.HTML object>"
      ]
     },
     "metadata": {
      "tags": []
     },
     "output_type": "display_data"
    },
    {
     "data": {
      "text/html": [
       "<span style=\"color:cyan\"> |-image_block_1/xception_block_1/num_residual_blocks: 3</span>"
      ],
      "text/plain": [
       "<IPython.core.display.HTML object>"
      ]
     },
     "metadata": {
      "tags": []
     },
     "output_type": "display_data"
    },
    {
     "data": {
      "text/html": [
       "<span style=\"color:blue\"> |-image_block_1/xception_block_1/pooling: flatten</span>"
      ],
      "text/plain": [
       "<IPython.core.display.HTML object>"
      ]
     },
     "metadata": {
      "tags": []
     },
     "output_type": "display_data"
    },
    {
     "data": {
      "text/html": [
       "<span style=\"color:cyan\"> |-image_block_1/xception_block_1/sep_num_filters: 128</span>"
      ],
      "text/plain": [
       "<IPython.core.display.HTML object>"
      ]
     },
     "metadata": {
      "tags": []
     },
     "output_type": "display_data"
    },
    {
     "data": {
      "text/html": [
       "<span style=\"color:blue\"> |-merge_1/merge_type: add</span>"
      ],
      "text/plain": [
       "<IPython.core.display.HTML object>"
      ]
     },
     "metadata": {
      "tags": []
     },
     "output_type": "display_data"
    },
    {
     "data": {
      "text/html": [
       "<span style=\"color:cyan\"> |-optimizer: adam</span>"
      ],
      "text/plain": [
       "<IPython.core.display.HTML object>"
      ]
     },
     "metadata": {
      "tags": []
     },
     "output_type": "display_data"
    },
    {
     "data": {
      "text/html": [
       "<span style=\"color:blue\"> |-regression_head_1/dropout_rate: 0</span>"
      ],
      "text/plain": [
       "<IPython.core.display.HTML object>"
      ]
     },
     "metadata": {
      "tags": []
     },
     "output_type": "display_data"
    },
    {
     "data": {
      "text/html": [
       "<span style=\"color:cyan\"> |-structured_data_block_1/dense_block_1/dropout_rate: 0.0</span>"
      ],
      "text/plain": [
       "<IPython.core.display.HTML object>"
      ]
     },
     "metadata": {
      "tags": []
     },
     "output_type": "display_data"
    },
    {
     "data": {
      "text/html": [
       "<span style=\"color:blue\"> |-structured_data_block_1/dense_block_1/num_layers: 2</span>"
      ],
      "text/plain": [
       "<IPython.core.display.HTML object>"
      ]
     },
     "metadata": {
      "tags": []
     },
     "output_type": "display_data"
    },
    {
     "data": {
      "text/html": [
       "<span style=\"color:cyan\"> |-structured_data_block_1/dense_block_1/units_0: 64</span>"
      ],
      "text/plain": [
       "<IPython.core.display.HTML object>"
      ]
     },
     "metadata": {
      "tags": []
     },
     "output_type": "display_data"
    },
    {
     "data": {
      "text/html": [
       "<span style=\"color:blue\"> |-structured_data_block_1/dense_block_1/units_1: 16</span>"
      ],
      "text/plain": [
       "<IPython.core.display.HTML object>"
      ]
     },
     "metadata": {
      "tags": []
     },
     "output_type": "display_data"
    },
    {
     "data": {
      "text/html": [
       "<span style=\"color:cyan\"> |-structured_data_block_1/dense_block_1/units_2: 64</span>"
      ],
      "text/plain": [
       "<IPython.core.display.HTML object>"
      ]
     },
     "metadata": {
      "tags": []
     },
     "output_type": "display_data"
    },
    {
     "data": {
      "text/html": [
       "<span style=\"color:blue\"> |-structured_data_block_1/dense_block_1/use_batchnorm: False</span>"
      ],
      "text/plain": [
       "<IPython.core.display.HTML object>"
      ]
     },
     "metadata": {
      "tags": []
     },
     "output_type": "display_data"
    },
    {
     "name": "stdout",
     "output_type": "stream",
     "text": [
      "Train for 25 steps, validate for 7 steps\n",
      "Epoch 1/10\n",
      "25/25 [==============================] - 9s 340ms/step - loss: 15.0699 - regression_head_1_loss: 12.9971 - classification_head_1_loss: 2.0728 - regression_head_1_mean_squared_error: 12.9971 - classification_head_1_accuracy: 0.3275 - val_loss: 1.1852 - val_regression_head_1_loss: 0.0850 - val_classification_head_1_loss: 1.1002 - val_regression_head_1_mean_squared_error: 0.0817 - val_classification_head_1_accuracy: 0.2950\n",
      "Epoch 2/10\n",
      "25/25 [==============================] - 1s 48ms/step - loss: 5.3084 - regression_head_1_loss: 3.5319 - classification_head_1_loss: 1.7764 - regression_head_1_mean_squared_error: 3.5319 - classification_head_1_accuracy: 0.3475 - val_loss: 1.3807 - val_regression_head_1_loss: 0.2659 - val_classification_head_1_loss: 1.1147 - val_regression_head_1_mean_squared_error: 0.2844 - val_classification_head_1_accuracy: 0.2950\n",
      "Epoch 3/10\n",
      "25/25 [==============================] - 1s 45ms/step - loss: 2.8886 - regression_head_1_loss: 1.7705 - classification_head_1_loss: 1.1180 - regression_head_1_mean_squared_error: 1.7705 - classification_head_1_accuracy: 0.5200 - val_loss: 1.3172 - val_regression_head_1_loss: 0.1333 - val_classification_head_1_loss: 1.1840 - val_regression_head_1_mean_squared_error: 0.1429 - val_classification_head_1_accuracy: 0.2950\n",
      "Epoch 4/10\n",
      "25/25 [==============================] - 1s 45ms/step - loss: 2.5337 - regression_head_1_loss: 1.6938 - classification_head_1_loss: 0.8399 - regression_head_1_mean_squared_error: 1.6938 - classification_head_1_accuracy: 0.6837 - val_loss: 1.5501 - val_regression_head_1_loss: 0.0906 - val_classification_head_1_loss: 1.4594 - val_regression_head_1_mean_squared_error: 0.0854 - val_classification_head_1_accuracy: 0.2950\n",
      "Epoch 5/10\n",
      "25/25 [==============================] - 1s 45ms/step - loss: 2.2835 - regression_head_1_loss: 1.5403 - classification_head_1_loss: 0.7431 - regression_head_1_mean_squared_error: 1.5403 - classification_head_1_accuracy: 0.7400 - val_loss: 1.8474 - val_regression_head_1_loss: 0.0814 - val_classification_head_1_loss: 1.7660 - val_regression_head_1_mean_squared_error: 0.0817 - val_classification_head_1_accuracy: 0.2950\n",
      "Epoch 6/10\n",
      "25/25 [==============================] - 1s 46ms/step - loss: 1.5365 - regression_head_1_loss: 0.8742 - classification_head_1_loss: 0.6623 - regression_head_1_mean_squared_error: 0.8742 - classification_head_1_accuracy: 0.8138 - val_loss: 2.6078 - val_regression_head_1_loss: 0.1981 - val_classification_head_1_loss: 2.4097 - val_regression_head_1_mean_squared_error: 0.1825 - val_classification_head_1_accuracy: 0.2950\n",
      "Epoch 7/10\n",
      "25/25 [==============================] - 1s 45ms/step - loss: 1.1774 - regression_head_1_loss: 0.6391 - classification_head_1_loss: 0.5383 - regression_head_1_mean_squared_error: 0.6391 - classification_head_1_accuracy: 0.8438 - val_loss: 1.8712 - val_regression_head_1_loss: 0.2367 - val_classification_head_1_loss: 1.6345 - val_regression_head_1_mean_squared_error: 0.2533 - val_classification_head_1_accuracy: 0.2950\n",
      "Epoch 8/10\n",
      "25/25 [==============================] - 1s 45ms/step - loss: 1.2539 - regression_head_1_loss: 0.6629 - classification_head_1_loss: 0.5911 - regression_head_1_mean_squared_error: 0.6629 - classification_head_1_accuracy: 0.8875 - val_loss: 3.3899 - val_regression_head_1_loss: 1.3996 - val_classification_head_1_loss: 1.9903 - val_regression_head_1_mean_squared_error: 1.4519 - val_classification_head_1_accuracy: 0.3700\n",
      "Epoch 9/10\n",
      "25/25 [==============================] - 1s 45ms/step - loss: 1.9796 - regression_head_1_loss: 1.1925 - classification_head_1_loss: 0.7870 - regression_head_1_mean_squared_error: 1.1925 - classification_head_1_accuracy: 0.9100 - val_loss: 3.8284 - val_regression_head_1_loss: 2.4521 - val_classification_head_1_loss: 1.3763 - val_regression_head_1_mean_squared_error: 2.3667 - val_classification_head_1_accuracy: 0.3700\n",
      "Epoch 10/10\n",
      "25/25 [==============================] - 1s 45ms/step - loss: 1.4695 - regression_head_1_loss: 0.8245 - classification_head_1_loss: 0.6450 - regression_head_1_mean_squared_error: 0.8245 - classification_head_1_accuracy: 0.9237 - val_loss: 3.2250 - val_regression_head_1_loss: 1.8778 - val_classification_head_1_loss: 1.3472 - val_regression_head_1_mean_squared_error: 1.8157 - val_classification_head_1_accuracy: 0.3600\n"
     ]
    },
    {
     "data": {
      "text/html": [
       "<span style=\"color:#4527A0\"><h1 style=\"font-size:18px\">Trial complete</h1></span>"
      ],
      "text/plain": [
       "<IPython.core.display.HTML object>"
      ]
     },
     "metadata": {
      "tags": []
     },
     "output_type": "display_data"
    },
    {
     "data": {
      "text/html": [
       "<span style=\"color:#4527A0\"><h1 style=\"font-size:18px\">Trial summary</h1></span>"
      ],
      "text/plain": [
       "<IPython.core.display.HTML object>"
      ]
     },
     "metadata": {
      "tags": []
     },
     "output_type": "display_data"
    },
    {
     "data": {
      "text/html": [
       "<span style=\"color:cyan\"> |-Trial ID: cd6ed287019ef64edff97331a8710723</span>"
      ],
      "text/plain": [
       "<IPython.core.display.HTML object>"
      ]
     },
     "metadata": {
      "tags": []
     },
     "output_type": "display_data"
    },
    {
     "data": {
      "text/html": [
       "<span style=\"color:cyan\"> |-Score: 1.1851688453129359</span>"
      ],
      "text/plain": [
       "<IPython.core.display.HTML object>"
      ]
     },
     "metadata": {
      "tags": []
     },
     "output_type": "display_data"
    },
    {
     "data": {
      "text/html": [
       "<span style=\"color:cyan\"> |-Best step: 0</span>"
      ],
      "text/plain": [
       "<IPython.core.display.HTML object>"
      ]
     },
     "metadata": {
      "tags": []
     },
     "output_type": "display_data"
    },
    {
     "data": {
      "text/html": [
       "<span style=\"color:#7E57C2\"><h2 style=\"font-size:16px\">Hyperparameters:</h2></span>"
      ],
      "text/plain": [
       "<IPython.core.display.HTML object>"
      ]
     },
     "metadata": {
      "tags": []
     },
     "output_type": "display_data"
    },
    {
     "data": {
      "text/html": [
       "<span style=\"color:cyan\"> |-classification_head_1/dropout_rate: 0</span>"
      ],
      "text/plain": [
       "<IPython.core.display.HTML object>"
      ]
     },
     "metadata": {
      "tags": []
     },
     "output_type": "display_data"
    },
    {
     "data": {
      "text/html": [
       "<span style=\"color:blue\"> |-image_block_1/augment: True</span>"
      ],
      "text/plain": [
       "<IPython.core.display.HTML object>"
      ]
     },
     "metadata": {
      "tags": []
     },
     "output_type": "display_data"
    },
    {
     "data": {
      "text/html": [
       "<span style=\"color:cyan\"> |-image_block_1/block_type: resnet</span>"
      ],
      "text/plain": [
       "<IPython.core.display.HTML object>"
      ]
     },
     "metadata": {
      "tags": []
     },
     "output_type": "display_data"
    },
    {
     "data": {
      "text/html": [
       "<span style=\"color:blue\"> |-image_block_1/conv_block_1/dropout_rate: 0.25</span>"
      ],
      "text/plain": [
       "<IPython.core.display.HTML object>"
      ]
     },
     "metadata": {
      "tags": []
     },
     "output_type": "display_data"
    },
    {
     "data": {
      "text/html": [
       "<span style=\"color:cyan\"> |-image_block_1/conv_block_1/filters_0_0: 512</span>"
      ],
      "text/plain": [
       "<IPython.core.display.HTML object>"
      ]
     },
     "metadata": {
      "tags": []
     },
     "output_type": "display_data"
    },
    {
     "data": {
      "text/html": [
       "<span style=\"color:blue\"> |-image_block_1/conv_block_1/filters_0_1: 512</span>"
      ],
      "text/plain": [
       "<IPython.core.display.HTML object>"
      ]
     },
     "metadata": {
      "tags": []
     },
     "output_type": "display_data"
    },
    {
     "data": {
      "text/html": [
       "<span style=\"color:cyan\"> |-image_block_1/conv_block_1/filters_1_0: 512</span>"
      ],
      "text/plain": [
       "<IPython.core.display.HTML object>"
      ]
     },
     "metadata": {
      "tags": []
     },
     "output_type": "display_data"
    },
    {
     "data": {
      "text/html": [
       "<span style=\"color:blue\"> |-image_block_1/conv_block_1/filters_1_1: 32</span>"
      ],
      "text/plain": [
       "<IPython.core.display.HTML object>"
      ]
     },
     "metadata": {
      "tags": []
     },
     "output_type": "display_data"
    },
    {
     "data": {
      "text/html": [
       "<span style=\"color:cyan\"> |-image_block_1/conv_block_1/kernel_size: 5</span>"
      ],
      "text/plain": [
       "<IPython.core.display.HTML object>"
      ]
     },
     "metadata": {
      "tags": []
     },
     "output_type": "display_data"
    },
    {
     "data": {
      "text/html": [
       "<span style=\"color:blue\"> |-image_block_1/conv_block_1/max_pooling: False</span>"
      ],
      "text/plain": [
       "<IPython.core.display.HTML object>"
      ]
     },
     "metadata": {
      "tags": []
     },
     "output_type": "display_data"
    },
    {
     "data": {
      "text/html": [
       "<span style=\"color:cyan\"> |-image_block_1/conv_block_1/num_blocks: 2</span>"
      ],
      "text/plain": [
       "<IPython.core.display.HTML object>"
      ]
     },
     "metadata": {
      "tags": []
     },
     "output_type": "display_data"
    },
    {
     "data": {
      "text/html": [
       "<span style=\"color:blue\"> |-image_block_1/conv_block_1/num_layers: 1</span>"
      ],
      "text/plain": [
       "<IPython.core.display.HTML object>"
      ]
     },
     "metadata": {
      "tags": []
     },
     "output_type": "display_data"
    },
    {
     "data": {
      "text/html": [
       "<span style=\"color:cyan\"> |-image_block_1/conv_block_1/separable: False</span>"
      ],
      "text/plain": [
       "<IPython.core.display.HTML object>"
      ]
     },
     "metadata": {
      "tags": []
     },
     "output_type": "display_data"
    },
    {
     "data": {
      "text/html": [
       "<span style=\"color:blue\"> |-image_block_1/normalize: False</span>"
      ],
      "text/plain": [
       "<IPython.core.display.HTML object>"
      ]
     },
     "metadata": {
      "tags": []
     },
     "output_type": "display_data"
    },
    {
     "data": {
      "text/html": [
       "<span style=\"color:cyan\"> |-image_block_1/res_net_block_1/conv3_depth: 4</span>"
      ],
      "text/plain": [
       "<IPython.core.display.HTML object>"
      ]
     },
     "metadata": {
      "tags": []
     },
     "output_type": "display_data"
    },
    {
     "data": {
      "text/html": [
       "<span style=\"color:blue\"> |-image_block_1/res_net_block_1/conv4_depth: 6</span>"
      ],
      "text/plain": [
       "<IPython.core.display.HTML object>"
      ]
     },
     "metadata": {
      "tags": []
     },
     "output_type": "display_data"
    },
    {
     "data": {
      "text/html": [
       "<span style=\"color:cyan\"> |-image_block_1/res_net_block_1/pooling: max</span>"
      ],
      "text/plain": [
       "<IPython.core.display.HTML object>"
      ]
     },
     "metadata": {
      "tags": []
     },
     "output_type": "display_data"
    },
    {
     "data": {
      "text/html": [
       "<span style=\"color:blue\"> |-image_block_1/res_net_block_1/version: v1</span>"
      ],
      "text/plain": [
       "<IPython.core.display.HTML object>"
      ]
     },
     "metadata": {
      "tags": []
     },
     "output_type": "display_data"
    },
    {
     "data": {
      "text/html": [
       "<span style=\"color:cyan\"> |-image_block_1/xception_block_1/activation: selu</span>"
      ],
      "text/plain": [
       "<IPython.core.display.HTML object>"
      ]
     },
     "metadata": {
      "tags": []
     },
     "output_type": "display_data"
    },
    {
     "data": {
      "text/html": [
       "<span style=\"color:blue\"> |-image_block_1/xception_block_1/conv2d_num_filters: 32</span>"
      ],
      "text/plain": [
       "<IPython.core.display.HTML object>"
      ]
     },
     "metadata": {
      "tags": []
     },
     "output_type": "display_data"
    },
    {
     "data": {
      "text/html": [
       "<span style=\"color:cyan\"> |-image_block_1/xception_block_1/initial_strides: 2</span>"
      ],
      "text/plain": [
       "<IPython.core.display.HTML object>"
      ]
     },
     "metadata": {
      "tags": []
     },
     "output_type": "display_data"
    },
    {
     "data": {
      "text/html": [
       "<span style=\"color:blue\"> |-image_block_1/xception_block_1/kernel_size: 5</span>"
      ],
      "text/plain": [
       "<IPython.core.display.HTML object>"
      ]
     },
     "metadata": {
      "tags": []
     },
     "output_type": "display_data"
    },
    {
     "data": {
      "text/html": [
       "<span style=\"color:cyan\"> |-image_block_1/xception_block_1/num_residual_blocks: 6</span>"
      ],
      "text/plain": [
       "<IPython.core.display.HTML object>"
      ]
     },
     "metadata": {
      "tags": []
     },
     "output_type": "display_data"
    },
    {
     "data": {
      "text/html": [
       "<span style=\"color:blue\"> |-image_block_1/xception_block_1/pooling: avg</span>"
      ],
      "text/plain": [
       "<IPython.core.display.HTML object>"
      ]
     },
     "metadata": {
      "tags": []
     },
     "output_type": "display_data"
    },
    {
     "data": {
      "text/html": [
       "<span style=\"color:cyan\"> |-image_block_1/xception_block_1/sep_num_filters: 256</span>"
      ],
      "text/plain": [
       "<IPython.core.display.HTML object>"
      ]
     },
     "metadata": {
      "tags": []
     },
     "output_type": "display_data"
    },
    {
     "data": {
      "text/html": [
       "<span style=\"color:blue\"> |-merge_1/merge_type: add</span>"
      ],
      "text/plain": [
       "<IPython.core.display.HTML object>"
      ]
     },
     "metadata": {
      "tags": []
     },
     "output_type": "display_data"
    },
    {
     "data": {
      "text/html": [
       "<span style=\"color:cyan\"> |-optimizer: adam</span>"
      ],
      "text/plain": [
       "<IPython.core.display.HTML object>"
      ]
     },
     "metadata": {
      "tags": []
     },
     "output_type": "display_data"
    },
    {
     "data": {
      "text/html": [
       "<span style=\"color:blue\"> |-regression_head_1/dropout_rate: 0</span>"
      ],
      "text/plain": [
       "<IPython.core.display.HTML object>"
      ]
     },
     "metadata": {
      "tags": []
     },
     "output_type": "display_data"
    },
    {
     "data": {
      "text/html": [
       "<span style=\"color:cyan\"> |-structured_data_block_1/dense_block_1/dropout_rate: 0.0</span>"
      ],
      "text/plain": [
       "<IPython.core.display.HTML object>"
      ]
     },
     "metadata": {
      "tags": []
     },
     "output_type": "display_data"
    },
    {
     "data": {
      "text/html": [
       "<span style=\"color:blue\"> |-structured_data_block_1/dense_block_1/num_layers: 2</span>"
      ],
      "text/plain": [
       "<IPython.core.display.HTML object>"
      ]
     },
     "metadata": {
      "tags": []
     },
     "output_type": "display_data"
    },
    {
     "data": {
      "text/html": [
       "<span style=\"color:cyan\"> |-structured_data_block_1/dense_block_1/units_0: 1024</span>"
      ],
      "text/plain": [
       "<IPython.core.display.HTML object>"
      ]
     },
     "metadata": {
      "tags": []
     },
     "output_type": "display_data"
    },
    {
     "data": {
      "text/html": [
       "<span style=\"color:blue\"> |-structured_data_block_1/dense_block_1/units_1: 128</span>"
      ],
      "text/plain": [
       "<IPython.core.display.HTML object>"
      ]
     },
     "metadata": {
      "tags": []
     },
     "output_type": "display_data"
    },
    {
     "data": {
      "text/html": [
       "<span style=\"color:cyan\"> |-structured_data_block_1/dense_block_1/units_2: 16</span>"
      ],
      "text/plain": [
       "<IPython.core.display.HTML object>"
      ]
     },
     "metadata": {
      "tags": []
     },
     "output_type": "display_data"
    },
    {
     "data": {
      "text/html": [
       "<span style=\"color:blue\"> |-structured_data_block_1/dense_block_1/use_batchnorm: False</span>"
      ],
      "text/plain": [
       "<IPython.core.display.HTML object>"
      ]
     },
     "metadata": {
      "tags": []
     },
     "output_type": "display_data"
    },
    {
     "name": "stdout",
     "output_type": "stream",
     "text": [
      "INFO:tensorflow:Oracle triggered exit\n",
      "Train for 32 steps, validate for 7 steps\n",
      "Epoch 1/10\n",
      "32/32 [==============================] - 1s 35ms/step - loss: 1.2011 - regression_head_1_loss: 0.1035 - classification_head_1_loss: 1.0976 - regression_head_1_mean_squared_error: 0.1041 - classification_head_1_accuracy: 0.3590 - val_loss: 1.1849 - val_regression_head_1_loss: 0.0876 - val_classification_head_1_loss: 1.0974 - val_regression_head_1_mean_squared_error: 0.0903 - val_classification_head_1_accuracy: 0.3250\n",
      "Epoch 2/10\n",
      "32/32 [==============================] - 0s 9ms/step - loss: 1.1881 - regression_head_1_loss: 0.0888 - classification_head_1_loss: 1.0993 - regression_head_1_mean_squared_error: 0.0883 - classification_head_1_accuracy: 0.3540 - val_loss: 1.1755 - val_regression_head_1_loss: 0.0828 - val_classification_head_1_loss: 1.0927 - val_regression_head_1_mean_squared_error: 0.0813 - val_classification_head_1_accuracy: 0.3650\n",
      "Epoch 3/10\n",
      "32/32 [==============================] - 0s 9ms/step - loss: 1.1790 - regression_head_1_loss: 0.0839 - classification_head_1_loss: 1.0951 - regression_head_1_mean_squared_error: 0.0837 - classification_head_1_accuracy: 0.3790 - val_loss: 1.1708 - val_regression_head_1_loss: 0.0808 - val_classification_head_1_loss: 1.0900 - val_regression_head_1_mean_squared_error: 0.0806 - val_classification_head_1_accuracy: 0.3700\n",
      "Epoch 4/10\n",
      "32/32 [==============================] - 0s 10ms/step - loss: 1.1760 - regression_head_1_loss: 0.0840 - classification_head_1_loss: 1.0920 - regression_head_1_mean_squared_error: 0.0840 - classification_head_1_accuracy: 0.3810 - val_loss: 1.1665 - val_regression_head_1_loss: 0.0800 - val_classification_head_1_loss: 1.0865 - val_regression_head_1_mean_squared_error: 0.0812 - val_classification_head_1_accuracy: 0.3850\n",
      "Epoch 5/10\n",
      "32/32 [==============================] - 0s 11ms/step - loss: 1.1732 - regression_head_1_loss: 0.0837 - classification_head_1_loss: 1.0894 - regression_head_1_mean_squared_error: 0.0838 - classification_head_1_accuracy: 0.3950 - val_loss: 1.1607 - val_regression_head_1_loss: 0.0785 - val_classification_head_1_loss: 1.0823 - val_regression_head_1_mean_squared_error: 0.0798 - val_classification_head_1_accuracy: 0.4200\n",
      "Epoch 6/10\n",
      "32/32 [==============================] - 0s 9ms/step - loss: 1.1690 - regression_head_1_loss: 0.0824 - classification_head_1_loss: 1.0866 - regression_head_1_mean_squared_error: 0.0826 - classification_head_1_accuracy: 0.4040 - val_loss: 1.1553 - val_regression_head_1_loss: 0.0777 - val_classification_head_1_loss: 1.0776 - val_regression_head_1_mean_squared_error: 0.0798 - val_classification_head_1_accuracy: 0.4050\n",
      "Epoch 7/10\n",
      "32/32 [==============================] - 0s 9ms/step - loss: 1.1656 - regression_head_1_loss: 0.0819 - classification_head_1_loss: 1.0836 - regression_head_1_mean_squared_error: 0.0821 - classification_head_1_accuracy: 0.4090 - val_loss: 1.1482 - val_regression_head_1_loss: 0.0757 - val_classification_head_1_loss: 1.0725 - val_regression_head_1_mean_squared_error: 0.0773 - val_classification_head_1_accuracy: 0.4000\n",
      "Epoch 8/10\n",
      "32/32 [==============================] - 0s 9ms/step - loss: 1.1585 - regression_head_1_loss: 0.0803 - classification_head_1_loss: 1.0782 - regression_head_1_mean_squared_error: 0.0809 - classification_head_1_accuracy: 0.4270 - val_loss: 1.1393 - val_regression_head_1_loss: 0.0745 - val_classification_head_1_loss: 1.0648 - val_regression_head_1_mean_squared_error: 0.0776 - val_classification_head_1_accuracy: 0.4400\n",
      "Epoch 9/10\n",
      "32/32 [==============================] - 0s 9ms/step - loss: 1.1516 - regression_head_1_loss: 0.0788 - classification_head_1_loss: 1.0727 - regression_head_1_mean_squared_error: 0.0794 - classification_head_1_accuracy: 0.4410 - val_loss: 1.1306 - val_regression_head_1_loss: 0.0720 - val_classification_head_1_loss: 1.0586 - val_regression_head_1_mean_squared_error: 0.0751 - val_classification_head_1_accuracy: 0.5100\n",
      "Epoch 10/10\n",
      "32/32 [==============================] - 0s 10ms/step - loss: 1.1447 - regression_head_1_loss: 0.0779 - classification_head_1_loss: 1.0667 - regression_head_1_mean_squared_error: 0.0782 - classification_head_1_accuracy: 0.4610 - val_loss: 1.1123 - val_regression_head_1_loss: 0.0699 - val_classification_head_1_loss: 1.0424 - val_regression_head_1_mean_squared_error: 0.0711 - val_classification_head_1_accuracy: 0.5300\n"
     ]
    }
   ],
   "source": [
    "# Initialize the multi with multiple inputs and outputs.\n",
    "clf = ak.AutoModel(\n",
    "    inputs=[ak.ImageInput(), ak.StructuredDataInput()],\n",
    "    outputs=[\n",
    "        ak.RegressionHead(metrics=['mean_squared_error']),\n",
    "        ak.ClassificationHead(num_classes=num_classes, loss='categorical_crossentropy', metrics='accuracy')\n",
    "    ],\n",
    "    max_trials=10)\n",
    "\n",
    "clf.fit(\n",
    "    [x_image, x_structured],\n",
    "    [y_regression, y_classification],\n",
    "    epochs=10)"
   ]
  },
  {
   "cell_type": "code",
   "execution_count": 0,
   "metadata": {
    "colab": {
     "base_uri": "https://localhost:8080/",
     "height": 1000
    },
    "colab_type": "code",
    "id": "Xd-z_tTvYGSJ",
    "outputId": "8d59b0d6-33b7-4fd7-eccc-5f0ea88765db"
   },
   "outputs": [
    {
     "data": {
      "image/png": "[encoded data removed]",
      "text/plain": [
       "<IPython.core.display.Image object>"
      ]
     },
     "execution_count": 16,
     "metadata": {
      "tags": []
     },
     "output_type": "execute_result"
    }
   ],
   "source": [
    "autoKerasMultiModel = clf.export_model()\n",
    "plot_model(autoKerasMultiModel, 'AutoKeras Multi Best Model.png')"
   ]
  },
  {
   "cell_type": "markdown",
   "metadata": {
    "colab_type": "text",
    "id": "TpVzd_2EMD5f"
   },
   "source": [
    "# Summary\n",
    "\n",
    "This notebook describes AutoKeras, a open source alternative to Google's AutoML to perform automated machine learning and deep learning.\n",
    "\n",
    "The main idea behind AutoKeras is to enable non machine learning expert to buil neural models for their datasets and allowing them to use this state-of-the-art model in their applications.\n",
    "\n",
    "AutoKeras uses Neural Architecture serach (NAS) to effectively search a model and tune its hyperparameters to best represent the current dataset. NAS algorithms will automatically:\n",
    "\n",
    "* Define and optimize a neural network architecture\n",
    "* Tune the hyperparameters to the model\n",
    "\n",
    "The primary benefits include:\n",
    "\n",
    "* Ablity to perform deep learning with little-to-no experience\n",
    "* Ability to generalize to data outside the training and testing set while obtaining a high accuracy model \n",
    "* Simple APi interface which can be understood by anyone.\n",
    "* A potentially state-of-the-art performance with little effort\n",
    "\n",
    "Replacing an actual deep learning expert with a NAS algorithm will require many hours of computing to search for optimal parameters which still costs the GPU time but saves the more costly expert time.\n",
    "\n",
    "AutoKeras and AutoML is inteed a major step in the right direction in support of automated machine learning and deep learning."
   ]
  },
  {
   "cell_type": "code",
   "execution_count": 0,
   "metadata": {
    "colab": {},
    "colab_type": "code",
    "id": "pnwcYhWhkipO"
   },
   "outputs": [],
   "source": []
  }
 ],
 "metadata": {
  "accelerator": "GPU",
  "colab": {
   "collapsed_sections": [],
   "name": "Spotlight.ipynb",
   "provenance": [],
   "toc_visible": true
  },
  "kernelspec": {
   "display_name": "Python 3",
   "language": "python",
   "name": "python3"
  },
  "language_info": {
   "codemirror_mode": {
    "name": "ipython",
    "version": 3
   },
   "file_extension": ".py",
   "mimetype": "text/x-python",
   "name": "python",
   "nbconvert_exporter": "python",
   "pygments_lexer": "ipython3",
   "version": "3.6.9"
  }
 },
 "nbformat": 4,
 "nbformat_minor": 1
}
