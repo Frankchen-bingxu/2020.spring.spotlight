{
 "cells": [
  {
   "cell_type": "markdown",
   "metadata": {},
   "source": [
    "<h1>SpaCy vs NLTK</h1>"
   ]
  },
  {
   "cell_type": "markdown",
   "metadata": {},
   "source": [
    "<h2>1. Introduction</h2>\n",
    "<p>SpaCy and NLTK are two of the most common libraries used for natural language processing. Both of them have extensive functionalities and are well documented. While both of them are great platforms for any NLP task, the philosophy behind each of them is significantly different. Knowing the difference between the two platforms can help with choosing the best fit depending on our requirements.</p>\n",
    "<h3>NLTK</h3>\n",
    "<p>Natural Language Toolkit, known more commonly as NLTK, is a suite of libraries built by researchers in the Department of Computer and Information Science at the University of Pennsylvania. Since it was primarily developed by scholars, it is built as a \"toolbox\" of different NLP algorithms. For researchers, this is a great boon, since it gives them flexibility to experiment with different algorithms and draw conclusions based on that. NLTK's modules are easy to build upon, and for a researcher who wants to build something from the grassroot level or provide a functional model for their research hypothesis, NLTK is the way to go.</p>\n",
    "<h3>SpaCy</h3>\n",
    "<p>SpaCy is an open-source library created for advanced natural language processing. Unlike NLTK, which is widely used for teaching and research, spaCy focuses on providing software for production usage. Since it is created keeping software developers in mind, it is built as a \"service\" keeping user friendliness and performance as its top priorities. SpaCy maintains the latest and the most efficient algorithms that are easy to use. For a software developer who does not need to go into detail about the exact implementation of a particular algorithm, SpaCy is clearly the better choice.</p>"
   ]
  },
  {
   "cell_type": "markdown",
   "metadata": {},
   "source": [
    "<h2>2. Key differences between SpaCy and NLTK</h2>\n",
    "<ul>\n",
    "    <li><strong>Motivation:</strong> As described before, SpaCy and NLTK were built with different target audiences in mind. NLTK provides a plethora of algorithms to choose from, which is a boon for researchers and a bane for developers. For example, it has 9 different stemming libraries. This is great for someone who wants to experiment with the behavior of different stemmers, but for someone who just wants to use the most efficient stemmer, SpaCy is better.</li>\n",
    "    <li><strong>Strings vs objects:</strong> NLTK is a string processing tool. It takes a string as an input and gives a string (or list of strings) as an output. SpaCy on the other hand, uses an object oriented approach, where each function returns objects instead of strings. This is especially helpful for developers since it helps in object oriented programming. Also, the developer need not check the documentation often while using SpaCy because the objects carry all the nessesary attributes and methods associated with it.</li>\n",
    "    <li><strong>Performance: </strong> Since SpaCy is built with developers in mind, it returns results much faster than NLTK. </li>\n",
    "</ul>"
   ]
  },
  {
   "cell_type": "markdown",
   "metadata": {},
   "source": [
    "<h2>3. Setup</h2>\n",
    "<p>First, we import spacy and NLTK libraries. To compare the working of NLTK and SpaCy, tokenization, POS tagging and named entity recognition will be demonstrated. For the purpose of testing, the following sample sentence will be used (picked verbatim from the <a href=https://en.wikipedia.org/wiki/College_Station,_Texas>wikipedia page of College Station</a>)</p>"
   ]
  },
  {
   "cell_type": "code",
   "execution_count": 76,
   "metadata": {},
   "outputs": [],
   "source": [
    "import spacy"
   ]
  },
  {
   "cell_type": "code",
   "execution_count": 77,
   "metadata": {},
   "outputs": [],
   "source": [
    "import nltk"
   ]
  },
  {
   "cell_type": "code",
   "execution_count": 78,
   "metadata": {},
   "outputs": [],
   "source": [
    "sample_sentence=\"College Station is a city in Brazos County, Texas, situated in East-Central Texas \\\n",
    "in the heart of the Brazos Valley, in the center of the region known as Texas Triangle. \\\n",
    "It is 83 miles (130 kilometers) northwest of Houston and 87 miles (140 km) east northeast of Austin. \\\n",
    "As of the 2010 census, College Station had a population of 93,857, which had increased to \\\n",
    "an estimated population of 122,671 as of November 2019. College Station and Bryan together make up the \\\n",
    "Bryan-College Station metropolitan area, the 13th-largest metropolitan area in Texas \\\n",
    "with 273,101 people as of 2019.\""
   ]
  },
  {
   "cell_type": "markdown",
   "metadata": {},
   "source": [
    "<h2>4. Tokenization</h2>\n",
    "<h3>SpaCy</h3>\n",
    "<p>The following is the code for tokenization using SpaCy</p>"
   ]
  },
  {
   "cell_type": "code",
   "execution_count": 60,
   "metadata": {},
   "outputs": [
    {
     "name": "stdout",
     "output_type": "stream",
     "text": [
      "Datatype returned by the tokenizer:  <class 'spacy.tokens.doc.Doc'>\n",
      "tokenizer output: \n",
      "(0, College)\n",
      "(1, Station)\n",
      "(2, is)\n",
      "(3, a)\n",
      "(4, city)\n",
      "(5, in)\n",
      "(6, Brazos)\n",
      "(7, County,)\n",
      "(8, Texas,)\n",
      "(9, situated)\n",
      "(10, in)\n",
      "(11, East-Central)\n",
      "(12, Texas)\n",
      "(13, in)\n",
      "(14, the)\n",
      "(15, heart)\n",
      "(16, of)\n",
      "(17, the)\n",
      "(18, Brazos)\n",
      "(19, Valley,)\n",
      "(20, in)\n",
      "(21, the)\n",
      "(22, center)\n",
      "(23, of)\n",
      "(24, the)\n",
      "(25, region)\n",
      "(26, known)\n",
      "(27, as)\n",
      "(28, Texas)\n",
      "(29, Triangle.)\n",
      "(30, It)\n",
      "(31, is)\n",
      "(32, 83)\n",
      "(33, miles)\n",
      "(34, (130)\n",
      "(35, kilometers))\n",
      "(36, northwest)\n",
      "(37, of)\n",
      "(38, Houston)\n",
      "(39, and)\n",
      "(40, 87)\n",
      "(41, miles)\n",
      "(42, (140)\n",
      "(43, km))\n",
      "(44, east)\n",
      "(45, northeast)\n",
      "(46, of)\n",
      "(47, Austin.)\n",
      "(48, As)\n",
      "(49, of)\n",
      "(50, the)\n",
      "(51, 2010)\n",
      "(52, census,)\n",
      "(53, College)\n",
      "(54, Station)\n",
      "(55, had)\n",
      "(56, a)\n",
      "(57, population)\n",
      "(58, of)\n",
      "(59, 93,857,)\n",
      "(60, which)\n",
      "(61, had)\n",
      "(62, increased)\n",
      "(63, to)\n",
      "(64, an)\n",
      "(65, estimated)\n",
      "(66, population)\n",
      "(67, of)\n",
      "(68, 122,671)\n",
      "(69, as)\n",
      "(70, of)\n",
      "(71, November)\n",
      "(72, 2019.)\n",
      "(73, College)\n",
      "(74, Station)\n",
      "(75, and)\n",
      "(76, Bryan)\n",
      "(77, together)\n",
      "(78, make)\n",
      "(79, up)\n",
      "(80, the)\n",
      "(81, Bryan-College)\n",
      "(82, Station)\n",
      "(83, metropolitan)\n",
      "(84, area,)\n",
      "(85, the)\n",
      "(86, 13th-largest)\n",
      "(87, metropolitan)\n",
      "(88, area)\n",
      "(89, in)\n",
      "(90, Texas)\n",
      "(91, with)\n",
      "(92, 273,101)\n",
      "(93, people)\n",
      "(94, as)\n",
      "(95, of)\n",
      "(96, 2019.)\n"
     ]
    }
   ],
   "source": [
    "from spacy.tokenizer import Tokenizer\n",
    "from spacy.lang.en import English\n",
    "\n",
    "nlp=English()\n",
    "tokenizer=Tokenizer(nlp.vocab)\n",
    "tokens=tokenizer(sample_sentence)\n",
    "\n",
    "print(\"Datatype returned by the tokenizer: \",type(tokens))\n",
    "print(\"tokenizer output: \")\n",
    "for t in enumerate(tokens):\n",
    "    print(t)\n"
   ]
  },
  {
   "cell_type": "markdown",
   "metadata": {},
   "source": [
    "<h3>Observations:</h3>\n",
    "<p>Notice that the datatype returned by the tokenizer is a 'tokens document' object defined by spacy. Let's check out the attributes in the spacy.tokens.doc.Doc class.</p>"
   ]
  },
  {
   "cell_type": "code",
   "execution_count": 79,
   "metadata": {},
   "outputs": [
    {
     "data": {
      "text/plain": [
       "['_',\n",
       " '__bytes__',\n",
       " '__class__',\n",
       " '__delattr__',\n",
       " '__dir__',\n",
       " '__doc__',\n",
       " '__eq__',\n",
       " '__format__',\n",
       " '__ge__',\n",
       " '__getattribute__',\n",
       " '__getitem__',\n",
       " '__gt__',\n",
       " '__hash__',\n",
       " '__init__',\n",
       " '__init_subclass__',\n",
       " '__iter__',\n",
       " '__le__',\n",
       " '__len__',\n",
       " '__lt__',\n",
       " '__ne__',\n",
       " '__new__',\n",
       " '__pyx_vtable__',\n",
       " '__reduce__',\n",
       " '__reduce_ex__',\n",
       " '__repr__',\n",
       " '__setattr__',\n",
       " '__setstate__',\n",
       " '__sizeof__',\n",
       " '__str__',\n",
       " '__subclasshook__',\n",
       " '__unicode__',\n",
       " '_bulk_merge',\n",
       " '_py_tokens',\n",
       " '_realloc',\n",
       " '_vector',\n",
       " '_vector_norm',\n",
       " 'cats',\n",
       " 'char_span',\n",
       " 'count_by',\n",
       " 'doc',\n",
       " 'ents',\n",
       " 'extend_tensor',\n",
       " 'from_array',\n",
       " 'from_bytes',\n",
       " 'from_disk',\n",
       " 'get_extension',\n",
       " 'get_lca_matrix',\n",
       " 'has_extension',\n",
       " 'has_vector',\n",
       " 'is_nered',\n",
       " 'is_parsed',\n",
       " 'is_sentenced',\n",
       " 'is_tagged',\n",
       " 'lang',\n",
       " 'lang_',\n",
       " 'mem',\n",
       " 'merge',\n",
       " 'noun_chunks',\n",
       " 'noun_chunks_iterator',\n",
       " 'print_tree',\n",
       " 'remove_extension',\n",
       " 'retokenize',\n",
       " 'sentiment',\n",
       " 'sents',\n",
       " 'set_extension',\n",
       " 'similarity',\n",
       " 'tensor',\n",
       " 'text',\n",
       " 'text_with_ws',\n",
       " 'to_array',\n",
       " 'to_bytes',\n",
       " 'to_disk',\n",
       " 'to_json',\n",
       " 'to_utf8_array',\n",
       " 'user_data',\n",
       " 'user_hooks',\n",
       " 'user_span_hooks',\n",
       " 'user_token_hooks',\n",
       " 'vector',\n",
       " 'vector_norm',\n",
       " 'vocab']"
      ]
     },
     "execution_count": 79,
     "metadata": {},
     "output_type": "execute_result"
    }
   ],
   "source": [
    "dir(tokens)"
   ]
  },
  {
   "cell_type": "markdown",
   "metadata": {},
   "source": [
    "<p>We can see that SpaCy's tokenizer object contains numerous functions that might be useful after we have tokenized a document, like vector similarity, etc. </p>"
   ]
  },
  {
   "cell_type": "markdown",
   "metadata": {},
   "source": [
    "<h3>NLTK</h3>\n",
    "<p>The following is the code for tokenization using NLTK.</p>"
   ]
  },
  {
   "cell_type": "code",
   "execution_count": 80,
   "metadata": {},
   "outputs": [
    {
     "name": "stdout",
     "output_type": "stream",
     "text": [
      "(0, 'College')\n",
      "(1, 'Station')\n",
      "(2, 'is')\n",
      "(3, 'a')\n",
      "(4, 'city')\n",
      "(5, 'in')\n",
      "(6, 'Brazos')\n",
      "(7, 'County')\n",
      "(8, ',')\n",
      "(9, 'Texas')\n",
      "(10, ',')\n",
      "(11, 'situated')\n",
      "(12, 'in')\n",
      "(13, 'East-Central')\n",
      "(14, 'Texas')\n",
      "(15, 'in')\n",
      "(16, 'the')\n",
      "(17, 'heart')\n",
      "(18, 'of')\n",
      "(19, 'the')\n",
      "(20, 'Brazos')\n",
      "(21, 'Valley')\n",
      "(22, ',')\n",
      "(23, 'in')\n",
      "(24, 'the')\n",
      "(25, 'center')\n",
      "(26, 'of')\n",
      "(27, 'the')\n",
      "(28, 'region')\n",
      "(29, 'known')\n",
      "(30, 'as')\n",
      "(31, 'Texas')\n",
      "(32, 'Triangle')\n",
      "(33, '.')\n",
      "(34, 'It')\n",
      "(35, 'is')\n",
      "(36, '83')\n",
      "(37, 'miles')\n",
      "(38, '(')\n",
      "(39, '130')\n",
      "(40, 'kilometers')\n",
      "(41, ')')\n",
      "(42, 'northwest')\n",
      "(43, 'of')\n",
      "(44, 'Houston')\n",
      "(45, 'and')\n",
      "(46, '87')\n",
      "(47, 'miles')\n",
      "(48, '(')\n",
      "(49, '140')\n",
      "(50, 'km')\n",
      "(51, ')')\n",
      "(52, 'east')\n",
      "(53, 'northeast')\n",
      "(54, 'of')\n",
      "(55, 'Austin')\n",
      "(56, '.')\n",
      "(57, 'As')\n",
      "(58, 'of')\n",
      "(59, 'the')\n",
      "(60, '2010')\n",
      "(61, 'census')\n",
      "(62, ',')\n",
      "(63, 'College')\n",
      "(64, 'Station')\n",
      "(65, 'had')\n",
      "(66, 'a')\n",
      "(67, 'population')\n",
      "(68, 'of')\n",
      "(69, '93,857')\n",
      "(70, ',')\n",
      "(71, 'which')\n",
      "(72, 'had')\n",
      "(73, 'increased')\n",
      "(74, 'to')\n",
      "(75, 'an')\n",
      "(76, 'estimated')\n",
      "(77, 'population')\n",
      "(78, 'of')\n",
      "(79, '122,671')\n",
      "(80, 'as')\n",
      "(81, 'of')\n",
      "(82, 'November')\n",
      "(83, '2019')\n",
      "(84, '.')\n",
      "(85, 'College')\n",
      "(86, 'Station')\n",
      "(87, 'and')\n",
      "(88, 'Bryan')\n",
      "(89, 'together')\n",
      "(90, 'make')\n",
      "(91, 'up')\n",
      "(92, 'the')\n",
      "(93, 'Bryan-College')\n",
      "(94, 'Station')\n",
      "(95, 'metropolitan')\n",
      "(96, 'area')\n",
      "(97, ',')\n",
      "(98, 'the')\n",
      "(99, '13th-largest')\n",
      "(100, 'metropolitan')\n",
      "(101, 'area')\n",
      "(102, 'in')\n",
      "(103, 'Texas')\n",
      "(104, 'with')\n",
      "(105, '273,101')\n",
      "(106, 'people')\n",
      "(107, 'as')\n",
      "(108, 'of')\n",
      "(109, '2019')\n",
      "(110, '.')\n"
     ]
    }
   ],
   "source": [
    "tokens2=nltk.word_tokenize(sample_sentence)\n",
    "for t in enumerate(tokens2):\n",
    "    print(t)"
   ]
  },
  {
   "cell_type": "markdown",
   "metadata": {},
   "source": [
    "<h3>Observations</h3>\n",
    "<p>The tokenizer offered by NLTK returns a list of strings as compared to the object oriented approach of SpaCy. Also, notice that NLTK tas produced 111 tokensas compared to the 97 tokens produced by SpaCy. This 'over-tokenization' of NLTK can be of good use because it intelligently identifies punctuations that do not deliver any semantic meaning to the sentence. </p>"
   ]
  },
  {
   "cell_type": "markdown",
   "metadata": {},
   "source": [
    "<h2>5. Parts of Speech (POS) tagging</h2>\n",
    "<p>POS tagging involves tokenizing and identifying the corresponding \"part of speech\" of each token. In other words, POS tagging identifies whether a particular token is a symbol, number, noun, verb, adjective or pronoun and so on.</p>\n",
    "\n",
    "<h3>Spacy</h3>\n",
    "<p>The following is the code for POS tagging with SpaCy. The same object oriented behavoir can be observed in this case as well. Also, SpaCy doesnt have a dedicated function for POS tagging. Instead, it offers a document parser in the form of a language model (in our case, the model is \"en_core_web_sm\"), which returns an object with <b>one</b> of its attributes being the POS tag value of the corresponding token. This is especially useful since we can <b>reuse</b> the same object for other NLP tasks in the future.</p>"
   ]
  },
  {
   "cell_type": "code",
   "execution_count": 81,
   "metadata": {},
   "outputs": [
    {
     "name": "stdout",
     "output_type": "stream",
     "text": [
      "(0, College) NNP\n",
      "(1, Station) NNP\n",
      "(2, is) VBZ\n",
      "(3, a) DT\n",
      "(4, city) NN\n",
      "(5, in) IN\n",
      "(6, Brazos) NNP\n",
      "(7, County) NNP\n",
      "(8, ,) ,\n",
      "(9, Texas) NNP\n",
      "(10, ,) ,\n",
      "(11, situated) VBN\n",
      "(12, in) IN\n",
      "(13, East) NNP\n",
      "(14, -) HYPH\n",
      "(15, Central) NNP\n",
      "(16, Texas) NNP\n",
      "(17, in) IN\n",
      "(18, the) DT\n",
      "(19, heart) NN\n",
      "(20, of) IN\n",
      "(21, the) DT\n",
      "(22, Brazos) NNP\n",
      "(23, Valley) NNP\n",
      "(24, ,) ,\n",
      "(25, in) IN\n",
      "(26, the) DT\n",
      "(27, center) NN\n",
      "(28, of) IN\n",
      "(29, the) DT\n",
      "(30, region) NN\n",
      "(31, known) VBN\n",
      "(32, as) IN\n",
      "(33, Texas) NNP\n",
      "(34, Triangle) NNP\n",
      "(35, .) .\n",
      "(36, It) PRP\n",
      "(37, is) VBZ\n",
      "(38, 83) CD\n",
      "(39, miles) NNS\n",
      "(40, () -LRB-\n",
      "(41, 130) CD\n",
      "(42, kilometers) NNS\n",
      "(43, )) -RRB-\n",
      "(44, northwest) NN\n",
      "(45, of) IN\n",
      "(46, Houston) NNP\n",
      "(47, and) CC\n",
      "(48, 87) CD\n",
      "(49, miles) NNS\n",
      "(50, () -LRB-\n",
      "(51, 140) CD\n",
      "(52, km) NNS\n",
      "(53, )) -RRB-\n",
      "(54, east) JJ\n",
      "(55, northeast) RB\n",
      "(56, of) IN\n",
      "(57, Austin) NNP\n",
      "(58, .) .\n",
      "(59, As) IN\n",
      "(60, of) IN\n",
      "(61, the) DT\n",
      "(62, 2010) CD\n",
      "(63, census) NN\n",
      "(64, ,) ,\n",
      "(65, College) NNP\n",
      "(66, Station) NNP\n",
      "(67, had) VBD\n",
      "(68, a) DT\n",
      "(69, population) NN\n",
      "(70, of) IN\n",
      "(71, 93,857) CD\n",
      "(72, ,) ,\n",
      "(73, which) WDT\n",
      "(74, had) VBD\n",
      "(75, increased) VBN\n",
      "(76, to) IN\n",
      "(77, an) DT\n",
      "(78, estimated) VBN\n",
      "(79, population) NN\n",
      "(80, of) IN\n",
      "(81, 122,671) CD\n",
      "(82, as) IN\n",
      "(83, of) IN\n",
      "(84, November) NNP\n",
      "(85, 2019) CD\n",
      "(86, .) .\n",
      "(87, College) NNP\n",
      "(88, Station) NNP\n",
      "(89, and) CC\n",
      "(90, Bryan) NNP\n",
      "(91, together) RB\n",
      "(92, make) VBP\n",
      "(93, up) RP\n",
      "(94, the) DT\n",
      "(95, Bryan) NNP\n",
      "(96, -) HYPH\n",
      "(97, College) NNP\n",
      "(98, Station) NNP\n",
      "(99, metropolitan) JJ\n",
      "(100, area) NN\n",
      "(101, ,) ,\n",
      "(102, the) DT\n",
      "(103, 13th) RB\n",
      "(104, -) HYPH\n",
      "(105, largest) JJS\n",
      "(106, metropolitan) JJ\n",
      "(107, area) NN\n",
      "(108, in) IN\n",
      "(109, Texas) NNP\n",
      "(110, with) IN\n",
      "(111, 273,101) CD\n",
      "(112, people) NNS\n",
      "(113, as) IN\n",
      "(114, of) IN\n",
      "(115, 2019) CD\n",
      "(116, .) .\n"
     ]
    }
   ],
   "source": [
    "import spacy\n",
    "nlp2=spacy.load('en_core_web_sm')\n",
    "doc=nlp2(sample_sentence)\n",
    "\n",
    "for d in enumerate(doc):\n",
    "    print(d,d[1].tag_)"
   ]
  },
  {
   "cell_type": "markdown",
   "metadata": {},
   "source": [
    "<h3>NLTK</h3>\n",
    "<p>The following is the code for POS tagging using NLTK. We will be using \"averaged perceptron tagger\" for this purpose.</p>"
   ]
  },
  {
   "cell_type": "code",
   "execution_count": 82,
   "metadata": {},
   "outputs": [
    {
     "name": "stdout",
     "output_type": "stream",
     "text": [
      "(0, ('College', 'NNP'))\n",
      "(1, ('Station', 'NNP'))\n",
      "(2, ('is', 'VBZ'))\n",
      "(3, ('a', 'DT'))\n",
      "(4, ('city', 'NN'))\n",
      "(5, ('in', 'IN'))\n",
      "(6, ('Brazos', 'NNP'))\n",
      "(7, ('County', 'NNP'))\n",
      "(8, (',', ','))\n",
      "(9, ('Texas', 'NNP'))\n",
      "(10, (',', ','))\n",
      "(11, ('situated', 'VBD'))\n",
      "(12, ('in', 'IN'))\n",
      "(13, ('East-Central', 'NNP'))\n",
      "(14, ('Texas', 'NNP'))\n",
      "(15, ('in', 'IN'))\n",
      "(16, ('the', 'DT'))\n",
      "(17, ('heart', 'NN'))\n",
      "(18, ('of', 'IN'))\n",
      "(19, ('the', 'DT'))\n",
      "(20, ('Brazos', 'NNP'))\n",
      "(21, ('Valley', 'NNP'))\n",
      "(22, (',', ','))\n",
      "(23, ('in', 'IN'))\n",
      "(24, ('the', 'DT'))\n",
      "(25, ('center', 'NN'))\n",
      "(26, ('of', 'IN'))\n",
      "(27, ('the', 'DT'))\n",
      "(28, ('region', 'NN'))\n",
      "(29, ('known', 'VBN'))\n",
      "(30, ('as', 'IN'))\n",
      "(31, ('Texas', 'NNP'))\n",
      "(32, ('Triangle', 'NNP'))\n",
      "(33, ('.', '.'))\n",
      "(34, ('It', 'PRP'))\n",
      "(35, ('is', 'VBZ'))\n",
      "(36, ('83', 'CD'))\n",
      "(37, ('miles', 'NNS'))\n",
      "(38, ('(', '('))\n",
      "(39, ('130', 'CD'))\n",
      "(40, ('kilometers', 'NNS'))\n",
      "(41, (')', ')'))\n",
      "(42, ('northwest', 'JJS'))\n",
      "(43, ('of', 'IN'))\n",
      "(44, ('Houston', 'NNP'))\n",
      "(45, ('and', 'CC'))\n",
      "(46, ('87', 'CD'))\n",
      "(47, ('miles', 'NNS'))\n",
      "(48, ('(', '('))\n",
      "(49, ('140', 'CD'))\n",
      "(50, ('km', 'NN'))\n",
      "(51, (')', ')'))\n",
      "(52, ('east', 'VBD'))\n",
      "(53, ('northeast', 'NN'))\n",
      "(54, ('of', 'IN'))\n",
      "(55, ('Austin', 'NNP'))\n",
      "(56, ('.', '.'))\n",
      "(57, ('As', 'IN'))\n",
      "(58, ('of', 'IN'))\n",
      "(59, ('the', 'DT'))\n",
      "(60, ('2010', 'CD'))\n",
      "(61, ('census', 'NN'))\n",
      "(62, (',', ','))\n",
      "(63, ('College', 'NNP'))\n",
      "(64, ('Station', 'NNP'))\n",
      "(65, ('had', 'VBD'))\n",
      "(66, ('a', 'DT'))\n",
      "(67, ('population', 'NN'))\n",
      "(68, ('of', 'IN'))\n",
      "(69, ('93,857', 'CD'))\n",
      "(70, (',', ','))\n",
      "(71, ('which', 'WDT'))\n",
      "(72, ('had', 'VBD'))\n",
      "(73, ('increased', 'VBN'))\n",
      "(74, ('to', 'TO'))\n",
      "(75, ('an', 'DT'))\n",
      "(76, ('estimated', 'VBN'))\n",
      "(77, ('population', 'NN'))\n",
      "(78, ('of', 'IN'))\n",
      "(79, ('122,671', 'CD'))\n",
      "(80, ('as', 'IN'))\n",
      "(81, ('of', 'IN'))\n",
      "(82, ('November', 'NNP'))\n",
      "(83, ('2019', 'CD'))\n",
      "(84, ('.', '.'))\n",
      "(85, ('College', 'NNP'))\n",
      "(86, ('Station', 'NNP'))\n",
      "(87, ('and', 'CC'))\n",
      "(88, ('Bryan', 'NNP'))\n",
      "(89, ('together', 'RB'))\n",
      "(90, ('make', 'VBP'))\n",
      "(91, ('up', 'RP'))\n",
      "(92, ('the', 'DT'))\n",
      "(93, ('Bryan-College', 'NNP'))\n",
      "(94, ('Station', 'NNP'))\n",
      "(95, ('metropolitan', 'NNP'))\n",
      "(96, ('area', 'NN'))\n",
      "(97, (',', ','))\n",
      "(98, ('the', 'DT'))\n",
      "(99, ('13th-largest', 'JJ'))\n",
      "(100, ('metropolitan', 'JJ'))\n",
      "(101, ('area', 'NN'))\n",
      "(102, ('in', 'IN'))\n",
      "(103, ('Texas', 'NNP'))\n",
      "(104, ('with', 'IN'))\n",
      "(105, ('273,101', 'CD'))\n",
      "(106, ('people', 'NNS'))\n",
      "(107, ('as', 'IN'))\n",
      "(108, ('of', 'IN'))\n",
      "(109, ('2019', 'CD'))\n",
      "(110, ('.', '.'))\n"
     ]
    },
    {
     "name": "stderr",
     "output_type": "stream",
     "text": [
      "[nltk_data] Downloading package averaged_perceptron_tagger to\n",
      "[nltk_data]     /home/ravi/nltk_data...\n",
      "[nltk_data]   Package averaged_perceptron_tagger is already up-to-\n",
      "[nltk_data]       date!\n"
     ]
    }
   ],
   "source": [
    "nltk.download('averaged_perceptron_tagger')\n",
    "pos_tags=nltk.pos_tag(tokens2)\n",
    "\n",
    "for p in enumerate(pos_tags):\n",
    "    print(p)"
   ]
  },
  {
   "cell_type": "markdown",
   "metadata": {},
   "source": [
    "<h3>Observations</h3>\n",
    "<p>Comparing the results of the two taggers, we can see that NLTK does a better job of identifying and clumping together words that give different semantic meaning when present together. For example, in tag number 13, NLTK has correctly identified that the terms \"east\" and \"central\" are part of the same entity that describe the location of another entity. Similarly, in row 99, it combined \"13th\" and \"largest\" into one entity, However, this approach can lead to misfires. NLTK has wrongly classified the entity \"13th-largest\" as an adjective (class JJ), but in reality, it is a superlative adjective (class JJS). SpaCy has split \"13th-largest\" into three tokens, but it has correctly classified the term \"largest\" as a superlative adjective. Therefore, we can't conclusively say that one tagger is better than the other. They just follow two different approaches that yield different results.</p>"
   ]
  },
  {
   "cell_type": "markdown",
   "metadata": {},
   "source": [
    "<h2>6. Named entity recognition (NER)</h2>\n",
    "<p>Named entity recognition is the process of identifying real-world \"entities\" also refered to as \"named entities\" in the document. A named entity refers to any real-world object such as persons, locations, organizations, products, etc that can be named (proper nouns).</p>\n",
    "\n",
    "<h3>SpaCy</h3>\n",
    "<p>The following is the code for named entity recognition with SpaCy. Observe that we are <b>reusing</b> the object instance \"doc\" that was returned by the function used for performing POS tagging. This is example of SpaCy's code reusability which is a huge advantage for developers.</p>"
   ]
  },
  {
   "cell_type": "code",
   "execution_count": 83,
   "metadata": {},
   "outputs": [
    {
     "name": "stdout",
     "output_type": "stream",
     "text": [
      "(0, (College Station, 'ORG'))\n",
      "(1, (Brazos County, 'GPE'))\n",
      "(2, (Texas, 'GPE'))\n",
      "(3, (East-Central Texas, 'LOC'))\n",
      "(4, (the Brazos Valley, 'LOC'))\n",
      "(5, (Texas, 'GPE'))\n",
      "(6, (83 miles, 'QUANTITY'))\n",
      "(7, (130 kilometers, 'QUANTITY'))\n",
      "(8, (Houston, 'GPE'))\n",
      "(9, (87 miles, 'QUANTITY'))\n",
      "(10, (140 km, 'QUANTITY'))\n",
      "(11, (Austin, 'GPE'))\n",
      "(12, (2010, 'DATE'))\n",
      "(13, (College Station, 'ORG'))\n",
      "(14, (93,857, 'CARDINAL'))\n",
      "(15, (122,671, 'CARDINAL'))\n",
      "(16, (November 2019, 'DATE'))\n",
      "(17, (Bryan, 'PERSON'))\n",
      "(18, (Bryan-College Station, 'ORG'))\n",
      "(19, (13th, 'ORDINAL'))\n",
      "(20, (Texas, 'GPE'))\n",
      "(21, (273,101, 'CARDINAL'))\n",
      "(22, (2019, 'DATE'))\n"
     ]
    }
   ],
   "source": [
    "entities=[(i, i.label_) for i in doc.ents]\n",
    "for e in enumerate(entities):\n",
    "    print(e)"
   ]
  },
  {
   "cell_type": "markdown",
   "metadata": {},
   "source": [
    "<h3>NLTK</h3>\n",
    "<p>The following is the code for performing named entity recognition using NLTK. We use a \"maximum entropy\" named entity chunker. Here, the function returns a tree with every entity being a subtree of the document. The non-entities are leaves of the tree and are omitted from being displayed to make it easier for us to visualize.</p>"
   ]
  },
  {
   "cell_type": "code",
   "execution_count": 84,
   "metadata": {
    "scrolled": true
   },
   "outputs": [
    {
     "name": "stdout",
     "output_type": "stream",
     "text": [
      "Type returned:  <class 'nltk.tree.Tree'>\n",
      "(0, Tree('NE', [('College', 'NNP'), ('Station', 'NNP')]))\n",
      "(5, Tree('NE', [('Brazos', 'NNP'), ('County', 'NNP')]))\n",
      "(7, Tree('NE', [('Texas', 'NNP')]))\n",
      "(18, Tree('NE', [('Brazos', 'NNP'), ('Valley', 'NNP')]))\n",
      "(28, Tree('NE', [('Texas', 'NNP'), ('Triangle', 'NNP')]))\n",
      "(40, Tree('NE', [('Houston', 'NNP')]))\n",
      "(51, Tree('NE', [('Austin', 'NNP')]))\n",
      "(59, Tree('NE', [('College', 'NNP'), ('Station', 'NNP')]))\n",
      "(80, Tree('NE', [('College', 'NNP'), ('Station', 'NNP')]))\n",
      "(82, Tree('NE', [('Bryan', 'NNP')]))\n",
      "(97, Tree('NE', [('Texas', 'NNP')]))\n"
     ]
    },
    {
     "name": "stderr",
     "output_type": "stream",
     "text": [
      "[nltk_data] Downloading package maxent_ne_chunker to\n",
      "[nltk_data]     /home/ravi/nltk_data...\n",
      "[nltk_data]   Package maxent_ne_chunker is already up-to-date!\n",
      "[nltk_data] Downloading package words to /home/ravi/nltk_data...\n",
      "[nltk_data]   Package words is already up-to-date!\n"
     ]
    }
   ],
   "source": [
    "nltk.download('maxent_ne_chunker')\n",
    "nltk.download('words')\n",
    "entities=nltk.ne_chunk(pos_tags,binary=True)\n",
    "print(\"Type returned: \",type(entities))\n",
    "for e in enumerate(entities):\n",
    "    if type(e[1])==type(entities):\n",
    "        print(e)"
   ]
  },
  {
   "cell_type": "markdown",
   "metadata": {},
   "source": [
    "<h3>Observations</h3>\n",
    "<p>In this task, NLTK is clearly outperformed SpaCy, since SpaCy identified 23 entities, out of which many of them are not exactly \"named entities\". For example, the entity \"130 kilometers\" is not a named entity in the same way \"Houston\" is because the former is not a <b>proper noun</b>.</p>"
   ]
  },
  {
   "cell_type": "markdown",
   "metadata": {},
   "source": [
    "<h2>7. Performance analysis</h2>\n",
    "<p>In this section, we analyse the performance of SpaCy and NLTK by measuring the time required for each of the above described NLP functions. The time measured is CPU time. </p>"
   ]
  },
  {
   "cell_type": "code",
   "execution_count": 85,
   "metadata": {},
   "outputs": [
    {
     "name": "stdout",
     "output_type": "stream",
     "text": [
      "(0.0003929899999981501, 0.04425911699999929, 0.00035825200000161317)\n"
     ]
    }
   ],
   "source": [
    "#measuring the time taken for SpaCy functions\n",
    "\n",
    "from time import process_time\n",
    "t1=process_time()\n",
    "tokens=tokenizer(sample_sentence)\n",
    "t2=process_time()\n",
    "doc=nlp2(sample_sentence)\n",
    "t3=process_time()\n",
    "entities=[(i, i.label_) for i in doc.ents]\n",
    "t4=process_time()\n",
    "spacy_times=(t2-t1,t3-t2,t4-t3)\n",
    "print(spacy_times)"
   ]
  },
  {
   "cell_type": "code",
   "execution_count": 86,
   "metadata": {},
   "outputs": [
    {
     "name": "stdout",
     "output_type": "stream",
     "text": [
      "(0.0012950319999980309, 0.007305995999999482, 0.026664833000001664)\n"
     ]
    }
   ],
   "source": [
    "#measuring time taken for NLTK functions\n",
    "\n",
    "t1=process_time()\n",
    "tokens2=nltk.word_tokenize(sample_sentence)\n",
    "t2=process_time()\n",
    "pos_tags=nltk.pos_tag(tokens2)\n",
    "t3=process_time()\n",
    "entities=nltk.ne_chunk(pos_tags,binary=True)\n",
    "t4=process_time()\n",
    "nltk_times=(t2-t1,t3-t2,t4-t3)\n",
    "print(nltk_times)"
   ]
  },
  {
   "cell_type": "code",
   "execution_count": 87,
   "metadata": {},
   "outputs": [
    {
     "data": {
      "image/png": "[encoded data removed]",
      "text/plain": [
       "<Figure size 432x288 with 1 Axes>"
      ]
     },
     "metadata": {
      "needs_background": "light"
     },
     "output_type": "display_data"
    },
    {
     "data": {
      "image/png": "[encoded data removed]",
      "text/plain": [
       "<Figure size 432x288 with 1 Axes>"
      ]
     },
     "metadata": {
      "needs_background": "light"
     },
     "output_type": "display_data"
    },
    {
     "data": {
      "image/png": "[encoded data removed]",
      "text/plain": [
       "<Figure size 432x288 with 1 Axes>"
      ]
     },
     "metadata": {
      "needs_background": "light"
     },
     "output_type": "display_data"
    }
   ],
   "source": [
    "import numpy as np\n",
    "import matplotlib.pyplot as plt\n",
    "\n",
    "\n",
    "objects = ('SpaCy', 'NLTK')\n",
    "y_pos = np.arange(len(objects))\n",
    "performance1 = [spacy_times[0],nltk_times[0]]\n",
    "\n",
    "plt.bar(y_pos, performance1, align='center', alpha=0.5)\n",
    "plt.xticks(y_pos, objects)\n",
    "plt.ylabel('Time taken')\n",
    "plt.title('Word tokenization')\n",
    "\n",
    "plt.show()\n",
    "\n",
    "performance2 = [spacy_times[1],nltk_times[1]]\n",
    "\n",
    "plt.bar(y_pos, performance1, align='center', alpha=0.5)\n",
    "plt.xticks(y_pos, objects)\n",
    "plt.ylabel('Time taken')\n",
    "plt.title('POS tagging')\n",
    "\n",
    "plt.show()\n",
    "\n",
    "performance3 = [spacy_times[2],nltk_times[2]]\n",
    "\n",
    "plt.bar(y_pos, performance1, align='center', alpha=0.5)\n",
    "plt.xticks(y_pos, objects)\n",
    "plt.ylabel('Time taken')\n",
    "plt.title('Named entity recognition')\n",
    "\n",
    "plt.show()"
   ]
  },
  {
   "cell_type": "markdown",
   "metadata": {},
   "source": [
    "<p>From the above graphs, it is obvious that SpaCy is way more efficient than NLTK in performing the same task, as SpaCy takes roughly 3 to 5 times less time compared to NLTK.</p>"
   ]
  },
  {
   "cell_type": "markdown",
   "metadata": {},
   "source": [
    "<h2>8. Conclusion</h2>\n",
    "<p>We analysed the difference between SpaCy and NLTK by deploying both the libraries to perform common NLP tasks. While both the platforms have similar functionalities, they are used for completely different purposes and that was reflected by the behavior of those functions.</p>\n",
    "<p>SpaCy is targeted mainly for developers and hence it is much more user friendly and efficient as compared to NLTK. However, the output accuracy is a little less when compared to NLTK.</p>\n",
    "<p>NLTK is a powerful platform targeted mainly for teaching and research. It is much more flexible when it comes to experimentations. It has a slightly better output accuracy as compared to SpaCy, however, it is not suitable for building applications since it is not very user friendly and time-efficient.</p>"
   ]
  },
  {
   "cell_type": "markdown",
   "metadata": {},
   "source": [
    "<h2>References</h2>\n",
    "<ol>\n",
    "    <li><a href=https://en.wikipedia.org/wiki/Natural_Language_Toolkit>NLTK wiki</a></li>\n",
    "    <li><a href=https://en.wikipedia.org/wiki/SpaCy>SpaCy wiki</a></li>\n",
    "    <li><a href=https://www.activestate.com/blog/natural-language-processing-nltk-vs-spacy>SpaCy vs NLTK usage</a></li>\n",
    "    <li><a href=https://blog.thedataincubator.com/2016/04/nltk-vs-spacy-natural-language-processing-in-python>SpaCy vs NLTK stats</a></li>\n",
    "    <li><a href=https://medium.com/@akankshamalhotra24/introduction-to-libraries-of-nlp-in-python-nltk-vs-spacy-42d7b2f128f2>Medium-SpaCy vs NLTK</a></li>\n",
    "    <li><a href=https://pythonspot.com/matplotlib-bar-chart>Matplotlib bar chart code</a></li>\n",
    "</ol>"
   ]
  }
 ],
 "metadata": {
  "kernelspec": {
   "display_name": "Python 3",
   "language": "python",
   "name": "python3"
  },
  "language_info": {
   "codemirror_mode": {
    "name": "ipython",
    "version": 3
   },
   "file_extension": ".py",
   "mimetype": "text/x-python",
   "name": "python",
   "nbconvert_exporter": "python",
   "pygments_lexer": "ipython3",
   "version": "3.7.6"
  }
 },
 "nbformat": 4,
 "nbformat_minor": 2
}
